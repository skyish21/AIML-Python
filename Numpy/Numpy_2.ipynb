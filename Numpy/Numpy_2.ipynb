{
 "cells": [
  {
   "cell_type": "code",
   "execution_count": 11,
   "id": "7ecf8f93-5a8d-4894-b38b-898a4eadcd6c",
   "metadata": {},
   "outputs": [],
   "source": [
    "import numpy as np"
   ]
  },
  {
   "cell_type": "code",
   "execution_count": 13,
   "id": "06e1edc9-2284-46a6-aa0f-f0a94f7a10ef",
   "metadata": {},
   "outputs": [
    {
     "data": {
      "text/plain": [
       "array([8, 5, 4, 7, 4, 7, 7, 5, 8, 8], dtype=int32)"
      ]
     },
     "execution_count": 13,
     "metadata": {},
     "output_type": "execute_result"
    }
   ],
   "source": [
    "#generate 10 numbers btw 0-9\n",
    "age_number=np.random.randint(0,9,10)\n",
    "age_number"
   ]
  },
  {
   "cell_type": "code",
   "execution_count": 15,
   "id": "84ab8734-0914-4bf1-b6fc-20845bdd28ce",
   "metadata": {},
   "outputs": [],
   "source": [
    "#set minimum and maximum age using a_min and a_max"
   ]
  },
  {
   "cell_type": "code",
   "execution_count": 17,
   "id": "b3c96295-7d1d-4898-a093-940680843de8",
   "metadata": {},
   "outputs": [
    {
     "data": {
      "text/plain": [
       "array([6, 5, 4, 6, 4, 6, 6, 5, 6, 6], dtype=int32)"
      ]
     },
     "execution_count": 17,
     "metadata": {},
     "output_type": "execute_result"
    }
   ],
   "source": [
    "# if we use clip method then all maximum and minimum value we can set as per our use\n",
    "np.clip(age_number,a_min=2,a_max=6)"
   ]
  },
  {
   "cell_type": "code",
   "execution_count": 19,
   "id": "00f5e13d-23f1-43f0-bb7c-c4696e0b5023",
   "metadata": {},
   "outputs": [],
   "source": [
    "#If you want to find actual age which is less then or greater than some salary use np.where\n",
    "#np.where gives index detail"
   ]
  },
  {
   "cell_type": "code",
   "execution_count": 21,
   "id": "cae58127-0c49-49a2-8676-a9d029af01cc",
   "metadata": {},
   "outputs": [
    {
     "name": "stdout",
     "output_type": "stream",
     "text": [
      "(array([0, 3, 5, 6, 8, 9]),)\n"
     ]
    }
   ],
   "source": [
    "print(np.where(age_number>6))\n",
    "#it gives index number where age is greater than 6"
   ]
  },
  {
   "cell_type": "code",
   "execution_count": 23,
   "id": "2f47d22e-6057-4e18-8591-1831a66e11ff",
   "metadata": {},
   "outputs": [
    {
     "data": {
      "text/plain": [
       "array([7, 7], dtype=int32)"
      ]
     },
     "execution_count": 23,
     "metadata": {},
     "output_type": "execute_result"
    }
   ],
   "source": [
    "#if u want actual data, use index\n",
    "age_number[[3,5]]"
   ]
  },
  {
   "cell_type": "code",
   "execution_count": 25,
   "id": "1cdbce3b-c81e-4c54-b981-d8ff6513225c",
   "metadata": {},
   "outputs": [],
   "source": [
    "#similarly you can  check for any condition (<,>,=,==,<=,>=)\n"
   ]
  },
  {
   "cell_type": "code",
   "execution_count": 27,
   "id": "90996826-2073-4ac9-b19e-6b080323c959",
   "metadata": {},
   "outputs": [],
   "source": [
    "#Reshaping Otherways"
   ]
  },
  {
   "cell_type": "code",
   "execution_count": 102,
   "id": "705dc682-c2c1-4d47-be0d-7a4a30634a4a",
   "metadata": {},
   "outputs": [],
   "source": [
    "import numpy as np\n",
    "from numpy.random import randint as ri"
   ]
  },
  {
   "cell_type": "code",
   "execution_count": 31,
   "id": "9a773f6d-9276-4a9b-aaf4-258a47a66ce7",
   "metadata": {},
   "outputs": [
    {
     "name": "stdout",
     "output_type": "stream",
     "text": [
      "[23 12 56 91 81 32 41 53  2 75 19 28 94 86 40 60 76 24 65 10 19 31 70 95\n",
      " 88 43 70 68 84 21]\n"
     ]
    }
   ],
   "source": [
    "#32 elements btw 5-25\n",
    "a=ri(1,99,30)\n",
    "print(a)"
   ]
  },
  {
   "cell_type": "code",
   "execution_count": 33,
   "id": "107eaf05-1b1b-4dfc-8e3d-22610dd14b49",
   "metadata": {},
   "outputs": [
    {
     "name": "stdout",
     "output_type": "stream",
     "text": [
      "[[[23 12 56 91 81]\n",
      "  [32 41 53  2 75]\n",
      "  [19 28 94 86 40]]\n",
      "\n",
      " [[60 76 24 65 10]\n",
      "  [19 31 70 95 88]\n",
      "  [43 70 68 84 21]]]\n"
     ]
    }
   ],
   "source": [
    "#2 matices with 3 rows and 5 colums\n",
    "b=a.reshape(2,3,5)\n",
    "print(b)"
   ]
  },
  {
   "cell_type": "code",
   "execution_count": 35,
   "id": "ab76dc40-cdb9-4ba5-827a-adca2ef79939",
   "metadata": {},
   "outputs": [
    {
     "name": "stdout",
     "output_type": "stream",
     "text": [
      "[[23 12 56 91 81]\n",
      " [32 41 53  2 75]\n",
      " [19 28 94 86 40]\n",
      " [60 76 24 65 10]\n",
      " [19 31 70 95 88]\n",
      " [43 70 68 84 21]]\n"
     ]
    }
   ],
   "source": [
    "c=b.reshape(6,5)\n",
    "print(c)"
   ]
  },
  {
   "cell_type": "code",
   "execution_count": 37,
   "id": "d057d7a6-5044-4cc0-9686-c2927cb777ba",
   "metadata": {},
   "outputs": [
    {
     "name": "stdout",
     "output_type": "stream",
     "text": [
      "Minimum of a is  2\n",
      "Maximum of a is  95\n"
     ]
    }
   ],
   "source": [
    "print(\"Minimum of a is \",c.min())\n",
    "print(\"Maximum of a is \",c.max())"
   ]
  },
  {
   "cell_type": "code",
   "execution_count": 39,
   "id": "2efe1bd2-f24f-4743-9418-17a1080bc1bc",
   "metadata": {},
   "outputs": [],
   "source": [
    "#Sorting "
   ]
  },
  {
   "cell_type": "code",
   "execution_count": 41,
   "id": "16793a78-f949-471f-ab17-a871719f9e78",
   "metadata": {},
   "outputs": [
    {
     "name": "stdout",
     "output_type": "stream",
     "text": [
      "\n",
      " 5 X 5 matrix of random integer \n",
      " -------------------------------------------------- \n",
      " [[41 88 66 92 10]\n",
      " [82  7 72 90 35]\n",
      " [51 54 14 67 44]\n",
      " [73 53 86 26 15]\n",
      " [69 20 82 96 53]]\n",
      "\n",
      " Here is the sorted matrix along each row \n",
      " -------------------------------------------------- \n",
      " [[10 41 66 88 92]\n",
      " [ 7 35 72 82 90]\n",
      " [14 44 51 54 67]\n",
      " [15 26 53 73 86]\n",
      " [20 53 69 82 96]]\n",
      "\n",
      " Here is the sorted matrix along each column \n",
      " -------------------------------------------------- \n",
      " [[41  7 14 26 10]\n",
      " [51 20 66 67 15]\n",
      " [69 53 72 90 35]\n",
      " [73 54 82 92 44]\n",
      " [82 88 86 96 53]]\n"
     ]
    }
   ],
   "source": [
    "m=ri(1,100,25).reshape(5,5) #matrix of random integer\n",
    "print(\"\\n 5 X 5 matrix of random integer \\n\",'-'*50,'\\n',m)\n",
    "print(\"\\n Here is the sorted matrix along each row \\n\",'-'*50,'\\n',np.sort(m))#default axis=1\n",
    "print(\"\\n Here is the sorted matrix along each column \\n\",'-'*50,'\\n',np.sort(m,axis=0))\n",
    "\n",
    "#axis=0 sort by columns\n",
    "#axis=1 sort by rows"
   ]
  },
  {
   "cell_type": "code",
   "execution_count": 43,
   "id": "6d114275-f427-476b-a7af-b297bb7633c5",
   "metadata": {},
   "outputs": [],
   "source": [
    "#index and slicing"
   ]
  },
  {
   "cell_type": "code",
   "execution_count": 45,
   "id": "79ab80b6-702f-4967-a624-2b06c46ab26f",
   "metadata": {},
   "outputs": [
    {
     "name": "stdout",
     "output_type": "stream",
     "text": [
      "array [13 14 15 16 17 18 19 20 21 22 23 24 25 26 27 28 29]\n"
     ]
    }
   ],
   "source": [
    "arr=np.arange(13,30)\n",
    "print(\"array\", arr)"
   ]
  },
  {
   "cell_type": "code",
   "execution_count": 47,
   "id": "5d177032-93a3-4bf7-9d2d-7104064378dc",
   "metadata": {},
   "outputs": [
    {
     "name": "stdout",
     "output_type": "stream",
     "text": [
      "6th element of array:  18\n"
     ]
    }
   ],
   "source": [
    "print(\"6th element of array: \", arr[5])"
   ]
  },
  {
   "cell_type": "code",
   "execution_count": 49,
   "id": "ef79f838-0eac-409c-86e1-7405410b652b",
   "metadata": {},
   "outputs": [
    {
     "name": "stdout",
     "output_type": "stream",
     "text": [
      "element of array:  [16 17]\n"
     ]
    }
   ],
   "source": [
    "print(\"element of array: \", arr[3:5])"
   ]
  },
  {
   "cell_type": "code",
   "execution_count": 51,
   "id": "386989e7-b927-45a1-b12a-8c1a7fa2ad4f",
   "metadata": {},
   "outputs": [
    {
     "name": "stdout",
     "output_type": "stream",
     "text": [
      "element of array:  [16 17 18 19 20 21 22 23 24 25 26 27 28 29]\n"
     ]
    }
   ],
   "source": [
    "print(\"element of array: \", arr[3:])"
   ]
  },
  {
   "cell_type": "code",
   "execution_count": 53,
   "id": "2987cd79-b155-496a-82df-680b88866f3f",
   "metadata": {},
   "outputs": [
    {
     "data": {
      "text/plain": [
       "array([17, 18, 19, 20, 21, 22, 23, 24, 25, 26, 27, 28, 29])"
      ]
     },
     "execution_count": 53,
     "metadata": {},
     "output_type": "execute_result"
    }
   ],
   "source": [
    "#store arr in abc and check 4th index of abc\n",
    "abc=arr[4:]\n",
    "abc"
   ]
  },
  {
   "cell_type": "code",
   "execution_count": 55,
   "id": "430f9641-04d0-413f-badd-e8d8b30e0613",
   "metadata": {},
   "outputs": [
    {
     "name": "stdout",
     "output_type": "stream",
     "text": [
      "element of array:  [29 27 25 23 21 19 17]\n"
     ]
    }
   ],
   "source": [
    "#jump 2 from end of array\n",
    "print(\"element of array: \", abc[-1::-2])"
   ]
  },
  {
   "cell_type": "code",
   "execution_count": 57,
   "id": "3e58f4d9-648a-42e8-8f26-3ee81a16ce62",
   "metadata": {},
   "outputs": [
    {
     "name": "stdout",
     "output_type": "stream",
     "text": [
      "element of array:  [29 28 27 26 25 24 23]\n"
     ]
    }
   ],
   "source": [
    "#start, end, step size\n",
    "print(\"element of array: \", abc[-1:-8:-1])"
   ]
  },
  {
   "cell_type": "code",
   "execution_count": 59,
   "id": "c5c8a4be-da0a-4f66-bdcd-63be6a041af6",
   "metadata": {},
   "outputs": [
    {
     "name": "stdout",
     "output_type": "stream",
     "text": [
      "Elements at 2nd 4th and 9th index are :  [15 17 22]\n"
     ]
    }
   ],
   "source": [
    "print(\"Elements at 2nd 4th and 9th index are : \",arr[[2,4,9]])#Pass a list as a index to subset"
   ]
  },
  {
   "cell_type": "code",
   "execution_count": 61,
   "id": "2dafbefb-b4ea-4282-8eb3-b7e6eb8d1675",
   "metadata": {},
   "outputs": [
    {
     "data": {
      "text/plain": [
       "array([[ 1,  2,  3],\n",
       "       [43,  2,  5],\n",
       "       [ 6,  5,  2]])"
      ]
     },
     "execution_count": 61,
     "metadata": {},
     "output_type": "execute_result"
    }
   ],
   "source": [
    "#list to array\n",
    "matrix=[[1,2,3],[43,2,5],[6,5,2]]\n",
    "new_matrix=np.array(matrix)\n",
    "new_matrix"
   ]
  },
  {
   "cell_type": "code",
   "execution_count": 63,
   "id": "10621dc7-2b30-4dbc-804b-73f78500f693",
   "metadata": {},
   "outputs": [
    {
     "name": "stdout",
     "output_type": "stream",
     "text": [
      "entire row at index 2:  [6 5 2]\n"
     ]
    }
   ],
   "source": [
    "print('entire row at index 2: ' , new_matrix[2])"
   ]
  },
  {
   "cell_type": "code",
   "execution_count": 65,
   "id": "b5b50465-5f88-4f30-8e58-0ec2a475504f",
   "metadata": {},
   "outputs": [
    {
     "name": "stdout",
     "output_type": "stream",
     "text": [
      "entire row at index 3:  [[ 1  2  3]\n",
      " [43  2  5]\n",
      " [ 6  5  2]]\n"
     ]
    }
   ],
   "source": [
    "#matrix[row,column]\n",
    "print('entire row at index 3: ' , new_matrix[:,:])"
   ]
  },
  {
   "cell_type": "code",
   "execution_count": 67,
   "id": "5143f269-2082-4d57-9f50-8d6951faf09a",
   "metadata": {},
   "outputs": [
    {
     "name": "stdout",
     "output_type": "stream",
     "text": [
      "Entire column at index  3:\n",
      " [[2 3]\n",
      " [2 5]\n",
      " [5 2]]\n"
     ]
    }
   ],
   "source": [
    "print(\"Entire column at index  3:\\n\",new_matrix[:,1:])"
   ]
  },
  {
   "cell_type": "code",
   "execution_count": 69,
   "id": "fa782b84-324e-4143-84bf-b7c4617f7348",
   "metadata": {},
   "outputs": [
    {
     "name": "stdout",
     "output_type": "stream",
     "text": [
      "\n",
      "Subsetting Sub-Matricss\n",
      "---------\n",
      "Matrics with row indices 1 and 2 and column indices 3 and 4\n",
      " [[2]]\n"
     ]
    }
   ],
   "source": [
    "print(\"\\nSubsetting Sub-Matricss\\n---------\")\n",
    "print(\"Matrics with row indices 1 and 2 and column indices 3 and 4\\n\",new_matrix[1:2,1:2])"
   ]
  },
  {
   "cell_type": "code",
   "execution_count": 71,
   "id": "aad32492-06ae-4c44-b6d8-1fdea8e9b988",
   "metadata": {},
   "outputs": [
    {
     "name": "stdout",
     "output_type": "stream",
     "text": [
      "[[ 1  2  3]\n",
      " [43  2  5]\n",
      " [ 6  5  2]]\n"
     ]
    }
   ],
   "source": [
    "print(new_matrix)"
   ]
  },
  {
   "cell_type": "code",
   "execution_count": 73,
   "id": "414e6730-bce1-4a3e-93a3-0dc852cca7f4",
   "metadata": {},
   "outputs": [
    {
     "name": "stdout",
     "output_type": "stream",
     "text": [
      "[[ 1  2  3]\n",
      " [43  2  5]] [1, 2]\n"
     ]
    }
   ],
   "source": [
    "print(new_matrix[0:2],[1,2])"
   ]
  },
  {
   "cell_type": "code",
   "execution_count": 75,
   "id": "668c1ed2-04ed-428c-9cea-1007cde39105",
   "metadata": {},
   "outputs": [],
   "source": [
    "#update matrix"
   ]
  },
  {
   "cell_type": "code",
   "execution_count": 77,
   "id": "915af1ca-0dd4-4079-82cd-ab7b2f2f4796",
   "metadata": {},
   "outputs": [
    {
     "name": "stdout",
     "output_type": "stream",
     "text": [
      "og matrix [[ 1  2  3]\n",
      " [43  2  5]\n",
      " [ 6  5  2]]\n"
     ]
    }
   ],
   "source": [
    "print('og matrix', new_matrix)"
   ]
  },
  {
   "cell_type": "code",
   "execution_count": 79,
   "id": "c7772246-8779-47b7-9772-bbdef12ca2f8",
   "metadata": {},
   "outputs": [
    {
     "data": {
      "text/plain": [
       "array([[  1,   2, 200],\n",
       "       [ 43,   2,   5],\n",
       "       [  6,   5,   2]])"
      ]
     },
     "execution_count": 79,
     "metadata": {},
     "output_type": "execute_result"
    }
   ],
   "source": [
    "new_matrix[0,2]=200\n",
    "new_matrix"
   ]
  },
  {
   "cell_type": "code",
   "execution_count": 81,
   "id": "d2a8a420-21e3-4b92-ad94-614c68a03643",
   "metadata": {},
   "outputs": [
    {
     "data": {
      "text/plain": [
       "array([[  1,   2, 200],\n",
       "       [110,   2,   5],\n",
       "       [  6,   5,   2]])"
      ]
     },
     "execution_count": 81,
     "metadata": {},
     "output_type": "execute_result"
    }
   ],
   "source": [
    "new_matrix[1,0]=110\n",
    "new_matrix"
   ]
  },
  {
   "cell_type": "code",
   "execution_count": 83,
   "id": "275b3966-0ab9-452c-9666-3091703d4ad2",
   "metadata": {},
   "outputs": [],
   "source": [
    "#Subsetting-So what is subsetting ? subsetting means when we wann to fetch only few dara from matrix then we use subsetting method."
   ]
  },
  {
   "cell_type": "code",
   "execution_count": 85,
   "id": "537cf4ba-3529-46c8-b866-77fd81d98f45",
   "metadata": {},
   "outputs": [
    {
     "name": "stdout",
     "output_type": "stream",
     "text": [
      "Matrix of random 2 digit number \n",
      "------\n",
      " [[38 78 75 48 91]\n",
      " [87 62 69 45 36]\n",
      " [27 14 39 83 24]]\n"
     ]
    }
   ],
   "source": [
    "mat=np.array(ri(10,100,15)).reshape(3,5)\n",
    "print('Matrix of random 2 digit number \\n------\\n',mat)"
   ]
  },
  {
   "cell_type": "code",
   "execution_count": 87,
   "id": "dcf1cf20-caff-48db-837f-1a6292560c01",
   "metadata": {},
   "outputs": [
    {
     "name": "stdout",
     "output_type": "stream",
     "text": [
      "Elements greater than 50\n",
      "  [78 75 91 87 62 69 83]\n"
     ]
    }
   ],
   "source": [
    "print(\"Elements greater than 50\\n \",mat[mat>50])"
   ]
  },
  {
   "cell_type": "code",
   "execution_count": 92,
   "id": "8b5678fe-850d-49f5-aeaf-71abdd2a967b",
   "metadata": {},
   "outputs": [
    {
     "name": "stdout",
     "output_type": "stream",
     "text": [
      "(array([1]), array([3]))\n"
     ]
    }
   ],
   "source": [
    "print(np.where(mat==45))"
   ]
  },
  {
   "cell_type": "code",
   "execution_count": null,
   "id": "70ab2eb7-a4b7-4c28-898e-40e06f11652c",
   "metadata": {},
   "outputs": [],
   "source": [
    "#You can also use np.where to return some data based on condtion"
   ]
  },
  {
   "cell_type": "code",
   "execution_count": 94,
   "id": "9cb64eb8-bb04-4193-a52a-596125990a7f",
   "metadata": {},
   "outputs": [
    {
     "data": {
      "text/plain": [
       "array('Full Time', dtype='<U9')"
      ]
     },
     "execution_count": 94,
     "metadata": {},
     "output_type": "execute_result"
    }
   ],
   "source": [
    "num=45\n",
    "np.where(num>50,'Part Time', 'Full Time')"
   ]
  },
  {
   "cell_type": "code",
   "execution_count": 96,
   "id": "4bfb0698-eb0d-4eae-a9da-19238ebb6faf",
   "metadata": {},
   "outputs": [],
   "source": [
    "#Universal Functions"
   ]
  },
  {
   "cell_type": "code",
   "execution_count": 108,
   "id": "2e4e0d7a-dea3-498a-a6a2-182bcacb1b6e",
   "metadata": {},
   "outputs": [
    {
     "name": "stdout",
     "output_type": "stream",
     "text": [
      "\n",
      " 1st Matric \n",
      "---------------\n",
      " [[ 8  6 10]\n",
      " [ 8 10  2]\n",
      " [10  4  6]]\n",
      "\n",
      " 2st Matric \n",
      "---------------\n",
      " [[ 4  4  6]\n",
      " [ 4  4 10]\n",
      " [10  3  9]]\n"
     ]
    }
   ],
   "source": [
    "mat1=np.array(ri(2,11,9)).reshape(3,3)\n",
    "mat2=np.array(ri(3,12,9)).reshape(3,3)\n",
    "\n",
    "print(\"\\n 1st Matric \\n---------------\\n\",mat1)\n",
    "print(\"\\n 2st Matric \\n---------------\\n\",mat2)"
   ]
  },
  {
   "cell_type": "code",
   "execution_count": 112,
   "id": "a44bb213-4f42-45ff-9c51-90aa14c3b56a",
   "metadata": {},
   "outputs": [
    {
     "name": "stdout",
     "output_type": "stream",
     "text": [
      "Division of 2: \n",
      " [[2.         1.5        1.66666667]\n",
      " [2.         2.5        0.2       ]\n",
      " [1.         1.33333333 0.66666667]]\n"
     ]
    }
   ],
   "source": [
    "print('Division of 2: \\n', mat1/mat2)"
   ]
  },
  {
   "cell_type": "code",
   "execution_count": 114,
   "id": "afc71fb2-2590-4281-8b68-f4442a542a16",
   "metadata": {},
   "outputs": [
    {
     "name": "stdout",
     "output_type": "stream",
     "text": [
      "\n",
      " Linear combination : 3*A - 2*B \n",
      " [[ 16  10  18]\n",
      " [ 16  22 -14]\n",
      " [ 10   6   0]]\n"
     ]
    }
   ],
   "source": [
    "print('\\n Linear combination : 3*A - 2*B \\n', 3*mat1 - 2*mat2)"
   ]
  },
  {
   "cell_type": "code",
   "execution_count": 116,
   "id": "5d9e5d33-4e31-4840-8576-9868a11222be",
   "metadata": {},
   "outputs": [],
   "source": [
    "#Broadcasting-\n",
    "#NumPy operations are usually performed on pairs of arrays on an element-by-element basis. \n",
    "#In the simplest case, the two arrays must have exactly the same shape.\n",
    "#NumPy broadcasting rules relax this constraint when the array shapes meet certain conditions.\n",
    "#When operating on two arrays, NumPy compares their shapes element-wise, starting with the trailing dimensions \n",
    "#and working its way forward. Two dimensions are compatible when they are equal or when one of them is 1."
   ]
  },
  {
   "cell_type": "code",
   "execution_count": 120,
   "id": "795b9481-1b57-4ff8-a944-ed95784370cf",
   "metadata": {},
   "outputs": [
    {
     "name": "stdout",
     "output_type": "stream",
     "text": [
      "[[0. 0. 0.]\n",
      " [0. 0. 0.]\n",
      " [0. 0. 0.]]\n"
     ]
    }
   ],
   "source": [
    "matzero=np.zeros((3,3))\n",
    "print(matzero)"
   ]
  },
  {
   "cell_type": "code",
   "execution_count": 122,
   "id": "18d1b4da-0bc7-488a-ae2e-aa52a38b3e75",
   "metadata": {},
   "outputs": [],
   "source": [
    "#create a rank1 ndarray with 3 values"
   ]
  },
  {
   "cell_type": "code",
   "execution_count": 124,
   "id": "368f76e3-2d0c-458a-a92e-d1631c859e7b",
   "metadata": {},
   "outputs": [
    {
     "name": "stdout",
     "output_type": "stream",
     "text": [
      "[[1 2 3]]\n"
     ]
    }
   ],
   "source": [
    "rowmat=np.array([[1,2,3]])\n",
    "print(rowmat)"
   ]
  },
  {
   "cell_type": "code",
   "execution_count": 132,
   "id": "209955a9-566a-4a58-8a55-b52da5ae8bb4",
   "metadata": {},
   "outputs": [],
   "source": [
    "#add 2 matrices of diff shape\n",
    "x= matzero + rowmat # add to each row of 'matzero' using broadcasting"
   ]
  },
  {
   "cell_type": "code",
   "execution_count": 134,
   "id": "a595a765-8249-432d-a963-20d328b23b95",
   "metadata": {},
   "outputs": [
    {
     "data": {
      "text/plain": [
       "array([[1., 2., 3.],\n",
       "       [1., 2., 3.],\n",
       "       [1., 2., 3.]])"
      ]
     },
     "execution_count": 134,
     "metadata": {},
     "output_type": "execute_result"
    }
   ],
   "source": [
    "x"
   ]
  },
  {
   "cell_type": "code",
   "execution_count": 136,
   "id": "850e83f9-3e5e-465a-a4c3-f90078c57ce6",
   "metadata": {},
   "outputs": [],
   "source": [
    "#Transpose of matrix\n",
    "rowmat_t= rowmat.T # T is use for transpose it convert column into row & vice versa"
   ]
  },
  {
   "cell_type": "code",
   "execution_count": 138,
   "id": "ffa61219-8a61-4a88-b727-08a7a9f459c1",
   "metadata": {},
   "outputs": [
    {
     "data": {
      "text/plain": [
       "array([[1],\n",
       "       [2],\n",
       "       [3]])"
      ]
     },
     "execution_count": 138,
     "metadata": {},
     "output_type": "execute_result"
    }
   ],
   "source": [
    "rowmat_t #column matrix"
   ]
  },
  {
   "cell_type": "code",
   "execution_count": 140,
   "id": "ba02ee83-ecfb-417d-a3be-b5797511a20e",
   "metadata": {},
   "outputs": [],
   "source": [
    "y= rowmat_t + matzero"
   ]
  },
  {
   "cell_type": "code",
   "execution_count": 142,
   "id": "33ea9f25-1e72-42da-970b-1d00fec56e59",
   "metadata": {},
   "outputs": [
    {
     "data": {
      "text/plain": [
       "array([[1., 1., 1.],\n",
       "       [2., 2., 2.],\n",
       "       [3., 3., 3.]])"
      ]
     },
     "execution_count": 142,
     "metadata": {},
     "output_type": "execute_result"
    }
   ],
   "source": [
    "y #add columns of rowmat_t to matzero"
   ]
  },
  {
   "cell_type": "code",
   "execution_count": 146,
   "id": "00d38335-ad0d-4919-9006-a9756bc45354",
   "metadata": {},
   "outputs": [
    {
     "data": {
      "text/plain": [
       "array([[3],\n",
       "       [5],\n",
       "       [7]])"
      ]
     },
     "execution_count": 146,
     "metadata": {},
     "output_type": "execute_result"
    }
   ],
   "source": [
    "colmat=np.array([[3,5,7]]).T\n",
    "colmat"
   ]
  },
  {
   "cell_type": "code",
   "execution_count": 148,
   "id": "fab50ab8-fcbd-48db-a0f2-f6e01e8e77bb",
   "metadata": {},
   "outputs": [],
   "source": [
    "#Array Math"
   ]
  },
  {
   "cell_type": "code",
   "execution_count": 150,
   "id": "6d9e20df-6c3e-4dc3-8a30-2f41bc4ab9d2",
   "metadata": {},
   "outputs": [
    {
     "name": "stdout",
     "output_type": "stream",
     "text": [
      "\n",
      " 1st Matrix of random single digit number\n",
      "---------------------------\n",
      " [[3 3 4]\n",
      " [9 7 8]\n",
      " [9 8 6]]\n",
      "\n",
      " 2nd Matrix of random single digit number\n",
      "---------------------------\n",
      " [[8 7 2]\n",
      " [4 1 8]\n",
      " [5 5 4]]\n"
     ]
    }
   ],
   "source": [
    "mat1=np.array(ri(1,10,9)).reshape(3,3)\n",
    "mat2=np.array(ri(1,10,9)).reshape(3,3)\n",
    "\n",
    "print(\"\\n 1st Matrix of random single digit number\\n---------------------------\\n\",mat1)\n",
    "print(\"\\n 2nd Matrix of random single digit number\\n---------------------------\\n\",mat2)"
   ]
  },
  {
   "cell_type": "code",
   "execution_count": 152,
   "id": "01085df2-23a0-48ef-9987-8e3bf912c654",
   "metadata": {},
   "outputs": [
    {
     "name": "stdout",
     "output_type": "stream",
     "text": [
      "\n",
      " sq-root of 1st Matrix using np\n",
      " -------------------------------------------------- \n",
      " [[1.73205081 1.73205081 2.        ]\n",
      " [3.         2.64575131 2.82842712]\n",
      " [3.         2.82842712 2.44948974]]\n",
      "\n",
      " square of 2nd Matrix using np\n",
      " -------------------------------------------------- \n",
      " [[64 49  4]\n",
      " [16  1 64]\n",
      " [25 25 16]]\n"
     ]
    }
   ],
   "source": [
    "print(\"\\n sq-root of 1st Matrix using np\\n\",'-'*50,\"\\n\",np.sqrt(mat1))\n",
    "print(\"\\n square of 2nd Matrix using np\\n\",'-'*50,\"\\n\",np.square(mat2))"
   ]
  },
  {
   "cell_type": "code",
   "execution_count": null,
   "id": "6f78bbb5-e500-4c17-8354-4fcbe32806ed",
   "metadata": {},
   "outputs": [],
   "source": []
  }
 ],
 "metadata": {
  "kernelspec": {
   "display_name": "Python 3 (ipykernel)",
   "language": "python",
   "name": "python3"
  },
  "language_info": {
   "codemirror_mode": {
    "name": "ipython",
    "version": 3
   },
   "file_extension": ".py",
   "mimetype": "text/x-python",
   "name": "python",
   "nbconvert_exporter": "python",
   "pygments_lexer": "ipython3",
   "version": "3.12.7"
  }
 },
 "nbformat": 4,
 "nbformat_minor": 5
}
