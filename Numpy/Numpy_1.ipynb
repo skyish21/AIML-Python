{
 "cells": [
  {
   "cell_type": "code",
   "execution_count": 1,
   "id": "dc903d69-d61a-4d87-a2a4-d4f3e3254161",
   "metadata": {},
   "outputs": [],
   "source": [
    "#numpy = numpy means Numerical Python. It is used to do numerical calculations.\n",
    "# we have to import numpy as sqlite3."
   ]
  },
  {
   "cell_type": "code",
   "execution_count": 3,
   "id": "22a15374-7127-4f56-b9e3-f18f2fca44e4",
   "metadata": {},
   "outputs": [],
   "source": [
    "import numpy as np"
   ]
  },
  {
   "cell_type": "code",
   "execution_count": 5,
   "id": "4491fcf2-b5ba-4f58-b9ef-672cbb33f254",
   "metadata": {},
   "outputs": [
    {
     "name": "stdout",
     "output_type": "stream",
     "text": [
      "['False_', 'ScalarType', 'True_', '_CopyMode', '_NoValue', '__NUMPY_SETUP__', '__all__', '__array_api_version__', '__array_namespace_info__', '__builtins__', '__cached__', '__config__', '__dir__', '__doc__', '__expired_attributes__', '__file__', '__former_attrs__', '__future_scalars__', '__getattr__', '__loader__', '__name__', '__numpy_submodules__', '__package__', '__path__', '__spec__', '__version__', '_array_api_info', '_core', '_distributor_init', '_expired_attrs_2_0', '_get_promotion_state', '_globals', '_int_extended_msg', '_mat', '_msg', '_no_nep50_warning', '_pyinstaller_hooks_dir', '_pytesttester', '_set_promotion_state', '_specific_msg', '_type_info', '_typing', '_utils', 'abs', 'absolute', 'acos', 'acosh', 'add', 'all', 'allclose', 'amax', 'amin', 'angle', 'any', 'append', 'apply_along_axis', 'apply_over_axes', 'arange', 'arccos', 'arccosh', 'arcsin', 'arcsinh', 'arctan', 'arctan2', 'arctanh', 'argmax', 'argmin', 'argpartition', 'argsort', 'argwhere', 'around', 'array', 'array2string', 'array_equal', 'array_equiv', 'array_repr', 'array_split', 'array_str', 'asanyarray', 'asarray', 'asarray_chkfinite', 'ascontiguousarray', 'asfortranarray', 'asin', 'asinh', 'asmatrix', 'astype', 'atan', 'atan2', 'atanh', 'atleast_1d', 'atleast_2d', 'atleast_3d', 'average', 'bartlett', 'base_repr', 'binary_repr', 'bincount', 'bitwise_and', 'bitwise_count', 'bitwise_invert', 'bitwise_left_shift', 'bitwise_not', 'bitwise_or', 'bitwise_right_shift', 'bitwise_xor', 'blackman', 'block', 'bmat', 'bool', 'bool_', 'broadcast', 'broadcast_arrays', 'broadcast_shapes', 'broadcast_to', 'busday_count', 'busday_offset', 'busdaycalendar', 'byte', 'bytes_', 'c_', 'can_cast', 'cbrt', 'cdouble', 'ceil', 'char', 'character', 'choose', 'clip', 'clongdouble', 'column_stack', 'common_type', 'complex128', 'complex64', 'complexfloating', 'compress', 'concat', 'concatenate', 'conj', 'conjugate', 'convolve', 'copy', 'copysign', 'copyto', 'core', 'corrcoef', 'correlate', 'cos', 'cosh', 'count_nonzero', 'cov', 'cross', 'csingle', 'ctypeslib', 'cumprod', 'cumsum', 'cumulative_prod', 'cumulative_sum', 'datetime64', 'datetime_as_string', 'datetime_data', 'deg2rad', 'degrees', 'delete', 'diag', 'diag_indices', 'diag_indices_from', 'diagflat', 'diagonal', 'diff', 'digitize', 'divide', 'divmod', 'dot', 'double', 'dsplit', 'dstack', 'dtype', 'dtypes', 'e', 'ediff1d', 'einsum', 'einsum_path', 'emath', 'empty', 'empty_like', 'equal', 'errstate', 'euler_gamma', 'exceptions', 'exp', 'exp2', 'expand_dims', 'expm1', 'extract', 'eye', 'f2py', 'fabs', 'fft', 'fill_diagonal', 'finfo', 'fix', 'flatiter', 'flatnonzero', 'flexible', 'flip', 'fliplr', 'flipud', 'float16', 'float32', 'float64', 'float_power', 'floating', 'floor', 'floor_divide', 'fmax', 'fmin', 'fmod', 'format_float_positional', 'format_float_scientific', 'frexp', 'from_dlpack', 'frombuffer', 'fromfile', 'fromfunction', 'fromiter', 'frompyfunc', 'fromregex', 'fromstring', 'full', 'full_like', 'gcd', 'generic', 'genfromtxt', 'geomspace', 'get_include', 'get_printoptions', 'getbufsize', 'geterr', 'geterrcall', 'gradient', 'greater', 'greater_equal', 'half', 'hamming', 'hanning', 'heaviside', 'histogram', 'histogram2d', 'histogram_bin_edges', 'histogramdd', 'hsplit', 'hstack', 'hypot', 'i0', 'identity', 'iinfo', 'imag', 'in1d', 'index_exp', 'indices', 'inexact', 'inf', 'info', 'inner', 'insert', 'int16', 'int32', 'int64', 'int8', 'int_', 'intc', 'integer', 'interp', 'intersect1d', 'intp', 'invert', 'is_busday', 'isclose', 'iscomplex', 'iscomplexobj', 'isdtype', 'isfinite', 'isfortran', 'isin', 'isinf', 'isnan', 'isnat', 'isneginf', 'isposinf', 'isreal', 'isrealobj', 'isscalar', 'issubdtype', 'iterable', 'ix_', 'kaiser', 'kron', 'lcm', 'ldexp', 'left_shift', 'less', 'less_equal', 'lexsort', 'lib', 'linalg', 'linspace', 'little_endian', 'load', 'loadtxt', 'log', 'log10', 'log1p', 'log2', 'logaddexp', 'logaddexp2', 'logical_and', 'logical_not', 'logical_or', 'logical_xor', 'logspace', 'long', 'longdouble', 'longlong', 'ma', 'mask_indices', 'matmul', 'matrix', 'matrix_transpose', 'max', 'maximum', 'may_share_memory', 'mean', 'median', 'memmap', 'meshgrid', 'mgrid', 'min', 'min_scalar_type', 'minimum', 'mintypecode', 'mod', 'modf', 'moveaxis', 'multiply', 'nan', 'nan_to_num', 'nanargmax', 'nanargmin', 'nancumprod', 'nancumsum', 'nanmax', 'nanmean', 'nanmedian', 'nanmin', 'nanpercentile', 'nanprod', 'nanquantile', 'nanstd', 'nansum', 'nanvar', 'ndarray', 'ndenumerate', 'ndim', 'ndindex', 'nditer', 'negative', 'nested_iters', 'newaxis', 'nextafter', 'nonzero', 'not_equal', 'number', 'object_', 'ogrid', 'ones', 'ones_like', 'outer', 'packbits', 'pad', 'partition', 'percentile', 'permute_dims', 'pi', 'piecewise', 'place', 'poly', 'poly1d', 'polyadd', 'polyder', 'polydiv', 'polyfit', 'polyint', 'polymul', 'polynomial', 'polysub', 'polyval', 'positive', 'pow', 'power', 'printoptions', 'prod', 'promote_types', 'ptp', 'put', 'put_along_axis', 'putmask', 'quantile', 'r_', 'rad2deg', 'radians', 'random', 'ravel', 'ravel_multi_index', 'real', 'real_if_close', 'rec', 'recarray', 'reciprocal', 'record', 'remainder', 'repeat', 'require', 'reshape', 'resize', 'result_type', 'right_shift', 'rint', 'roll', 'rollaxis', 'roots', 'rot90', 'round', 'row_stack', 's_', 'save', 'savetxt', 'savez', 'savez_compressed', 'sctypeDict', 'searchsorted', 'select', 'set_printoptions', 'setbufsize', 'setdiff1d', 'seterr', 'seterrcall', 'setxor1d', 'shape', 'shares_memory', 'short', 'show_config', 'show_runtime', 'sign', 'signbit', 'signedinteger', 'sin', 'sinc', 'single', 'sinh', 'size', 'sort', 'sort_complex', 'spacing', 'split', 'sqrt', 'square', 'squeeze', 'stack', 'std', 'str_', 'strings', 'subtract', 'sum', 'swapaxes', 'take', 'take_along_axis', 'tan', 'tanh', 'tensordot', 'test', 'testing', 'tile', 'timedelta64', 'trace', 'transpose', 'trapezoid', 'trapz', 'tri', 'tril', 'tril_indices', 'tril_indices_from', 'trim_zeros', 'triu', 'triu_indices', 'triu_indices_from', 'true_divide', 'trunc', 'typecodes', 'typename', 'typing', 'ubyte', 'ufunc', 'uint', 'uint16', 'uint32', 'uint64', 'uint8', 'uintc', 'uintp', 'ulong', 'ulonglong', 'union1d', 'unique', 'unique_all', 'unique_counts', 'unique_inverse', 'unique_values', 'unpackbits', 'unravel_index', 'unsignedinteger', 'unstack', 'unwrap', 'ushort', 'vander', 'var', 'vdot', 'vecdot', 'vectorize', 'void', 'vsplit', 'vstack', 'where', 'zeros', 'zeros_like']\n"
     ]
    }
   ],
   "source": [
    "#check all the function of  numpy.\n",
    "print(dir(np))"
   ]
  },
  {
   "cell_type": "code",
   "execution_count": 7,
   "id": "a4eb8a08-4385-40b9-80f1-7a16b310395d",
   "metadata": {},
   "outputs": [
    {
     "name": "stdout",
     "output_type": "stream",
     "text": [
      "6.0\n"
     ]
    }
   ],
   "source": [
    "print(np.sqrt(36)) #get sqyare root"
   ]
  },
  {
   "cell_type": "code",
   "execution_count": 9,
   "id": "29d6c1e3-fbbd-4dd1-8349-2e87f62fdb07",
   "metadata": {},
   "outputs": [
    {
     "name": "stdout",
     "output_type": "stream",
     "text": [
      "minimum:  6\n"
     ]
    }
   ],
   "source": [
    "print('minimum: ', np.amin([33,445,6,73])) #print min value"
   ]
  },
  {
   "cell_type": "code",
   "execution_count": 11,
   "id": "f9131892-794d-4eb9-95b5-03836702ab68",
   "metadata": {},
   "outputs": [
    {
     "name": "stdout",
     "output_type": "stream",
     "text": [
      "minimum:  6\n"
     ]
    }
   ],
   "source": [
    "print('minimum: ', np.min([33,445,6,73])) #another method to print min"
   ]
  },
  {
   "cell_type": "code",
   "execution_count": 13,
   "id": "a106e84d-8c02-4711-9aa8-8b2918f4376c",
   "metadata": {},
   "outputs": [
    {
     "name": "stdout",
     "output_type": "stream",
     "text": [
      "maximun:  445\n"
     ]
    }
   ],
   "source": [
    "print('maximun: ', np.amax([33,445,6,73])) #print max value"
   ]
  },
  {
   "cell_type": "code",
   "execution_count": 15,
   "id": "3fafe1d6-16de-4af5-ba1f-bf7897b8462e",
   "metadata": {},
   "outputs": [
    {
     "name": "stdout",
     "output_type": "stream",
     "text": [
      "maximun:  445\n"
     ]
    }
   ],
   "source": [
    "print('maximun: ', np.max([33,445,6,73])) #another way to print max"
   ]
  },
  {
   "cell_type": "code",
   "execution_count": 17,
   "id": "cfbf1157-b192-4ce1-8508-881fa70a5f8f",
   "metadata": {},
   "outputs": [
    {
     "name": "stdout",
     "output_type": "stream",
     "text": [
      "32.0\n"
     ]
    }
   ],
   "source": [
    "print(np.ceil(31.4)) #rounds ups the input value"
   ]
  },
  {
   "cell_type": "code",
   "execution_count": 19,
   "id": "3c3f46ab-d606-4a48-a781-3a06941b26ee",
   "metadata": {},
   "outputs": [
    {
     "name": "stdout",
     "output_type": "stream",
     "text": [
      "3.3166247903554\n",
      "4.0\n"
     ]
    }
   ],
   "source": [
    "print((np.sqrt(11)))\n",
    "print(np.ceil(np.sqrt(11)))"
   ]
  },
  {
   "cell_type": "code",
   "execution_count": 21,
   "id": "fc681971-b21a-44f6-b65e-a9c5789e1ed4",
   "metadata": {},
   "outputs": [
    {
     "name": "stdout",
     "output_type": "stream",
     "text": [
      "[2.23606798 3.16227766 3.87298335]\n",
      "9.271328983875588\n",
      "10.0\n"
     ]
    }
   ],
   "source": [
    "print(np.sqrt([5,10,15])) \n",
    "print(np.sum(np.sqrt([5,10,15])))\n",
    "\n",
    "#first square root, then add the values and then round up using ceil funtion\n",
    "print(np.ceil(np.sum(np.sqrt([5,10,15]))))"
   ]
  },
  {
   "cell_type": "code",
   "execution_count": 23,
   "id": "7bd8eb32-b7f3-4b95-a9cb-82c010919984",
   "metadata": {},
   "outputs": [
    {
     "data": {
      "text/plain": [
       "array([31,  4,  5])"
      ]
     },
     "execution_count": 23,
     "metadata": {},
     "output_type": "execute_result"
    }
   ],
   "source": [
    "np.array([31,4,5])"
   ]
  },
  {
   "cell_type": "code",
   "execution_count": 27,
   "id": "f47c4e90-d7b3-4c7e-99e8-71a876cb145f",
   "metadata": {},
   "outputs": [
    {
     "data": {
      "text/plain": [
       "list"
      ]
     },
     "execution_count": 27,
     "metadata": {},
     "output_type": "execute_result"
    }
   ],
   "source": [
    "type([51,9,23])"
   ]
  },
  {
   "cell_type": "code",
   "execution_count": 29,
   "id": "26f78002-885d-4005-962f-90c218b5605d",
   "metadata": {},
   "outputs": [],
   "source": [
    "new_arr=np.array([4,3,1])"
   ]
  },
  {
   "cell_type": "code",
   "execution_count": 31,
   "id": "e0cbbb8d-994c-4d82-9090-3a85d940f7a4",
   "metadata": {},
   "outputs": [
    {
     "data": {
      "text/plain": [
       "numpy.ndarray"
      ]
     },
     "execution_count": 31,
     "metadata": {},
     "output_type": "execute_result"
    }
   ],
   "source": [
    "type(new_arr)"
   ]
  },
  {
   "cell_type": "code",
   "execution_count": 41,
   "id": "52431d58-8452-4070-a512-a6d4342136e8",
   "metadata": {},
   "outputs": [
    {
     "data": {
      "text/plain": [
       "array([[2, 3, 4],\n",
       "       [5, 6, 7]])"
      ]
     },
     "execution_count": 41,
     "metadata": {},
     "output_type": "execute_result"
    }
   ],
   "source": [
    "#create 2D array\n",
    "arr=np.array([[2,3,4],[5,6,7]])\n",
    "arr"
   ]
  },
  {
   "cell_type": "code",
   "execution_count": 43,
   "id": "b2933a6f-16f6-46f1-ba62-e0d268ea2779",
   "metadata": {},
   "outputs": [
    {
     "data": {
      "text/plain": [
       "numpy.ndarray"
      ]
     },
     "execution_count": 43,
     "metadata": {},
     "output_type": "execute_result"
    }
   ],
   "source": [
    "type(arr)"
   ]
  },
  {
   "cell_type": "code",
   "execution_count": 45,
   "id": "66e3f1a1-6e01-4599-af65-8f801eede21a",
   "metadata": {},
   "outputs": [
    {
     "data": {
      "text/plain": [
       "dtype('int64')"
      ]
     },
     "execution_count": 45,
     "metadata": {},
     "output_type": "execute_result"
    }
   ],
   "source": [
    "arr.dtype #checking data type"
   ]
  },
  {
   "cell_type": "code",
   "execution_count": 47,
   "id": "d7a8176c-402c-4ed4-9758-2b187a0a4606",
   "metadata": {},
   "outputs": [
    {
     "data": {
      "text/plain": [
       "array([11., 24., 53.])"
      ]
     },
     "execution_count": 47,
     "metadata": {},
     "output_type": "execute_result"
    }
   ],
   "source": [
    "np.array([11,24,53],dtype=float)"
   ]
  },
  {
   "cell_type": "code",
   "execution_count": 49,
   "id": "7006e26e-51d8-42df-b727-e1345343e189",
   "metadata": {},
   "outputs": [
    {
     "name": "stdout",
     "output_type": "stream",
     "text": [
      "[1 2]\n"
     ]
    }
   ],
   "source": [
    "a=[1,2] #a=list\n",
    "c=np.array(a)\n",
    "print(c)"
   ]
  },
  {
   "cell_type": "code",
   "execution_count": 51,
   "id": "23539682-56da-419a-8ca0-c877d03702e3",
   "metadata": {},
   "outputs": [
    {
     "name": "stdout",
     "output_type": "stream",
     "text": [
      "<class 'list'>\n",
      "<class 'numpy.ndarray'>\n"
     ]
    }
   ],
   "source": [
    "print(type(a))\n",
    "print(type(c))"
   ]
  },
  {
   "cell_type": "code",
   "execution_count": 55,
   "id": "832b11ab-12a8-49e0-a81b-d022645cb78e",
   "metadata": {},
   "outputs": [
    {
     "name": "stdout",
     "output_type": "stream",
     "text": [
      "[1 2]\n"
     ]
    }
   ],
   "source": [
    "#copy array into other\n",
    "copy=np.asarray(c)\n",
    "print(copy)"
   ]
  },
  {
   "cell_type": "code",
   "execution_count": 57,
   "id": "dbe2398b-f922-4a4c-bc3c-01ef41812e9c",
   "metadata": {},
   "outputs": [],
   "source": [
    "# Data Types"
   ]
  },
  {
   "cell_type": "code",
   "execution_count": 61,
   "id": "9c106485-dae3-4749-b060-c470536fc084",
   "metadata": {},
   "outputs": [
    {
     "name": "stdout",
     "output_type": "stream",
     "text": [
      "Type/class of this object :  <class 'numpy.ndarray'>\n",
      "Here is the array \n",
      "------\n",
      " [[ 1  2  3]\n",
      " [23  4  6]\n",
      " [67 32  7]] \n",
      "-----------\n",
      "print dimension of this matrix :  2\n",
      "size of the matrix :  9\n",
      "Shape of the matrix :  (3, 3)\n",
      "Data Type of the matrix ;  int64\n"
     ]
    }
   ],
   "source": [
    "twoD_ar=[[1,2,3],[23,4,6],[67,32,7]]\n",
    "arr=np.array(twoD_ar) #convert list to array\n",
    "\n",
    "print(\"Type/class of this object : \", type(arr))\n",
    "print(\"Here is the array \\n------\\n\" ,arr,\"\\n-----------\")\n",
    "print(\"print dimension of this matrix : \", arr.ndim)  #ndim gives dimension, 2 for a matrix and 1 for vector\n",
    "print(\"size of the matrix : \", arr.size)   #size shows total number elements\n",
    "print(\"Shape of the matrix : \", arr.shape)   #shape shows how many rows and column\n",
    "print(\"Data Type of the matrix ; \", arr.dtype)   #shoes which type"
   ]
  },
  {
   "cell_type": "code",
   "execution_count": 63,
   "id": "9e22832b-e343-430c-82db-95afe7560753",
   "metadata": {},
   "outputs": [],
   "source": [
    "#arange and linspace"
   ]
  },
  {
   "cell_type": "code",
   "execution_count": 67,
   "id": "94dbe0e0-24dc-467f-a8b7-270d5de8905f",
   "metadata": {},
   "outputs": [
    {
     "data": {
      "text/plain": [
       "array([0, 1, 2, 3, 4, 5, 6, 7, 8, 9])"
      ]
     },
     "execution_count": 67,
     "metadata": {},
     "output_type": "execute_result"
    }
   ],
   "source": [
    "#arange\n",
    "\n",
    "arr=np.arange(10)\n",
    "arr"
   ]
  },
  {
   "cell_type": "code",
   "execution_count": 69,
   "id": "41fa0c3b-9c75-4247-bf4c-bbf04048dbb1",
   "metadata": {},
   "outputs": [
    {
     "data": {
      "text/plain": [
       "array([ 3,  5,  7,  9, 11, 13, 15, 17, 19])"
      ]
     },
     "execution_count": 69,
     "metadata": {},
     "output_type": "execute_result"
    }
   ],
   "source": [
    "#give a start point, stop point and step\n",
    "\n",
    "arr=np.arange(3,21,2)\n",
    "arr"
   ]
  },
  {
   "cell_type": "code",
   "execution_count": 73,
   "id": "f0e2b071-e003-43a2-be6e-5cef009d2605",
   "metadata": {},
   "outputs": [
    {
     "data": {
      "text/plain": [
       "array([23, 20, 17, 14, 11,  8,  5,  2])"
      ]
     },
     "execution_count": 73,
     "metadata": {},
     "output_type": "execute_result"
    }
   ],
   "source": [
    "#reverse\n",
    "\n",
    "rev_arr=np.arange(23,0,-3)\n",
    "rev_arr"
   ]
  },
  {
   "cell_type": "code",
   "execution_count": 79,
   "id": "1321180e-1afb-464e-bb1f-4baf62e942e8",
   "metadata": {},
   "outputs": [
    {
     "data": {
      "text/plain": [
       "array([45., 58., 71., 84.])"
      ]
     },
     "execution_count": 79,
     "metadata": {},
     "output_type": "execute_result"
    }
   ],
   "source": [
    "#linspace -  linearly space numbers\n",
    "#it gives 4 numbers between start and end point\n",
    "#they have equal spacing/distance between them\n",
    "np.linspace(45,84,4)"
   ]
  },
  {
   "cell_type": "code",
   "execution_count": 81,
   "id": "8665bfa0-f8fb-4883-843d-54183db46cd9",
   "metadata": {},
   "outputs": [],
   "source": [
    "#Include end points and check space between the points\n",
    "#By default endpoint=True\n",
    "#Bydefaul retstep=False"
   ]
  },
  {
   "cell_type": "code",
   "execution_count": 93,
   "id": "8a3c4672-32be-4c21-8d31-eebba4214280",
   "metadata": {},
   "outputs": [
    {
     "data": {
      "text/plain": [
       "(array([5.        , 5.66666667, 6.33333333, 7.        ]),\n",
       " np.float64(0.6666666666666666))"
      ]
     },
     "execution_count": 93,
     "metadata": {},
     "output_type": "execute_result"
    }
   ],
   "source": [
    "#start point=5\n",
    "#end point = 7\n",
    "#if endpoint true, it includes endpoint=7\n",
    "np.linspace(5.0,7.0,num=4,endpoint=True,retstep=True)"
   ]
  },
  {
   "cell_type": "code",
   "execution_count": 89,
   "id": "d2e791a2-30bb-41a5-a78a-3b278c14ac5e",
   "metadata": {},
   "outputs": [
    {
     "data": {
      "text/plain": [
       "(array([5. , 5.5, 6. , 6.5]), np.float64(0.5))"
      ]
     },
     "execution_count": 89,
     "metadata": {},
     "output_type": "execute_result"
    }
   ],
   "source": [
    "#when end point false, it doesnt include endpoint=7\n",
    "np.linspace(5.0,7.0,num=4,endpoint=False,retstep=True)"
   ]
  },
  {
   "cell_type": "code",
   "execution_count": 95,
   "id": "d3337ac6-a882-4a56-a6de-8755b937bbd4",
   "metadata": {},
   "outputs": [
    {
     "name": "stdout",
     "output_type": "stream",
     "text": [
      "(array([ 4.5678 ,  5.13145,  5.6951 ,  6.25875,  6.8224 ,  7.38605,\n",
      "        7.9497 ,  8.51335,  9.077  ,  9.64065, 10.2043 , 10.76795,\n",
      "       11.3316 , 11.89525, 12.4589 , 13.02255, 13.5862 , 14.14985,\n",
      "       14.7135 , 15.27715, 15.8408 , 16.40445, 16.9681 , 17.53175,\n",
      "       18.0954 , 18.65905, 19.2227 , 19.78635, 20.35   , 20.91365,\n",
      "       21.4773 , 22.04095, 22.6046 , 23.16825, 23.7319 , 24.29555,\n",
      "       24.8592 , 25.42285, 25.9865 ]), np.float64(0.56365))\n"
     ]
    }
   ],
   "source": [
    "print(np.linspace(4.5678,25.9865,39,retstep=True))"
   ]
  },
  {
   "cell_type": "code",
   "execution_count": 97,
   "id": "6580b993-cd1b-46b8-a9aa-03eea761fb49",
   "metadata": {},
   "outputs": [],
   "source": [
    "#matrics creation"
   ]
  },
  {
   "cell_type": "code",
   "execution_count": 99,
   "id": "66a2d7d8-aaf9-4c45-94fe-3ee9781944f6",
   "metadata": {},
   "outputs": [
    {
     "name": "stdout",
     "output_type": "stream",
     "text": [
      "vectors of zeros\n",
      "[0. 0. 0. 0. 0.]\n"
     ]
    }
   ],
   "source": [
    "#matrics of zeros\n",
    "print('vectors of zeros')\n",
    "print(np.zeros([5]))"
   ]
  },
  {
   "cell_type": "code",
   "execution_count": 101,
   "id": "664bc6fe-baf1-40ab-86b8-dce8e7b40623",
   "metadata": {},
   "outputs": [
    {
     "name": "stdout",
     "output_type": "stream",
     "text": [
      "vectors of zeros\n",
      "[[0. 0. 0. 0.]\n",
      " [0. 0. 0. 0.]\n",
      " [0. 0. 0. 0.]\n",
      " [0. 0. 0. 0.]\n",
      " [0. 0. 0. 0.]]\n"
     ]
    }
   ],
   "source": [
    "print('vectors of zeros')\n",
    "print(np.zeros([5,4]))"
   ]
  },
  {
   "cell_type": "code",
   "execution_count": 103,
   "id": "e37462f4-39c2-41b2-af59-b7b75a1d8541",
   "metadata": {},
   "outputs": [
    {
     "name": "stdout",
     "output_type": "stream",
     "text": [
      "vectors of zeros\n",
      "[1. 1. 1. 1. 1.]\n"
     ]
    }
   ],
   "source": [
    "#matrics of ones\n",
    "print('vectors of zeros')\n",
    "print(np.ones([5]))"
   ]
  },
  {
   "cell_type": "code",
   "execution_count": 107,
   "id": "8247ac10-6366-4c9c-8d6b-d47921777934",
   "metadata": {},
   "outputs": [
    {
     "name": "stdout",
     "output_type": "stream",
     "text": [
      "vectors of zeros\n",
      "[[0. 0. 0. 0.]\n",
      " [0. 0. 0. 0.]\n",
      " [0. 0. 0. 0.]\n",
      " [0. 0. 0. 0.]\n",
      " [0. 0. 0. 0.]\n",
      " [0. 0. 0. 0.]]\n"
     ]
    }
   ],
   "source": [
    "print('vectors of zeros')\n",
    "print(np.zeros([6,4]))"
   ]
  },
  {
   "cell_type": "code",
   "execution_count": 109,
   "id": "3d884518-fb57-4226-a3f5-66620fe2c6ee",
   "metadata": {},
   "outputs": [],
   "source": [
    "#cant create matrics for 2 or 3\n",
    "#to print matrics of number other than 0/1, use below method:"
   ]
  },
  {
   "cell_type": "code",
   "execution_count": 113,
   "id": "a1cd315e-86e5-43ec-a4cb-fff05dbe92c1",
   "metadata": {},
   "outputs": [
    {
     "name": "stdout",
     "output_type": "stream",
     "text": [
      "vectors of zeros\n",
      "[2. 2. 2. 2. 2.]\n"
     ]
    }
   ],
   "source": [
    "#multiplication\n",
    "print('vectors of zeros')\n",
    "print(2*np.ones([5]))"
   ]
  },
  {
   "cell_type": "code",
   "execution_count": 115,
   "id": "a335dcd8-5d38-4ca0-a91b-46434ef6f43b",
   "metadata": {},
   "outputs": [
    {
     "name": "stdout",
     "output_type": "stream",
     "text": [
      "vectors of zeros\n",
      "[[3. 3. 3. 3. 3. 3.]\n",
      " [3. 3. 3. 3. 3. 3.]\n",
      " [3. 3. 3. 3. 3. 3.]\n",
      " [3. 3. 3. 3. 3. 3.]\n",
      " [3. 3. 3. 3. 3. 3.]]\n"
     ]
    }
   ],
   "source": [
    "print('vectors of zeros')\n",
    "print(3*np.ones([5,6]))"
   ]
  },
  {
   "cell_type": "code",
   "execution_count": 119,
   "id": "aaf0ee7f-016a-47b6-9077-1c209f9c3109",
   "metadata": {},
   "outputs": [
    {
     "data": {
      "text/plain": [
       "array([[ 0,  1,  2,  3,  4,  5],\n",
       "       [ 6,  7,  8,  9, 10, 11],\n",
       "       [12, 13, 14, 15, 16, 17],\n",
       "       [18, 19, 20, 21, 22, 23],\n",
       "       [24, 25, 26, 27, 28, 29]])"
      ]
     },
     "execution_count": 119,
     "metadata": {},
     "output_type": "execute_result"
    }
   ],
   "source": [
    "#create diagonal matrix\n",
    "#print elements in range of 30 with 5X6 shape\n",
    "arr=np.arange(30).reshape(5,6)\n",
    "arr"
   ]
  },
  {
   "cell_type": "code",
   "execution_count": null,
   "id": "5c6b9792-3651-41e7-a8e0-e9409039ef8e",
   "metadata": {},
   "outputs": [],
   "source": [
    "#Random number generation"
   ]
  },
  {
   "cell_type": "code",
   "execution_count": 129,
   "id": "4df32e72-4044-4c43-bb65-9f1579565d36",
   "metadata": {},
   "outputs": [
    {
     "name": "stdout",
     "output_type": "stream",
     "text": [
      "None\n",
      "Random number genration (from uniform distribution)\n",
      "[[0.89286015 0.33197981 0.82122912 0.04169663]\n",
      " [0.10765668 0.59505206 0.52981736 0.41880743]\n",
      " [0.33540785 0.62251943 0.43814143 0.73588211]]\n"
     ]
    }
   ],
   "source": [
    "print(np.random.seed(6)) #seed will generate a random number\n",
    "print(\"Random number genration (from uniform distribution)\")\n",
    "\n",
    "#rand method uses uniform distrubiton method\n",
    "#3,4 defines the shape\n",
    "print(np.random.rand(3,4))"
   ]
  },
  {
   "cell_type": "code",
   "execution_count": 127,
   "id": "bf679dfb-e333-4bbc-9461-06ffed953325",
   "metadata": {},
   "outputs": [
    {
     "name": "stdout",
     "output_type": "stream",
     "text": [
      "Number from normal distribution with zero mean and standard deviation 1 i.e standard noraml\n",
      "[[ 2.63128056  0.60182225 -0.33588161  1.23773784]\n",
      " [ 0.11112817  0.12915125  0.07612761 -0.15512816]\n",
      " [ 0.63422534  0.810655    0.35480861  1.81259031]]\n"
     ]
    }
   ],
   "source": [
    "print(\"Number from normal distribution with zero mean and standard deviation 1 i.e standard noraml\")\n",
    "\n",
    "#randn = it belongs to normal distribution\n",
    "print(np.random.randn(3,4))"
   ]
  },
  {
   "cell_type": "code",
   "execution_count": 131,
   "id": "1469bcc8-1692-45ad-be1a-2c0179a81186",
   "metadata": {},
   "outputs": [
    {
     "name": "stdout",
     "output_type": "stream",
     "text": [
      "Random integer vector :  [17  9 16  7 10 18 15 14 11  7]\n"
     ]
    }
   ],
   "source": [
    "#print random intergers in range 5-20\n",
    "print(\"Random integer vector : \",np.random.randint(5,20,10))"
   ]
  },
  {
   "cell_type": "code",
   "execution_count": 133,
   "id": "8a282570-3a78-4cbe-810b-81d592b22e5f",
   "metadata": {},
   "outputs": [
    {
     "name": "stdout",
     "output_type": "stream",
     "text": [
      "\n",
      " Random integer matrix\n",
      "[[ 5036  5318 26086  5554  2693 28134  7231]\n",
      " [ 9809  3267  6272  9539 26944 10388 24150]\n",
      " [22141  7453 10298 24454  7475 19995 10063]\n",
      " [ 7288 25542 24903 24811 27712 19211 28484]\n",
      " [ 1366 29580 20610  5203 22436  9111 13436]\n",
      " [12138 10777 11185 28715 26564 21384 22053]]\n"
     ]
    }
   ],
   "source": [
    "print(\"\\n Random integer matrix\")\n",
    "#6,7 defines shape in range 1-30000\n",
    "print(np.random.randint(1,30000,(6,7)))"
   ]
  },
  {
   "cell_type": "code",
   "execution_count": null,
   "id": "e4bbfa12-1915-42ef-8796-c95ac35db760",
   "metadata": {},
   "outputs": [],
   "source": [
    "#One of the real time example of randint is"
   ]
  },
  {
   "cell_type": "code",
   "execution_count": 7,
   "id": "6513fca9-1c93-4fa7-aa83-7d8b7f4f5788",
   "metadata": {},
   "outputs": [],
   "source": [
    "import numpy as np"
   ]
  },
  {
   "cell_type": "code",
   "execution_count": 13,
   "id": "5c1595f2-8cef-4c23-a7ca-916831347c00",
   "metadata": {},
   "outputs": [],
   "source": [
    "def generate_otp():\n",
    "    otp=np.random.randint(1000,10000,1)\n",
    "    print(\"Your Otp is \",otp)\n",
    "   \n",
    "    while True:\n",
    "     user_otp=int(input(\"Enter Your OTP Here\"))\n",
    "     print(user_otp)\n",
    "        \n",
    "     if otp==user_otp:\n",
    "         print(\"Log in Sucessfully\")\n",
    "         break\n",
    "     else:\n",
    "         print(\"Your OTP is invalid\")\n",
    "         continue"
   ]
  },
  {
   "cell_type": "code",
   "execution_count": 15,
   "id": "ee9f2b80-06a5-449b-ab0b-a9c0b648ac1e",
   "metadata": {},
   "outputs": [
    {
     "name": "stdout",
     "output_type": "stream",
     "text": [
      "Your Otp is  [8350]\n"
     ]
    },
    {
     "name": "stdin",
     "output_type": "stream",
     "text": [
      "Enter Your OTP Here 4733\n"
     ]
    },
    {
     "name": "stdout",
     "output_type": "stream",
     "text": [
      "4733\n",
      "Your OTP is invalid\n"
     ]
    },
    {
     "name": "stdin",
     "output_type": "stream",
     "text": [
      "Enter Your OTP Here 3453\n"
     ]
    },
    {
     "name": "stdout",
     "output_type": "stream",
     "text": [
      "3453\n",
      "Your OTP is invalid\n"
     ]
    },
    {
     "name": "stdin",
     "output_type": "stream",
     "text": [
      "Enter Your OTP Here 8350\n"
     ]
    },
    {
     "name": "stdout",
     "output_type": "stream",
     "text": [
      "8350\n",
      "Log in Sucessfully\n"
     ]
    }
   ],
   "source": [
    "generate_otp()"
   ]
  },
  {
   "cell_type": "code",
   "execution_count": null,
   "id": "b6490a22-2f56-4271-adf8-15e2d7a4b77c",
   "metadata": {},
   "outputs": [],
   "source": []
  }
 ],
 "metadata": {
  "kernelspec": {
   "display_name": "Python 3 (ipykernel)",
   "language": "python",
   "name": "python3"
  },
  "language_info": {
   "codemirror_mode": {
    "name": "ipython",
    "version": 3
   },
   "file_extension": ".py",
   "mimetype": "text/x-python",
   "name": "python",
   "nbconvert_exporter": "python",
   "pygments_lexer": "ipython3",
   "version": "3.12.7"
  }
 },
 "nbformat": 4,
 "nbformat_minor": 5
}
