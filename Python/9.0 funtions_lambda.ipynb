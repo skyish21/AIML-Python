{
 "cells": [
  {
   "cell_type": "code",
   "execution_count": 1,
   "id": "f708deb1-b421-481a-8f39-2103af60cfb0",
   "metadata": {},
   "outputs": [],
   "source": [
    "#functions=Function is a group of statement performing a specific task. When a program gets bigger in size \n",
    "#and its complexity grows, it gets difficult for programmer to keep track on which piece of code is doing what.\n",
    "\n",
    "#A fucntion can be reused by the programming is a given program any number of times.\n",
    "\n",
    "#Function:*args,*kwargs,map and filter"
   ]
  },
  {
   "cell_type": "code",
   "execution_count": 9,
   "id": "fb3d5183-4e3c-47a3-a05c-d682422bd1d3",
   "metadata": {},
   "outputs": [],
   "source": [
    "#create function\n",
    "def say_hello():\n",
    "    print(\"This is the basic funtion\")"
   ]
  },
  {
   "cell_type": "code",
   "execution_count": 11,
   "id": "8136a335-603f-4d4d-9d2a-cc2adfef79fd",
   "metadata": {},
   "outputs": [
    {
     "name": "stdout",
     "output_type": "stream",
     "text": [
      "This is the basic funtion\n"
     ]
    }
   ],
   "source": [
    "say_hello()"
   ]
  },
  {
   "cell_type": "code",
   "execution_count": 19,
   "id": "27f703eb-7408-4596-82b0-cad8c70b9a29",
   "metadata": {},
   "outputs": [],
   "source": [
    "#pass argument within function\n",
    "def say_greeting(name):\n",
    "    print(\"hello! how are you?\",name)"
   ]
  },
  {
   "cell_type": "code",
   "execution_count": 21,
   "id": "bf620b25-a53a-408d-8b88-de3081ad1d6f",
   "metadata": {},
   "outputs": [
    {
     "name": "stdout",
     "output_type": "stream",
     "text": [
      "hello! how are you? Ishika\n"
     ]
    }
   ],
   "source": [
    "#give argument a value to be printed in output\n",
    "say_greeting('Ishika')"
   ]
  },
  {
   "cell_type": "code",
   "execution_count": 23,
   "id": "1ab3febb-90e3-437e-97dc-39bf736c1cc8",
   "metadata": {},
   "outputs": [],
   "source": [
    "#return = allow a function to \"return\" a result that can then be stored as a variable, or used in whatever mannner user wants."
   ]
  },
  {
   "cell_type": "code",
   "execution_count": 3,
   "id": "7c03d4d3-7cf9-4902-966a-60093da46a59",
   "metadata": {},
   "outputs": [],
   "source": [
    "def age_incr(age):\n",
    "    if age<=90:\n",
    "        (age + 10)\n",
    "    else:\n",
    "        (age)"
   ]
  },
  {
   "cell_type": "code",
   "execution_count": 5,
   "id": "e6abfc2f-63c4-4848-8630-ce1e14957bc2",
   "metadata": {},
   "outputs": [
    {
     "name": "stdout",
     "output_type": "stream",
     "text": [
      "Your age is None\n"
     ]
    }
   ],
   "source": [
    "#why it is showing none: because we dont give a command to return. \n",
    "print(\"Your age is\",age_incr(80))"
   ]
  },
  {
   "cell_type": "code",
   "execution_count": 13,
   "id": "1b39aed3-3304-4fe2-99e3-9f14b4d1ea5e",
   "metadata": {},
   "outputs": [],
   "source": [
    "#why we did not give a print command because print is used by a user and we are coder we check only by using return.\n",
    "def age_incr(age):\n",
    "    if age<=90:\n",
    "        return(age + 10)\n",
    "    else:\n",
    "        return(age)"
   ]
  },
  {
   "cell_type": "code",
   "execution_count": 15,
   "id": "28392ac1-4092-40aa-9dea-eec35e0f98d5",
   "metadata": {},
   "outputs": [
    {
     "data": {
      "text/plain": [
       "90"
      ]
     },
     "execution_count": 15,
     "metadata": {},
     "output_type": "execute_result"
    }
   ],
   "source": [
    "age_incr(80)"
   ]
  },
  {
   "cell_type": "code",
   "execution_count": 32,
   "id": "909bb673-70d3-4b09-86f9-fcdd65ab35b0",
   "metadata": {},
   "outputs": [],
   "source": [
    "def my_score(history,civics,geography):\n",
    "    return (history + civics + geography)"
   ]
  },
  {
   "cell_type": "code",
   "execution_count": 34,
   "id": "ded4e0e6-ccea-4787-bf92-d6b2f1c9fb1f",
   "metadata": {},
   "outputs": [
    {
     "data": {
      "text/plain": [
       "225"
      ]
     },
     "execution_count": 34,
     "metadata": {},
     "output_type": "execute_result"
    }
   ],
   "source": [
    "my_score(70,67,88)"
   ]
  },
  {
   "cell_type": "code",
   "execution_count": 36,
   "id": "a8abb6a0-1e93-42d8-bfe8-61ebcee5e79a",
   "metadata": {},
   "outputs": [
    {
     "name": "stdout",
     "output_type": "stream",
     "text": [
      "You Have Got 225\n"
     ]
    }
   ],
   "source": [
    "print(\"You Have Got\",my_marks(70,67,88))"
   ]
  },
  {
   "cell_type": "code",
   "execution_count": 38,
   "id": "e0fb429f-6295-40f6-ae02-384d7d39c79c",
   "metadata": {},
   "outputs": [
    {
     "data": {
      "text/plain": [
       "225"
      ]
     },
     "execution_count": 38,
     "metadata": {},
     "output_type": "execute_result"
    }
   ],
   "source": [
    "total_score=my_score(70,67,88)\n",
    "total_score"
   ]
  },
  {
   "cell_type": "code",
   "execution_count": 61,
   "id": "de9e43ed-3e29-46cf-a3f6-96262ccfa065",
   "metadata": {},
   "outputs": [
    {
     "name": "stdout",
     "output_type": "stream",
     "text": [
      "225 You are above average\n"
     ]
    }
   ],
   "source": [
    "if total_score >250:\n",
    "    print(total_score,\"Distinction and you got a scholor\")\n",
    "elif total_score>200 and total_score<=250:\n",
    "    print(total_score,\"You are above average\")\n",
    "elif total_score>150 and total_score<=200:\n",
    "    print(total_score,\"First division\")\n",
    "elif total_score>100 and total_score<=150:\n",
    "    print(total_score,\"second division\")\n",
    "elif total_score>50 and total_score<=100:\n",
    "    print(total_score,\"you just passed\")\n",
    "else:\n",
    "    print(total_score,\"You Failed\")"
   ]
  },
  {
   "cell_type": "code",
   "execution_count": null,
   "id": "ec6ce349-f264-4754-9241-90f979dc6629",
   "metadata": {},
   "outputs": [],
   "source": [
    "#Lets see how its work in real time.\n",
    "#https://www.olx.in/item/mobile-phones-c1453-used-iphone-other-in-pitampura-delhi-iid-1789761386\n",
    "\n",
    "#someone wants to buy or sell used mobile online and vendor needs to display the price of mobile based on name model and storage in gb(if applicable)"
   ]
  },
  {
   "cell_type": "code",
   "execution_count": 83,
   "id": "53c9af5b-dbf4-46a7-aa73-cb9d50f7f953",
   "metadata": {},
   "outputs": [],
   "source": [
    "def phone_price(model_name,phone_age,storage_gb):\n",
    "    \n",
    "    if model_name=='Apple iphone 16 pro max':\n",
    "        if phone_age==0:\n",
    "            if storage_gb==256:\n",
    "                print('Price=₹ 1,30,000')\n",
    "            elif storage_gb==128:\n",
    "                print('Price=₹ 1,00,000')\n",
    "            \n",
    "        elif phone_age>5 and phone_age<10:\n",
    "             if storage_gb==256:\n",
    "                print('Price=₹ 1,20,000')\n",
    "             elif storage_gb==128:\n",
    "                print('Price=₹ 90,000')\n",
    "        else:\n",
    "            print('Price=₹ 50,000')\n",
    "        \n",
    "    elif model_name=='Apple iphone 15 pro max':\n",
    "        if phone_age>5 and phone_age<10:\n",
    "             if storage_gb==256:\n",
    "                print('Price=₹ 80,000')\n",
    "             elif storage_gb==128:\n",
    "                print('Price=₹ 70,000')\n",
    "             else:\n",
    "                print('Price=₹ 40,000')\n",
    "        \n",
    "    elif model_name=='Fold 6 limited edition':\n",
    "        if phone_age>5 and phone_age<10:\n",
    "             if storage_gb==256:\n",
    "                print('Price=₹ 88,000')\n",
    "             elif storage_gb==128:\n",
    "                print('Price=₹ 78,000')\n",
    "             else:\n",
    "                print('Price=₹ 38,000')\n",
    "        \n",
    "    else:\n",
    "        print('Phone not in stock right now')"
   ]
  },
  {
   "cell_type": "code",
   "execution_count": 89,
   "id": "257aa52c-2786-4a3d-b4e6-b4220dbf96ca",
   "metadata": {},
   "outputs": [
    {
     "name": "stdout",
     "output_type": "stream",
     "text": [
      "Price=₹ 40,000\n"
     ]
    }
   ],
   "source": [
    "phone_price('Apple iphone 15 pro max',6,64)"
   ]
  },
  {
   "cell_type": "code",
   "execution_count": 45,
   "id": "a78e18fe-f805-4a92-99f3-54e053ab7482",
   "metadata": {},
   "outputs": [],
   "source": [
    "#lambda funtion= used for quick calculation and single time "
   ]
  },
  {
   "cell_type": "code",
   "execution_count": 49,
   "id": "f360fd10-574d-4c8e-8b63-f73d81a720c4",
   "metadata": {},
   "outputs": [],
   "source": [
    "#use for single argument\n",
    "add_age=lambda x:x+28"
   ]
  },
  {
   "cell_type": "code",
   "execution_count": 51,
   "id": "a809d8eb-300e-4672-b555-a85e4f0ed065",
   "metadata": {},
   "outputs": [
    {
     "data": {
      "text/plain": [
       "83"
      ]
     },
     "execution_count": 51,
     "metadata": {},
     "output_type": "execute_result"
    }
   ],
   "source": [
    "add_age(55)"
   ]
  },
  {
   "cell_type": "code",
   "execution_count": 57,
   "id": "5167083d-3acf-4d52-8fba-c47839edce4d",
   "metadata": {},
   "outputs": [],
   "source": [
    "#use for multiple argument\n",
    "divide_num=lambda a,b:(a/b)"
   ]
  },
  {
   "cell_type": "code",
   "execution_count": 59,
   "id": "5f885ba8-6bf6-4e90-ab86-2120731383b2",
   "metadata": {},
   "outputs": [
    {
     "data": {
      "text/plain": [
       "2.0"
      ]
     },
     "execution_count": 59,
     "metadata": {},
     "output_type": "execute_result"
    }
   ],
   "source": [
    "divide_num(4,2)"
   ]
  },
  {
   "cell_type": "code",
   "execution_count": null,
   "id": "8c0b8137-9f07-4250-bc3f-029e53666c70",
   "metadata": {},
   "outputs": [],
   "source": []
  }
 ],
 "metadata": {
  "kernelspec": {
   "display_name": "Python 3 (ipykernel)",
   "language": "python",
   "name": "python3"
  },
  "language_info": {
   "codemirror_mode": {
    "name": "ipython",
    "version": 3
   },
   "file_extension": ".py",
   "mimetype": "text/x-python",
   "name": "python",
   "nbconvert_exporter": "python",
   "pygments_lexer": "ipython3",
   "version": "3.12.7"
  }
 },
 "nbformat": 4,
 "nbformat_minor": 5
}
