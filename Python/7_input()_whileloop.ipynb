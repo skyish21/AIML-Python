{
 "cells": [
  {
   "cell_type": "code",
   "execution_count": null,
   "id": "65d8ef06-76c5-423e-a5e4-edc36165b0f3",
   "metadata": {},
   "outputs": [],
   "source": [
    "#input function"
   ]
  },
  {
   "cell_type": "code",
   "execution_count": 35,
   "id": "59999af6-e9a0-488d-8545-e5d5e7bcc40b",
   "metadata": {},
   "outputs": [
    {
     "name": "stdin",
     "output_type": "stream",
     "text": [
      "Enter a number:  5\n"
     ]
    },
    {
     "name": "stdout",
     "output_type": "stream",
     "text": [
      "5\n",
      "10\n",
      "15\n",
      "20\n",
      "25\n"
     ]
    }
   ],
   "source": [
    "num=int(input('Enter a number: '))\n",
    "for i in range(1,6):\n",
    "    print(num*i)"
   ]
  },
  {
   "cell_type": "code",
   "execution_count": 31,
   "id": "1a617481-437d-4bc9-a029-dbb33105bd99",
   "metadata": {},
   "outputs": [
    {
     "name": "stdin",
     "output_type": "stream",
     "text": [
      "Enter a number:  3\n"
     ]
    },
    {
     "name": "stdout",
     "output_type": "stream",
     "text": [
      "3 X 1 = 3\n",
      "3 X 2 = 6\n",
      "3 X 3 = 9\n",
      "3 X 4 = 12\n",
      "3 X 5 = 15\n",
      "3 X 6 = 18\n",
      "3 X 7 = 21\n",
      "3 X 8 = 24\n",
      "3 X 9 = 27\n",
      "3 X 10 = 30\n",
      "3 X 11 = 33\n",
      "3 X 12 = 36\n",
      "3 X 13 = 39\n",
      "3 X 14 = 42\n",
      "3 X 15 = 45\n",
      "3 X 16 = 48\n",
      "3 X 17 = 51\n",
      "3 X 18 = 54\n",
      "3 X 19 = 57\n",
      "3 X 20 = 60\n"
     ]
    }
   ],
   "source": [
    "num=int(input('Enter a number: '))\n",
    "for i in range(1,21):\n",
    "    print(str(num), 'X', str(i), '=', num*i)"
   ]
  },
  {
   "cell_type": "code",
   "execution_count": 37,
   "id": "72b1ee0c-1b0d-487e-8e34-2dc5320749b2",
   "metadata": {},
   "outputs": [],
   "source": [
    "#F String=Formatted string literal used for F-strings \n",
    "#can also be used to apply number formatting directly to the values."
   ]
  },
  {
   "cell_type": "code",
   "execution_count": 45,
   "id": "136c909f-64c1-413e-88c3-b33bff878bf9",
   "metadata": {},
   "outputs": [
    {
     "name": "stdin",
     "output_type": "stream",
     "text": [
      "Enter a number:  4\n"
     ]
    },
    {
     "name": "stdout",
     "output_type": "stream",
     "text": [
      "4X1=4\n",
      "4X2=8\n",
      "4X3=12\n",
      "4X4=16\n",
      "4X5=20\n",
      "4X6=24\n",
      "4X7=28\n",
      "4X8=32\n",
      "4X9=36\n",
      "4X10=40\n"
     ]
    }
   ],
   "source": [
    "num=int(input('Enter a number: '))\n",
    "for i in range(1,11):\n",
    "  print(f\"{num}X{i}={num*i}\")"
   ]
  },
  {
   "cell_type": "code",
   "execution_count": 47,
   "id": "cd8d2553-bcfa-4cc4-b7aa-0374eece5051",
   "metadata": {},
   "outputs": [],
   "source": [
    "#While Loop\n",
    "#In while loop, the condition is checked first. if true ,the body of the loop is executed ,otherwise not.  \n",
    "#the process of [conditon executed] is continued until the condition become false \n",
    "#Python intrepret any non zero as True. None and zero are interpreted as False."
   ]
  },
  {
   "cell_type": "code",
   "execution_count": 1,
   "id": "e8f2f0ab-69e5-42c4-b82e-c0ba0ce138b3",
   "metadata": {},
   "outputs": [
    {
     "name": "stdout",
     "output_type": "stream",
     "text": [
      "0\n",
      "1\n",
      "2\n",
      "3\n",
      "4\n",
      "5\n"
     ]
    }
   ],
   "source": [
    "i=0\n",
    "while (i<=5):\n",
    "    print(i)\n",
    "    i=i+1"
   ]
  },
  {
   "cell_type": "code",
   "execution_count": null,
   "id": "1032f046-3e0a-4e79-948e-734423efbac0",
   "metadata": {},
   "outputs": [],
   "source": [
    "#Eg: set an alarm\n",
    "#first import time"
   ]
  },
  {
   "cell_type": "code",
   "execution_count": 3,
   "id": "3074c467-ade5-4f0b-9eb0-c1a74de731ac",
   "metadata": {},
   "outputs": [],
   "source": [
    "import time"
   ]
  },
  {
   "cell_type": "code",
   "execution_count": 5,
   "id": "469ff6d8-140c-42bd-8ead-b6b0b87d934c",
   "metadata": {},
   "outputs": [
    {
     "data": {
      "text/plain": [
       "time.struct_time(tm_year=2024, tm_mon=11, tm_mday=14, tm_hour=21, tm_min=6, tm_sec=55, tm_wday=3, tm_yday=319, tm_isdst=0)"
      ]
     },
     "execution_count": 5,
     "metadata": {},
     "output_type": "execute_result"
    }
   ],
   "source": [
    "time_now=time.localtime()\n",
    "time_now"
   ]
  },
  {
   "cell_type": "code",
   "execution_count": 1,
   "id": "c4508ac3-4efe-4e5e-bf5e-6406ad68c35c",
   "metadata": {},
   "outputs": [
    {
     "name": "stdout",
     "output_type": "stream",
     "text": [
      "Its 7AM\n"
     ]
    }
   ],
   "source": [
    "import time\n",
    "time_now=time.localtime()\n",
    "while True:\n",
    "    time_now=time.localtime()\n",
    "    if time_now.tm_mday==14 and time_now.tm_hour==21:\n",
    "        print('Its 7AM')\n",
    "        break\n",
    "    else:\n",
    "        print('not time for alarm')"
   ]
  },
  {
   "cell_type": "code",
   "execution_count": null,
   "id": "a398cc33-e793-46e1-a4db-406869ad7be4",
   "metadata": {},
   "outputs": [],
   "source": []
  }
 ],
 "metadata": {
  "kernelspec": {
   "display_name": "Python 3 (ipykernel)",
   "language": "python",
   "name": "python3"
  },
  "language_info": {
   "codemirror_mode": {
    "name": "ipython",
    "version": 3
   },
   "file_extension": ".py",
   "mimetype": "text/x-python",
   "name": "python",
   "nbconvert_exporter": "python",
   "pygments_lexer": "ipython3",
   "version": "3.12.7"
  }
 },
 "nbformat": 4,
 "nbformat_minor": 5
}
