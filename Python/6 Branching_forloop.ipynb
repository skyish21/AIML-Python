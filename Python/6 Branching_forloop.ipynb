{
 "cells": [
  {
   "cell_type": "code",
   "execution_count": 1,
   "id": "bda44fc6-d132-4869-b8c0-7880c73e1888",
   "metadata": {},
   "outputs": [
    {
     "data": {
      "text/plain": [
       "{'RN1': 'anjali',\n",
       " 'subjects': ['maths', 'science', 'arts'],\n",
       " 'score': [70, 78, 50]}"
      ]
     },
     "execution_count": 1,
     "metadata": {},
     "output_type": "execute_result"
    }
   ],
   "source": [
    "rolln_dic={'RN1':'anjali','subjects':['maths','science','arts'],'score':[70,78,50]}\n",
    "rolln_dic"
   ]
  },
  {
   "cell_type": "code",
   "execution_count": 5,
   "id": "2a114fcb-920a-49fe-90ef-6046b32b645a",
   "metadata": {},
   "outputs": [
    {
     "data": {
      "text/plain": [
       "dict_items([('RN1', 'anjali'), ('subjects', ['maths', 'science', 'arts']), ('score', [70, 78, 50])])"
      ]
     },
     "execution_count": 5,
     "metadata": {},
     "output_type": "execute_result"
    }
   ],
   "source": [
    "rolln_dic.items()"
   ]
  },
  {
   "cell_type": "code",
   "execution_count": null,
   "id": "8f66052b-530b-47c8-9b14-f0ca05ddd8b1",
   "metadata": {},
   "outputs": [],
   "source": [
    "#branching(if,elif,else) based on some conditions"
   ]
  },
  {
   "cell_type": "code",
   "execution_count": 20,
   "id": "a34a1887-62e4-4fd2-8642-67bd1cba7c2d",
   "metadata": {},
   "outputs": [
    {
     "name": "stdout",
     "output_type": "stream",
     "text": [
      "a is smaller than given number\n"
     ]
    }
   ],
   "source": [
    "a=121\n",
    "if a<234:\n",
    "    print('a is smaller than given number')\n",
    "else:\n",
    "    print('a is greater than given number')"
   ]
  },
  {
   "cell_type": "code",
   "execution_count": 22,
   "id": "b5ec79be-49f7-441e-ae9e-00c077466f7d",
   "metadata": {},
   "outputs": [
    {
     "name": "stdout",
     "output_type": "stream",
     "text": [
      "a is smaller\n"
     ]
    }
   ],
   "source": [
    "#another way to write if else statement\n",
    "print('a is greater') if a>234 else print('a is smaller')"
   ]
  },
  {
   "cell_type": "code",
   "execution_count": 28,
   "id": "2636c40f-945e-4ff4-b030-5fbe56703bff",
   "metadata": {},
   "outputs": [
    {
     "name": "stdout",
     "output_type": "stream",
     "text": [
      "You need  76  more to score A Grade\n"
     ]
    }
   ],
   "source": [
    "score1=47\n",
    "score2=57\n",
    "\n",
    "if(score1+score2)>180:\n",
    "    print(\"YOU PASSED WITH A GRADE!!\")\n",
    "else:\n",
    "    a_grade=180-(score1+score2)\n",
    "    print(\"You need \", a_grade ,\" more to score A Grade\")"
   ]
  },
  {
   "cell_type": "code",
   "execution_count": 34,
   "id": "e385f6c1-fbeb-4574-91dd-43272fae2ea5",
   "metadata": {},
   "outputs": [
    {
     "name": "stdout",
     "output_type": "stream",
     "text": [
      "both condition are true\n"
     ]
    }
   ],
   "source": [
    "num1=51\n",
    "num2=21\n",
    "num3=41\n",
    "\n",
    "if num1>num2 and num3<num1:\n",
    "    print(\"both condition are true\")\n",
    "else:\n",
    "    print(\"both are wrong\")"
   ]
  },
  {
   "cell_type": "code",
   "execution_count": 36,
   "id": "069fc926-5767-42ca-ae86-4e8f6420c9b1",
   "metadata": {},
   "outputs": [
    {
     "name": "stdout",
     "output_type": "stream",
     "text": [
      "atleast one condition is true\n"
     ]
    }
   ],
   "source": [
    "num1=51\n",
    "num2=21\n",
    "num3=91\n",
    "\n",
    "if num1>num2 or num3<num1:\n",
    "    print(\"atleast one condition is true\")\n",
    "else:\n",
    "    print(\"both are wrong\")"
   ]
  },
  {
   "cell_type": "code",
   "execution_count": 138,
   "id": "00e85ca6-ac1e-4fc3-aff6-93c826c3ed2e",
   "metadata": {},
   "outputs": [
    {
     "name": "stdout",
     "output_type": "stream",
     "text": [
      "4000 first class\n"
     ]
    }
   ],
   "source": [
    "salary=4000\n",
    "\n",
    "if salary>=4000:\n",
    "    if salary>=5000:\n",
    "        print(salary, 'distinction')\n",
    "    else:\n",
    "        print(salary, 'first class')\n",
    "        \n",
    "elif salary>=3000 and salary<4000:\n",
    "    print(salary, 'second division')\n",
    "\n",
    "elif salary>=1000 and salary<3000:\n",
    "    print(salary, 'average')\n",
    "    \n",
    "else:\n",
    "   print(salary, 'below average') "
   ]
  },
  {
   "cell_type": "code",
   "execution_count": 166,
   "id": "5735ce92-df3b-4d3e-ba4b-4568cffc4eec",
   "metadata": {},
   "outputs": [
    {
     "name": "stdout",
     "output_type": "stream",
     "text": [
      "boy and girl are same age\n"
     ]
    }
   ],
   "source": [
    "girl=30\n",
    "boy=30\n",
    "if girl>boy:\n",
    "    print(\"girl is \",girl ,\"years old and older than boy\")\n",
    "elif boy==girl:\n",
    "    print(\"boy and girl are same age\")\n",
    "else:\n",
    "    print(\"boy is \", boy, \"years old and older than girl\")"
   ]
  },
  {
   "cell_type": "code",
   "execution_count": null,
   "id": "d7373bc6-e4be-4222-88ca-2ab97acf1e70",
   "metadata": {},
   "outputs": [],
   "source": [
    "#range, loop, break, continue statement"
   ]
  },
  {
   "cell_type": "code",
   "execution_count": 42,
   "id": "6070a9dd-e046-4500-b02e-da2b5498b688",
   "metadata": {},
   "outputs": [],
   "source": [
    "#range=can generate sequence of numbers\n",
    "#if range(!0)= generates numbers from 0-9\n",
    "#define starting number and end of range and step size(EG: jump 2 numbers from 2-->4)"
   ]
  },
  {
   "cell_type": "code",
   "execution_count": 57,
   "id": "eeadbe17-76bc-49c7-91f2-c8272ca7e5ce",
   "metadata": {},
   "outputs": [
    {
     "name": "stdout",
     "output_type": "stream",
     "text": [
      "range(0, 20)\n"
     ]
    }
   ],
   "source": [
    "print(range(20))"
   ]
  },
  {
   "cell_type": "code",
   "execution_count": 61,
   "id": "814463a9-968e-4790-b657-d5ef30873c22",
   "metadata": {},
   "outputs": [
    {
     "name": "stdout",
     "output_type": "stream",
     "text": [
      "[0, 1, 2, 3, 4, 5, 6, 7, 8, 9, 10, 11, 12, 13, 14, 15, 16, 17, 18, 19]\n"
     ]
    }
   ],
   "source": [
    "#convert range of numbers into lsit\n",
    "print(list(range(20)))"
   ]
  },
  {
   "cell_type": "code",
   "execution_count": 63,
   "id": "f3a287be-b7bb-4554-aa74-fa708f73baac",
   "metadata": {},
   "outputs": [
    {
     "name": "stdout",
     "output_type": "stream",
     "text": [
      "[2, 4, 6, 8, 10, 12, 14]\n"
     ]
    }
   ],
   "source": [
    "#range with step size 2\n",
    "print(list(range(2,15,2)))"
   ]
  },
  {
   "cell_type": "code",
   "execution_count": null,
   "id": "e47a5b6a-b985-4ecd-918d-88ec27627318",
   "metadata": {},
   "outputs": [],
   "source": [
    "#store range in a variable"
   ]
  },
  {
   "cell_type": "code",
   "execution_count": 69,
   "id": "bfa8d56a-0d7a-479c-a8cd-740b2a183714",
   "metadata": {},
   "outputs": [
    {
     "data": {
      "text/plain": [
       "[1,\n",
       " 2,\n",
       " 3,\n",
       " 4,\n",
       " 5,\n",
       " 6,\n",
       " 7,\n",
       " 8,\n",
       " 9,\n",
       " 10,\n",
       " 11,\n",
       " 12,\n",
       " 13,\n",
       " 14,\n",
       " 15,\n",
       " 16,\n",
       " 17,\n",
       " 18,\n",
       " 19,\n",
       " 20,\n",
       " 21,\n",
       " 22,\n",
       " 23,\n",
       " 24,\n",
       " 25,\n",
       " 26,\n",
       " 27,\n",
       " 28,\n",
       " 29,\n",
       " 30,\n",
       " 31,\n",
       " 32,\n",
       " 33,\n",
       " 34,\n",
       " 35,\n",
       " 36,\n",
       " 37,\n",
       " 38,\n",
       " 39,\n",
       " 40,\n",
       " 41,\n",
       " 42,\n",
       " 43,\n",
       " 44,\n",
       " 45,\n",
       " 46,\n",
       " 47,\n",
       " 48,\n",
       " 49,\n",
       " 50]"
      ]
     },
     "execution_count": 69,
     "metadata": {},
     "output_type": "execute_result"
    }
   ],
   "source": [
    "roll_call=list(range(1,51,1))\n",
    "roll_call"
   ]
  },
  {
   "cell_type": "code",
   "execution_count": 75,
   "id": "0aea71d4-74ac-428d-858f-dd7c956407ff",
   "metadata": {},
   "outputs": [
    {
     "data": {
      "text/plain": [
       "[50,\n",
       " 49,\n",
       " 48,\n",
       " 47,\n",
       " 46,\n",
       " 45,\n",
       " 44,\n",
       " 43,\n",
       " 42,\n",
       " 41,\n",
       " 40,\n",
       " 39,\n",
       " 38,\n",
       " 37,\n",
       " 36,\n",
       " 35,\n",
       " 34,\n",
       " 33,\n",
       " 32,\n",
       " 31,\n",
       " 30,\n",
       " 29,\n",
       " 28,\n",
       " 27,\n",
       " 26,\n",
       " 25,\n",
       " 24,\n",
       " 23,\n",
       " 22,\n",
       " 21,\n",
       " 20,\n",
       " 19,\n",
       " 18,\n",
       " 17,\n",
       " 16,\n",
       " 15,\n",
       " 14,\n",
       " 13,\n",
       " 12,\n",
       " 11,\n",
       " 10,\n",
       " 9,\n",
       " 8,\n",
       " 7,\n",
       " 6,\n",
       " 5,\n",
       " 4,\n",
       " 3,\n",
       " 2,\n",
       " 1]"
      ]
     },
     "execution_count": 75,
     "metadata": {},
     "output_type": "execute_result"
    }
   ],
   "source": [
    "#reverse range by starting with last number\n",
    "reverse_range=list(range(50,0,-1))\n",
    "reverse_range"
   ]
  },
  {
   "cell_type": "code",
   "execution_count": 77,
   "id": "f4179479-5108-4ad8-904e-a49fc5016d6a",
   "metadata": {},
   "outputs": [],
   "source": [
    "#loop=repeat a set of statments(EG: print 1-1000 with range function)\n",
    "#2 types of loop: 1)FOR LOOP 2)WHILE LOOP\n",
    "#loop iterate through a sequence like list, tuple or string\n",
    "#loop continues until we reach last number/item in sequence"
   ]
  },
  {
   "cell_type": "code",
   "execution_count": 85,
   "id": "fd5d56c7-b437-40b7-b2fd-32b52072cd06",
   "metadata": {},
   "outputs": [
    {
     "data": {
      "text/plain": [
       "['Delhi', 'Mumbai', 'Goa', 'UP', 'Rajasthan']"
      ]
     },
     "execution_count": 85,
     "metadata": {},
     "output_type": "execute_result"
    }
   ],
   "source": [
    "states=[\"Delhi\",\"Mumbai\",\"Goa\",\"UP\",\"Rajasthan\"]\n",
    "states"
   ]
  },
  {
   "cell_type": "code",
   "execution_count": 89,
   "id": "8199c3d3-e073-499b-9e36-c0326e760e0f",
   "metadata": {},
   "outputs": [
    {
     "name": "stdout",
     "output_type": "stream",
     "text": [
      "Delhi\n",
      "Mumbai\n",
      "Goa\n",
      "UP\n",
      "Rajasthan\n"
     ]
    }
   ],
   "source": [
    "for names in states:\n",
    "    print(names)"
   ]
  },
  {
   "cell_type": "code",
   "execution_count": 91,
   "id": "351461f2-9bb6-4514-b96f-65ca241ae289",
   "metadata": {},
   "outputs": [
    {
     "data": {
      "text/plain": [
       "[60, 70, 54, 89, 93, 95, 91, 34, 66, 72, 20]"
      ]
     },
     "execution_count": 91,
     "metadata": {},
     "output_type": "execute_result"
    }
   ],
   "source": [
    "#apple loop for numbers\n",
    "marks=[60,70,54,89,93,95,91,34,66,72,20]\n",
    "marks"
   ]
  },
  {
   "cell_type": "code",
   "execution_count": 93,
   "id": "0ae599d1-8004-4b68-bf31-e8fd0ae4fa27",
   "metadata": {},
   "outputs": [
    {
     "name": "stdout",
     "output_type": "stream",
     "text": [
      "60\n",
      "70\n",
      "54\n",
      "89\n",
      "93\n",
      "95\n",
      "91\n",
      "34\n",
      "66\n",
      "72\n",
      "20\n"
     ]
    }
   ],
   "source": [
    "for i in marks:\n",
    "    print(i)"
   ]
  },
  {
   "cell_type": "code",
   "execution_count": 168,
   "id": "9f1a8256-0953-4ae9-be7d-a67094e2dc23",
   "metadata": {},
   "outputs": [],
   "source": [
    "pop_age=[0,10,15,20,25,30,35,40,45,50,55,60,65,70,75,80,85,90,95,100,105]"
   ]
  },
  {
   "cell_type": "code",
   "execution_count": 170,
   "id": "44f12da5-26b6-4363-a94f-730c8756bcd1",
   "metadata": {},
   "outputs": [
    {
     "name": "stdout",
     "output_type": "stream",
     "text": [
      "0 you are too young\n",
      "10 you are too young\n",
      "15 welcome to teenage\n",
      "20 Enjoy you youth. You have time for higher studies and job search. Relax!\n",
      "25 Enjoy you youth. You have time for higher studies and job search. Relax!\n",
      "30 you have got work to do and family to take care of!\n",
      "35 you have got work to do and family to take care of!\n",
      "40 you have got work to do and family to take care of!\n",
      "45 you have got work to do and family to take care of!\n",
      "50 You are reaching old age :( \n",
      "55 You are reaching old age :( \n",
      "60 You are reaching old age :( \n",
      "65 You are reaching old age :( \n",
      "70 You are reaching old age :( \n",
      "75 You are reaching old age :( \n",
      "80 You are reaching old age :( \n",
      "85 You are reaching old age :( \n",
      "90 TOO OLD\n",
      "95 TOO OLD\n",
      "100 TOO OLD\n",
      "105 TOO OLD\n"
     ]
    }
   ],
   "source": [
    "for age in pop_age:\n",
    "    if age>=50:\n",
    "        if age>=90:\n",
    "           print(age, 'TOO OLD')\n",
    "        else:\n",
    "           print(age, 'You are reaching old age :( ')\n",
    "    elif age>=30 and age<50:\n",
    "        print(age, 'you have got work to do and family to take care of!')\n",
    "    elif age>=20 and age<30:\n",
    "        print(age, 'Enjoy you youth. You have time for higher studies and job search. Relax!')\n",
    "    elif age>=13 and age<20:\n",
    "        print(age, 'welcome to teenage')\n",
    "    else:\n",
    "        print(age, 'you are too young')\n",
    "    "
   ]
  },
  {
   "cell_type": "code",
   "execution_count": null,
   "id": "4a37c847-28fb-44c4-aa92-a9b778eee729",
   "metadata": {},
   "outputs": [],
   "source": [
    "#list comprehension=shorter syntax when you want to create list based on the values of exisiting list"
   ]
  },
  {
   "cell_type": "code",
   "execution_count": 180,
   "id": "e4528a07-2b0a-475c-8f17-e1685916c752",
   "metadata": {},
   "outputs": [],
   "source": [
    "#create list\n",
    "pop_ages=[10,10,15,20,20,20,25,30,35,40,45,50,55,60,65,65,65,65,70,70,75,80,85,90,95,100,105]"
   ]
  },
  {
   "cell_type": "code",
   "execution_count": 182,
   "id": "ba741e0a-ab6a-455e-ad17-ca3be3134469",
   "metadata": {},
   "outputs": [
    {
     "data": {
      "text/plain": [
       "[65, 65, 65, 65]"
      ]
     },
     "execution_count": 182,
     "metadata": {},
     "output_type": "execute_result"
    }
   ],
   "source": [
    "#use list comprehension\n",
    "ages=[val for val in pop_ages if val==65]\n",
    "ages"
   ]
  },
  {
   "cell_type": "code",
   "execution_count": null,
   "id": "ab774219-482d-4ca2-af4f-e866af0e3069",
   "metadata": {},
   "outputs": [],
   "source": [
    "#FOR loop with else\n",
    "#A FOR loop have an optional ELSE block which is also executed when the items in the sequence used in FOR loop exhaust\n",
    "#Break statement can be used to stop a FOR loop ,in such case the ELSE part is ignored"
   ]
  },
  {
   "cell_type": "code",
   "execution_count": null,
   "id": "7e25b838-d55d-4eb3-bbac-aaf10642b444",
   "metadata": {},
   "outputs": [],
   "source": [
    "#Print multiplication table with for loop with else."
   ]
  },
  {
   "cell_type": "code",
   "execution_count": 188,
   "id": "f13620fa-c0f8-4f7e-81c6-d5d83e43f377",
   "metadata": {},
   "outputs": [
    {
     "name": "stdout",
     "output_type": "stream",
     "text": [
      "multiplication table for 2 :\n",
      "2\n",
      "4\n",
      "6\n",
      "8\n",
      "10\n",
      "12\n",
      "14\n",
      "16\n",
      "18\n",
      "\n",
      "\n",
      "multiplication table for 3 :\n",
      "3\n",
      "6\n",
      "9\n",
      "12\n",
      "15\n",
      "18\n",
      "21\n",
      "24\n",
      "27\n",
      "\n",
      "\n",
      "multiplication table for 4 :\n",
      "4\n",
      "8\n",
      "12\n",
      "16\n",
      "20\n",
      "24\n",
      "28\n",
      "32\n",
      "36\n",
      "\n",
      "\n",
      "******************************\n",
      "multiplication for 2-5 is done\n",
      "******************************\n"
     ]
    }
   ],
   "source": [
    "for num in range(2,5):\n",
    "    print('multiplication table for' ,num, \":\")\n",
    "    for i in range(1,10):\n",
    "        print(num*i)\n",
    "        if i==9:\n",
    "            print(\"\\n\")\n",
    "else:\n",
    "    print(\"*\" *30)\n",
    "    print(\"multiplication for 2-5 is done\")\n",
    "    print(\"*\" *30)\n",
    "            "
   ]
  },
  {
   "cell_type": "code",
   "execution_count": null,
   "id": "9d5a80a6-8ce7-4264-b421-6dc108185279",
   "metadata": {},
   "outputs": [],
   "source": []
  }
 ],
 "metadata": {
  "kernelspec": {
   "display_name": "Python 3 (ipykernel)",
   "language": "python",
   "name": "python3"
  },
  "language_info": {
   "codemirror_mode": {
    "name": "ipython",
    "version": 3
   },
   "file_extension": ".py",
   "mimetype": "text/x-python",
   "name": "python",
   "nbconvert_exporter": "python",
   "pygments_lexer": "ipython3",
   "version": "3.12.7"
  }
 },
 "nbformat": 4,
 "nbformat_minor": 5
}
