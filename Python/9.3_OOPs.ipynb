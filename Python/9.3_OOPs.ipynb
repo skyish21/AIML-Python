{
 "cells": [
  {
   "cell_type": "code",
   "execution_count": 1,
   "id": "a029158f-cbfa-4b74-81da-b364a4165ebc",
   "metadata": {},
   "outputs": [],
   "source": [
    "#Object Oriented Programming = Solving a problem by  creating objects is one of the most \n",
    "# populer approaches in programming this is call object oriented programming."
   ]
  },
  {
   "cell_type": "markdown",
   "id": "f3658412-facb-46da-84da-c51fa35cbd47",
   "metadata": {},
   "source": [
    "### Self:\n",
    "In Python classes, self is a special parameter that refers to the current object instance itself. When you define methods within a class, self is implicitly passed as the first argument to those methods. Inside a method, you use self to access and modify the attributes (variables) of the specific object instance. "
   ]
  },
  {
   "cell_type": "markdown",
   "id": "9aed3106-6bb6-4f05-a90a-59348e3f6e26",
   "metadata": {},
   "source": [
    "### Init (constructor):\n",
    "\n",
    "init is a special method in Python classes that acts as the constructor. It's automatically called whenever you create a new instance (object) \n",
    "of the class. Its purpose is to initialize the object's attributes with starting values. By convention, it's named init with two underscores at the beginning and end."
   ]
  },
  {
   "cell_type": "code",
   "execution_count": 7,
   "id": "87178c44-1b97-4798-a16a-d6d3d8d0da31",
   "metadata": {},
   "outputs": [],
   "source": [
    "#Explaination in simple terms:\n",
    "#Imagine you're building a house (the class). A house has different rooms and features (the attributes). But when you build a new house, \n",
    "#it's empty, right? You need to put furniture (values) in those rooms. \n",
    "\n",
    "#self: This is like the blueprint for each house you build. It tells you which rooms there are (attributes) but doesn't say what's inside yet. \n",
    "#When you actually build a house (create an object), self becomes like the house itself, allowing you to access its specific rooms.\n",
    "\n",
    "#init: This is like the moving truck. When you build a new house, the moving truck (the init method) delivers furniture (values) and \n",
    "#puts them in the corresponding rooms (attributes) of that specific house (object)."
   ]
  },
  {
   "cell_type": "code",
   "execution_count": 9,
   "id": "e02bd713-0a15-4805-9b3e-ad5124dd3100",
   "metadata": {},
   "outputs": [],
   "source": [
    "# So here\n",
    "# Bank Account is your class\n",
    "# __init__(self) will register your details with bank\n",
    "# self will help you to get your respective details back when you click various tab.\n",
    "# log in personel information and password chnage, withdrwl are methods. "
   ]
  },
  {
   "cell_type": "code",
   "execution_count": 11,
   "id": "7f7c5c88-b96f-4f53-aff5-21bbfc58939e",
   "metadata": {},
   "outputs": [],
   "source": [
    "# How to define a class - suppose we want to create a class , named person as a prototype a sort of \n",
    "# template for any number of \"person\" object (instances)\n",
    "\n",
    "# The following python syntax define a class\n",
    "# class ClassName(base_class):\n",
    "#          statements\n",
    "\n",
    "\n",
    "#Remember one thing class name should always be in uppercase (its nameing convention)"
   ]
  },
  {
   "cell_type": "code",
   "execution_count": 13,
   "id": "dfddd0bf-cd33-49b2-95e4-d0654b733b2f",
   "metadata": {},
   "outputs": [],
   "source": [
    "# Why we taking a class name in uppercase ? because there are two methods 1-pascal case, 2- camel case\n",
    "#  Pascal Case -  Example- EmployeesName - what we do here , we have to write first letter in Capital letter\n",
    "# and when we start a second word we again start from capital letter.\n",
    "\n",
    "# Camel case- Example-Employeename - what we do here . we have to write only first letter in in capital\n",
    "# and other word in small . this is known as camel case . and its using in oops concepts"
   ]
  },
  {
   "cell_type": "code",
   "execution_count": 15,
   "id": "94185255-3344-4e22-8a99-c0b71a684518",
   "metadata": {},
   "outputs": [],
   "source": [
    "# What is __init__(self)? is a constructor initialize your details with google."
   ]
  },
  {
   "cell_type": "code",
   "execution_count": 7,
   "id": "e13c1d1d-dc34-4c83-bd1d-e7f42c5d4d74",
   "metadata": {},
   "outputs": [],
   "source": [
    "#syntax\n",
    "class Account:\n",
    "    #init is a constructor and attributes are passed in it\n",
    "    #self will store data\n",
    "    def __init__(self,name,last_name,city,user_id,password,phone): #attribute/arguments\n",
    "        \n",
    "        #self will save all data and give output\n",
    "        self.name=name\n",
    "        self.last_name=last_name\n",
    "        self.city=city\n",
    "        self.user_id=user_id\n",
    "        self.password=password\n",
    "        self.phone=phone"
   ]
  },
  {
   "cell_type": "code",
   "execution_count": 38,
   "id": "fcf9bfe8-965b-4604-a67a-1b10cbd169d5",
   "metadata": {},
   "outputs": [
    {
     "name": "stdin",
     "output_type": "stream",
     "text": [
      "Enter Your Name:  ishika\n",
      "Enter Your Last Name:  sharma\n",
      "Enter Your City Name:  delhi\n",
      "Enter Your User Id:  newuser\n",
      "Enter Your Password:  abcd\n",
      "Enter Your Number:  12345\n"
     ]
    }
   ],
   "source": [
    "#real time example\n",
    "#create account\n",
    "class Account:    #This is a class\n",
    "    #take user input for all and save in respective variable\n",
    "    def __init__(self,name=input(\"Enter Your Name: \"),\n",
    "                last_name=input(\"Enter Your Last Name: \"),\n",
    "                city=input(\"Enter Your City Name: \"),\n",
    "                user_id=input(\"Enter Your User Id: \"),\n",
    "                password=input(\"Enter Your Password: \"),\n",
    "                phone=input(\"Enter Your Number: \")):\n",
    "\n",
    "        print(name)\n",
    "        print(last_name)\n",
    "        print(city)\n",
    "        print(user_id)\n",
    "        print(password)\n",
    "        print(phone)\n",
    "        \n",
    "        #use self to store the information inputted\n",
    "        self.name=name    #Data Initialization\n",
    "        self.last_name=last_name\n",
    "        self.city=city\n",
    "        self.user_id=user_id\n",
    "        self.password=password\n",
    "        self.phone=phone\n",
    "\n",
    "    #login page after creating account\n",
    "    def login(self):    #Method\n",
    "        while True:\n",
    "            #enter info to login\n",
    "            signin=input(\"Enter Your User Id: \")\n",
    "            print(signin)\n",
    "            password=input(\"Enter Your Pswword: \")\n",
    "            print(password)\n",
    "            if signin ==self.user_id and password==self.password:\n",
    "                print(\"Logged in Sucessfully\")\n",
    "                break\n",
    "            else:\n",
    "                print(\"You Entered Invalid id and password. Please Enter valid ID!\")\n",
    "                continue #if wrong, execute again until true"
   ]
  },
  {
   "cell_type": "code",
   "execution_count": 40,
   "id": "ecca08c7-16ed-4188-813b-984a1262fdd9",
   "metadata": {},
   "outputs": [
    {
     "name": "stdout",
     "output_type": "stream",
     "text": [
      "ishika\n",
      "sharma\n",
      "delhi\n",
      "newuser\n",
      "abcd\n",
      "12345\n"
     ]
    }
   ],
   "source": [
    "#create object(class-->object)\n",
    "c=Account()"
   ]
  },
  {
   "cell_type": "code",
   "execution_count": 42,
   "id": "5f3f7bc9-bffe-44ab-babd-40bd525ebebe",
   "metadata": {},
   "outputs": [
    {
     "name": "stdin",
     "output_type": "stream",
     "text": [
      "Enter Your User Id:  sjdhs\n"
     ]
    },
    {
     "name": "stdout",
     "output_type": "stream",
     "text": [
      "sjdhs\n"
     ]
    },
    {
     "name": "stdin",
     "output_type": "stream",
     "text": [
      "Enter Your Pswword:  kshsd\n"
     ]
    },
    {
     "name": "stdout",
     "output_type": "stream",
     "text": [
      "kshsd\n",
      "You Entered Invalid id and password. Please Enter valid ID!\n"
     ]
    },
    {
     "name": "stdin",
     "output_type": "stream",
     "text": [
      "Enter Your User Id:  newuser\n"
     ]
    },
    {
     "name": "stdout",
     "output_type": "stream",
     "text": [
      "newuser\n"
     ]
    },
    {
     "name": "stdin",
     "output_type": "stream",
     "text": [
      "Enter Your Pswword:  abcd\n"
     ]
    },
    {
     "name": "stdout",
     "output_type": "stream",
     "text": [
      "abcd\n",
      "Logged in Sucessfully\n"
     ]
    }
   ],
   "source": [
    "#use login function within class account\n",
    "c.login()"
   ]
  },
  {
   "cell_type": "code",
   "execution_count": 44,
   "id": "53aa3218-a48d-45c8-8daa-dd165063f093",
   "metadata": {},
   "outputs": [],
   "source": [
    "#Inheritance -Inheritance is a way of creating a new class from an existing class.\n",
    "#There are Three Types Of Inheritance - 1 -Single Inheritance , 2 -Multi Inheritance ,3-Multilevel Inheritance"
   ]
  },
  {
   "cell_type": "code",
   "execution_count": 48,
   "id": "776dd924-bafc-469e-b53b-ee70fc205791",
   "metadata": {},
   "outputs": [],
   "source": [
    "#Multilevel inheritence - a class inherits from another class, which itself is derived from another class. This forms a chain \n",
    "#of inheritence"
   ]
  },
  {
   "cell_type": "code",
   "execution_count": 46,
   "id": "a31e6958-965f-4b4b-b440-243cc483f9b3",
   "metadata": {},
   "outputs": [],
   "source": [
    "#The User_Account class inherits from the Account class. This means that the User_Account class will have all the properties and methods \n",
    "#of the Account class, plus any additional properties and methods that you define in the User_Account class.\n",
    "\n",
    "#The init method is the constructor method of a class. It is called when a new instance of the class is created. \n",
    "#The super() function is used in the init method of the User_Account class to call the init method of the parent class (Account).\n",
    "#This ensures that the initialization process of the parent class is run before the initialization process of the child class.\n",
    "\n",
    "#The account_number and balance attributes are used to store the account number and balance of a user account. \n",
    "#These attributes are defined in the init method of the User_Account class."
   ]
  },
  {
   "cell_type": "code",
   "execution_count": 50,
   "id": "f19c3808-9d2c-4cc4-b93a-d3c5675bf2a1",
   "metadata": {},
   "outputs": [],
   "source": [
    "class User_Account(Account):\n",
    "    #*agrs is used when we dk how many arguments would be made within program\n",
    "    def __init__(self,account_number,balance,*args):\n",
    "        #super is used to inherit\n",
    "        super(User_Account,self).__init__(*args)\n",
    "        self.account_number=account_number\n",
    "        self.balance=balance\n",
    "            \n",
    "    def user_details(self):\n",
    "        while True:\n",
    "            account=int(input(\"Enter Your Account Number: \"))\n",
    "            print(account)\n",
    "            if account==self.account_number:\n",
    "                #call self.name from previous class\n",
    "                print(\"Name =\", self.name)\n",
    "                print(\"Account Number =\",self.account_number)\n",
    "                print(\"Balance =\",self.balance )\n",
    "                break\n",
    "            else:\n",
    "                print(\"Account Number is not valid\")\n",
    "                continue\n",
    "                \n",
    "    def deposit(self):\n",
    "        print(\"Your Previous Balance is: \",self.balance)\n",
    "        add_cash=int(input(\"Enter Ammount: \"))\n",
    "        self.balance= self.balance+add_cash\n",
    "        print(\"Your account credit with\",add_cash, \"and now your balance is: \" ,self.balance)\n",
    "        \n",
    "    def transfer(self):\n",
    "        print(\"Your Previous Balance is: \",self.balance)\n",
    "        withdrawl=int(input(\"Enter How much you want to withdraw: \"))\n",
    "        if withdrawl<=self.balance:\n",
    "            self.balance-=withdrawl\n",
    "            print(\"The Withdraws amount is\",self.account_number,\"and you left balance is: \" ,self.balance)\n",
    "            \n",
    "        else:\n",
    "            print(\"Alert:Hello You Dont have sufficient Balance to withdraw..\")"
   ]
  },
  {
   "cell_type": "code",
   "execution_count": 52,
   "id": "4043d18a-1b55-452c-aa6a-e9e5698b761d",
   "metadata": {},
   "outputs": [
    {
     "name": "stdout",
     "output_type": "stream",
     "text": [
      "ishika\n",
      "sharma\n",
      "delhi\n",
      "newuser\n",
      "abcd\n",
      "12345\n"
     ]
    }
   ],
   "source": [
    "#create object/variable\n",
    "#pass account number and balance as arguments\n",
    "bank=User_Account(5555,0)"
   ]
  },
  {
   "cell_type": "code",
   "execution_count": 54,
   "id": "1f6a22e1-32fb-4a96-9e7c-56ec7df9c50f",
   "metadata": {},
   "outputs": [
    {
     "name": "stdin",
     "output_type": "stream",
     "text": [
      "Enter Your User Id:  newuser\n"
     ]
    },
    {
     "name": "stdout",
     "output_type": "stream",
     "text": [
      "newuser\n"
     ]
    },
    {
     "name": "stdin",
     "output_type": "stream",
     "text": [
      "Enter Your Pswword:  abcd\n"
     ]
    },
    {
     "name": "stdout",
     "output_type": "stream",
     "text": [
      "abcd\n",
      "Logged in Sucessfully\n"
     ]
    }
   ],
   "source": [
    "bank.login()"
   ]
  },
  {
   "cell_type": "code",
   "execution_count": 56,
   "id": "6fe05427-c45d-4375-afa3-7f2f6ff8cd99",
   "metadata": {},
   "outputs": [
    {
     "name": "stdin",
     "output_type": "stream",
     "text": [
      "Enter Your Account Number:  1234\n"
     ]
    },
    {
     "name": "stdout",
     "output_type": "stream",
     "text": [
      "Account Number is not valid\n"
     ]
    },
    {
     "name": "stdin",
     "output_type": "stream",
     "text": [
      "Enter Your Account Number:  5555\n"
     ]
    },
    {
     "name": "stdout",
     "output_type": "stream",
     "text": [
      "Name = ishika\n",
      "Account Number = 5555\n",
      "Balance = 0\n"
     ]
    }
   ],
   "source": [
    "bank.user_details()"
   ]
  },
  {
   "cell_type": "code",
   "execution_count": 58,
   "id": "80f1a0f0-f190-4fa7-8a79-f2c667647414",
   "metadata": {},
   "outputs": [
    {
     "name": "stdout",
     "output_type": "stream",
     "text": [
      "Your Previous Balance is:  0\n"
     ]
    },
    {
     "name": "stdin",
     "output_type": "stream",
     "text": [
      "Enter Ammount:  1234\n"
     ]
    },
    {
     "name": "stdout",
     "output_type": "stream",
     "text": [
      "Your account credit with 1234 and now your balance is:  1234\n"
     ]
    }
   ],
   "source": [
    "bank.deposit()"
   ]
  },
  {
   "cell_type": "code",
   "execution_count": 60,
   "id": "22031e76-8e79-4464-a932-19835953faac",
   "metadata": {},
   "outputs": [
    {
     "name": "stdout",
     "output_type": "stream",
     "text": [
      "Your Previous Balance is:  1234\n"
     ]
    },
    {
     "name": "stdin",
     "output_type": "stream",
     "text": [
      "Enter How much you want to withdraw:  123\n"
     ]
    },
    {
     "name": "stdout",
     "output_type": "stream",
     "text": [
      "The Withdraws ammount is 5555 and you left balance is:  1111\n"
     ]
    }
   ],
   "source": [
    "bank.transfer()"
   ]
  },
  {
   "cell_type": "code",
   "execution_count": 62,
   "id": "f2b3eb55-cd13-443b-9f04-e3ed7d769d5e",
   "metadata": {},
   "outputs": [],
   "source": [
    "# Lets know one thing in previous example. a Account is a base class and User_Account is a\n",
    "#subclass or Superclass. which can inherits the data from base class using __init__ and (*args) method."
   ]
  },
  {
   "cell_type": "code",
   "execution_count": null,
   "id": "96f0a71e-f6ba-43b1-9d3d-f4c77d823c96",
   "metadata": {},
   "outputs": [],
   "source": []
  },
  {
   "cell_type": "code",
   "execution_count": 65,
   "id": "af5a6b6b-d9d4-4ccf-b872-f65be689a229",
   "metadata": {},
   "outputs": [],
   "source": [
    "# Encapsulation - Encapsulation is an another powerful way to extend a class which consists\n",
    "# on wrapping object with second one.\n",
    "\n",
    "#Just like gmail,google photos,g drive and wrapped into one\n",
    "\n",
    "# The abstraction process relies on creating a simplified model that removes useless details from\n",
    "# a concept. In order to be simplified a model should be described in trems of other concepts, \n",
    "# for eaxmple - we can say that a car is composed be :-\n",
    "# Tyre\n",
    "# Engine\n",
    "# Body\n",
    "\n",
    "\n",
    "#And breakdown each one of these element in simpler parts untill we reach primitive data."
   ]
  },
  {
   "cell_type": "code",
   "execution_count": null,
   "id": "8674cf5a-264e-49df-9489-134136363d8f",
   "metadata": {},
   "outputs": [],
   "source": [
    "class Tyres:\n",
    "    def __init__(self,branch,belted_bias,opt_pressure):\n",
    "        self.branch=branch\n",
    "        self.belted_bias=belted_bias\n",
    "        self.opt_pressure=opt_pressure\n",
    "    def __str__(self) :#__str__ can be used if you dont want to define a method name,but you want this to execute\n",
    "        return(\"Tyre \\n\\t Branch \"+self.branch+\n",
    "               \"\\n\\tBelted_bias \"+str(self.belted_bias)+\n",
    "               \"\\n\\topt_pressure \"+str(self.opt_pressure))\n",
    "class Engine:\n",
    "    def __init__(self,fuel_type,noise_level):\n",
    "        self.fuel_type=fuel_type\n",
    "        self.noise_level=noise_level\n",
    "    def __str__(self):\n",
    "        return(\"\\n\\t fuel type is  \"+self.fuel_type+\n",
    "              \"\\n\\t noise leve is  \"+str(self.noise_level))#__str__ method only returns only text so we are converting into string.\n",
    "class Body():\n",
    "    def __init__(self,size):\n",
    "        self.size=size\n",
    "    def __str__(self):\n",
    "        return(\"\\n\\t Body Size of car is \"+self.size)\n",
    "    \n",
    "class Car():\n",
    "    def __init__(self,Tyres,Engine,Body):\n",
    "        self.Tyres=Tyres\n",
    "        self.Engine=Engine\n",
    "        self.Body=Body\n",
    "    def __str__(self):\n",
    "        return   str(self.Tyres) +\"\\n  \"  + str(self.Engine) +\"\\n\" +  str(self.Body)\n",
    "t=Tyres(\"MRF\",True,34)\n",
    "e=Engine(\"petrol\",2.3)\n",
    "b=Body(\"sedan\")\n",
    "c=Car(t,e,b)\n",
    "print(c)"
   ]
  },
  {
   "cell_type": "code",
   "execution_count": null,
   "id": "4da4165a-ed6b-40ba-99d9-fca0acf22d19",
   "metadata": {},
   "outputs": [],
   "source": [
    "print(c)"
   ]
  }
 ],
 "metadata": {
  "kernelspec": {
   "display_name": "Python 3 (ipykernel)",
   "language": "python",
   "name": "python3"
  },
  "language_info": {
   "codemirror_mode": {
    "name": "ipython",
    "version": 3
   },
   "file_extension": ".py",
   "mimetype": "text/x-python",
   "name": "python",
   "nbconvert_exporter": "python",
   "pygments_lexer": "ipython3",
   "version": "3.12.7"
  }
 },
 "nbformat": 4,
 "nbformat_minor": 5
}
