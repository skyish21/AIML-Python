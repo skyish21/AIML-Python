{
 "cells": [
  {
   "cell_type": "code",
   "execution_count": 79,
   "id": "e3231ad1-db1a-4913-8b1e-4e96032d8118",
   "metadata": {},
   "outputs": [
    {
     "data": {
      "text/plain": [
       "'gungun'"
      ]
     },
     "execution_count": 79,
     "metadata": {},
     "output_type": "execute_result"
    }
   ],
   "source": [
    "l1=['gungun','shipra','siddhi','vainsha']\n",
    "l1[0]"
   ]
  },
  {
   "cell_type": "code",
   "execution_count": 81,
   "id": "bf7c81e4-df50-4c8c-958e-d476298945a6",
   "metadata": {},
   "outputs": [
    {
     "data": {
      "text/plain": [
       "'shipra'"
      ]
     },
     "execution_count": 81,
     "metadata": {},
     "output_type": "execute_result"
    }
   ],
   "source": [
    "l1[1]"
   ]
  },
  {
   "cell_type": "code",
   "execution_count": 83,
   "id": "9c691c21-c17f-4fd9-9cb9-f2d563c15611",
   "metadata": {},
   "outputs": [
    {
     "data": {
      "text/plain": [
       "'siddhi'"
      ]
     },
     "execution_count": 83,
     "metadata": {},
     "output_type": "execute_result"
    }
   ],
   "source": [
    "l1[2]"
   ]
  },
  {
   "cell_type": "code",
   "execution_count": 85,
   "id": "ba670195-ef1b-451a-97d0-6015ef9461bc",
   "metadata": {},
   "outputs": [
    {
     "data": {
      "text/plain": [
       "'vainsha'"
      ]
     },
     "execution_count": 85,
     "metadata": {},
     "output_type": "execute_result"
    }
   ],
   "source": [
    "l1[3]"
   ]
  },
  {
   "cell_type": "code",
   "execution_count": 87,
   "id": "ae0f5ed3-0ecb-47a3-8f41-a218166b737f",
   "metadata": {},
   "outputs": [],
   "source": [
    "l1[3]='srishti'"
   ]
  },
  {
   "cell_type": "code",
   "execution_count": 89,
   "id": "445060d0-0f2a-4fca-bed7-d9ea20c9509d",
   "metadata": {},
   "outputs": [
    {
     "data": {
      "text/plain": [
       "['gungun', 'shipra', 'siddhi', 'srishti']"
      ]
     },
     "execution_count": 89,
     "metadata": {},
     "output_type": "execute_result"
    }
   ],
   "source": [
    "l1"
   ]
  },
  {
   "cell_type": "code",
   "execution_count": 91,
   "id": "58e44fca-66b4-46a7-8f30-5547fe619e83",
   "metadata": {},
   "outputs": [
    {
     "data": {
      "text/plain": [
       "'srishti'"
      ]
     },
     "execution_count": 91,
     "metadata": {},
     "output_type": "execute_result"
    }
   ],
   "source": [
    "l1[3]"
   ]
  },
  {
   "cell_type": "code",
   "execution_count": 93,
   "id": "6d8ca5d4-2d35-4d77-8a97-6ab210480b47",
   "metadata": {},
   "outputs": [
    {
     "data": {
      "text/plain": [
       "[11, 22, 33, 55, 66, 88, 44, 77, 99]"
      ]
     },
     "execution_count": 93,
     "metadata": {},
     "output_type": "execute_result"
    }
   ],
   "source": [
    "l2=[11,22,33,55,66,88,44,77,99]\n",
    "l2"
   ]
  },
  {
   "cell_type": "code",
   "execution_count": 95,
   "id": "987f6090-961e-41db-88ed-4b6f32767b53",
   "metadata": {},
   "outputs": [
    {
     "data": {
      "text/plain": [
       "[11, 22, 33, 55, 1607, 88, 44, 77, 99]"
      ]
     },
     "execution_count": 95,
     "metadata": {},
     "output_type": "execute_result"
    }
   ],
   "source": [
    "l2[4]=1607\n",
    "l2"
   ]
  },
  {
   "cell_type": "code",
   "execution_count": 97,
   "id": "56d666f9-32a7-4ae6-8ada-f548df50a7ce",
   "metadata": {},
   "outputs": [
    {
     "data": {
      "text/plain": [
       "[22, 33, 55, 1607, 88, 44, 77, 99]"
      ]
     },
     "execution_count": 97,
     "metadata": {},
     "output_type": "execute_result"
    }
   ],
   "source": [
    "l2[1:]"
   ]
  },
  {
   "cell_type": "code",
   "execution_count": 99,
   "id": "26a58806-d850-463c-859b-8d1488e80665",
   "metadata": {},
   "outputs": [
    {
     "data": {
      "text/plain": [
       "[33, 55, 1607, 88, 44, 77, 99]"
      ]
     },
     "execution_count": 99,
     "metadata": {},
     "output_type": "execute_result"
    }
   ],
   "source": [
    "l2[2:]"
   ]
  },
  {
   "cell_type": "code",
   "execution_count": 101,
   "id": "fe9eca6a-bc98-4cf7-909f-7b6f4f464ee1",
   "metadata": {},
   "outputs": [
    {
     "data": {
      "text/plain": [
       "[22, 33, 55, 1607, 88, 44]"
      ]
     },
     "execution_count": 101,
     "metadata": {},
     "output_type": "execute_result"
    }
   ],
   "source": [
    "l2[1:7] #does not include element at 7th index"
   ]
  },
  {
   "cell_type": "code",
   "execution_count": 103,
   "id": "4f58997d-bb3c-4e32-9630-501c302bbea1",
   "metadata": {},
   "outputs": [
    {
     "data": {
      "text/plain": [
       "[11, 22, 33]"
      ]
     },
     "execution_count": 103,
     "metadata": {},
     "output_type": "execute_result"
    }
   ],
   "source": [
    "l2[:3]"
   ]
  },
  {
   "cell_type": "code",
   "execution_count": 105,
   "id": "50a01855-897b-4a7f-8f03-118b70242aa2",
   "metadata": {},
   "outputs": [
    {
     "data": {
      "text/plain": [
       "[11, 22, 33, 55, 1607, 88, 44, 77, 99]"
      ]
     },
     "execution_count": 105,
     "metadata": {},
     "output_type": "execute_result"
    }
   ],
   "source": [
    "l2"
   ]
  },
  {
   "cell_type": "code",
   "execution_count": 107,
   "id": "e142b605-82d5-4b85-98b2-202bd8a9be5e",
   "metadata": {},
   "outputs": [
    {
     "data": {
      "text/plain": [
       "[11, 22, 33, 55, 1607, 88, 44, 77, 99, 6622]"
      ]
     },
     "execution_count": 107,
     "metadata": {},
     "output_type": "execute_result"
    }
   ],
   "source": [
    "l2 + [6622]"
   ]
  },
  {
   "cell_type": "code",
   "execution_count": 109,
   "id": "3639b11f-c951-43d9-a5d2-65e4e7a5d1d2",
   "metadata": {},
   "outputs": [
    {
     "data": {
      "text/plain": [
       "[11, 22, 33, 55, 1607, 88, 44, 77, 99, 556]"
      ]
     },
     "execution_count": 109,
     "metadata": {},
     "output_type": "execute_result"
    }
   ],
   "source": [
    "l2=l2+[556]\n",
    "l2"
   ]
  },
  {
   "cell_type": "code",
   "execution_count": 111,
   "id": "2f027a91-8810-49cc-9a59-8f125a5cfcef",
   "metadata": {},
   "outputs": [
    {
     "data": {
      "text/plain": [
       "[11,\n",
       " 22,\n",
       " 33,\n",
       " 55,\n",
       " 1607,\n",
       " 88,\n",
       " 44,\n",
       " 77,\n",
       " 99,\n",
       " 556,\n",
       " 11,\n",
       " 22,\n",
       " 33,\n",
       " 55,\n",
       " 1607,\n",
       " 88,\n",
       " 44,\n",
       " 77,\n",
       " 99,\n",
       " 556,\n",
       " 11,\n",
       " 22,\n",
       " 33,\n",
       " 55,\n",
       " 1607,\n",
       " 88,\n",
       " 44,\n",
       " 77,\n",
       " 99,\n",
       " 556,\n",
       " 11,\n",
       " 22,\n",
       " 33,\n",
       " 55,\n",
       " 1607,\n",
       " 88,\n",
       " 44,\n",
       " 77,\n",
       " 99,\n",
       " 556]"
      ]
     },
     "execution_count": 111,
     "metadata": {},
     "output_type": "execute_result"
    }
   ],
   "source": [
    "l2* 4"
   ]
  },
  {
   "cell_type": "code",
   "execution_count": 113,
   "id": "7a7ab0b5-a5e6-47cd-8504-cb3d9992bb44",
   "metadata": {},
   "outputs": [
    {
     "name": "stdout",
     "output_type": "stream",
     "text": [
      "====================================================================================================\n",
      "[11, 22, 33, 55, 1607, 88, 44, 77, 99, 556]\n",
      "====================================================================================================\n"
     ]
    }
   ],
   "source": [
    "print('='* 100)\n",
    "print(l2)\n",
    "print('='* 100)"
   ]
  },
  {
   "cell_type": "code",
   "execution_count": 115,
   "id": "e637aad8-63f7-48b7-9d42-f1c49522c2a0",
   "metadata": {},
   "outputs": [],
   "source": [
    "marks=[51,56,89,78,89,45,56,12,12,32,45,32,65,45,89,78,45,56,23,12,4,5,23,23,56]"
   ]
  },
  {
   "cell_type": "code",
   "execution_count": 117,
   "id": "a9474ab6-5de1-495c-bb69-d0129b5fb12a",
   "metadata": {},
   "outputs": [
    {
     "data": {
      "text/plain": [
       "3"
      ]
     },
     "execution_count": 117,
     "metadata": {},
     "output_type": "execute_result"
    }
   ],
   "source": [
    "marks.count(23)"
   ]
  },
  {
   "cell_type": "code",
   "execution_count": 119,
   "id": "1beb953b-9b97-410d-aa21-ca9222261b43",
   "metadata": {},
   "outputs": [
    {
     "data": {
      "text/plain": [
       "3"
      ]
     },
     "execution_count": 119,
     "metadata": {},
     "output_type": "execute_result"
    }
   ],
   "source": [
    "marks.count(89)"
   ]
  },
  {
   "cell_type": "code",
   "execution_count": 121,
   "id": "eb805d01-3911-44d1-9dd2-533aeb5d15ef",
   "metadata": {},
   "outputs": [
    {
     "data": {
      "text/plain": [
       "['jethalal', 'sundar']"
      ]
     },
     "execution_count": 121,
     "metadata": {},
     "output_type": "execute_result"
    }
   ],
   "source": [
    "lst=['jethalal','sundar']\n",
    "lst"
   ]
  },
  {
   "cell_type": "code",
   "execution_count": 123,
   "id": "6e2d6b8d-2cc4-4812-9644-0190628d49f4",
   "metadata": {},
   "outputs": [
    {
     "data": {
      "text/plain": [
       "['jethalal', 'sundar', ['daya', 'bhide']]"
      ]
     },
     "execution_count": 123,
     "metadata": {},
     "output_type": "execute_result"
    }
   ],
   "source": [
    "lst.append(['daya','bhide'])\n",
    "lst"
   ]
  },
  {
   "cell_type": "code",
   "execution_count": 125,
   "id": "94c83303-f957-40d9-b8c0-327150bae1e9",
   "metadata": {},
   "outputs": [
    {
     "data": {
      "text/plain": [
       "['sodhi', 'roshan']"
      ]
     },
     "execution_count": 125,
     "metadata": {},
     "output_type": "execute_result"
    }
   ],
   "source": [
    "lst1=['sodhi','roshan']\n",
    "lst1"
   ]
  },
  {
   "cell_type": "code",
   "execution_count": 127,
   "id": "41630649-4b3d-4dd9-8e31-317acf79f240",
   "metadata": {},
   "outputs": [],
   "source": [
    "lst1.extend(['tara','pari'])"
   ]
  },
  {
   "cell_type": "code",
   "execution_count": 129,
   "id": "752a5609-5388-4d7c-9a11-9ab423866462",
   "metadata": {},
   "outputs": [
    {
     "data": {
      "text/plain": [
       "['sodhi', 'roshan', 'tara', 'pari']"
      ]
     },
     "execution_count": 129,
     "metadata": {},
     "output_type": "execute_result"
    }
   ],
   "source": [
    "lst1"
   ]
  },
  {
   "cell_type": "code",
   "execution_count": 131,
   "id": "8380b37b-123a-4567-9d7c-aadaefa69016",
   "metadata": {},
   "outputs": [],
   "source": [
    "listnew=['rajkumar','shanaya','sheela','priya','anjali']"
   ]
  },
  {
   "cell_type": "code",
   "execution_count": 133,
   "id": "fa137f82-82a4-42de-8776-3157b1de42e0",
   "metadata": {},
   "outputs": [
    {
     "data": {
      "text/plain": [
       "['rajkumar', 'shanaya', 'sheela', 'priya', 'anjali']"
      ]
     },
     "execution_count": 133,
     "metadata": {},
     "output_type": "execute_result"
    }
   ],
   "source": [
    "listnew"
   ]
  },
  {
   "cell_type": "code",
   "execution_count": 135,
   "id": "458cede0-e0de-4037-930c-d422e45482b3",
   "metadata": {},
   "outputs": [
    {
     "data": {
      "text/plain": [
       "'anjali'"
      ]
     },
     "execution_count": 135,
     "metadata": {},
     "output_type": "execute_result"
    }
   ],
   "source": [
    "pop_anjali=listnew.pop()\n",
    "pop_anjali"
   ]
  },
  {
   "cell_type": "code",
   "execution_count": 137,
   "id": "a41a30f3-6fd1-4bd1-b3a2-1b0a93d77c35",
   "metadata": {},
   "outputs": [
    {
     "data": {
      "text/plain": [
       "['rajkumar', 'shanaya', 'sheela', 'priya']"
      ]
     },
     "execution_count": 137,
     "metadata": {},
     "output_type": "execute_result"
    }
   ],
   "source": [
    "listnew"
   ]
  },
  {
   "cell_type": "code",
   "execution_count": 139,
   "id": "e621ebd6-14f9-4b8d-bf92-5ca38e0a188c",
   "metadata": {},
   "outputs": [
    {
     "data": {
      "text/plain": [
       "'shanaya'"
      ]
     },
     "execution_count": 139,
     "metadata": {},
     "output_type": "execute_result"
    }
   ],
   "source": [
    "pop_shanaya=listnew.pop(1)\n",
    "pop_shanaya"
   ]
  },
  {
   "cell_type": "code",
   "execution_count": 141,
   "id": "93bfb3a0-5e5c-4d13-a930-0aed74b9c630",
   "metadata": {},
   "outputs": [
    {
     "data": {
      "text/plain": [
       "['rajkumar', 'sheela', 'priya']"
      ]
     },
     "execution_count": 141,
     "metadata": {},
     "output_type": "execute_result"
    }
   ],
   "source": [
    "listnew"
   ]
  },
  {
   "cell_type": "code",
   "execution_count": 143,
   "id": "6e73ba87-0284-4e80-8c10-76ba29522680",
   "metadata": {},
   "outputs": [
    {
     "data": {
      "text/plain": [
       "[12, 33, 44, 23, 67, 3, 4, 45]"
      ]
     },
     "execution_count": 143,
     "metadata": {},
     "output_type": "execute_result"
    }
   ],
   "source": [
    "list1=[12,33,44,23,54,67,3,4,45]\n",
    "list1.remove(54)\n",
    "list1"
   ]
  },
  {
   "cell_type": "code",
   "execution_count": 145,
   "id": "c2dee15a-3ed5-4fe2-9079-472185b25860",
   "metadata": {},
   "outputs": [
    {
     "data": {
      "text/plain": [
       "[45, 4, 3, 67, 23, 44, 33, 12]"
      ]
     },
     "execution_count": 145,
     "metadata": {},
     "output_type": "execute_result"
    }
   ],
   "source": [
    "list1.reverse()\n",
    "list1"
   ]
  },
  {
   "cell_type": "code",
   "execution_count": 147,
   "id": "d5ece189-a569-40c1-8524-8792f317f316",
   "metadata": {},
   "outputs": [
    {
     "data": {
      "text/plain": [
       "[3, 4, 12, 23, 33, 44, 45, 67]"
      ]
     },
     "execution_count": 147,
     "metadata": {},
     "output_type": "execute_result"
    }
   ],
   "source": [
    "list1.sort()\n",
    "list1"
   ]
  },
  {
   "cell_type": "code",
   "execution_count": 149,
   "id": "ab5b6343-f5e3-46c1-a41e-8d6c3ce72636",
   "metadata": {},
   "outputs": [
    {
     "data": {
      "text/plain": [
       "[67, 45, 44, 33, 23, 12, 4, 3]"
      ]
     },
     "execution_count": 149,
     "metadata": {},
     "output_type": "execute_result"
    }
   ],
   "source": [
    "list1.sort(reverse=True)\n",
    "list1"
   ]
  },
  {
   "cell_type": "code",
   "execution_count": null,
   "id": "03cfc6f9-20c7-4247-988f-333cbc3e5e25",
   "metadata": {},
   "outputs": [],
   "source": []
  },
  {
   "cell_type": "code",
   "execution_count": null,
   "id": "efb5a455-b7ae-4f4f-b221-96f649afb198",
   "metadata": {},
   "outputs": [],
   "source": []
  },
  {
   "cell_type": "code",
   "execution_count": null,
   "id": "f730feb4-3a96-40c9-97f9-bc74e49e5b26",
   "metadata": {},
   "outputs": [],
   "source": []
  },
  {
   "cell_type": "code",
   "execution_count": null,
   "id": "629e53dd-66b2-4abe-81d7-53b3bdb5a0ee",
   "metadata": {},
   "outputs": [],
   "source": []
  },
  {
   "cell_type": "code",
   "execution_count": null,
   "id": "de83e406-151c-45f1-b912-291579f1f2fc",
   "metadata": {},
   "outputs": [],
   "source": []
  },
  {
   "cell_type": "code",
   "execution_count": null,
   "id": "e0a03f4d-66d6-4208-ae87-15044846a720",
   "metadata": {},
   "outputs": [],
   "source": []
  },
  {
   "cell_type": "code",
   "execution_count": null,
   "id": "6f75bdf2-3d2d-4f74-a963-1b1c9191ec9a",
   "metadata": {},
   "outputs": [],
   "source": []
  },
  {
   "cell_type": "code",
   "execution_count": null,
   "id": "dcddc7d4-b575-4efe-828b-7bd545b3e924",
   "metadata": {},
   "outputs": [],
   "source": []
  },
  {
   "cell_type": "code",
   "execution_count": null,
   "id": "8a10ef6d-24a0-40b3-8158-fe5a9c3f6e64",
   "metadata": {},
   "outputs": [],
   "source": []
  },
  {
   "cell_type": "code",
   "execution_count": null,
   "id": "30bb1864-fda3-4f49-b953-6e894bc7e9ae",
   "metadata": {},
   "outputs": [],
   "source": []
  },
  {
   "cell_type": "code",
   "execution_count": null,
   "id": "cf156b66-7240-4e06-98b9-dd31ff4e2754",
   "metadata": {},
   "outputs": [],
   "source": []
  },
  {
   "cell_type": "code",
   "execution_count": null,
   "id": "2e4d01fa-5790-4188-bcf9-1d684d37c5d4",
   "metadata": {},
   "outputs": [],
   "source": []
  },
  {
   "cell_type": "code",
   "execution_count": null,
   "id": "ffbd086f-8518-4a6f-afaa-f1686a69dbd4",
   "metadata": {},
   "outputs": [],
   "source": []
  },
  {
   "cell_type": "code",
   "execution_count": null,
   "id": "e5952e85-9739-4ea2-8a21-7e52f855772f",
   "metadata": {},
   "outputs": [],
   "source": []
  },
  {
   "cell_type": "code",
   "execution_count": null,
   "id": "09a06e16-67e5-4bc1-8191-6df1d2f0f2cf",
   "metadata": {},
   "outputs": [],
   "source": []
  },
  {
   "cell_type": "code",
   "execution_count": null,
   "id": "2122f76c-700d-4a4a-a27b-6bc0c72b4202",
   "metadata": {},
   "outputs": [],
   "source": []
  },
  {
   "cell_type": "code",
   "execution_count": null,
   "id": "972191ba-afed-42d9-a1d3-67c609d04185",
   "metadata": {},
   "outputs": [],
   "source": []
  },
  {
   "cell_type": "code",
   "execution_count": null,
   "id": "aed118e4-e795-4281-b554-702b7dad9783",
   "metadata": {},
   "outputs": [],
   "source": []
  },
  {
   "cell_type": "code",
   "execution_count": null,
   "id": "7e4a1f82-5739-4037-bbf4-92d1ea0c0407",
   "metadata": {},
   "outputs": [],
   "source": []
  },
  {
   "cell_type": "code",
   "execution_count": null,
   "id": "56fb4c42-33f5-4782-b1a6-c4365f526017",
   "metadata": {},
   "outputs": [],
   "source": []
  },
  {
   "cell_type": "code",
   "execution_count": null,
   "id": "ea17b7c2-ae35-43e4-aa01-9580cb11e777",
   "metadata": {},
   "outputs": [],
   "source": []
  },
  {
   "cell_type": "code",
   "execution_count": null,
   "id": "6cb08a0d-6663-468d-a69f-640bc536cdd5",
   "metadata": {},
   "outputs": [],
   "source": []
  },
  {
   "cell_type": "code",
   "execution_count": null,
   "id": "f5a7a543-4497-4438-a6df-e35112186a4e",
   "metadata": {},
   "outputs": [],
   "source": []
  },
  {
   "cell_type": "code",
   "execution_count": null,
   "id": "8237e94a-1cf6-4d14-9559-301f7ad30466",
   "metadata": {},
   "outputs": [],
   "source": []
  },
  {
   "cell_type": "code",
   "execution_count": null,
   "id": "e1876312-932c-4538-9cb9-ceb2e91acb6c",
   "metadata": {},
   "outputs": [],
   "source": []
  },
  {
   "cell_type": "code",
   "execution_count": null,
   "id": "fb84d4ee-8a44-426f-98d2-d7cf06ee9ed3",
   "metadata": {},
   "outputs": [],
   "source": []
  },
  {
   "cell_type": "code",
   "execution_count": null,
   "id": "94ad5645-51cd-4a20-b94c-561d28908db8",
   "metadata": {},
   "outputs": [],
   "source": []
  },
  {
   "cell_type": "code",
   "execution_count": null,
   "id": "9621aa5f-3ebb-44ff-9d16-6c90c64e63ee",
   "metadata": {},
   "outputs": [],
   "source": []
  },
  {
   "cell_type": "code",
   "execution_count": null,
   "id": "5e5aa47a-4c31-43d8-b3c1-0af7accf20d4",
   "metadata": {},
   "outputs": [],
   "source": []
  },
  {
   "cell_type": "code",
   "execution_count": null,
   "id": "4ac13559-914d-489c-8539-a9c901550099",
   "metadata": {},
   "outputs": [],
   "source": []
  },
  {
   "cell_type": "code",
   "execution_count": null,
   "id": "8aad53fd-f36a-4331-a8d7-66d06ae27223",
   "metadata": {},
   "outputs": [],
   "source": []
  },
  {
   "cell_type": "code",
   "execution_count": null,
   "id": "e051326c-bbad-4fe8-b30c-3bef8d41c774",
   "metadata": {},
   "outputs": [],
   "source": []
  },
  {
   "cell_type": "code",
   "execution_count": null,
   "id": "8637b45f-ae38-4eca-ab5f-c99d10243355",
   "metadata": {},
   "outputs": [],
   "source": []
  },
  {
   "cell_type": "code",
   "execution_count": null,
   "id": "b3477619-e22b-4e8e-8927-2d70d9dbe0f9",
   "metadata": {},
   "outputs": [],
   "source": []
  },
  {
   "cell_type": "code",
   "execution_count": null,
   "id": "82abd034-547e-4a07-90aa-54e3eb8a493e",
   "metadata": {},
   "outputs": [],
   "source": []
  },
  {
   "cell_type": "code",
   "execution_count": null,
   "id": "55e15834-1f37-4245-bcc6-a40f642fa7b2",
   "metadata": {},
   "outputs": [],
   "source": []
  },
  {
   "cell_type": "code",
   "execution_count": null,
   "id": "ab5274e2-e6b3-4608-9569-45abc56ca487",
   "metadata": {},
   "outputs": [],
   "source": []
  },
  {
   "cell_type": "code",
   "execution_count": null,
   "id": "1f79cba9-6d1d-4078-9f6f-e74b58fe9e67",
   "metadata": {},
   "outputs": [],
   "source": []
  },
  {
   "cell_type": "code",
   "execution_count": null,
   "id": "5bc33000-0b85-47ca-ac54-99e14b860429",
   "metadata": {},
   "outputs": [],
   "source": []
  },
  {
   "cell_type": "code",
   "execution_count": null,
   "id": "a7c02791-5328-4a6e-bc8b-09e898e3e557",
   "metadata": {},
   "outputs": [],
   "source": []
  },
  {
   "cell_type": "code",
   "execution_count": null,
   "id": "77f1db86-371c-4403-a025-d54c22c553bc",
   "metadata": {},
   "outputs": [],
   "source": []
  },
  {
   "cell_type": "code",
   "execution_count": null,
   "id": "4728ffdb-87e4-472f-8049-7f69cce39065",
   "metadata": {},
   "outputs": [],
   "source": []
  },
  {
   "cell_type": "code",
   "execution_count": null,
   "id": "2304c31a-13d6-4fb5-a685-04a404356e28",
   "metadata": {},
   "outputs": [],
   "source": [
    "\n",
    "\n"
   ]
  }
 ],
 "metadata": {
  "kernelspec": {
   "display_name": "Python 3 (ipykernel)",
   "language": "python",
   "name": "python3"
  },
  "language_info": {
   "codemirror_mode": {
    "name": "ipython",
    "version": 3
   },
   "file_extension": ".py",
   "mimetype": "text/x-python",
   "name": "python",
   "nbconvert_exporter": "python",
   "pygments_lexer": "ipython3",
   "version": "3.12.7"
  }
 },
 "nbformat": 4,
 "nbformat_minor": 5
}
