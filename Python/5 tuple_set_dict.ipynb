{
 "cells": [
  {
   "cell_type": "code",
   "execution_count": 21,
   "id": "daeecc82-3ccb-41be-8260-dbe75309f3f4",
   "metadata": {},
   "outputs": [
    {
     "data": {
      "text/plain": [
       "str"
      ]
     },
     "execution_count": 21,
     "metadata": {},
     "output_type": "execute_result"
    }
   ],
   "source": [
    "a=(\"round\")\n",
    "type(a)"
   ]
  },
  {
   "cell_type": "code",
   "execution_count": 17,
   "id": "cea34900-9440-45b5-8b1a-bc2f98c39482",
   "metadata": {},
   "outputs": [
    {
     "data": {
      "text/plain": [
       "('delhi', 'jaipur', 'UP', 'mumbai')"
      ]
     },
     "execution_count": 17,
     "metadata": {},
     "output_type": "execute_result"
    }
   ],
   "source": [
    "#tuples r immutable\n",
    "#() round brackets to be used\n",
    "work_location=('delhi', 'jaipur','UP','mumbai')\n",
    "work_location"
   ]
  },
  {
   "cell_type": "code",
   "execution_count": 19,
   "id": "da7126cf-4bdb-421a-aa2b-5386b7d5429e",
   "metadata": {},
   "outputs": [
    {
     "data": {
      "text/plain": [
       "tuple"
      ]
     },
     "execution_count": 19,
     "metadata": {},
     "output_type": "execute_result"
    }
   ],
   "source": [
    "type(work_location)"
   ]
  },
  {
   "cell_type": "code",
   "execution_count": 25,
   "id": "6723bce3-77e5-4102-9a85-cae163d0d49a",
   "metadata": {},
   "outputs": [
    {
     "ename": "AttributeError",
     "evalue": "'tuple' object has no attribute 'append'",
     "output_type": "error",
     "traceback": [
      "\u001b[1;31m---------------------------------------------------------------------------\u001b[0m",
      "\u001b[1;31mAttributeError\u001b[0m                            Traceback (most recent call last)",
      "Cell \u001b[1;32mIn[25], line 1\u001b[0m\n\u001b[1;32m----> 1\u001b[0m work_location\u001b[38;5;241m.\u001b[39mappend(\u001b[38;5;124m'\u001b[39m\u001b[38;5;124mcalifornia\u001b[39m\u001b[38;5;124m'\u001b[39m)\n\u001b[0;32m      2\u001b[0m work_location\n",
      "\u001b[1;31mAttributeError\u001b[0m: 'tuple' object has no attribute 'append'"
     ]
    }
   ],
   "source": [
    "#not added bcz tuple is immutable=error\n",
    "work_location.append('california')\n",
    "work_location"
   ]
  },
  {
   "cell_type": "code",
   "execution_count": 27,
   "id": "0570b712-6f22-4d3b-b510-d38054b49c49",
   "metadata": {},
   "outputs": [],
   "source": [
    "work_location=list(work_location)"
   ]
  },
  {
   "cell_type": "code",
   "execution_count": 31,
   "id": "39ee4c0d-15e0-420f-9184-e922cb4d9fe2",
   "metadata": {},
   "outputs": [
    {
     "data": {
      "text/plain": [
       "['delhi', 'jaipur', 'UP', 'mumbai', 'california', 'california']"
      ]
     },
     "execution_count": 31,
     "metadata": {},
     "output_type": "execute_result"
    }
   ],
   "source": [
    "work_location.append('california')\n",
    "work_location"
   ]
  },
  {
   "cell_type": "code",
   "execution_count": 33,
   "id": "89557cc2-ff68-45fc-8f15-d487b4bb9bc5",
   "metadata": {},
   "outputs": [
    {
     "data": {
      "text/plain": [
       "('delhi', 'jaipur', 'UP', 'mumbai', 'california', 'california')"
      ]
     },
     "execution_count": 33,
     "metadata": {},
     "output_type": "execute_result"
    }
   ],
   "source": [
    "work_location=tuple(work_location)\n",
    "work_location"
   ]
  },
  {
   "cell_type": "code",
   "execution_count": 35,
   "id": "c4408032-6326-4eb1-b8ed-93c7c7857ad3",
   "metadata": {},
   "outputs": [
    {
     "data": {
      "text/plain": [
       "6"
      ]
     },
     "execution_count": 35,
     "metadata": {},
     "output_type": "execute_result"
    }
   ],
   "source": [
    "len(work_location)"
   ]
  },
  {
   "cell_type": "code",
   "execution_count": 37,
   "id": "f3d7036a-bc6f-4a4d-aa0e-edb35b6da405",
   "metadata": {},
   "outputs": [
    {
     "data": {
      "text/plain": [
       "'jaipur'"
      ]
     },
     "execution_count": 37,
     "metadata": {},
     "output_type": "execute_result"
    }
   ],
   "source": [
    "work_location[1]"
   ]
  },
  {
   "cell_type": "code",
   "execution_count": 39,
   "id": "481d50ce-d60b-4938-98a5-32d9f3e8a40d",
   "metadata": {},
   "outputs": [
    {
     "data": {
      "text/plain": [
       "'california'"
      ]
     },
     "execution_count": 39,
     "metadata": {},
     "output_type": "execute_result"
    }
   ],
   "source": [
    "work_location[4]"
   ]
  },
  {
   "cell_type": "code",
   "execution_count": 41,
   "id": "25a9bc5a-cc6b-4e7e-b38d-d6780a96c357",
   "metadata": {},
   "outputs": [
    {
     "data": {
      "text/plain": [
       "'california'"
      ]
     },
     "execution_count": 41,
     "metadata": {},
     "output_type": "execute_result"
    }
   ],
   "source": [
    "work_location[-2]"
   ]
  },
  {
   "cell_type": "code",
   "execution_count": 43,
   "id": "ee64c75b-812e-4472-9dad-29f8701f8e0c",
   "metadata": {},
   "outputs": [],
   "source": [
    "numbers=(23,11,33,4,5,67,78,23,12,34,65,90,7)"
   ]
  },
  {
   "cell_type": "code",
   "execution_count": 100,
   "id": "95a8897e-468e-407f-99dd-6c3a5c8f4947",
   "metadata": {},
   "outputs": [
    {
     "data": {
      "text/plain": [
       "5"
      ]
     },
     "execution_count": 100,
     "metadata": {},
     "output_type": "execute_result"
    }
   ],
   "source": [
    "#check index number of any number in tuple\n",
    "numbers.index(67)"
   ]
  },
  {
   "cell_type": "code",
   "execution_count": 102,
   "id": "1d01303d-3574-4b2f-80bf-53af752b6269",
   "metadata": {},
   "outputs": [
    {
     "data": {
      "text/plain": [
       "1"
      ]
     },
     "execution_count": 102,
     "metadata": {},
     "output_type": "execute_result"
    }
   ],
   "source": [
    "#count number of times element appears\n",
    "numbers.count(11)"
   ]
  },
  {
   "cell_type": "code",
   "execution_count": 49,
   "id": "d94f3295-6606-4e8b-96be-f69fb7b43839",
   "metadata": {},
   "outputs": [
    {
     "data": {
      "text/plain": [
       "2"
      ]
     },
     "execution_count": 49,
     "metadata": {},
     "output_type": "execute_result"
    }
   ],
   "source": [
    "numbers.count(23)"
   ]
  },
  {
   "cell_type": "code",
   "execution_count": 54,
   "id": "e504b6fe-74c3-47f0-aa58-12701ba6b502",
   "metadata": {},
   "outputs": [],
   "source": [
    "#set=unordered collection of a unique element constructed using set() function\n",
    "#keep in sorted manner\n",
    "#eliminate duplicate"
   ]
  },
  {
   "cell_type": "code",
   "execution_count": 58,
   "id": "172a11b3-d921-4e99-a983-0a4928b82e66",
   "metadata": {},
   "outputs": [
    {
     "data": {
      "text/plain": [
       "set"
      ]
     },
     "execution_count": 58,
     "metadata": {},
     "output_type": "execute_result"
    }
   ],
   "source": [
    "roll_n=set()\n",
    "type(roll_n)"
   ]
  },
  {
   "cell_type": "code",
   "execution_count": 62,
   "id": "8b604d61-7f4a-4b19-8bad-5a6cf7ae3957",
   "metadata": {},
   "outputs": [
    {
     "data": {
      "text/plain": [
       "{1}"
      ]
     },
     "execution_count": 62,
     "metadata": {},
     "output_type": "execute_result"
    }
   ],
   "source": [
    "roll_n.add(1)\n",
    "roll_n"
   ]
  },
  {
   "cell_type": "code",
   "execution_count": 64,
   "id": "2de41f79-7434-42c3-8964-60040a10ec22",
   "metadata": {},
   "outputs": [],
   "source": [
    "#set always in {}"
   ]
  },
  {
   "cell_type": "code",
   "execution_count": 68,
   "id": "8ddd668c-4814-46ac-ba27-0e44a3f0b459",
   "metadata": {},
   "outputs": [
    {
     "data": {
      "text/plain": [
       "{1, 21}"
      ]
     },
     "execution_count": 68,
     "metadata": {},
     "output_type": "execute_result"
    }
   ],
   "source": [
    "roll_n.add(21)\n",
    "roll_n"
   ]
  },
  {
   "cell_type": "code",
   "execution_count": 72,
   "id": "da327b6e-679f-4ec1-9562-b565f13315fa",
   "metadata": {},
   "outputs": [
    {
     "data": {
      "text/plain": [
       "{1, 21}"
      ]
     },
     "execution_count": 72,
     "metadata": {},
     "output_type": "execute_result"
    }
   ],
   "source": [
    "#cannot add duplicate element\n",
    "roll_n.add(21)\n",
    "roll_n"
   ]
  },
  {
   "cell_type": "code",
   "execution_count": 84,
   "id": "58e068c5-9552-47f1-bf8e-78ccd03a617f",
   "metadata": {},
   "outputs": [],
   "source": [
    "#set is used to get unique element\n",
    "numberslist=[1,3,5,7,9,11,13,1,1,15,17,19,3,21,23,25,21,23,25,25,27,29,31,33,33,33,33,35,37,39,41,51,61,71,81,91]"
   ]
  },
  {
   "cell_type": "code",
   "execution_count": 90,
   "id": "eadd6565-87f7-4827-a80b-eb0d06d5bd55",
   "metadata": {},
   "outputs": [
    {
     "data": {
      "text/plain": [
       "{1,\n",
       " 3,\n",
       " 5,\n",
       " 7,\n",
       " 9,\n",
       " 11,\n",
       " 13,\n",
       " 15,\n",
       " 17,\n",
       " 19,\n",
       " 21,\n",
       " 23,\n",
       " 25,\n",
       " 27,\n",
       " 29,\n",
       " 31,\n",
       " 33,\n",
       " 35,\n",
       " 37,\n",
       " 39,\n",
       " 41,\n",
       " 51,\n",
       " 61,\n",
       " 71,\n",
       " 81,\n",
       " 91}"
      ]
     },
     "execution_count": 90,
     "metadata": {},
     "output_type": "execute_result"
    }
   ],
   "source": [
    "remove_dupe=set(numberslist)\n",
    "remove_dupe"
   ]
  },
  {
   "cell_type": "code",
   "execution_count": 98,
   "id": "8a7fdf05-e010-4bfa-8d49-612754e9be78",
   "metadata": {},
   "outputs": [
    {
     "data": {
      "text/plain": [
       "[1,\n",
       " 3,\n",
       " 5,\n",
       " 7,\n",
       " 9,\n",
       " 11,\n",
       " 13,\n",
       " 15,\n",
       " 17,\n",
       " 19,\n",
       " 21,\n",
       " 23,\n",
       " 25,\n",
       " 27,\n",
       " 29,\n",
       " 31,\n",
       " 33,\n",
       " 35,\n",
       " 37,\n",
       " 39,\n",
       " 41,\n",
       " 51,\n",
       " 61,\n",
       " 71,\n",
       " 81,\n",
       " 91]"
      ]
     },
     "execution_count": 98,
     "metadata": {},
     "output_type": "execute_result"
    }
   ],
   "source": [
    "make_list=list(remove_dupe)\n",
    "make_list"
   ]
  },
  {
   "cell_type": "code",
   "execution_count": 104,
   "id": "d892f678-4121-4913-9c1f-edd65f17505d",
   "metadata": {},
   "outputs": [],
   "source": [
    "#dictionary contains key: values in {}\n",
    "#contain corresponding value"
   ]
  },
  {
   "cell_type": "code",
   "execution_count": 106,
   "id": "240a8902-3be7-4a71-abc7-c1fc64d1d461",
   "metadata": {},
   "outputs": [
    {
     "data": {
      "text/plain": [
       "{'key1': 'val1', 'key2': 'val2'}"
      ]
     },
     "execution_count": 106,
     "metadata": {},
     "output_type": "execute_result"
    }
   ],
   "source": [
    "new_dict={'key1':'val1','key2':'val2'}\n",
    "new_dict"
   ]
  },
  {
   "cell_type": "code",
   "execution_count": 110,
   "id": "bf01f960-246b-4cdf-8641-1e1d78766ce9",
   "metadata": {},
   "outputs": [
    {
     "data": {
      "text/plain": [
       "'val1'"
      ]
     },
     "execution_count": 110,
     "metadata": {},
     "output_type": "execute_result"
    }
   ],
   "source": [
    "new_dict['key1']"
   ]
  },
  {
   "cell_type": "code",
   "execution_count": 187,
   "id": "cb0b430d-9dd9-4989-bdcb-b710d539a5f8",
   "metadata": {},
   "outputs": [
    {
     "data": {
      "text/plain": [
       "{'RN1': 'anjali',\n",
       " 'subjects': ['maths', 'science', 'arts'],\n",
       " 'score': [70, 78, 50]}"
      ]
     },
     "execution_count": 187,
     "metadata": {},
     "output_type": "execute_result"
    }
   ],
   "source": [
    "rolln_dic={'RN1':'anjali','subjects':['maths','science','arts'],'score':[70,78,50]}\n",
    "rolln_dic"
   ]
  },
  {
   "cell_type": "code",
   "execution_count": 165,
   "id": "5b4022ab-b48d-436e-8a7b-463dc364384e",
   "metadata": {},
   "outputs": [
    {
     "data": {
      "text/plain": [
       "['maths', 'science', 'arts']"
      ]
     },
     "execution_count": 165,
     "metadata": {},
     "output_type": "execute_result"
    }
   ],
   "source": [
    "rolln_dic['subjects']"
   ]
  },
  {
   "cell_type": "code",
   "execution_count": 167,
   "id": "c79460e2-7008-47c1-829b-6879e33b7a93",
   "metadata": {},
   "outputs": [
    {
     "data": {
      "text/plain": [
       "'maths'"
      ]
     },
     "execution_count": 167,
     "metadata": {},
     "output_type": "execute_result"
    }
   ],
   "source": [
    "rolln_dic['subjects'][0]"
   ]
  },
  {
   "cell_type": "code",
   "execution_count": 169,
   "id": "8d908989-565f-42a2-9678-6ba1aeff2dba",
   "metadata": {},
   "outputs": [
    {
     "data": {
      "text/plain": [
       "'science'"
      ]
     },
     "execution_count": 169,
     "metadata": {},
     "output_type": "execute_result"
    }
   ],
   "source": [
    "rolln_dic['subjects'][1]"
   ]
  },
  {
   "cell_type": "code",
   "execution_count": 171,
   "id": "2ac22984-a2f2-4313-8dd2-7b286473fd1f",
   "metadata": {},
   "outputs": [
    {
     "data": {
      "text/plain": [
       "'ARTS'"
      ]
     },
     "execution_count": 171,
     "metadata": {},
     "output_type": "execute_result"
    }
   ],
   "source": [
    "rolln_dic['subjects'][2].upper()"
   ]
  },
  {
   "cell_type": "code",
   "execution_count": 189,
   "id": "3c153dbd-007c-4c42-9713-762923534d84",
   "metadata": {},
   "outputs": [],
   "source": [
    "rolln_dic['score'][0]=rolln_dic['score'][0]+6"
   ]
  },
  {
   "cell_type": "code",
   "execution_count": 175,
   "id": "b207753b-8ee7-4e8d-a154-1aed490e7da2",
   "metadata": {},
   "outputs": [
    {
     "data": {
      "text/plain": [
       "{'RN1': 'pooja',\n",
       " 'subjects': ['maths', 'science', 'arts'],\n",
       " 'marks': [76, 78, 50]}"
      ]
     },
     "execution_count": 175,
     "metadata": {},
     "output_type": "execute_result"
    }
   ],
   "source": [
    "rolln_dic"
   ]
  },
  {
   "cell_type": "code",
   "execution_count": 191,
   "id": "655eb549-bd74-4bed-9c68-e65b0f7a9188",
   "metadata": {},
   "outputs": [
    {
     "data": {
      "text/plain": [
       "{'RN1': 'anjali',\n",
       " 'subjects': ['maths', 'science', 'arts'],\n",
       " 'score': [82, 78, 50]}"
      ]
     },
     "execution_count": 191,
     "metadata": {},
     "output_type": "execute_result"
    }
   ],
   "source": [
    "rolln_dic['score'][0]+=6\n",
    "rolln_dic"
   ]
  },
  {
   "cell_type": "code",
   "execution_count": 193,
   "id": "99f9e44c-ca4d-4808-855c-4c8afa1a9d63",
   "metadata": {},
   "outputs": [
    {
     "data": {
      "text/plain": [
       "{'RN1': 'anjali',\n",
       " 'subjects': ['maths', 'science', 'arts'],\n",
       " 'score': [80, 78, 50]}"
      ]
     },
     "execution_count": 193,
     "metadata": {},
     "output_type": "execute_result"
    }
   ],
   "source": [
    "rolln_dic['score'][0]-=2\n",
    "rolln_dic"
   ]
  },
  {
   "cell_type": "code",
   "execution_count": 195,
   "id": "c63d2e98-9b46-4864-b8e0-be91a9180514",
   "metadata": {},
   "outputs": [
    {
     "data": {
      "text/plain": [
       "{'RN1': 'anjali',\n",
       " 'subjects': ['maths', 'science', 'arts'],\n",
       " 'score': [80, 78, 50],\n",
       " 'pass_out_year': 2026}"
      ]
     },
     "execution_count": 195,
     "metadata": {},
     "output_type": "execute_result"
    }
   ],
   "source": [
    "rolln_dic['pass_out_year']=2026\n",
    "rolln_dic"
   ]
  },
  {
   "cell_type": "code",
   "execution_count": null,
   "id": "dba84663-6fe0-48b5-9a3e-ef5267f13b8f",
   "metadata": {},
   "outputs": [],
   "source": [
    "#update values"
   ]
  },
  {
   "cell_type": "code",
   "execution_count": 197,
   "id": "5e89f967-ce0e-4226-86a6-4d9a646430b9",
   "metadata": {},
   "outputs": [
    {
     "data": {
      "text/plain": [
       "{'RN1': 'pooja',\n",
       " 'subjects': ['maths', 'science', 'arts'],\n",
       " 'score': [80, 78, 50],\n",
       " 'pass_out_year': 2026}"
      ]
     },
     "execution_count": 197,
     "metadata": {},
     "output_type": "execute_result"
    }
   ],
   "source": [
    "rolln_dic.update({'RN1':'pooja'})\n",
    "rolln_dic"
   ]
  },
  {
   "cell_type": "code",
   "execution_count": null,
   "id": "0b67d27f-174c-45d0-8270-a1c5076aed04",
   "metadata": {},
   "outputs": [],
   "source": []
  },
  {
   "cell_type": "code",
   "execution_count": null,
   "id": "7e18e698-5abc-47dd-8e44-69f5bf1099d5",
   "metadata": {},
   "outputs": [],
   "source": []
  },
  {
   "cell_type": "code",
   "execution_count": null,
   "id": "1799a181-7db5-4356-9fcd-60060bb7af38",
   "metadata": {},
   "outputs": [],
   "source": []
  },
  {
   "cell_type": "code",
   "execution_count": null,
   "id": "6d529372-1478-4ad5-9bfd-a2bda8606ece",
   "metadata": {},
   "outputs": [],
   "source": []
  },
  {
   "cell_type": "code",
   "execution_count": null,
   "id": "f7d12e68-9de1-46c1-bf02-ec45c8b44fec",
   "metadata": {},
   "outputs": [],
   "source": []
  },
  {
   "cell_type": "code",
   "execution_count": null,
   "id": "702d698c-0b1f-4439-9bc2-6559876a1933",
   "metadata": {},
   "outputs": [],
   "source": []
  },
  {
   "cell_type": "code",
   "execution_count": null,
   "id": "6a8f6a16-5327-4429-839a-e2d89f32fc90",
   "metadata": {},
   "outputs": [],
   "source": []
  },
  {
   "cell_type": "code",
   "execution_count": null,
   "id": "7f102127-5def-4497-94a6-edab07893e75",
   "metadata": {},
   "outputs": [],
   "source": []
  },
  {
   "cell_type": "code",
   "execution_count": null,
   "id": "4b0e222f-8089-48cd-9a56-960b9e61810c",
   "metadata": {},
   "outputs": [],
   "source": []
  },
  {
   "cell_type": "code",
   "execution_count": null,
   "id": "a2760470-109d-4dab-8333-01a05c78726f",
   "metadata": {},
   "outputs": [],
   "source": []
  },
  {
   "cell_type": "code",
   "execution_count": null,
   "id": "4921a7b3-1bf2-4f43-b01a-15842fb307af",
   "metadata": {},
   "outputs": [],
   "source": []
  },
  {
   "cell_type": "code",
   "execution_count": null,
   "id": "d0c56182-4603-4379-874e-6b35be567f81",
   "metadata": {},
   "outputs": [],
   "source": []
  }
 ],
 "metadata": {
  "kernelspec": {
   "display_name": "Python 3 (ipykernel)",
   "language": "python",
   "name": "python3"
  },
  "language_info": {
   "codemirror_mode": {
    "name": "ipython",
    "version": 3
   },
   "file_extension": ".py",
   "mimetype": "text/x-python",
   "name": "python",
   "nbconvert_exporter": "python",
   "pygments_lexer": "ipython3",
   "version": "3.12.7"
  }
 },
 "nbformat": 4,
 "nbformat_minor": 5
}
