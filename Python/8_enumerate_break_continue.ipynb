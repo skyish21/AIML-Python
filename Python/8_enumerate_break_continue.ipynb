{
 "cells": [
  {
   "cell_type": "code",
   "execution_count": null,
   "id": "7d065b85-aadd-48e9-83a8-eedec3ee33f6",
   "metadata": {},
   "outputs": [],
   "source": [
    "#Enumerate()=allows us to iterate through a sequence but it keeps track of both the index and the element."
   ]
  },
  {
   "cell_type": "code",
   "execution_count": 23,
   "id": "982bb735-2795-4d86-9976-00cd261228f5",
   "metadata": {},
   "outputs": [
    {
     "name": "stdout",
     "output_type": "stream",
     "text": [
      "(0, 'ayush')\n",
      "(1, 'gauri')\n",
      "(2, 'pooja')\n",
      "(3, 'raja')\n"
     ]
    }
   ],
   "source": [
    "student=['ayush','gauri','pooja','raja']\n",
    "for i in enumerate(student):\n",
    "    print(i)"
   ]
  },
  {
   "cell_type": "code",
   "execution_count": 25,
   "id": "e035d585-3774-4501-af8a-3f7ca7f50536",
   "metadata": {},
   "outputs": [
    {
     "name": "stdout",
     "output_type": "stream",
     "text": [
      "1 ayush\n",
      "2 gauri\n",
      "3 pooja\n",
      "4 raja\n"
     ]
    }
   ],
   "source": [
    "#If we want to start numbering from our own number.\n",
    "student=['ayush','gauri','pooja','raja']\n",
    "for i,name in enumerate(student,1):\n",
    "    print(i,name)"
   ]
  },
  {
   "cell_type": "code",
   "execution_count": 7,
   "id": "76b6fa40-ee2c-402c-a77e-94cead755870",
   "metadata": {},
   "outputs": [],
   "source": [
    "#zip = zip method use when we join two lists\n",
    "student_name=['ayush','gauri','pooja','raja']\n",
    "student_roll_number=[50,67,80,71,75]"
   ]
  },
  {
   "cell_type": "code",
   "execution_count": 15,
   "id": "890cea3d-2c6b-4ce6-b252-84a590dfc5c2",
   "metadata": {},
   "outputs": [
    {
     "data": {
      "text/plain": [
       "[('ayush', 50), ('gauri', 67), ('pooja', 80), ('raja', 71)]"
      ]
     },
     "execution_count": 15,
     "metadata": {},
     "output_type": "execute_result"
    }
   ],
   "source": [
    "student_info=list(zip(student_name,student_roll_number))\n",
    "student_info #zipped list"
   ]
  },
  {
   "cell_type": "code",
   "execution_count": 66,
   "id": "451c93d6-bc86-4f02-94a5-807bc7738e38",
   "metadata": {},
   "outputs": [
    {
     "data": {
      "text/plain": [
       "('ayush', 'gauri', 'pooja', 'raja')"
      ]
     },
     "execution_count": 66,
     "metadata": {},
     "output_type": "execute_result"
    }
   ],
   "source": [
    "#unzip =  use * for unziping\n",
    "student_n,roll_n=list(zip(*student_info)) #unzip the zipped list\n",
    "student_n"
   ]
  },
  {
   "cell_type": "code",
   "execution_count": 33,
   "id": "babbfb0c-e4b9-44bc-9398-e7d591daba24",
   "metadata": {},
   "outputs": [
    {
     "data": {
      "text/plain": [
       "(50, 67, 80, 71)"
      ]
     },
     "execution_count": 33,
     "metadata": {},
     "output_type": "execute_result"
    }
   ],
   "source": [
    "roll_n"
   ]
  },
  {
   "cell_type": "code",
   "execution_count": null,
   "id": "617b7d0a-450e-4ac9-9e0c-7bfe210257cd",
   "metadata": {},
   "outputs": [],
   "source": [
    "#enumerate and zip at the same time\n",
    "student_n=['ayush','gauri','pooja','raja']\n",
    "roll_n=[50,67,80,71,75]"
   ]
  },
  {
   "cell_type": "code",
   "execution_count": 68,
   "id": "11e8af74-958e-45b0-92af-8f5a6b4bf11b",
   "metadata": {},
   "outputs": [
    {
     "name": "stdout",
     "output_type": "stream",
     "text": [
      "1 ayush 50\n",
      "2 gauri 67\n",
      "3 pooja 80\n",
      "4 raja 71\n"
     ]
    }
   ],
   "source": [
    "for i,(student,roll) in enumerate(zip(student_n,roll_n),1):\n",
    "    print(i,student,roll)"
   ]
  },
  {
   "cell_type": "code",
   "execution_count": 58,
   "id": "ed476199-0a08-48c5-b412-91380d3917cf",
   "metadata": {},
   "outputs": [],
   "source": [
    "#The Break Statement used to terminate the loop, it is used in loop and switchcase.\n",
    "#Keyword \"break\" used in Break Statement, and control is tranfered outside the loop."
   ]
  },
  {
   "cell_type": "code",
   "execution_count": 54,
   "id": "74bffa61-c666-4404-a1a2-a9c1fda8d243",
   "metadata": {},
   "outputs": [
    {
     "name": "stdout",
     "output_type": "stream",
     "text": [
      "80\n",
      "50\n",
      "60\n"
     ]
    }
   ],
   "source": [
    "marks=[80,50,60,70,30,20]\n",
    "for amt in marks:\n",
    "    if amt==70:\n",
    "        break #exit the loop\n",
    "    print(amt)"
   ]
  },
  {
   "cell_type": "code",
   "execution_count": 45,
   "id": "7d681c5b-af8a-4ead-aa5e-6e42af653d7f",
   "metadata": {},
   "outputs": [],
   "source": [
    "#continue=Continue statement is used to continue the next interation in the loop. its only used in loop\n",
    "#keyword \"continue\" is used for continue statement. control remains in the same loop."
   ]
  },
  {
   "cell_type": "code",
   "execution_count": 56,
   "id": "54ab20a9-27e2-44c5-b7b9-957b800bf214",
   "metadata": {},
   "outputs": [
    {
     "name": "stdout",
     "output_type": "stream",
     "text": [
      "80\n",
      "50\n",
      "60\n",
      "30\n",
      "20\n"
     ]
    }
   ],
   "source": [
    "marks=[80,50,60,70,30,20]\n",
    "for amt in marks:\n",
    "    if amt==70:\n",
    "        continue #skip this part\n",
    "    print(amt)"
   ]
  },
  {
   "cell_type": "code",
   "execution_count": 64,
   "id": "ae195d52-31a0-4e81-8fbd-54c44cb8f51d",
   "metadata": {},
   "outputs": [
    {
     "name": "stdout",
     "output_type": "stream",
     "text": [
      "g\n",
      "o\n",
      "o\n",
      "d\n",
      "m\n",
      "o\n",
      "n\n"
     ]
    }
   ],
   "source": [
    "#use break and continue statements together.\n",
    "for val in \"goodmorning\":\n",
    "    if val == \"r\":\n",
    "        continue\n",
    "    else:\n",
    "        if val==\"i\":\n",
    "            break\n",
    "        print(val)   "
   ]
  },
  {
   "cell_type": "code",
   "execution_count": null,
   "id": "6f573d19-9aaf-466e-90af-d3b00ff6421c",
   "metadata": {},
   "outputs": [],
   "source": []
  }
 ],
 "metadata": {
  "kernelspec": {
   "display_name": "Python 3 (ipykernel)",
   "language": "python",
   "name": "python3"
  },
  "language_info": {
   "codemirror_mode": {
    "name": "ipython",
    "version": 3
   },
   "file_extension": ".py",
   "mimetype": "text/x-python",
   "name": "python",
   "nbconvert_exporter": "python",
   "pygments_lexer": "ipython3",
   "version": "3.12.7"
  }
 },
 "nbformat": 4,
 "nbformat_minor": 5
}
