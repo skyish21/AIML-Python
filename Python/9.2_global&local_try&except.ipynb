{
 "cells": [
  {
   "cell_type": "code",
   "execution_count": null,
   "id": "2337919c-625f-4c1a-be6d-ad0a62b358e4",
   "metadata": {},
   "outputs": [],
   "source": [
    "#global variable = Global varibale means which variable we can use outside the fucntion as well as inside the fucntion."
   ]
  },
  {
   "cell_type": "code",
   "execution_count": null,
   "id": "6f7d9899-8dc6-4431-93ee-b349cb9f91a5",
   "metadata": {},
   "outputs": [],
   "source": [
    "your_name='ishika'"
   ]
  },
  {
   "cell_type": "code",
   "execution_count": 1,
   "id": "3b8bbca6-b781-44ad-86f0-205b9c277ef9",
   "metadata": {},
   "outputs": [],
   "source": [
    "#local variable=local varibale means which varible we can only use inside the fucntion."
   ]
  },
  {
   "cell_type": "code",
   "execution_count": 5,
   "id": "c04c59c0-dc93-4f65-ad65-ed59120acd42",
   "metadata": {},
   "outputs": [
    {
     "name": "stdin",
     "output_type": "stream",
     "text": [
      "My name is  Ishika\n"
     ]
    }
   ],
   "source": [
    "def your_name():\n",
    "    name=input(\"My name is \")\n",
    "\n",
    "your_name()"
   ]
  },
  {
   "cell_type": "code",
   "execution_count": 7,
   "id": "3e4478fb-6ae1-476f-b685-bf2de244bc7f",
   "metadata": {},
   "outputs": [
    {
     "ename": "NameError",
     "evalue": "name 'name' is not defined",
     "output_type": "error",
     "traceback": [
      "\u001b[1;31m---------------------------------------------------------------------------\u001b[0m",
      "\u001b[1;31mNameError\u001b[0m                                 Traceback (most recent call last)",
      "Cell \u001b[1;32mIn[7], line 1\u001b[0m\n\u001b[1;32m----> 1\u001b[0m name\n",
      "\u001b[1;31mNameError\u001b[0m: name 'name' is not defined"
     ]
    }
   ],
   "source": [
    "name #local variable cannot be used outside the funtion so it gives error"
   ]
  },
  {
   "cell_type": "code",
   "execution_count": 23,
   "id": "84523032-e37e-42d6-ba5b-de3ee3ff629a",
   "metadata": {},
   "outputs": [],
   "source": [
    "def local_2_global():\n",
    "    global var_name\n",
    "    var_name=input(\"My name is \")"
   ]
  },
  {
   "cell_type": "code",
   "execution_count": 25,
   "id": "32aba72b-9681-496d-a6a2-139bf4f1f507",
   "metadata": {},
   "outputs": [
    {
     "name": "stdin",
     "output_type": "stream",
     "text": [
      "My name is  Ishika\n"
     ]
    }
   ],
   "source": [
    "local_2_global()"
   ]
  },
  {
   "cell_type": "code",
   "execution_count": 27,
   "id": "5b9a3877-3bb0-4431-8ded-c58843b1657a",
   "metadata": {},
   "outputs": [
    {
     "data": {
      "text/plain": [
       "'Ishika'"
      ]
     },
     "execution_count": 27,
     "metadata": {},
     "output_type": "execute_result"
    }
   ],
   "source": [
    "var_name #it is defined as global variable in funtion so it can be used outside"
   ]
  },
  {
   "cell_type": "code",
   "execution_count": 29,
   "id": "ef2a1b29-f0de-4f6a-964b-95b25b8b6011",
   "metadata": {},
   "outputs": [],
   "source": [
    "#Input from keyword/user = program to take the input string from the user"
   ]
  },
  {
   "cell_type": "code",
   "execution_count": 31,
   "id": "f8fda5ad-e781-4c14-9d06-1378f0e52f35",
   "metadata": {},
   "outputs": [
    {
     "name": "stdin",
     "output_type": "stream",
     "text": [
      "Enter Your Name:\n",
      " Ishika\n"
     ]
    },
    {
     "name": "stdout",
     "output_type": "stream",
     "text": [
      "Your name is:  Ishika\n"
     ]
    }
   ],
   "source": [
    "name=input(\"Enter Your Name:\\n\")\n",
    "print(\"Your name is: \",name)"
   ]
  },
  {
   "cell_type": "code",
   "execution_count": 33,
   "id": "6cf75a9e-c413-47c7-83b1-e01eb0b30fcd",
   "metadata": {},
   "outputs": [],
   "source": [
    "#how to make user enter only integer."
   ]
  },
  {
   "cell_type": "code",
   "execution_count": 39,
   "id": "a809bfc6-8e95-4741-9d12-f718392d8b31",
   "metadata": {},
   "outputs": [
    {
     "name": "stdin",
     "output_type": "stream",
     "text": [
      "Enter Your age boy:  34\n",
      "Enter Your age girl:  23\n"
     ]
    },
    {
     "name": "stdout",
     "output_type": "stream",
     "text": [
      "28.5  is the average age\n"
     ]
    }
   ],
   "source": [
    "age_boy=int(input(\"Enter Your age boy: \"))  #(int) use for integer\n",
    "age_girl=int(input(\"Enter Your age girl: \"))\n",
    "avg_age=(age_boy + age_girl)/2\n",
    "print(avg_age,\" is the average age\")"
   ]
  },
  {
   "cell_type": "code",
   "execution_count": 41,
   "id": "c5b022dc-d2cc-464f-ab1f-62a216db7ee3",
   "metadata": {},
   "outputs": [],
   "source": [
    "#how to use only text as input(NO NUMERIC DATA OR WHITE SPACES)"
   ]
  },
  {
   "cell_type": "code",
   "execution_count": 47,
   "id": "bfe6cf4b-a5a4-4fe3-924a-9fb7921b10ff",
   "metadata": {},
   "outputs": [
    {
     "name": "stdin",
     "output_type": "stream",
     "text": [
      "Enter Your school name:  Delhi Public School 34\n"
     ]
    },
    {
     "name": "stdout",
     "output_type": "stream",
     "text": [
      "Look like You Did not enter alpha charater\n"
     ]
    }
   ],
   "source": [
    "school=input(\"Enter Your school name: \")\n",
    "if school.isalpha():\n",
    "    print(\"Your school name is: \",school)\n",
    "else:\n",
    "    print(\"Look like You Did not enter alpha charater\")\n",
    "\n",
    "#bcz numerical data was entered"
   ]
  },
  {
   "cell_type": "code",
   "execution_count": 57,
   "id": "6c7c943b-8288-486a-9a3a-12bbc4fa79c8",
   "metadata": {},
   "outputs": [
    {
     "name": "stdin",
     "output_type": "stream",
     "text": [
      "Enter Your school name:  DPS\n"
     ]
    },
    {
     "name": "stdout",
     "output_type": "stream",
     "text": [
      "Your school name is:  DPS\n"
     ]
    }
   ],
   "source": [
    "school=input(\"Enter Your school name: \")\n",
    "if school.isalpha():\n",
    "    print(\"Your school name is: \",school)\n",
    "else:\n",
    "    print(\"Look like You Did not enter alpha charater\")\n",
    "\n",
    "#only text data was entered"
   ]
  },
  {
   "cell_type": "code",
   "execution_count": 63,
   "id": "cf9fea98-acfa-4739-a804-75a908c7e789",
   "metadata": {},
   "outputs": [],
   "source": [
    "def luxury_brands(brand_name,item_age,brand_item):\n",
    "    \n",
    "    if brand_name==\"Dior\":\n",
    "        if 0<item_age<=6:\n",
    "            if brand_item==\"clothes\":\n",
    "                print(\"Rs 85000 - Rs 75000\")\n",
    "            elif brand_item==\"shoes\":\n",
    "                print(\"Rs 80000\")\n",
    "            else:\n",
    "                print(\"No fixed prices for other items\")\n",
    "        if 6<item_age<=12:\n",
    "            if brand_item==\"clothes\":\n",
    "                print(\"Rs 100000 - Rs 155000\")\n",
    "            elif brand_item==\"shoes\":\n",
    "                print(\"Rs140000\")\n",
    "            else:\n",
    "                print(\"No fixed prices for other items\")\n",
    "                \n",
    "    elif brand_name==\"Chanel\":\n",
    "        if 0<item_age<=6:\n",
    "            if brand_item==\"jewellery\":\n",
    "                print(\"Rs 94000 - Rs 75000\")\n",
    "            elif brand_item==\"clothes\":\n",
    "                print(\"RS 50000 - Rs 550000\")\n",
    "            else:\n",
    "                print(\"No fixed prices for other items\")\n",
    "        if 6<item_age<=12:\n",
    "            if brand_item==\"jewellery\":\n",
    "                print(\"Rs 150000 - Rs 142000\")\n",
    "            elif brand_item==\"clothes\":\n",
    "                print(\"Rs 140000 - 128000\")\n",
    "            else:\n",
    "                print(\"No fixed prices for other items\")\n",
    "                \n",
    "    else:\n",
    "        print(\"No Stock Right Now. Please check after few days\")"
   ]
  },
  {
   "cell_type": "code",
   "execution_count": 67,
   "id": "ac42d7a0-4836-455c-9fff-f7e18d15cbe0",
   "metadata": {},
   "outputs": [
    {
     "name": "stdout",
     "output_type": "stream",
     "text": [
      "Rs 85000 - Rs 75000\n"
     ]
    }
   ],
   "source": [
    "luxury_brands('Dior',6,'clothes')"
   ]
  },
  {
   "cell_type": "code",
   "execution_count": 71,
   "id": "a8509305-d0b7-487c-92cb-3c594d53212a",
   "metadata": {},
   "outputs": [
    {
     "name": "stdout",
     "output_type": "stream",
     "text": [
      "No Stock Right Now. Please check after few days\n"
     ]
    }
   ],
   "source": [
    "luxury_brands('YSL',3,'clothes')"
   ]
  },
  {
   "cell_type": "code",
   "execution_count": null,
   "id": "21cfd5ef-b853-4798-81a0-cfccbc40a5f6",
   "metadata": {},
   "outputs": [],
   "source": [
    "#Error and Exception Handling \n",
    "\n",
    "#  try and except\n",
    "#try and except = Try and Except statement is used to handle these errors within our code in Python.\n",
    "\n",
    "#TRY - The try block is used to check some code for errors i.e the code inside the try block \n",
    "#will execute when there is no error in the program. Whereas the code inside the except block will\n",
    "#execute whenever the program encounters some error in the preceding try block."
   ]
  },
  {
   "cell_type": "code",
   "execution_count": 104,
   "id": "466381f2-a16d-4512-b37e-9109856545eb",
   "metadata": {},
   "outputs": [
    {
     "name": "stdout",
     "output_type": "stream",
     "text": [
      "YOU CAN ONLY ADD INTERGERS\n"
     ]
    }
   ],
   "source": [
    "name=\"pooja\"\n",
    "age=32\n",
    "try:\n",
    "    sum=name+age\n",
    "except:\n",
    "    print(\"YOU CAN ONLY ADD INTERGERS\")\n",
    "else:\n",
    "    print(sum)"
   ]
  },
  {
   "cell_type": "code",
   "execution_count": 106,
   "id": "e6af7e8e-ea77-4929-ac70-f7fbbc2cbeb4",
   "metadata": {},
   "outputs": [
    {
     "name": "stdout",
     "output_type": "stream",
     "text": [
      "50032\n"
     ]
    }
   ],
   "source": [
    "name=\"pooja\"\n",
    "age=32\n",
    "salary=50000\n",
    "try:\n",
    "    sum=salary+age\n",
    "except:\n",
    "    print(\"YOU CAN ONLY ADD INTERGERS\")\n",
    "else:\n",
    "    print(sum)"
   ]
  },
  {
   "cell_type": "code",
   "execution_count": 138,
   "id": "f9dac55f-7683-47a5-8c67-81ccd8e6429b",
   "metadata": {},
   "outputs": [],
   "source": [
    "#Lets try How its work with real time.\n",
    "\n",
    "#if user dont provide the detail ,the system needs to raise exception saying its mandatory field? required field."
   ]
  },
  {
   "cell_type": "code",
   "execution_count": 27,
   "id": "616d8758-5988-42b3-8653-24551a587307",
   "metadata": {},
   "outputs": [
    {
     "name": "stdin",
     "output_type": "stream",
     "text": [
      "Enter Your User name:  \n",
      "Enter Your password:  \n",
      "Enter Your Email ID:  pooja@email\n"
     ]
    },
    {
     "name": "stdout",
     "output_type": "stream",
     "text": [
      "\n",
      "Error: User name is required\n"
     ]
    }
   ],
   "source": [
    "try:\n",
    "    user_name = input(\"Enter Your User name: \")\n",
    "    password = input(\"Enter Your password: \")\n",
    "    email_id = input(\"Enter Your Email ID: \")\n",
    "\n",
    "    # Check if any field is empty\n",
    "    if not user_name:\n",
    "        raise ValueError(\"User name is required\")\n",
    "    elif not password:\n",
    "        raise ValueError(\"Password is required\")\n",
    "    elif not email_id:\n",
    "        raise ValueError(\"Email ID is required\")\n",
    "\n",
    "except ValueError as e:\n",
    "    print(\"\\nError:\", e)\n",
    "\n",
    "else:  \n",
    "    print(\"Thanks for registration\")"
   ]
  },
  {
   "cell_type": "code",
   "execution_count": 25,
   "id": "5dc9f416-ee33-4070-a77f-a4ff3af24ba1",
   "metadata": {},
   "outputs": [
    {
     "name": "stdin",
     "output_type": "stream",
     "text": [
      "Enter Your User name:  \n",
      "Enter Your password:  \n",
      "Enter Your Email ID:  pooja@email\n"
     ]
    },
    {
     "name": "stdout",
     "output_type": "stream",
     "text": [
      "\n",
      "Error: User name is required\n"
     ]
    }
   ],
   "source": [
    "#alternate method\n",
    "try:\n",
    "    user_name=input(\"Enter Your User name: \")\n",
    "    password=input(\"Enter Your password: \")\n",
    "    email_id=input(\"Enter Your Email ID: \")\n",
    "    if user_name ==\"\":\n",
    "       raise ValueError(\"User name is required\")\n",
    "    elif  password ==\"\":\n",
    "       raise ValueError(\"Password is required\")\n",
    "    elif email_id ==\"\":\n",
    "       raise ValueError(\"Email ID is required\")\n",
    "    else:\n",
    "        pass\n",
    "        \n",
    "except ValueError as e:\n",
    "    print(\"\\nError:\", e)\n",
    "    \n",
    "else:  \n",
    "    print(\"Thanks for registration\")"
   ]
  },
  {
   "cell_type": "code",
   "execution_count": 110,
   "id": "351f965f-f2f0-4016-abb5-c3ae313cb91c",
   "metadata": {},
   "outputs": [],
   "source": [
    "#Finally Block. We dont actually need to memorize the list of exception types. \n",
    "# Because fianlly blocks use when try and except both getting error , then finally will print.\n",
    "# and finally will execute all times . if there are any error or not."
   ]
  },
  {
   "cell_type": "code",
   "execution_count": 41,
   "id": "dbbad378-13b5-4cf9-8a93-ba77c6c9704a",
   "metadata": {},
   "outputs": [
    {
     "name": "stdin",
     "output_type": "stream",
     "text": [
      "Enter Your User name:  \n",
      "Enter Your password:  kshds\n",
      "Enter Your Email ID:  pooja@email\n"
     ]
    },
    {
     "name": "stdout",
     "output_type": "stream",
     "text": [
      "\n",
      " The username Field is required\n",
      "Thanks for registration\n"
     ]
    }
   ],
   "source": [
    "try:\n",
    "    user_name=input(\"Enter Your User name: \")\n",
    "    password=input(\"Enter Your password: \")\n",
    "    email_id=input(\"Enter Your Email ID: \")\n",
    "    if user_name ==\"\":\n",
    "        raise Exception()\n",
    "    elif  password ==\"\":\n",
    "        raise Exception()\n",
    "    elif email_id ==\"\":\n",
    "        raise Exception()\n",
    "    else:\n",
    "        pass\n",
    "except:\n",
    "    if user_name ==\"\":\n",
    "        print(\"\\n The username Field is required\")\n",
    "    if password ==\"\":\n",
    "        print(\"\\n The password Field is required\")\n",
    "    if email_id ==\"\":\n",
    "        print(\"\\n The Email ID Field is required\")\n",
    "        \n",
    "finally: #executes whether an exception occurs or not\n",
    "    print(\"Thanks for registration\")"
   ]
  },
  {
   "cell_type": "code",
   "execution_count": null,
   "id": "45e451d6-ecc0-46a2-a229-cba799c248f4",
   "metadata": {},
   "outputs": [],
   "source": [
    "# We can use this in conjuction will execute , lets see a new example that will take into account\n",
    "# a user putting in the wrong input:-"
   ]
  },
  {
   "cell_type": "code",
   "execution_count": 5,
   "id": "75719cc2-530a-4a1b-8d7c-a1fb27fd99b3",
   "metadata": {},
   "outputs": [
    {
     "name": "stdin",
     "output_type": "stream",
     "text": [
      "Enter Your Number:  94373\n"
     ]
    },
    {
     "name": "stdout",
     "output_type": "stream",
     "text": [
      "Your phone number is:  94373\n",
      "94373\n"
     ]
    }
   ],
   "source": [
    "def mobile_num():\n",
    "    try:\n",
    "        val=int(input(\"Enter Your Number: \"))\n",
    "        print(\"Your phone number is: \",val)\n",
    "    except:\n",
    "        print(\"Look Like You did not enter an integer\")\n",
    "    print(val)   \n",
    "    \n",
    "mobile_num()"
   ]
  },
  {
   "cell_type": "code",
   "execution_count": 7,
   "id": "9ef5d165-4f23-4f49-a2ef-35fdc505dfb3",
   "metadata": {},
   "outputs": [
    {
     "name": "stdin",
     "output_type": "stream",
     "text": [
      "Enter Your Number:  \n"
     ]
    },
    {
     "name": "stdout",
     "output_type": "stream",
     "text": [
      "Look Like You did not enter an integer\n"
     ]
    },
    {
     "ename": "UnboundLocalError",
     "evalue": "cannot access local variable 'val' where it is not associated with a value",
     "output_type": "error",
     "traceback": [
      "\u001b[1;31m---------------------------------------------------------------------------\u001b[0m",
      "\u001b[1;31mUnboundLocalError\u001b[0m                         Traceback (most recent call last)",
      "Cell \u001b[1;32mIn[7], line 9\u001b[0m\n\u001b[0;32m      6\u001b[0m         \u001b[38;5;28mprint\u001b[39m(\u001b[38;5;124m\"\u001b[39m\u001b[38;5;124mLook Like You did not enter an integer\u001b[39m\u001b[38;5;124m\"\u001b[39m)\n\u001b[0;32m      7\u001b[0m     \u001b[38;5;28mprint\u001b[39m(val)   \n\u001b[1;32m----> 9\u001b[0m mobile_num()\n",
      "Cell \u001b[1;32mIn[7], line 7\u001b[0m, in \u001b[0;36mmobile_num\u001b[1;34m()\u001b[0m\n\u001b[0;32m      5\u001b[0m \u001b[38;5;28;01mexcept\u001b[39;00m:\n\u001b[0;32m      6\u001b[0m     \u001b[38;5;28mprint\u001b[39m(\u001b[38;5;124m\"\u001b[39m\u001b[38;5;124mLook Like You did not enter an integer\u001b[39m\u001b[38;5;124m\"\u001b[39m)\n\u001b[1;32m----> 7\u001b[0m \u001b[38;5;28mprint\u001b[39m(val)\n",
      "\u001b[1;31mUnboundLocalError\u001b[0m: cannot access local variable 'val' where it is not associated with a value"
     ]
    }
   ],
   "source": [
    "def mobile_num():\n",
    "    try:\n",
    "        val=int(input(\"Enter Your Number: \"))\n",
    "        print(\"Your phone number is: \",val)\n",
    "    except:\n",
    "        print(\"Look Like You did not enter an integer\")\n",
    "    print(val)   \n",
    "    \n",
    "mobile_num()"
   ]
  },
  {
   "cell_type": "code",
   "execution_count": null,
   "id": "4c23d845-960e-4dfa-8c98-5cc91a72fdd3",
   "metadata": {},
   "outputs": [],
   "source": [
    "#Lets see if we enter a wrong number it will takes as a right number. \n",
    "# what if we do one thing . we set the code  like only enter 10 digit mobile number."
   ]
  },
  {
   "cell_type": "code",
   "execution_count": 160,
   "id": "1764537b-a964-466b-b629-faca40b00b29",
   "metadata": {},
   "outputs": [],
   "source": [
    "def mobile_numer():\n",
    "    while True:\n",
    "        try:\n",
    "            val=int(input(\"Enter Your Mobile Number\"))\n",
    "            print(\"Your mobile number: \",val)\n",
    "            if len(str(val))!=10:\n",
    "                print(\"You did not enter a Right Mobile Number\")\n",
    "            else:\n",
    "                print(\"Thankyou\")\n",
    "                break\n",
    "        except:\n",
    "            print(\"Look Like You Did Not Enter An Integer\")\n",
    "            continue"
   ]
  },
  {
   "cell_type": "code",
   "execution_count": 162,
   "id": "d1337bd7-007c-4dc7-8f67-38e72ad831ea",
   "metadata": {},
   "outputs": [
    {
     "name": "stdin",
     "output_type": "stream",
     "text": [
      "Enter Your Mobile Number 84373\n"
     ]
    },
    {
     "name": "stdout",
     "output_type": "stream",
     "text": [
      "Your mobile number:  84373\n",
      "You did not enter a Right Mobile Number\n"
     ]
    },
    {
     "name": "stdin",
     "output_type": "stream",
     "text": [
      "Enter Your Mobile Number 92382\n"
     ]
    },
    {
     "name": "stdout",
     "output_type": "stream",
     "text": [
      "Your mobile number:  92382\n",
      "You did not enter a Right Mobile Number\n"
     ]
    },
    {
     "name": "stdin",
     "output_type": "stream",
     "text": [
      "Enter Your Mobile Number 0123456789\n"
     ]
    },
    {
     "name": "stdout",
     "output_type": "stream",
     "text": [
      "Your mobile number:  123456789\n",
      "You did not enter a Right Mobile Number\n"
     ]
    },
    {
     "name": "stdin",
     "output_type": "stream",
     "text": [
      "Enter Your Mobile Number 1234567890\n"
     ]
    },
    {
     "name": "stdout",
     "output_type": "stream",
     "text": [
      "Your mobile number:  1234567890\n",
      "Thankyou\n"
     ]
    }
   ],
   "source": [
    "mobile_numer()"
   ]
  },
  {
   "cell_type": "code",
   "execution_count": null,
   "id": "e693bea3-0358-42e8-a906-fdd07bf793df",
   "metadata": {},
   "outputs": [],
   "source": []
  }
 ],
 "metadata": {
  "kernelspec": {
   "display_name": "Python 3 (ipykernel)",
   "language": "python",
   "name": "python3"
  },
  "language_info": {
   "codemirror_mode": {
    "name": "ipython",
    "version": 3
   },
   "file_extension": ".py",
   "mimetype": "text/x-python",
   "name": "python",
   "nbconvert_exporter": "python",
   "pygments_lexer": "ipython3",
   "version": "3.12.7"
  }
 },
 "nbformat": 4,
 "nbformat_minor": 5
}
