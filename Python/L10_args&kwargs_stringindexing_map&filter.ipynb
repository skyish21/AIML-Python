{
 "cells": [
  {
   "cell_type": "code",
   "execution_count": 1,
   "id": "947951c1-b3ed-4b4e-83a3-e93a60dda568",
   "metadata": {},
   "outputs": [],
   "source": [
    "#Args = take multiple input in the place of function arguments(when you dont know how many arguments are needed).\n",
    "#Syntax def(*args)"
   ]
  },
  {
   "cell_type": "code",
   "execution_count": 9,
   "id": "21a94083-714c-428f-96eb-eb614262be45",
   "metadata": {},
   "outputs": [],
   "source": [
    "def myfuntion(*args):\n",
    "   for i in args:\n",
    "       print('my arguments:',i)"
   ]
  },
  {
   "cell_type": "code",
   "execution_count": 11,
   "id": "747b9aa0-c835-4c4d-affb-9275aa728090",
   "metadata": {},
   "outputs": [
    {
     "name": "stdout",
     "output_type": "stream",
     "text": [
      "my arguments: hello\n",
      "my arguments: world\n",
      "my arguments: good\n",
      "my arguments: morning\n"
     ]
    }
   ],
   "source": [
    "#put the arguments after the function created, this reason we use *args method\n",
    "myfuntion('hello','world','good','morning')"
   ]
  },
  {
   "cell_type": "code",
   "execution_count": 13,
   "id": "5fcae526-b3ea-469d-8c01-8a2c35726e4b",
   "metadata": {},
   "outputs": [],
   "source": [
    "#kwargs = kwargs means Key word arguments. it will give result same as dictionary.\n",
    "#Syntax def(**kwargs)"
   ]
  },
  {
   "cell_type": "code",
   "execution_count": 33,
   "id": "5ec4e102-1be1-4c7b-b9dd-972c0c164d92",
   "metadata": {},
   "outputs": [],
   "source": [
    "def myfuntion(**kwargs):\n",
    "    for key,value in kwargs.items():\n",
    "        print(key,value)"
   ]
  },
  {
   "cell_type": "code",
   "execution_count": 37,
   "id": "d8cfe091-e372-4723-a90f-bb276fdcd0f6",
   "metadata": {},
   "outputs": [
    {
     "name": "stdout",
     "output_type": "stream",
     "text": [
      "school ['DPS', 'MCS']\n",
      "place ['dwarka']\n"
     ]
    }
   ],
   "source": [
    "myfuntion(school=[\"DPS\",\"MCS\"],place=[\"dwarka\"])"
   ]
  },
  {
   "cell_type": "code",
   "execution_count": 39,
   "id": "fdf8d24a-77b9-40dc-af78-e3749080d134",
   "metadata": {},
   "outputs": [],
   "source": [
    "#String Indexing = method of slicing the the string where from we want.\n",
    "#its almost like list indexing but here we use [] square brackets for slicing and indexing."
   ]
  },
  {
   "cell_type": "code",
   "execution_count": 52,
   "id": "8e40e06a-c7f7-471f-9303-c000df97606b",
   "metadata": {},
   "outputs": [],
   "source": [
    "string='Today is a good day'"
   ]
  },
  {
   "cell_type": "code",
   "execution_count": 54,
   "id": "36fee187-c6ed-4753-8932-18c3a479d3e9",
   "metadata": {},
   "outputs": [
    {
     "data": {
      "text/plain": [
       "'T'"
      ]
     },
     "execution_count": 54,
     "metadata": {},
     "output_type": "execute_result"
    }
   ],
   "source": [
    "string[0]"
   ]
  },
  {
   "cell_type": "code",
   "execution_count": 58,
   "id": "e39b5641-17a6-4e3f-8615-7de89179f477",
   "metadata": {},
   "outputs": [
    {
     "data": {
      "text/plain": [
       "' '"
      ]
     },
     "execution_count": 58,
     "metadata": {},
     "output_type": "execute_result"
    }
   ],
   "source": [
    "#5th index is space\n",
    "string[5]"
   ]
  },
  {
   "cell_type": "code",
   "execution_count": 62,
   "id": "e8fac07f-8dc7-46d5-aa1f-41df13393829",
   "metadata": {},
   "outputs": [
    {
     "data": {
      "text/plain": [
       "'a'"
      ]
     },
     "execution_count": 62,
     "metadata": {},
     "output_type": "execute_result"
    }
   ],
   "source": [
    "string[9]"
   ]
  },
  {
   "cell_type": "code",
   "execution_count": 64,
   "id": "652100a5-ef66-462d-8443-90e6bd2f5ddf",
   "metadata": {},
   "outputs": [
    {
     "data": {
      "text/plain": [
       "'o'"
      ]
     },
     "execution_count": 64,
     "metadata": {},
     "output_type": "execute_result"
    }
   ],
   "source": [
    "# [1:2] its means, 1 is the starting index (which is included) and 2 is the stopping index (which is excluded).\n",
    "string[1:2]"
   ]
  },
  {
   "cell_type": "code",
   "execution_count": 66,
   "id": "baf251cc-e032-4851-9de6-90d1ea728ca8",
   "metadata": {},
   "outputs": [
    {
     "data": {
      "text/plain": [
       "'oda'"
      ]
     },
     "execution_count": 66,
     "metadata": {},
     "output_type": "execute_result"
    }
   ],
   "source": [
    "string[1:4]"
   ]
  },
  {
   "cell_type": "code",
   "execution_count": 68,
   "id": "1b7a1765-79cf-48d3-9d24-da1dc637165a",
   "metadata": {},
   "outputs": [
    {
     "data": {
      "text/plain": [
       "'Today is a'"
      ]
     },
     "execution_count": 68,
     "metadata": {},
     "output_type": "execute_result"
    }
   ],
   "source": [
    "string[0:10]"
   ]
  },
  {
   "cell_type": "code",
   "execution_count": 70,
   "id": "c3789681-8abe-4b63-be3e-93bf502b62f1",
   "metadata": {},
   "outputs": [
    {
     "data": {
      "text/plain": [
       "'y'"
      ]
     },
     "execution_count": 70,
     "metadata": {},
     "output_type": "execute_result"
    }
   ],
   "source": [
    "#grab last element from string by using (-ve)\n",
    "string[-1]"
   ]
  },
  {
   "cell_type": "code",
   "execution_count": 72,
   "id": "38da4a76-6a35-4ae8-af10-ed4dda5fee8e",
   "metadata": {},
   "outputs": [
    {
     "data": {
      "text/plain": [
       "'Taiao y'"
      ]
     },
     "execution_count": 72,
     "metadata": {},
     "output_type": "execute_result"
    }
   ],
   "source": [
    "#grab everything in from 0th index with step size of 3\n",
    "string[::3]"
   ]
  },
  {
   "cell_type": "code",
   "execution_count": 74,
   "id": "904b3b08-00e5-467a-ba6b-034b5adba588",
   "metadata": {},
   "outputs": [
    {
     "data": {
      "text/plain": [
       "'oys od'"
      ]
     },
     "execution_count": 74,
     "metadata": {},
     "output_type": "execute_result"
    }
   ],
   "source": [
    "#start from index 1 with step size 3\n",
    "string[1::3]"
   ]
  },
  {
   "cell_type": "code",
   "execution_count": 76,
   "id": "7a78b444-c681-4861-81e5-2382fa46c3c4",
   "metadata": {},
   "outputs": [],
   "source": [
    "#map fucntion = map () is a built-in function in Python that allows you to process and transform  all the items in an iterable-\n",
    "# -method without using a loop."
   ]
  },
  {
   "cell_type": "code",
   "execution_count": 94,
   "id": "9ff8e1da-a891-4730-b96b-0cd86e0dcda7",
   "metadata": {},
   "outputs": [],
   "source": [
    "def passing_score(score):\n",
    "    if score==28:\n",
    "         return score + 2\n",
    "    elif score==29:\n",
    "        return score + 1\n",
    "    else:\n",
    "        return score"
   ]
  },
  {
   "cell_type": "code",
   "execution_count": 104,
   "id": "703fa09d-9f11-4075-bb10-301f042bb03b",
   "metadata": {},
   "outputs": [],
   "source": [
    "scores=[28,31,33,29,28,44,60,50]"
   ]
  },
  {
   "cell_type": "code",
   "execution_count": 106,
   "id": "024fa5d6-56d5-4f3b-b0c4-5a99fb81fefb",
   "metadata": {},
   "outputs": [
    {
     "data": {
      "text/plain": [
       "[30, 31, 33, 30, 30, 44, 60, 50]"
      ]
     },
     "execution_count": 106,
     "metadata": {},
     "output_type": "execute_result"
    }
   ],
   "source": [
    "final_score=list(map(passing_score,scores))\n",
    "final_score"
   ]
  },
  {
   "cell_type": "code",
   "execution_count": 108,
   "id": "4ca82de8-2d34-41d5-9ac8-09bac6133472",
   "metadata": {},
   "outputs": [
    {
     "data": {
      "text/plain": [
       "3"
      ]
     },
     "execution_count": 108,
     "metadata": {},
     "output_type": "execute_result"
    }
   ],
   "source": [
    "final_score.count(30)"
   ]
  },
  {
   "cell_type": "code",
   "execution_count": 110,
   "id": "23b73726-650c-4534-ab9a-bc8b21ff2bdf",
   "metadata": {},
   "outputs": [],
   "source": [
    "#Filter Function = returns an iterator were the items are filtered through a function to test if the item is accepted or not."
   ]
  },
  {
   "cell_type": "code",
   "execution_count": 129,
   "id": "5ac2ca60-ecc7-4d9d-b280-4281b84de93a",
   "metadata": {},
   "outputs": [],
   "source": [
    "def filter_score(score):\n",
    "    if score<30:\n",
    "        return(score)"
   ]
  },
  {
   "cell_type": "code",
   "execution_count": 131,
   "id": "65aee063-ba6a-4cf1-b662-432694126e52",
   "metadata": {},
   "outputs": [],
   "source": [
    "scores=[28,31,33,29,28,44,60,50]"
   ]
  },
  {
   "cell_type": "code",
   "execution_count": 133,
   "id": "2d20201f-d243-4921-ab3d-b6192320c451",
   "metadata": {},
   "outputs": [
    {
     "data": {
      "text/plain": [
       "[28, 29, 28]"
      ]
     },
     "execution_count": 133,
     "metadata": {},
     "output_type": "execute_result"
    }
   ],
   "source": [
    "final_list=list(filter(filter_score,scores))\n",
    "final_list"
   ]
  },
  {
   "cell_type": "code",
   "execution_count": 137,
   "id": "7eb7e55b-81d1-42b5-ab73-152d6a623160",
   "metadata": {},
   "outputs": [],
   "source": [
    "# What is the difference between Map and Filter Fucntion?\n",
    "\n",
    "# Map Fucntion - 1)map accepts all element in a given list\n",
    "#                2)function can be applied to all elements\n",
    "\n",
    "# Filter Function - 1)Filter accept all data in a list \n",
    "#                   2)Runs that data through a function to create a new list that contains all elements that returs True in that Function."
   ]
  },
  {
   "cell_type": "code",
   "execution_count": 140,
   "id": "bc510c56-0ca8-4429-84b0-aa2a23262d3c",
   "metadata": {},
   "outputs": [
    {
     "data": {
      "text/plain": [
       "[False, True, False]"
      ]
     },
     "execution_count": 140,
     "metadata": {},
     "output_type": "execute_result"
    }
   ],
   "source": [
    "#lambda function is used for quick calculations\n",
    "#var:var%2==0 runs on list [1,2,3]\n",
    "#map function loops through the list and returns the output as true/false\n",
    "\n",
    "list(map(lambda var:var%2==0,[1,2,3]))"
   ]
  },
  {
   "cell_type": "code",
   "execution_count": 142,
   "id": "9eebd94e-32ac-4aa9-aef8-f45ef1a5f7ab",
   "metadata": {},
   "outputs": [
    {
     "data": {
      "text/plain": [
       "[2]"
      ]
     },
     "execution_count": 142,
     "metadata": {},
     "output_type": "execute_result"
    }
   ],
   "source": [
    "#filter function loops through the list and returns the output if true\n",
    "list(filter(lambda var:var%2==0,[1,2,3]))"
   ]
  },
  {
   "cell_type": "code",
   "execution_count": null,
   "id": "c2361b7c-b568-446c-806e-f4bd489e6d7c",
   "metadata": {},
   "outputs": [],
   "source": []
  }
 ],
 "metadata": {
  "kernelspec": {
   "display_name": "Python 3 (ipykernel)",
   "language": "python",
   "name": "python3"
  },
  "language_info": {
   "codemirror_mode": {
    "name": "ipython",
    "version": 3
   },
   "file_extension": ".py",
   "mimetype": "text/x-python",
   "name": "python",
   "nbconvert_exporter": "python",
   "pygments_lexer": "ipython3",
   "version": "3.12.7"
  }
 },
 "nbformat": 4,
 "nbformat_minor": 5
}
