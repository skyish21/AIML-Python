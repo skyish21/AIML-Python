{
 "cells": [
  {
   "cell_type": "code",
   "execution_count": 1,
   "id": "0f003d06-6f74-48fc-8c14-d72ec08c8e93",
   "metadata": {},
   "outputs": [],
   "source": [
    "#list are mutuable(edit,update,insert,delete) and able to store data\n",
    "lst=[]"
   ]
  },
  {
   "cell_type": "code",
   "execution_count": 3,
   "id": "b3354c7b-44c0-401a-aef1-5ff6eb56bdde",
   "metadata": {},
   "outputs": [
    {
     "data": {
      "text/plain": [
       "[]"
      ]
     },
     "execution_count": 3,
     "metadata": {},
     "output_type": "execute_result"
    }
   ],
   "source": [
    "lst"
   ]
  },
  {
   "cell_type": "code",
   "execution_count": 5,
   "id": "03ee8dc9-8fea-435c-a5d3-fd69ee08fa68",
   "metadata": {},
   "outputs": [
    {
     "data": {
      "text/plain": [
       "list"
      ]
     },
     "execution_count": 5,
     "metadata": {},
     "output_type": "execute_result"
    }
   ],
   "source": [
    "type(lst)"
   ]
  },
  {
   "cell_type": "code",
   "execution_count": 14,
   "id": "fa62012a-a7bf-4fbe-9163-7c7010713d28",
   "metadata": {},
   "outputs": [],
   "source": [
    "lst=['a','b','c','d','e']"
   ]
  },
  {
   "cell_type": "code",
   "execution_count": 16,
   "id": "b974371d-4312-46f4-83e5-e4fc627ba4ec",
   "metadata": {},
   "outputs": [
    {
     "data": {
      "text/plain": [
       "['a', 'b', 'c', 'd', 'e']"
      ]
     },
     "execution_count": 16,
     "metadata": {},
     "output_type": "execute_result"
    }
   ],
   "source": [
    "lst"
   ]
  },
  {
   "cell_type": "code",
   "execution_count": null,
   "id": "28cb9444-419d-4dde-af96-23fc173ffe73",
   "metadata": {},
   "outputs": [],
   "source": [
    "lst2=list(lst)\n",
    "lst2"
   ]
  },
  {
   "cell_type": "code",
   "execution_count": null,
   "id": "5188fa5a-a205-4b21-a3e0-2f1b126c5ceb",
   "metadata": {},
   "outputs": [],
   "source": [
    "marks=[30,40,50,60]"
   ]
  },
  {
   "cell_type": "code",
   "execution_count": null,
   "id": "95dcb1c6-c5f1-4146-a73d-80d83ef6f1fc",
   "metadata": {},
   "outputs": [],
   "source": [
    "copy_marks=marks.copy()\n",
    "copy_marks"
   ]
  },
  {
   "cell_type": "code",
   "execution_count": 18,
   "id": "8af6162f-a784-4011-8f50-ed6e5e5c7377",
   "metadata": {},
   "outputs": [
    {
     "data": {
      "text/plain": [
       "['a', 'r', 'i', 'a', 'n', 'a', ' ', 'g', 'r', 'a', 'n', 'd', 'e']"
      ]
     },
     "execution_count": 18,
     "metadata": {},
     "output_type": "execute_result"
    }
   ],
   "source": [
    "list('ariana grande')"
   ]
  },
  {
   "cell_type": "code",
   "execution_count": null,
   "id": "2a6f0de6-f051-4b8b-97ab-342e71cff6b5",
   "metadata": {},
   "outputs": [],
   "source": [
    "list(8885) #interger objects are not iterable"
   ]
  },
  {
   "cell_type": "code",
   "execution_count": 20,
   "id": "8ee74e82-3e21-4bc8-9daa-e92795eedec8",
   "metadata": {},
   "outputs": [],
   "source": [
    "l1=[]"
   ]
  },
  {
   "cell_type": "code",
   "execution_count": 36,
   "id": "99540205-f080-41d4-a270-a3150843057a",
   "metadata": {},
   "outputs": [],
   "source": [
    "l1.append('sabrina')"
   ]
  },
  {
   "cell_type": "code",
   "execution_count": 38,
   "id": "9584df87-274a-4c09-8c00-a7d29067373d",
   "metadata": {},
   "outputs": [
    {
     "data": {
      "text/plain": [
       "['sabrina']"
      ]
     },
     "execution_count": 38,
     "metadata": {},
     "output_type": "execute_result"
    }
   ],
   "source": [
    "l1"
   ]
  },
  {
   "cell_type": "code",
   "execution_count": 40,
   "id": "ac333b5c-40a7-40a8-9bf2-dc797688a5e7",
   "metadata": {},
   "outputs": [],
   "source": [
    "l1.append('taylor')"
   ]
  },
  {
   "cell_type": "code",
   "execution_count": 42,
   "id": "0152e9b0-2a27-4348-93a5-3a18e0131c8f",
   "metadata": {},
   "outputs": [
    {
     "data": {
      "text/plain": [
       "['sabrina', 'taylor']"
      ]
     },
     "execution_count": 42,
     "metadata": {},
     "output_type": "execute_result"
    }
   ],
   "source": [
    "l1"
   ]
  },
  {
   "cell_type": "code",
   "execution_count": 44,
   "id": "9560acdf-b219-462a-be6c-1059edc2d57f",
   "metadata": {},
   "outputs": [
    {
     "data": {
      "text/plain": [
       "['sabrina', 'taylor', 'ariana', 'olivia']"
      ]
     },
     "execution_count": 44,
     "metadata": {},
     "output_type": "execute_result"
    }
   ],
   "source": [
    "l1.append('ariana')\n",
    "l1.append('olivia')\n",
    "l1"
   ]
  },
  {
   "cell_type": "code",
   "execution_count": 46,
   "id": "c213bb30-8ba0-4655-8f54-93b13bf982ca",
   "metadata": {},
   "outputs": [
    {
     "data": {
      "text/plain": [
       "['modi', 'yogi', 'tina', 'donald trump', 'imran khan']"
      ]
     },
     "execution_count": 46,
     "metadata": {},
     "output_type": "execute_result"
    }
   ],
   "source": [
    "l1=['modi','yogi','tina','donald trump','imran khan']\n",
    "l1"
   ]
  },
  {
   "cell_type": "code",
   "execution_count": 48,
   "id": "96ee077d-7c30-4449-93dd-a5318ec93876",
   "metadata": {},
   "outputs": [],
   "source": [
    "l1.insert(4,'kim jong unn')"
   ]
  },
  {
   "cell_type": "code",
   "execution_count": null,
   "id": "ddf175a5-d27b-4d9e-89f7-28139f1c9d80",
   "metadata": {},
   "outputs": [],
   "source": []
  },
  {
   "cell_type": "code",
   "execution_count": null,
   "id": "f3fbe349-8544-495d-baf2-7156d3da7eca",
   "metadata": {},
   "outputs": [],
   "source": []
  },
  {
   "cell_type": "code",
   "execution_count": null,
   "id": "12ec580d-b3ae-4b00-b0a7-3b2d2d9e6d70",
   "metadata": {},
   "outputs": [],
   "source": []
  },
  {
   "cell_type": "code",
   "execution_count": null,
   "id": "38201187-da7d-4bc0-bf32-9d2cbb882eea",
   "metadata": {},
   "outputs": [],
   "source": []
  },
  {
   "cell_type": "code",
   "execution_count": null,
   "id": "12c3c659-bdfb-4e4c-a52a-abe8fef09a00",
   "metadata": {},
   "outputs": [],
   "source": []
  },
  {
   "cell_type": "code",
   "execution_count": null,
   "id": "e90a2ac0-08d1-4cbd-bc73-fb72037ffdc8",
   "metadata": {},
   "outputs": [],
   "source": []
  }
 ],
 "metadata": {
  "kernelspec": {
   "display_name": "Python 3 (ipykernel)",
   "language": "python",
   "name": "python3"
  },
  "language_info": {
   "codemirror_mode": {
    "name": "ipython",
    "version": 3
   },
   "file_extension": ".py",
   "mimetype": "text/x-python",
   "name": "python",
   "nbconvert_exporter": "python",
   "pygments_lexer": "ipython3",
   "version": "3.12.7"
  }
 },
 "nbformat": 4,
 "nbformat_minor": 5
}
