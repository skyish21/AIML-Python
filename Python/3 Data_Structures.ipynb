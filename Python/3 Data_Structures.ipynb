{
 "cells": [
  {
   "cell_type": "code",
   "execution_count": 1,
   "id": "1a52434f-d296-4299-9e62-c3c19d7b3635",
   "metadata": {},
   "outputs": [],
   "source": [
    "#list are mutuable(edit,update,insert,delete) and able to store data\n",
    "lst=[]"
   ]
  },
  {
   "cell_type": "code",
   "execution_count": 3,
   "id": "a8c4e481-c7bf-4a7b-9b0e-7bd5a894f849",
   "metadata": {},
   "outputs": [
    {
     "data": {
      "text/plain": [
       "[]"
      ]
     },
     "execution_count": 3,
     "metadata": {},
     "output_type": "execute_result"
    }
   ],
   "source": [
    "lst"
   ]
  },
  {
   "cell_type": "code",
   "execution_count": 5,
   "id": "22460ca2-4c6e-4a53-81f0-83c5082cf81c",
   "metadata": {},
   "outputs": [
    {
     "data": {
      "text/plain": [
       "list"
      ]
     },
     "execution_count": 5,
     "metadata": {},
     "output_type": "execute_result"
    }
   ],
   "source": [
    "type(lst)"
   ]
  },
  {
   "cell_type": "code",
   "execution_count": 7,
   "id": "6e6eb4a6-4c7a-4f30-bf39-895fb5def06d",
   "metadata": {},
   "outputs": [],
   "source": [
    "lst=['a','b','c','d','e']"
   ]
  },
  {
   "cell_type": "code",
   "execution_count": 9,
   "id": "2b1147c5-f607-4cd9-9ae8-f0e8aa1b9c25",
   "metadata": {},
   "outputs": [
    {
     "data": {
      "text/plain": [
       "['a', 'b', 'c', 'd', 'e']"
      ]
     },
     "execution_count": 9,
     "metadata": {},
     "output_type": "execute_result"
    }
   ],
   "source": [
    "lst"
   ]
  },
  {
   "cell_type": "code",
   "execution_count": 14,
   "id": "79504d95-7b3c-45e4-841f-325d56917439",
   "metadata": {},
   "outputs": [
    {
     "data": {
      "text/plain": [
       "['a', 'b', 'c', 'd', 'e']"
      ]
     },
     "execution_count": 14,
     "metadata": {},
     "output_type": "execute_result"
    }
   ],
   "source": [
    "lst2=list(lst)\n",
    "lst2"
   ]
  },
  {
   "cell_type": "code",
   "execution_count": 16,
   "id": "68977b11-8108-434a-9716-0ef09f00c358",
   "metadata": {},
   "outputs": [],
   "source": [
    "marks=[30,40,50,60]"
   ]
  },
  {
   "cell_type": "code",
   "execution_count": 20,
   "id": "ade6e9ac-7fb8-4fdb-aa56-1de54074f5af",
   "metadata": {},
   "outputs": [
    {
     "data": {
      "text/plain": [
       "[30, 40, 50, 60]"
      ]
     },
     "execution_count": 20,
     "metadata": {},
     "output_type": "execute_result"
    }
   ],
   "source": [
    "copy_marks=marks.copy()\n",
    "copy_marks"
   ]
  },
  {
   "cell_type": "code",
   "execution_count": 22,
   "id": "121876da-34bb-44bd-a105-85f8f2b7d2c6",
   "metadata": {},
   "outputs": [
    {
     "data": {
      "text/plain": [
       "['s', 'a', 'u', 'r', 'a', 'v']"
      ]
     },
     "execution_count": 22,
     "metadata": {},
     "output_type": "execute_result"
    }
   ],
   "source": [
    "list('saurav')"
   ]
  },
  {
   "cell_type": "code",
   "execution_count": 24,
   "id": "8e9efaca-eb5e-45cb-a9a1-cd6a4b65474f",
   "metadata": {},
   "outputs": [
    {
     "ename": "TypeError",
     "evalue": "'int' object is not iterable",
     "output_type": "error",
     "traceback": [
      "\u001b[1;31m---------------------------------------------------------------------------\u001b[0m",
      "\u001b[1;31mTypeError\u001b[0m                                 Traceback (most recent call last)",
      "Cell \u001b[1;32mIn[24], line 1\u001b[0m\n\u001b[1;32m----> 1\u001b[0m \u001b[38;5;28mlist\u001b[39m(\u001b[38;5;241m8885\u001b[39m)\n",
      "\u001b[1;31mTypeError\u001b[0m: 'int' object is not iterable"
     ]
    }
   ],
   "source": [
    "list(8885) #interger objects are not iterable"
   ]
  },
  {
   "cell_type": "code",
   "execution_count": 26,
   "id": "f7b238ad-1a28-4c51-ac11-9d59389d2b86",
   "metadata": {},
   "outputs": [],
   "source": [
    "l1=[]"
   ]
  },
  {
   "cell_type": "code",
   "execution_count": 36,
   "id": "1175594d-e7c2-42cf-aa38-98d6ba4e7025",
   "metadata": {},
   "outputs": [],
   "source": [
    "l1.append('saurav')"
   ]
  },
  {
   "cell_type": "code",
   "execution_count": 39,
   "id": "ee4be037-f5e8-477c-b523-52ff4eadf081",
   "metadata": {},
   "outputs": [
    {
     "data": {
      "text/plain": [
       "['saurav']"
      ]
     },
     "execution_count": 39,
     "metadata": {},
     "output_type": "execute_result"
    }
   ],
   "source": [
    "l1"
   ]
  },
  {
   "cell_type": "code",
   "execution_count": 41,
   "id": "ac113189-e59f-472e-a027-b4a07da08e9e",
   "metadata": {},
   "outputs": [],
   "source": [
    "l1.append('vicky')"
   ]
  },
  {
   "cell_type": "code",
   "execution_count": 43,
   "id": "1729d992-b140-43a4-bb88-ccd40ac3e674",
   "metadata": {},
   "outputs": [
    {
     "data": {
      "text/plain": [
       "['saurav', 'vicky']"
      ]
     },
     "execution_count": 43,
     "metadata": {},
     "output_type": "execute_result"
    }
   ],
   "source": [
    "l1"
   ]
  },
  {
   "cell_type": "code",
   "execution_count": 45,
   "id": "7745f4d4-b128-4e44-a305-f742fec1707a",
   "metadata": {},
   "outputs": [
    {
     "data": {
      "text/plain": [
       "['saurav', 'vicky', 'yashi', 'shivangi']"
      ]
     },
     "execution_count": 45,
     "metadata": {},
     "output_type": "execute_result"
    }
   ],
   "source": [
    "l1.append('yashi')\n",
    "l1.append('shivangi')\n",
    "l1"
   ]
  },
  {
   "cell_type": "code",
   "execution_count": 47,
   "id": "b9785931-08f1-4f5b-abdc-67c12ebab8fb",
   "metadata": {},
   "outputs": [
    {
     "data": {
      "text/plain": [
       "['saurav', 'vicky', 'minakshi', 'donald trump', 'imran khan']"
      ]
     },
     "execution_count": 47,
     "metadata": {},
     "output_type": "execute_result"
    }
   ],
   "source": [
    "l1=['saurav','vicky','minakshi','donald trump','imran khan']\n",
    "l1"
   ]
  },
  {
   "cell_type": "code",
   "execution_count": 65,
   "id": "cd590739-88e5-4d24-b537-57f0acf16133",
   "metadata": {},
   "outputs": [],
   "source": [
    "l1.insert(4,'putin')"
   ]
  },
  {
   "cell_type": "code",
   "execution_count": 69,
   "id": "9e0b3d6d-4619-40ea-a413-1146fb0bf34f",
   "metadata": {},
   "outputs": [
    {
     "data": {
      "text/plain": [
       "[11, 22, 88, 33, 44, 55, 66, 77]"
      ]
     },
     "execution_count": 69,
     "metadata": {},
     "output_type": "execute_result"
    }
   ],
   "source": [
    "l1=[11,22,33,44,55,66,77]\n",
    "l1.insert(2, 88)\n",
    "l1"
   ]
  },
  {
   "cell_type": "code",
   "execution_count": 73,
   "id": "faf4f1ac-a0f9-4ee6-8165-bf4ba789c65c",
   "metadata": {},
   "outputs": [
    {
     "data": {
      "text/plain": [
       "6"
      ]
     },
     "execution_count": 73,
     "metadata": {},
     "output_type": "execute_result"
    }
   ],
   "source": [
    "l1=[44,55,66,99,77,88]\n",
    "len(l1)"
   ]
  },
  {
   "cell_type": "code",
   "execution_count": 77,
   "id": "ebb2a547-a1bc-4d7a-b616-8dff36464d5d",
   "metadata": {},
   "outputs": [
    {
     "data": {
      "text/plain": [
       "'saurav'"
      ]
     },
     "execution_count": 77,
     "metadata": {},
     "output_type": "execute_result"
    }
   ],
   "source": [
    "l1=['saurav','gaurav','lovely','gitanjali']\n",
    "l1[0]"
   ]
  },
  {
   "cell_type": "code",
   "execution_count": 79,
   "id": "8f096a49-5c59-421d-adbf-511ff2949c7f",
   "metadata": {},
   "outputs": [
    {
     "data": {
      "text/plain": [
       "'gaurav'"
      ]
     },
     "execution_count": 79,
     "metadata": {},
     "output_type": "execute_result"
    }
   ],
   "source": [
    "l1[1]"
   ]
  },
  {
   "cell_type": "code",
   "execution_count": 81,
   "id": "fe821bb6-b469-44ae-b6ac-0f003d684a7a",
   "metadata": {},
   "outputs": [
    {
     "data": {
      "text/plain": [
       "'lovely'"
      ]
     },
     "execution_count": 81,
     "metadata": {},
     "output_type": "execute_result"
    }
   ],
   "source": [
    "l1[2]"
   ]
  },
  {
   "cell_type": "code",
   "execution_count": null,
   "id": "a38c3c4c-fb7e-4122-8091-7cdbe019d1a0",
   "metadata": {},
   "outputs": [],
   "source": []
  }
 ],
 "metadata": {
  "kernelspec": {
   "display_name": "Python 3 (ipykernel)",
   "language": "python",
   "name": "python3"
  },
  "language_info": {
   "codemirror_mode": {
    "name": "ipython",
    "version": 3
   },
   "file_extension": ".py",
   "mimetype": "text/x-python",
   "name": "python",
   "nbconvert_exporter": "python",
   "pygments_lexer": "ipython3",
   "version": "3.12.7"
  }
 },
 "nbformat": 4,
 "nbformat_minor": 5
}
