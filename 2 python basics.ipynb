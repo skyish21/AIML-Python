{
 "cells": [
  {
   "cell_type": "code",
   "execution_count": 1,
   "id": "074e722f-454f-48da-9212-c9d88e2400f1",
   "metadata": {},
   "outputs": [],
   "source": [
    "c=2+5j"
   ]
  },
  {
   "cell_type": "code",
   "execution_count": 3,
   "id": "22ba5d4a-f1a1-4b31-a59a-3056662bbb52",
   "metadata": {},
   "outputs": [
    {
     "data": {
      "text/plain": [
       "complex"
      ]
     },
     "execution_count": 3,
     "metadata": {},
     "output_type": "execute_result"
    }
   ],
   "source": [
    "type(c)"
   ]
  },
  {
   "cell_type": "code",
   "execution_count": 11,
   "id": "820cc466-7d28-4df9-bc37-81c2b4a187dc",
   "metadata": {},
   "outputs": [
    {
     "data": {
      "text/plain": [
       "str"
      ]
     },
     "execution_count": 11,
     "metadata": {},
     "output_type": "execute_result"
    }
   ],
   "source": [
    "a='Ram is Hero'\n",
    "type(a)"
   ]
  },
  {
   "cell_type": "code",
   "execution_count": 9,
   "id": "f9b2cba1-587f-4f7a-ba97-0c67c46a543f",
   "metadata": {},
   "outputs": [
    {
     "data": {
      "text/plain": [
       "'Ram is Hero'"
      ]
     },
     "execution_count": 9,
     "metadata": {},
     "output_type": "execute_result"
    }
   ],
   "source": [
    "a"
   ]
  },
  {
   "cell_type": "code",
   "execution_count": 15,
   "id": "7295bf77-b3e0-465b-a4fc-f2022d89aaea",
   "metadata": {},
   "outputs": [
    {
     "name": "stdout",
     "output_type": "stream",
     "text": [
      "python is a powerful language\n"
     ]
    }
   ],
   "source": [
    "str1='python'\n",
    "str2=' is a powerful'\n",
    "str3=' language'\n",
    "print(str1+str2+str3)"
   ]
  },
  {
   "cell_type": "code",
   "execution_count": 21,
   "id": "f16f1588-e13b-4431-b643-accf405a2a61",
   "metadata": {},
   "outputs": [
    {
     "name": "stdout",
     "output_type": "stream",
     "text": [
      "saurav is ex AI engineer \n"
     ]
    }
   ],
   "source": [
    "print(\"saurav \"+ \"is ex \" + \"AI engineer \")"
   ]
  },
  {
   "cell_type": "code",
   "execution_count": 25,
   "id": "650e5e90-7abc-4a48-893e-5d22507670ee",
   "metadata": {},
   "outputs": [
    {
     "name": "stdout",
     "output_type": "stream",
     "text": [
      "day day day day day \n"
     ]
    }
   ],
   "source": [
    "print('day ' * 5)"
   ]
  },
  {
   "cell_type": "code",
   "execution_count": 29,
   "id": "0034e7e3-56b0-4e1c-972b-525520ee0294",
   "metadata": {},
   "outputs": [
    {
     "name": "stdout",
     "output_type": "stream",
     "text": [
      "= = = = = = = = = = = = = = = = = = = = = = = = = = = = = = = = = = = = = = = = = = = = = = = = = = = = = = = = = = = = = = = = = = = = = = = = = = = = = = = = = = = = = = = = = = = = = = = = = = = = \n"
     ]
    }
   ],
   "source": [
    "print('= ' * 100)"
   ]
  },
  {
   "cell_type": "code",
   "execution_count": 33,
   "id": "7c076796-6c74-413d-b556-36e26cdd2d66",
   "metadata": {},
   "outputs": [
    {
     "ename": "TypeError",
     "evalue": "can only concatenate str (not \"int\") to str",
     "output_type": "error",
     "traceback": [
      "\u001b[1;31m---------------------------------------------------------------------------\u001b[0m",
      "\u001b[1;31mTypeError\u001b[0m                                 Traceback (most recent call last)",
      "Cell \u001b[1;32mIn[33], line 1\u001b[0m\n\u001b[1;32m----> 1\u001b[0m \u001b[38;5;28mprint\u001b[39m(\u001b[38;5;124m'\u001b[39m\u001b[38;5;124mday\u001b[39m\u001b[38;5;124m'\u001b[39m \u001b[38;5;241m+\u001b[39m \u001b[38;5;241m5\u001b[39m)\n",
      "\u001b[1;31mTypeError\u001b[0m: can only concatenate str (not \"int\") to str"
     ]
    }
   ],
   "source": [
    "print('day' + 5)"
   ]
  },
  {
   "cell_type": "code",
   "execution_count": 35,
   "id": "31afadf1-7691-45b3-a612-b6d199ebad40",
   "metadata": {},
   "outputs": [
    {
     "name": "stdout",
     "output_type": "stream",
     "text": [
      "day5\n"
     ]
    }
   ],
   "source": [
    "print('day' +str(5))"
   ]
  },
  {
   "cell_type": "code",
   "execution_count": null,
   "id": "4a838631-9c81-4261-b285-c98c24ad2d24",
   "metadata": {},
   "outputs": [],
   "source": []
  }
 ],
 "metadata": {
  "kernelspec": {
   "display_name": "Python 3 (ipykernel)",
   "language": "python",
   "name": "python3"
  },
  "language_info": {
   "codemirror_mode": {
    "name": "ipython",
    "version": 3
   },
   "file_extension": ".py",
   "mimetype": "text/x-python",
   "name": "python",
   "nbconvert_exporter": "python",
   "pygments_lexer": "ipython3",
   "version": "3.12.7"
  }
 },
 "nbformat": 4,
 "nbformat_minor": 5
}
