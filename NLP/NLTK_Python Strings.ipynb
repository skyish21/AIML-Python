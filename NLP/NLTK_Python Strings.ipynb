{
 "cells": [
  {
   "cell_type": "markdown",
   "id": "136c8feb-e4d6-4024-b2d8-8e4653058836",
   "metadata": {},
   "source": [
    "### Python Strings Overview for NLTK\n",
    "\n",
    "A string in a squence of characters.\n",
    "\n",
    "A character is a symbol. For Example, a, b, c, etc., in english language.\n",
    "\n",
    "Computers do not deal with symbols or characters. So we have to convert them into binary digits, 0 and 1. This is know as encoding and reverse is known as decoding.\n",
    "\n",
    "Syntax: String is written within quotations."
   ]
  },
  {
   "cell_type": "code",
   "execution_count": 3,
   "id": "0e32419a-e853-4e6e-a3ca-ac3eb0352f1a",
   "metadata": {},
   "outputs": [
    {
     "name": "stdout",
     "output_type": "stream",
     "text": [
      " Alphabets\n"
     ]
    }
   ],
   "source": [
    "string = \" Alphabets\"\n",
    "print(string)"
   ]
  },
  {
   "cell_type": "markdown",
   "id": "43219c0d-0dec-4385-8d97-8a771d165c4d",
   "metadata": {},
   "source": [
    "### Strings are arrays\n",
    "\n",
    "Strings in Python are arrays of bytes representing unicode characters.\n",
    "\n",
    "However, Python doesn't have the 'character' as the datatype. A character is just a string of length 1.\n",
    "\n",
    "Syntax: We use square brackets to access elements from strings."
   ]
  },
  {
   "cell_type": "code",
   "execution_count": 7,
   "id": "218aa080-f386-47d9-b668-e04addbccecd",
   "metadata": {},
   "outputs": [
    {
     "name": "stdout",
     "output_type": "stream",
     "text": [
      "e\n"
     ]
    }
   ],
   "source": [
    "# Get character at index 6. Index starts from 0.\n",
    "string = \"Alphabets\"\n",
    "print(string[6])"
   ]
  },
  {
   "cell_type": "markdown",
   "id": "65a01f9d-c2e3-4ed7-ba3b-3e538374ebd2",
   "metadata": {},
   "source": [
    "### Slicing\n",
    "\n",
    "You can get string as output in specified range by using slicing index.\n",
    "\n",
    "Syntax: Specify start and ending index, which is separated by colon to print specified part of string."
   ]
  },
  {
   "cell_type": "code",
   "execution_count": 12,
   "id": "397a2913-4861-4c30-a129-9324a6aefcff",
   "metadata": {},
   "outputs": [
    {
     "name": "stdout",
     "output_type": "stream",
     "text": [
      "ish \n",
      "phabet\n",
      "ls \n"
     ]
    }
   ],
   "source": [
    "string = \"English Alphabets\"\n",
    "print(string[4:8])   # From index 4 to 8\n",
    "print(string[-7:-1]) # From 7th to 1st index on right of string \n",
    "print(string[3:9:2]) # From index 3 to 9 with step size 2"
   ]
  },
  {
   "cell_type": "markdown",
   "id": "84463936-9e9b-4b24-86f2-56617c353922",
   "metadata": {},
   "source": [
    "### String Methods\n",
    "\n",
    "Python has built-in string methods to perform on strings."
   ]
  },
  {
   "cell_type": "code",
   "execution_count": 15,
   "id": "30c31550-8d58-47e6-b24e-d6dd94f8d9cc",
   "metadata": {},
   "outputs": [
    {
     "name": "stdout",
     "output_type": "stream",
     "text": [
      "['English', 'Alphabets']\n"
     ]
    }
   ],
   "source": [
    "# Split will divide the string at whitespace\n",
    "string = \"English Alphabets\"\n",
    "print(string.split())"
   ]
  },
  {
   "cell_type": "code",
   "execution_count": 17,
   "id": "95531291-d6a4-44f3-b7b2-69a226a92075",
   "metadata": {},
   "outputs": [
    {
     "name": "stdout",
     "output_type": "stream",
     "text": [
      "english alphabets\n",
      "ENGLISH ALPHABETS\n"
     ]
    }
   ],
   "source": [
    "# lower() will convert all letters in lowercase\n",
    "string = \"English Alphabets\"\n",
    "print(string.lower())\n",
    "# upper() will convert all letters in uppercase\n",
    "string = \"English Alphabets\"\n",
    "print(string.upper())"
   ]
  },
  {
   "cell_type": "code",
   "execution_count": 19,
   "id": "6ba1dd5d-4d10-4567-b0d4-c769b22b3074",
   "metadata": {},
   "outputs": [
    {
     "name": "stdout",
     "output_type": "stream",
     "text": [
      "English Language\n"
     ]
    }
   ],
   "source": [
    "# replace() will switch one part of string with another \n",
    "string = \"English Alphabets\"\n",
    "print(string.replace(\"Alphabets\", \"Language\"))"
   ]
  },
  {
   "cell_type": "markdown",
   "id": "c5d14642-fe03-49ce-8079-28463ff33230",
   "metadata": {},
   "source": [
    "### String Concatenation\n",
    "\n",
    "Used to join 2 strings together using + operator."
   ]
  },
  {
   "cell_type": "code",
   "execution_count": 22,
   "id": "0253900a-26c5-4b5c-9b46-d54ff1c14afa",
   "metadata": {},
   "outputs": [
    {
     "name": "stdout",
     "output_type": "stream",
     "text": [
      "English Alphabets\n"
     ]
    }
   ],
   "source": [
    "str1 = \"English\"\n",
    "str2 = \"Alphabets\"\n",
    "print(str1 + \" \" + str2)"
   ]
  },
  {
   "cell_type": "code",
   "execution_count": null,
   "id": "2e521767-0464-4587-b198-a4d0dc8df894",
   "metadata": {},
   "outputs": [],
   "source": []
  }
 ],
 "metadata": {
  "kernelspec": {
   "display_name": "Python 3 (ipykernel)",
   "language": "python",
   "name": "python3"
  },
  "language_info": {
   "codemirror_mode": {
    "name": "ipython",
    "version": 3
   },
   "file_extension": ".py",
   "mimetype": "text/x-python",
   "name": "python",
   "nbconvert_exporter": "python",
   "pygments_lexer": "ipython3",
   "version": "3.12.7"
  }
 },
 "nbformat": 4,
 "nbformat_minor": 5
}
