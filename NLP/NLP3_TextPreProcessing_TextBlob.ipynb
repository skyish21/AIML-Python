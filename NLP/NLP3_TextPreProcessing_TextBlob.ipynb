{
 "cells": [
  {
   "cell_type": "markdown",
   "id": "c68d3cbd-506d-4766-ab27-e631521d0782",
   "metadata": {},
   "source": [
    "## TextBlob: Simplified Text Preprocessing\n",
    "\n",
    "TextBlob is a Python library for processing textual data. Why the simple api for diving into common NLP tasks such as part of speech tagging, noun pronounce extractions, sentiment analysis, classification, translation and more."
   ]
  },
  {
   "cell_type": "code",
   "execution_count": 701,
   "id": "9dcc127c-5c9c-4ed6-8075-715a0e3eb4b3",
   "metadata": {},
   "outputs": [],
   "source": [
    "from textblob import TextBlob"
   ]
  },
  {
   "cell_type": "markdown",
   "id": "00e7b4f1-d620-4380-8fbf-2d610431d02c",
   "metadata": {},
   "source": [
    "### 1. Lowercasing and Uppercasing\n",
    "Convert all characters in the text to lowercase/uppercase."
   ]
  },
  {
   "cell_type": "code",
   "execution_count": 704,
   "id": "dd5eca3a-1c39-4a78-b531-be5eaf8c3aeb",
   "metadata": {},
   "outputs": [],
   "source": [
    "text = \"TEXT preprocessing is an IMPORTANT step in NLP! It cleans and organizes data for better machine learning results.\""
   ]
  },
  {
   "cell_type": "code",
   "execution_count": 706,
   "id": "f96d6d33-7e31-4e33-95d3-b5a398ecde3b",
   "metadata": {},
   "outputs": [
    {
     "name": "stdout",
     "output_type": "stream",
     "text": [
      "TEXT PREPROCESSING IS AN IMPORTANT STEP IN NLP! IT CLEANS AND ORGANIZES DATA FOR BETTER MACHINE LEARNING RESULTS.\n"
     ]
    }
   ],
   "source": [
    "blob = TextBlob(text.upper())\n",
    "print(blob)"
   ]
  },
  {
   "cell_type": "code",
   "execution_count": 708,
   "id": "b0046cc8-4b25-4dc3-9c8e-9c324a026783",
   "metadata": {},
   "outputs": [
    {
     "name": "stdout",
     "output_type": "stream",
     "text": [
      "text preprocessing is an important step in nlp! it cleans and organizes data for better machine learning results.\n"
     ]
    }
   ],
   "source": [
    "blob = TextBlob(text.lower())\n",
    "print(blob)"
   ]
  },
  {
   "cell_type": "code",
   "execution_count": 710,
   "id": "ae5138d0-0812-401e-8849-9be5a223b51b",
   "metadata": {},
   "outputs": [
    {
     "data": {
      "text/plain": [
       "TextBlob(\"text prepr\")"
      ]
     },
     "execution_count": 710,
     "metadata": {},
     "output_type": "execute_result"
    }
   ],
   "source": [
    "# Textblobs are like strings in Python.\n",
    "blob[0:10]"
   ]
  },
  {
   "cell_type": "markdown",
   "id": "1b9d1802-38eb-48d0-b3fd-980951b86352",
   "metadata": {},
   "source": [
    "### 2. Tokenization\n",
    "Split text into smaller components, typically words or subwords (tokens)."
   ]
  },
  {
   "cell_type": "code",
   "execution_count": 713,
   "id": "1c269ff3-4933-4343-a989-707e1dd6c4ed",
   "metadata": {},
   "outputs": [
    {
     "name": "stdout",
     "output_type": "stream",
     "text": [
      "['text', 'preprocessing', 'is', 'an', 'important', 'step', 'in', 'nlp', 'it', 'cleans', 'and', 'organizes', 'data', 'for', 'better', 'machine', 'learning', 'results']\n"
     ]
    }
   ],
   "source": [
    "tokens = blob.words\n",
    "print(tokens)"
   ]
  },
  {
   "cell_type": "code",
   "execution_count": 715,
   "id": "515763c2-17de-4283-9f7c-17d7bdab5e94",
   "metadata": {},
   "outputs": [
    {
     "name": "stdout",
     "output_type": "stream",
     "text": [
      "[Sentence(\"text preprocessing is an important step in nlp!\"), Sentence(\"it cleans and organizes data for better machine learning results.\")]\n"
     ]
    }
   ],
   "source": [
    "print(blob.sentences)"
   ]
  },
  {
   "cell_type": "markdown",
   "id": "d7e952e4-3ef5-4b5b-9af5-c40be36d6a0f",
   "metadata": {},
   "source": [
    "### 3. Lemmatization\n",
    "(TextBlob doesn't support stemming)\n",
    "\n",
    "Convert words to their base or dictionary form (lemma)."
   ]
  },
  {
   "cell_type": "code",
   "execution_count": 718,
   "id": "e2d54473-eb2d-46c6-90f1-d6099e7ed841",
   "metadata": {},
   "outputs": [],
   "source": [
    "from textblob import Word"
   ]
  },
  {
   "cell_type": "code",
   "execution_count": 720,
   "id": "ac11eb78-b75b-4887-ae83-3e7911a132f2",
   "metadata": {},
   "outputs": [
    {
     "data": {
      "text/plain": [
       "'Apples'"
      ]
     },
     "execution_count": 720,
     "metadata": {},
     "output_type": "execute_result"
    }
   ],
   "source": [
    "q = Word(\"Apples\")\n",
    "q.lemmatize()"
   ]
  },
  {
   "cell_type": "code",
   "execution_count": 722,
   "id": "ecccbd88-c130-4c22-810a-2b49f4428a8d",
   "metadata": {},
   "outputs": [
    {
     "data": {
      "text/plain": [
       "'come'"
      ]
     },
     "execution_count": 722,
     "metadata": {},
     "output_type": "execute_result"
    }
   ],
   "source": [
    "q = Word(\"coming\")\n",
    "q.lemmatize(\"v\") # Pass in WordNet part of speech(\"verb\")"
   ]
  },
  {
   "cell_type": "code",
   "execution_count": 724,
   "id": "d730573b-c061-4201-9c6c-5d591b1c6334",
   "metadata": {},
   "outputs": [
    {
     "name": "stdout",
     "output_type": "stream",
     "text": [
      "['text', 'preprocessing', 'is', 'an', 'important', 'step', 'in', 'nlp', 'it', 'clean', 'and', 'organizes', 'data', 'for', 'better', 'machine', 'learning', 'result']\n"
     ]
    }
   ],
   "source": [
    "# Another method\n",
    "lemma = [word.lemmatize() for word in blob.words]\n",
    "print(lemma)"
   ]
  },
  {
   "cell_type": "markdown",
   "id": "583cd173-8406-4eaf-9d79-67015a24f660",
   "metadata": {},
   "source": [
    "### 4. Part of Speech (POS) Tagging\n",
    "Assign grammatical tags (e.g., noun, verb) to each word."
   ]
  },
  {
   "attachments": {
    "e5518540-d1da-4e0a-8787-2cdcf51995f6.png": {
     "image/png": "[encoded data removed]"
    }
   },
   "cell_type": "markdown",
   "id": "2d16c933-4751-4bc9-aa53-3de917b35898",
   "metadata": {},
   "source": [
    "![image.png](attachment:e5518540-d1da-4e0a-8787-2cdcf51995f6.png)"
   ]
  },
  {
   "cell_type": "code",
   "execution_count": 728,
   "id": "db61b12a-fb35-4b4a-93c0-a4588f969376",
   "metadata": {},
   "outputs": [
    {
     "data": {
      "text/plain": [
       "[('TEXT', 'NNP'),\n",
       " ('preprocessing', 'NN'),\n",
       " ('is', 'VBZ'),\n",
       " ('an', 'DT'),\n",
       " ('IMPORTANT', 'JJ'),\n",
       " ('step', 'NN'),\n",
       " ('in', 'IN'),\n",
       " ('NLP', 'NNP'),\n",
       " ('It', 'PRP'),\n",
       " ('cleans', 'VBZ'),\n",
       " ('and', 'CC'),\n",
       " ('organizes', 'VBZ'),\n",
       " ('data', 'NNS'),\n",
       " ('for', 'IN'),\n",
       " ('better', 'JJR'),\n",
       " ('machine', 'NN'),\n",
       " ('learning', 'VBG'),\n",
       " ('results', 'NNS')]"
      ]
     },
     "execution_count": 728,
     "metadata": {},
     "output_type": "execute_result"
    }
   ],
   "source": [
    "blob = TextBlob(text)\n",
    "blob.tags"
   ]
  },
  {
   "cell_type": "markdown",
   "id": "ad53b937-a447-451d-a5cc-9d6041824589",
   "metadata": {},
   "source": [
    "### 5. Spelling Correction\n",
    "Automatically correct misspelled words."
   ]
  },
  {
   "cell_type": "code",
   "execution_count": 625,
   "id": "6c956e5a-206d-4b1e-9da2-9b979b85914d",
   "metadata": {},
   "outputs": [],
   "source": [
    "string = \" It is a sonny day today\"\n",
    "\n",
    "blob = TextBlob(string.lower())"
   ]
  },
  {
   "cell_type": "code",
   "execution_count": 627,
   "id": "497f7425-41cb-41a7-8cfa-7de7f7d95f93",
   "metadata": {},
   "outputs": [
    {
     "name": "stdout",
     "output_type": "stream",
     "text": [
      " it is a sunny day today\n"
     ]
    }
   ],
   "source": [
    "spell_check = blob.correct()\n",
    "print(spell_check)"
   ]
  },
  {
   "cell_type": "code",
   "execution_count": null,
   "id": "0005a416-d00f-4cf7-889f-029d5774ec9b",
   "metadata": {},
   "outputs": [],
   "source": []
  },
  {
   "cell_type": "markdown",
   "id": "b83c2746-3040-4410-938c-4d0fca027e08",
   "metadata": {},
   "source": [
    "## Features of TextBlob"
   ]
  },
  {
   "cell_type": "markdown",
   "id": "689b22cb-4c32-47f9-a506-0c3ce3cf3c7e",
   "metadata": {},
   "source": [
    "### 1. Noun Phrase Extraction\n",
    "Extract noun phrases from text. Noun phrases are groups of words that act as a noun."
   ]
  },
  {
   "cell_type": "code",
   "execution_count": 632,
   "id": "d7715f23-1f1b-4537-8ca4-d924a68d472a",
   "metadata": {},
   "outputs": [],
   "source": [
    "text1 = \"The beautiful park near the river is a perfect picnic spot.\"\n",
    "blob = TextBlob(text1)"
   ]
  },
  {
   "cell_type": "code",
   "execution_count": 634,
   "id": "aed7fe5d-71da-4e42-90b7-ab2a1a495a56",
   "metadata": {},
   "outputs": [
    {
     "name": "stdout",
     "output_type": "stream",
     "text": [
      "['beautiful park', 'perfect picnic spot']\n"
     ]
    }
   ],
   "source": [
    "print(blob.noun_phrases)"
   ]
  },
  {
   "cell_type": "markdown",
   "id": "1315285f-4a3f-4424-9dee-028dc60d81c3",
   "metadata": {},
   "source": [
    "### 2. Part-of-Speech Tagging\n",
    "Identify the grammatical role of each word."
   ]
  },
  {
   "cell_type": "code",
   "execution_count": 637,
   "id": "9b535267-430d-4d8f-9178-3b079aaacd41",
   "metadata": {},
   "outputs": [
    {
     "name": "stdout",
     "output_type": "stream",
     "text": [
      "[('The', 'DT'), ('beautiful', 'JJ'), ('park', 'NN'), ('near', 'IN'), ('the', 'DT'), ('river', 'NN'), ('is', 'VBZ'), ('a', 'DT'), ('perfect', 'JJ'), ('picnic', 'JJ'), ('spot', 'NN')]\n"
     ]
    }
   ],
   "source": [
    "print(blob.tags)"
   ]
  },
  {
   "cell_type": "markdown",
   "id": "6eacb056-fcb0-4443-8ccc-f41395aae87d",
   "metadata": {},
   "source": [
    "### 3. Sentiment Analysis\n",
    "Analyze the sentiment (polarity and subjectivity) of text."
   ]
  },
  {
   "cell_type": "code",
   "execution_count": 640,
   "id": "8ed36d11-4a96-4923-8475-7963ed54cf6b",
   "metadata": {},
   "outputs": [
    {
     "name": "stdout",
     "output_type": "stream",
     "text": [
      "Sentiment(polarity=0.65, subjectivity=0.7999999999999999) \n",
      "\n"
     ]
    }
   ],
   "source": [
    "print(blob.sentiment, \"\\n\")"
   ]
  },
  {
   "cell_type": "markdown",
   "id": "154cbffd-3b46-44f8-b2f5-101275847222",
   "metadata": {},
   "source": [
    "### 4. Language Translation and Detection\n",
    "Translate and detect the language of a text."
   ]
  },
  {
   "cell_type": "code",
   "execution_count": 643,
   "id": "3074f53a-6a40-406a-91c5-c467daf3e846",
   "metadata": {},
   "outputs": [
    {
     "ename": "AttributeError",
     "evalue": "'TextBlob' object has no attribute 'detect_language'",
     "output_type": "error",
     "traceback": [
      "\u001b[1;31m---------------------------------------------------------------------------\u001b[0m",
      "\u001b[1;31mAttributeError\u001b[0m                            Traceback (most recent call last)",
      "Cell \u001b[1;32mIn[643], line 2\u001b[0m\n\u001b[0;32m      1\u001b[0m text \u001b[38;5;241m=\u001b[39m TextBlob(\u001b[38;5;124m\"\u001b[39m\u001b[38;5;124mBonjour tout le monde\u001b[39m\u001b[38;5;124m\"\u001b[39m)\n\u001b[1;32m----> 2\u001b[0m \u001b[38;5;28mprint\u001b[39m(text\u001b[38;5;241m.\u001b[39mdetect_language())\n\u001b[0;32m      3\u001b[0m \u001b[38;5;28mprint\u001b[39m(text\u001b[38;5;241m.\u001b[39mtranslate(to\u001b[38;5;241m=\u001b[39m\u001b[38;5;124m\"\u001b[39m\u001b[38;5;124men\u001b[39m\u001b[38;5;124m\"\u001b[39m))\n",
      "\u001b[1;31mAttributeError\u001b[0m: 'TextBlob' object has no attribute 'detect_language'"
     ]
    }
   ],
   "source": [
    "text = TextBlob(\"Bonjour tout le monde\")\n",
    "print(text.detect_language())\n",
    "print(text.translate(to=\"en\"))"
   ]
  },
  {
   "cell_type": "markdown",
   "id": "0c13e0e6-af77-4ce6-ac74-128907d25650",
   "metadata": {},
   "source": [
    "### 5. WordLists\n",
    "Find out which words are in the sentence and ignore spaces between them."
   ]
  },
  {
   "cell_type": "code",
   "execution_count": 646,
   "id": "2b0571eb-6584-4c72-b2c4-2f40f1ea9531",
   "metadata": {},
   "outputs": [
    {
     "data": {
      "text/plain": [
       "WordList(['cow', 'sheep', 'crow'])"
      ]
     },
     "execution_count": 646,
     "metadata": {},
     "output_type": "execute_result"
    }
   ],
   "source": [
    "animals = TextBlob(\"cow sheep crow\")\n",
    "animals.words"
   ]
  },
  {
   "cell_type": "markdown",
   "id": "e01cb25e-303a-4793-b760-04d5fb51e487",
   "metadata": {},
   "source": [
    "### 6. Word and Phrase Frequencies\n",
    "Count word occurrences."
   ]
  },
  {
   "cell_type": "code",
   "execution_count": 649,
   "id": "cf67e4de-1944-4459-a69e-c185b6a7f663",
   "metadata": {},
   "outputs": [],
   "source": [
    "from collections import Counter"
   ]
  },
  {
   "cell_type": "code",
   "execution_count": 651,
   "id": "451bfbe4-c2c1-4e9a-b42f-8b2dddd38d3b",
   "metadata": {},
   "outputs": [
    {
     "data": {
      "text/plain": [
       "Counter({'the': 2,\n",
       "         'day': 2,\n",
       "         'is': 2,\n",
       "         'passing': 1,\n",
       "         'by': 1,\n",
       "         'very': 1,\n",
       "         'slowly': 1,\n",
       "         'it': 1,\n",
       "         'hard': 1,\n",
       "         'to': 1,\n",
       "         'pass': 1,\n",
       "         'time': 1,\n",
       "         'feels': 1,\n",
       "         'long': 1})"
      ]
     },
     "execution_count": 651,
     "metadata": {},
     "output_type": "execute_result"
    }
   ],
   "source": [
    "blob = TextBlob(\"the day is passing by very slowly. it is hard to pass time. the day feels long.\")\n",
    "words = blob.words\n",
    "freq = Counter(words)\n",
    "freq"
   ]
  },
  {
   "cell_type": "code",
   "execution_count": 653,
   "id": "49c8cd81-d997-4ad9-9e52-8142b1978687",
   "metadata": {},
   "outputs": [
    {
     "data": {
      "text/plain": [
       "2"
      ]
     },
     "execution_count": 653,
     "metadata": {},
     "output_type": "execute_result"
    }
   ],
   "source": [
    "# Methods to count frequency of word in a sentence.\n",
    "blob.word_counts['day']"
   ]
  },
  {
   "cell_type": "code",
   "execution_count": 655,
   "id": "58080f09-15fe-40a5-9d3b-f56939c8b372",
   "metadata": {},
   "outputs": [
    {
     "data": {
      "text/plain": [
       "2"
      ]
     },
     "execution_count": 655,
     "metadata": {},
     "output_type": "execute_result"
    }
   ],
   "source": [
    "# Another method to count frequency of word in a sentence.\n",
    "blob.words.count('day')"
   ]
  },
  {
   "cell_type": "code",
   "execution_count": 657,
   "id": "3012f7c0-2f1c-41a7-a088-8c777f86c3be",
   "metadata": {},
   "outputs": [
    {
     "data": {
      "text/plain": [
       "2"
      ]
     },
     "execution_count": 657,
     "metadata": {},
     "output_type": "execute_result"
    }
   ],
   "source": [
    "# Case sensitive method to search word in a sentence.  (default is False)\n",
    "blob.words.count('day', case_sensitive=True)"
   ]
  },
  {
   "cell_type": "markdown",
   "id": "3023b9a4-f683-4455-be7a-ef423f179333",
   "metadata": {},
   "source": [
    "### 7. n-grams\n",
    "Extract consecutive sequences of n words."
   ]
  },
  {
   "cell_type": "code",
   "execution_count": 660,
   "id": "0054805a-e1ee-4f15-9a18-9ffed20452ca",
   "metadata": {},
   "outputs": [
    {
     "data": {
      "text/plain": [
       "[WordList(['the', 'day', 'is', 'passing', 'by']),\n",
       " WordList(['day', 'is', 'passing', 'by', 'very']),\n",
       " WordList(['is', 'passing', 'by', 'very', 'slowly']),\n",
       " WordList(['passing', 'by', 'very', 'slowly', 'it']),\n",
       " WordList(['by', 'very', 'slowly', 'it', 'is']),\n",
       " WordList(['very', 'slowly', 'it', 'is', 'hard']),\n",
       " WordList(['slowly', 'it', 'is', 'hard', 'to']),\n",
       " WordList(['it', 'is', 'hard', 'to', 'pass']),\n",
       " WordList(['is', 'hard', 'to', 'pass', 'time']),\n",
       " WordList(['hard', 'to', 'pass', 'time', 'the']),\n",
       " WordList(['to', 'pass', 'time', 'the', 'day']),\n",
       " WordList(['pass', 'time', 'the', 'day', 'feels']),\n",
       " WordList(['time', 'the', 'day', 'feels', 'long'])]"
      ]
     },
     "execution_count": 660,
     "metadata": {},
     "output_type": "execute_result"
    }
   ],
   "source": [
    "seq = list(blob.ngrams(5))\n",
    "seq"
   ]
  },
  {
   "cell_type": "code",
   "execution_count": 662,
   "id": "922c53a6-2b64-4243-8aef-ba96b30cb585",
   "metadata": {},
   "outputs": [
    {
     "data": {
      "text/plain": [
       "[WordList(['the', 'day']),\n",
       " WordList(['day', 'is']),\n",
       " WordList(['is', 'passing']),\n",
       " WordList(['passing', 'by']),\n",
       " WordList(['by', 'very']),\n",
       " WordList(['very', 'slowly']),\n",
       " WordList(['slowly', 'it']),\n",
       " WordList(['it', 'is']),\n",
       " WordList(['is', 'hard']),\n",
       " WordList(['hard', 'to']),\n",
       " WordList(['to', 'pass']),\n",
       " WordList(['pass', 'time']),\n",
       " WordList(['time', 'the']),\n",
       " WordList(['the', 'day']),\n",
       " WordList(['day', 'feels']),\n",
       " WordList(['feels', 'long'])]"
      ]
     },
     "execution_count": 662,
     "metadata": {},
     "output_type": "execute_result"
    }
   ],
   "source": [
    "# Another method\n",
    "seq = (blob.ngrams(2))\n",
    "seq"
   ]
  },
  {
   "cell_type": "markdown",
   "id": "67a4a95f-6ae5-4926-8296-c9c9ba93b4c0",
   "metadata": {},
   "source": [
    "### 8. Word Inflection \n",
    "Handle pluralization and singularization."
   ]
  },
  {
   "cell_type": "code",
   "execution_count": 665,
   "id": "d74ce558-2f9e-4873-9174-bb04f67e7c6e",
   "metadata": {},
   "outputs": [
    {
     "name": "stdout",
     "output_type": "stream",
     "text": [
      "['dogs', 'are', 'eating', 'rotis']\n",
      "['dog', 'are', 'eating', 'roti']\n"
     ]
    }
   ],
   "source": [
    "word1 = TextBlob(\"dogs are eating rotis.\")\n",
    "print(word1.words)\n",
    "print(word1.words[0:4].singularize())"
   ]
  },
  {
   "cell_type": "code",
   "execution_count": 667,
   "id": "86070c81-ab61-42bd-b2f3-3b3ff53bfaaa",
   "metadata": {},
   "outputs": [
    {
     "name": "stdout",
     "output_type": "stream",
     "text": [
      "['dogs', 'iss', 'eatings', 'rotis']\n"
     ]
    }
   ],
   "source": [
    "word2 = TextBlob(\"dog is eating roti.\")\n",
    "print(word2.words[0:4].pluralize())"
   ]
  },
  {
   "cell_type": "markdown",
   "id": "9644c1fe-374a-4e8b-87ea-1b27bd9241ad",
   "metadata": {},
   "source": [
    "### 9. WordNet Integration\n",
    "Access synonyms, antonyms, and definitions."
   ]
  },
  {
   "cell_type": "code",
   "execution_count": 670,
   "id": "27cc183a-d614-45f5-b37a-05594507360f",
   "metadata": {},
   "outputs": [],
   "source": [
    "# pip install nltk\n",
    "from textblob.wordnet import Synset"
   ]
  },
  {
   "cell_type": "code",
   "execution_count": 672,
   "id": "9a863a9b-fbea-4ea2-9c2b-fd651997fba3",
   "metadata": {},
   "outputs": [
    {
     "data": {
      "text/plain": [
       "'a motor vehicle with four wheels; usually propelled by an internal combustion engine'"
      ]
     },
     "execution_count": 672,
     "metadata": {},
     "output_type": "execute_result"
    }
   ],
   "source": [
    "# definitions\n",
    "synset1 = Synset('car.n.01')\n",
    "synset1.definition()"
   ]
  },
  {
   "cell_type": "code",
   "execution_count": 674,
   "id": "4d5813db-4cac-49a3-b77c-51f7a6a2a020",
   "metadata": {},
   "outputs": [
    {
     "data": {
      "text/plain": [
       "'a politically organized body of people under a single government'"
      ]
     },
     "execution_count": 674,
     "metadata": {},
     "output_type": "execute_result"
    }
   ],
   "source": [
    "synset2 = Synset('country.n.01')\n",
    "synset2.definition()"
   ]
  },
  {
   "cell_type": "code",
   "execution_count": 676,
   "id": "5404980c-a33f-4e21-8408-a5b3f84d3309",
   "metadata": {},
   "outputs": [
    {
     "data": {
      "text/plain": [
       "0.05555555555555555"
      ]
     },
     "execution_count": 676,
     "metadata": {},
     "output_type": "execute_result"
    }
   ],
   "source": [
    "# Check similarity between both\n",
    "synset1.path_similarity(synset2)"
   ]
  },
  {
   "cell_type": "code",
   "execution_count": 678,
   "id": "da0f2d65-7bf6-426b-a1cd-2b4ed4d822ba",
   "metadata": {},
   "outputs": [
    {
     "name": "stdout",
     "output_type": "stream",
     "text": [
      "Synonyms: ['queen']\n"
     ]
    }
   ],
   "source": [
    "#synonyms\n",
    "print(\"Synonyms:\", [lemma.name() for lemma in synset.lemmas()])"
   ]
  },
  {
   "cell_type": "code",
   "execution_count": null,
   "id": "1c81f1c0-bd1a-4a65-adf0-99edee70d147",
   "metadata": {},
   "outputs": [],
   "source": []
  }
 ],
 "metadata": {
  "kernelspec": {
   "display_name": "Python 3 (ipykernel)",
   "language": "python",
   "name": "python3"
  },
  "language_info": {
   "codemirror_mode": {
    "name": "ipython",
    "version": 3
   },
   "file_extension": ".py",
   "mimetype": "text/x-python",
   "name": "python",
   "nbconvert_exporter": "python",
   "pygments_lexer": "ipython3",
   "version": "3.12.7"
  }
 },
 "nbformat": 4,
 "nbformat_minor": 5
}
