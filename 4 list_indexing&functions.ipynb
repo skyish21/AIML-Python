{
 "cells": [
  {
   "cell_type": "code",
   "execution_count": 1,
   "id": "a721bc80-6eec-4bcd-b15f-9b4e0da9f4c0",
   "metadata": {},
   "outputs": [
    {
     "data": {
      "text/plain": [
       "'saurav'"
      ]
     },
     "execution_count": 1,
     "metadata": {},
     "output_type": "execute_result"
    }
   ],
   "source": [
    "l1=['saurav','gaurav','lovely','gitanjali']\n",
    "l1[0]"
   ]
  },
  {
   "cell_type": "code",
   "execution_count": 3,
   "id": "ec2af714-d48a-4ea0-9256-4dd9c3fde823",
   "metadata": {},
   "outputs": [
    {
     "data": {
      "text/plain": [
       "'gaurav'"
      ]
     },
     "execution_count": 3,
     "metadata": {},
     "output_type": "execute_result"
    }
   ],
   "source": [
    "l1[1]"
   ]
  },
  {
   "cell_type": "code",
   "execution_count": 5,
   "id": "2a0aa975-c8e2-4d67-ba7e-e4574f853169",
   "metadata": {},
   "outputs": [
    {
     "data": {
      "text/plain": [
       "'lovely'"
      ]
     },
     "execution_count": 5,
     "metadata": {},
     "output_type": "execute_result"
    }
   ],
   "source": [
    "l1[2]"
   ]
  },
  {
   "cell_type": "code",
   "execution_count": 7,
   "id": "411da1e7-17ee-4b8f-b0e4-f7f50457e214",
   "metadata": {},
   "outputs": [
    {
     "data": {
      "text/plain": [
       "'gitanjali'"
      ]
     },
     "execution_count": 7,
     "metadata": {},
     "output_type": "execute_result"
    }
   ],
   "source": [
    "l1[3]"
   ]
  },
  {
   "cell_type": "code",
   "execution_count": 9,
   "id": "c0988aa2-8ed8-4c49-a97e-9546ddcaa702",
   "metadata": {},
   "outputs": [],
   "source": [
    "l1[3]='babu'"
   ]
  },
  {
   "cell_type": "code",
   "execution_count": 13,
   "id": "19a2996c-e7fb-4f82-88f7-a1e05c7bcd2d",
   "metadata": {},
   "outputs": [
    {
     "data": {
      "text/plain": [
       "['saurav', 'gaurav', 'lovely', 'babu']"
      ]
     },
     "execution_count": 13,
     "metadata": {},
     "output_type": "execute_result"
    }
   ],
   "source": [
    "l1"
   ]
  },
  {
   "cell_type": "code",
   "execution_count": 15,
   "id": "0d07fae1-6948-4d44-927f-16ddbb66e760",
   "metadata": {},
   "outputs": [
    {
     "data": {
      "text/plain": [
       "'babu'"
      ]
     },
     "execution_count": 15,
     "metadata": {},
     "output_type": "execute_result"
    }
   ],
   "source": [
    "l1[3]"
   ]
  },
  {
   "cell_type": "code",
   "execution_count": 30,
   "id": "eeb40a19-92c7-4093-a3cd-23084c01518f",
   "metadata": {},
   "outputs": [
    {
     "data": {
      "text/plain": [
       "[11, 22, 33, 55, 66, 88, 44, 77, 99]"
      ]
     },
     "execution_count": 30,
     "metadata": {},
     "output_type": "execute_result"
    }
   ],
   "source": [
    "l2=[11,22,33,55,66,88,44,77,99]\n",
    "l2"
   ]
  },
  {
   "cell_type": "code",
   "execution_count": 36,
   "id": "2a81c388-ff4b-4f8a-ac5c-69561108d213",
   "metadata": {},
   "outputs": [
    {
     "data": {
      "text/plain": [
       "[11, 22, 33, 55, 1607, 88, 44, 77, 99]"
      ]
     },
     "execution_count": 36,
     "metadata": {},
     "output_type": "execute_result"
    }
   ],
   "source": [
    "l2[4]=1607\n",
    "l2"
   ]
  },
  {
   "cell_type": "code",
   "execution_count": 38,
   "id": "5f38bce5-9663-4a3f-b5b8-9d59ae7a8b4a",
   "metadata": {},
   "outputs": [
    {
     "data": {
      "text/plain": [
       "[22, 33, 55, 1607, 88, 44, 77, 99]"
      ]
     },
     "execution_count": 38,
     "metadata": {},
     "output_type": "execute_result"
    }
   ],
   "source": [
    "l2[1:]"
   ]
  },
  {
   "cell_type": "code",
   "execution_count": 40,
   "id": "1da5f116-553a-4f44-a90b-53bbd17400a3",
   "metadata": {},
   "outputs": [
    {
     "data": {
      "text/plain": [
       "[33, 55, 1607, 88, 44, 77, 99]"
      ]
     },
     "execution_count": 40,
     "metadata": {},
     "output_type": "execute_result"
    }
   ],
   "source": [
    "l2[2:]"
   ]
  },
  {
   "cell_type": "code",
   "execution_count": 50,
   "id": "55e6f63b-114a-4707-8014-30a09ea02be3",
   "metadata": {},
   "outputs": [
    {
     "data": {
      "text/plain": [
       "[22, 33, 55, 1607, 88, 44]"
      ]
     },
     "execution_count": 50,
     "metadata": {},
     "output_type": "execute_result"
    }
   ],
   "source": [
    "l2[1:7] #does not include element at 7th index"
   ]
  },
  {
   "cell_type": "code",
   "execution_count": 44,
   "id": "a963d3df-dff0-425a-9b31-5fb20265f831",
   "metadata": {},
   "outputs": [
    {
     "data": {
      "text/plain": [
       "[11, 22, 33]"
      ]
     },
     "execution_count": 44,
     "metadata": {},
     "output_type": "execute_result"
    }
   ],
   "source": [
    "l2[:3]"
   ]
  },
  {
   "cell_type": "code",
   "execution_count": 46,
   "id": "7f4ce3e9-272e-4a3c-9dd6-796312a14214",
   "metadata": {},
   "outputs": [
    {
     "data": {
      "text/plain": [
       "[11, 22, 33, 55, 1607, 88, 44, 77, 99]"
      ]
     },
     "execution_count": 46,
     "metadata": {},
     "output_type": "execute_result"
    }
   ],
   "source": [
    "l2"
   ]
  },
  {
   "cell_type": "code",
   "execution_count": 48,
   "id": "b8494999-0449-4246-9680-da47110f90b4",
   "metadata": {},
   "outputs": [
    {
     "data": {
      "text/plain": [
       "[11, 22, 33, 55, 1607, 88, 44, 77, 99, 6622]"
      ]
     },
     "execution_count": 48,
     "metadata": {},
     "output_type": "execute_result"
    }
   ],
   "source": [
    "l2 + [6622]"
   ]
  },
  {
   "cell_type": "code",
   "execution_count": 58,
   "id": "452e7cfb-eb40-4545-a28d-fd79e8394924",
   "metadata": {},
   "outputs": [
    {
     "data": {
      "text/plain": [
       "[11, 22, 33, 55, 1607, 88, 44, 77, 99, 5566, 5566, 5566, 556]"
      ]
     },
     "execution_count": 58,
     "metadata": {},
     "output_type": "execute_result"
    }
   ],
   "source": [
    "l2=l2+[556]\n",
    "l2"
   ]
  },
  {
   "cell_type": "code",
   "execution_count": 64,
   "id": "82c1daa6-0fb5-498f-8c53-247b9e6db024",
   "metadata": {},
   "outputs": [
    {
     "data": {
      "text/plain": [
       "[11,\n",
       " 22,\n",
       " 33,\n",
       " 55,\n",
       " 1607,\n",
       " 88,\n",
       " 44,\n",
       " 77,\n",
       " 99,\n",
       " 5566,\n",
       " 5566,\n",
       " 5566,\n",
       " 556,\n",
       " 11,\n",
       " 22,\n",
       " 33,\n",
       " 55,\n",
       " 1607,\n",
       " 88,\n",
       " 44,\n",
       " 77,\n",
       " 99,\n",
       " 5566,\n",
       " 5566,\n",
       " 5566,\n",
       " 556,\n",
       " 11,\n",
       " 22,\n",
       " 33,\n",
       " 55,\n",
       " 1607,\n",
       " 88,\n",
       " 44,\n",
       " 77,\n",
       " 99,\n",
       " 5566,\n",
       " 5566,\n",
       " 5566,\n",
       " 556,\n",
       " 11,\n",
       " 22,\n",
       " 33,\n",
       " 55,\n",
       " 1607,\n",
       " 88,\n",
       " 44,\n",
       " 77,\n",
       " 99,\n",
       " 5566,\n",
       " 5566,\n",
       " 5566,\n",
       " 556]"
      ]
     },
     "execution_count": 64,
     "metadata": {},
     "output_type": "execute_result"
    }
   ],
   "source": [
    "l2* 4"
   ]
  },
  {
   "cell_type": "code",
   "execution_count": 72,
   "id": "2000eb4f-475c-4c35-a82a-2bf2f5b88677",
   "metadata": {},
   "outputs": [
    {
     "name": "stdout",
     "output_type": "stream",
     "text": [
      "====================================================================================================\n",
      "[11, 22, 33, 55, 1607, 88, 44, 77, 99, 5566, 5566, 5566, 556]\n",
      "====================================================================================================\n"
     ]
    }
   ],
   "source": [
    "print('='* 100)\n",
    "print(l2)\n",
    "print('='* 100)"
   ]
  },
  {
   "cell_type": "code",
   "execution_count": 74,
   "id": "6a4abdf0-6e25-4c2f-91cd-77a444e59777",
   "metadata": {},
   "outputs": [],
   "source": [
    "marks=[51,56,89,78,89,45,56,12,12,32,45,32,65,45,89,78,45,56,23,12,4,5,23,23,56]"
   ]
  },
  {
   "cell_type": "code",
   "execution_count": 76,
   "id": "e0deb07f-caa7-4a0a-b627-dae861c24f66",
   "metadata": {},
   "outputs": [
    {
     "data": {
      "text/plain": [
       "3"
      ]
     },
     "execution_count": 76,
     "metadata": {},
     "output_type": "execute_result"
    }
   ],
   "source": [
    "marks.count(23)"
   ]
  },
  {
   "cell_type": "code",
   "execution_count": 78,
   "id": "c8f4c20a-4640-4901-8990-a3a7e8c71861",
   "metadata": {},
   "outputs": [
    {
     "data": {
      "text/plain": [
       "3"
      ]
     },
     "execution_count": 78,
     "metadata": {},
     "output_type": "execute_result"
    }
   ],
   "source": [
    "marks.count(89)"
   ]
  },
  {
   "cell_type": "code",
   "execution_count": 82,
   "id": "d433e879-d9bf-454f-a418-6a17e5c1cb50",
   "metadata": {},
   "outputs": [
    {
     "data": {
      "text/plain": [
       "['munmun', 'lovely']"
      ]
     },
     "execution_count": 82,
     "metadata": {},
     "output_type": "execute_result"
    }
   ],
   "source": [
    "lst=['munmun','lovely']\n",
    "lst"
   ]
  },
  {
   "cell_type": "code",
   "execution_count": 136,
   "id": "d028d2a6-d020-48f6-a1ea-e27d658ead3a",
   "metadata": {},
   "outputs": [
    {
     "data": {
      "text/plain": [
       "['munmun', 'lovely', ['amisha', 'khushi'], ['amisha', 'khushi']]"
      ]
     },
     "execution_count": 136,
     "metadata": {},
     "output_type": "execute_result"
    }
   ],
   "source": [
    "lst.append(['amisha','khushi'])\n",
    "lst"
   ]
  },
  {
   "cell_type": "code",
   "execution_count": 90,
   "id": "2e8d94ad-d56d-43d5-a9e5-9ce55cbd1067",
   "metadata": {},
   "outputs": [
    {
     "data": {
      "text/plain": [
       "['munmun', 'lovely']"
      ]
     },
     "execution_count": 90,
     "metadata": {},
     "output_type": "execute_result"
    }
   ],
   "source": [
    "lst1=['munmun','lovely']\n",
    "lst1"
   ]
  },
  {
   "cell_type": "code",
   "execution_count": 142,
   "id": "de72cffb-d228-4982-a6c2-9f8bd364de85",
   "metadata": {},
   "outputs": [],
   "source": [
    "lst1.extend(['amisha','khusi'])"
   ]
  },
  {
   "cell_type": "code",
   "execution_count": 148,
   "id": "661a5c79-3c78-46ee-acd6-7cd9e592fc45",
   "metadata": {},
   "outputs": [
    {
     "data": {
      "text/plain": [
       "['munmun',\n",
       " 'lovely',\n",
       " 'munmun',\n",
       " 'lovely',\n",
       " 'munmun',\n",
       " 'lovely',\n",
       " 'amisha',\n",
       " 'khusi',\n",
       " 'amisha',\n",
       " 'khusi']"
      ]
     },
     "execution_count": 148,
     "metadata": {},
     "output_type": "execute_result"
    }
   ],
   "source": [
    "lst1"
   ]
  },
  {
   "cell_type": "code",
   "execution_count": 158,
   "id": "d6912f08-84d1-4dd9-b696-2c4283ce288f",
   "metadata": {},
   "outputs": [],
   "source": [
    "listnew=['raj','shukla','shailesh','priya','anjali']"
   ]
  },
  {
   "cell_type": "code",
   "execution_count": 160,
   "id": "e4c124c2-41a5-497f-8d5b-79fa2ead8e51",
   "metadata": {},
   "outputs": [
    {
     "data": {
      "text/plain": [
       "['raj', 'shukla', 'shailesh', 'priya', 'anjali']"
      ]
     },
     "execution_count": 160,
     "metadata": {},
     "output_type": "execute_result"
    }
   ],
   "source": [
    "listnew"
   ]
  },
  {
   "cell_type": "code",
   "execution_count": 162,
   "id": "1a4d3497-4b9c-4702-8f8f-a2846c44f6dc",
   "metadata": {},
   "outputs": [
    {
     "data": {
      "text/plain": [
       "'anjali'"
      ]
     },
     "execution_count": 162,
     "metadata": {},
     "output_type": "execute_result"
    }
   ],
   "source": [
    "pop_anjali=listnew.pop()\n",
    "pop_anjali"
   ]
  },
  {
   "cell_type": "code",
   "execution_count": 164,
   "id": "ea8f5808-8f6a-4489-a3b0-cbffaef02de8",
   "metadata": {},
   "outputs": [
    {
     "data": {
      "text/plain": [
       "['raj', 'shukla', 'shailesh', 'priya']"
      ]
     },
     "execution_count": 164,
     "metadata": {},
     "output_type": "execute_result"
    }
   ],
   "source": [
    "listnew"
   ]
  },
  {
   "cell_type": "code",
   "execution_count": 166,
   "id": "02049d24-68d1-49be-a112-055c81d853f1",
   "metadata": {},
   "outputs": [
    {
     "data": {
      "text/plain": [
       "'shukla'"
      ]
     },
     "execution_count": 166,
     "metadata": {},
     "output_type": "execute_result"
    }
   ],
   "source": [
    "pop_shukla=listnew.pop(1)\n",
    "pop_shukla"
   ]
  },
  {
   "cell_type": "code",
   "execution_count": 168,
   "id": "f60e49be-9ff4-4dbe-9b8d-fb11894c55b9",
   "metadata": {},
   "outputs": [
    {
     "data": {
      "text/plain": [
       "['raj', 'shailesh', 'priya']"
      ]
     },
     "execution_count": 168,
     "metadata": {},
     "output_type": "execute_result"
    }
   ],
   "source": [
    "listnew"
   ]
  },
  {
   "cell_type": "code",
   "execution_count": 120,
   "id": "3ebacbad-4e4f-46b6-aec1-b5319089778b",
   "metadata": {},
   "outputs": [
    {
     "data": {
      "text/plain": [
       "[12, 33, 44, 23, 67, 3, 4, 45]"
      ]
     },
     "execution_count": 120,
     "metadata": {},
     "output_type": "execute_result"
    }
   ],
   "source": [
    "list1=[12,33,44,23,54,67,3,4,45]\n",
    "list1.remove(54)\n",
    "list1"
   ]
  },
  {
   "cell_type": "code",
   "execution_count": 122,
   "id": "eaa66220-988d-428c-b5df-14a2af39735d",
   "metadata": {},
   "outputs": [
    {
     "data": {
      "text/plain": [
       "[45, 4, 3, 67, 23, 44, 33, 12]"
      ]
     },
     "execution_count": 122,
     "metadata": {},
     "output_type": "execute_result"
    }
   ],
   "source": [
    "list1.reverse()\n",
    "list1"
   ]
  },
  {
   "cell_type": "code",
   "execution_count": 124,
   "id": "5eb6d73f-a149-41fe-a4e1-4fd7f61356ed",
   "metadata": {},
   "outputs": [
    {
     "data": {
      "text/plain": [
       "[3, 4, 12, 23, 33, 44, 45, 67]"
      ]
     },
     "execution_count": 124,
     "metadata": {},
     "output_type": "execute_result"
    }
   ],
   "source": [
    "list1.sort()\n",
    "list1"
   ]
  },
  {
   "cell_type": "code",
   "execution_count": 170,
   "id": "b5ad8232-f837-42d4-86e4-c116063e2b90",
   "metadata": {},
   "outputs": [
    {
     "data": {
      "text/plain": [
       "[67, 45, 44, 33, 23, 12, 4, 3]"
      ]
     },
     "execution_count": 170,
     "metadata": {},
     "output_type": "execute_result"
    }
   ],
   "source": [
    "list1.sort(reverse=True)\n",
    "list1"
   ]
  },
  {
   "cell_type": "code",
   "execution_count": null,
   "id": "cb1d8251-1ff9-4617-8efd-841f7cc55a27",
   "metadata": {},
   "outputs": [],
   "source": []
  }
 ],
 "metadata": {
  "kernelspec": {
   "display_name": "Python 3 (ipykernel)",
   "language": "python",
   "name": "python3"
  },
  "language_info": {
   "codemirror_mode": {
    "name": "ipython",
    "version": 3
   },
   "file_extension": ".py",
   "mimetype": "text/x-python",
   "name": "python",
   "nbconvert_exporter": "python",
   "pygments_lexer": "ipython3",
   "version": "3.12.7"
  }
 },
 "nbformat": 4,
 "nbformat_minor": 5
}
