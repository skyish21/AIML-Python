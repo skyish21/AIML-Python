{
 "cells": [
  {
   "cell_type": "code",
   "execution_count": 95,
   "id": "5a058650-b3b0-4fbc-aee4-7c6f6f740ac2",
   "metadata": {},
   "outputs": [],
   "source": [
    "# a class can function as a blueprint to create objects\n",
    "# we can assign/define attributes which describe what an object has/is\n",
    "# we can also define method which define what an object can do\n",
    "# init : is a special method used to pass in some arguments which can be assigned an object's specific attributes\n",
    "# we can reuse this class to create more objects\n",
    "\n",
    "# class names should start with capital\n",
    "class Car:\n",
    "\n",
    "    # init(initializer) : it is a method/constructor that will create/construct objects for us\n",
    "    # self is refering to the object we are currently working on or creating\n",
    "    def __init__(self, make, model, color, year):\n",
    "\n",
    "        # self.(attribute) defines each car's specific attribute\n",
    "        # we are assigning the arguments we recieve to attributes of car object\n",
    "        self.make = make\n",
    "        self.model = model\n",
    "        self.color = color\n",
    "        self.year = year\n",
    "\n",
    "    # objects can have method which define function of the object\n",
    "    # for eg: a car can drive, stop, accelerate, etc.\n",
    "    def drive(self):\n",
    "        print(\"Driving\")\n",
    "\n",
    "    def stop(self):\n",
    "        print(\"Stopping\")"
   ]
  },
  {
   "cell_type": "code",
   "execution_count": 97,
   "id": "9a57f27a-3cd7-4bd2-8ed9-0ca23b8d4a6a",
   "metadata": {},
   "outputs": [],
   "source": [
    "# creating objects\n",
    "# we do not need to pass in self as it is done automatically in python\n",
    "car_1 = Car(\"Chevy\", \"Corvette\", \"blue\", \"2021\")"
   ]
  },
  {
   "cell_type": "code",
   "execution_count": 99,
   "id": "e7f2ee75-8fc3-4023-a0ae-fc9c2d8d2044",
   "metadata": {},
   "outputs": [
    {
     "data": {
      "text/plain": [
       "'Chevy'"
      ]
     },
     "execution_count": 99,
     "metadata": {},
     "output_type": "execute_result"
    }
   ],
   "source": [
    "car_1.make"
   ]
  },
  {
   "cell_type": "code",
   "execution_count": 101,
   "id": "3a2bd234-f1bf-45be-8296-86c53e279bda",
   "metadata": {},
   "outputs": [
    {
     "data": {
      "text/plain": [
       "'Corvette'"
      ]
     },
     "execution_count": 101,
     "metadata": {},
     "output_type": "execute_result"
    }
   ],
   "source": [
    "car_1.model"
   ]
  },
  {
   "cell_type": "code",
   "execution_count": 103,
   "id": "e9ae704e-1e67-4d03-a1fc-de264e8e3b36",
   "metadata": {},
   "outputs": [
    {
     "data": {
      "text/plain": [
       "'blue'"
      ]
     },
     "execution_count": 103,
     "metadata": {},
     "output_type": "execute_result"
    }
   ],
   "source": [
    "car_1.color"
   ]
  },
  {
   "cell_type": "code",
   "execution_count": 105,
   "id": "3843e5db-78af-4657-9a78-f4a10d03817b",
   "metadata": {},
   "outputs": [
    {
     "data": {
      "text/plain": [
       "'2021'"
      ]
     },
     "execution_count": 105,
     "metadata": {},
     "output_type": "execute_result"
    }
   ],
   "source": [
    "car_1.year"
   ]
  },
  {
   "cell_type": "code",
   "execution_count": 107,
   "id": "f2339623-0e4d-43b6-86f2-a10b20bf5cdf",
   "metadata": {},
   "outputs": [
    {
     "name": "stdout",
     "output_type": "stream",
     "text": [
      "Driving\n"
     ]
    }
   ],
   "source": [
    "# using method on object\n",
    "car_1.drive()"
   ]
  },
  {
   "cell_type": "code",
   "execution_count": 109,
   "id": "a15dbac9-b214-4a2f-8110-008b0692a054",
   "metadata": {},
   "outputs": [
    {
     "name": "stdout",
     "output_type": "stream",
     "text": [
      "Stopping\n"
     ]
    }
   ],
   "source": [
    "car_1.stop()"
   ]
  },
  {
   "cell_type": "code",
   "execution_count": 111,
   "id": "d311ce1a-8477-415b-863c-5ca45989b5d2",
   "metadata": {},
   "outputs": [],
   "source": [
    "# we can create more obejcts using the same function\n",
    "car_2 = Car(\"Ford\", \"Mustang\", \"red\", \"2014\")"
   ]
  },
  {
   "cell_type": "code",
   "execution_count": 113,
   "id": "ed504ff1-8a5b-4bc8-a4e1-29d4cd234483",
   "metadata": {},
   "outputs": [
    {
     "name": "stdout",
     "output_type": "stream",
     "text": [
      "Ford\n",
      "Mustang\n",
      "red\n",
      "2014\n"
     ]
    }
   ],
   "source": [
    "print(car_2.make)\n",
    "print(car_2.model)\n",
    "print(car_2.color)\n",
    "print(car_2.year)"
   ]
  },
  {
   "cell_type": "code",
   "execution_count": 115,
   "id": "9d0d9f34-85c2-480e-b23c-102d8d8b8264",
   "metadata": {},
   "outputs": [
    {
     "name": "stdout",
     "output_type": "stream",
     "text": [
      "Driving\n",
      "Stopping\n"
     ]
    }
   ],
   "source": [
    "car_2.drive()\n",
    "car_2.stop()"
   ]
  },
  {
   "cell_type": "code",
   "execution_count": null,
   "id": "86fd9f48-b3d7-42b2-92c7-7daa61e60be1",
   "metadata": {},
   "outputs": [],
   "source": []
  },
  {
   "cell_type": "code",
   "execution_count": 118,
   "id": "b7924619-c626-4650-8541-166627119f3d",
   "metadata": {},
   "outputs": [],
   "source": [
    "class Car:\n",
    "    def __init__(self, make, model, color, year):\n",
    "\n",
    "        self.make = make\n",
    "        self.model = model\n",
    "        self.color = color\n",
    "        self.year = year\n",
    "\n",
    "    # you can add the model name to the print function\n",
    "    def drive(self):\n",
    "        print(\"Driving \" + self.model)\n",
    "\n",
    "    def stop(self):\n",
    "        print(\"Stopping \" + self.model)"
   ]
  },
  {
   "cell_type": "code",
   "execution_count": 128,
   "id": "796aebdc-4651-4c12-bc2e-64a366f70db8",
   "metadata": {},
   "outputs": [
    {
     "name": "stdout",
     "output_type": "stream",
     "text": [
      "Driving Corvette\n",
      "Stopping Corvette\n"
     ]
    }
   ],
   "source": [
    "car_1 = Car(\"Chevy\", \"Corvette\", \"blue\", \"2021\")\n",
    "car_1.drive()\n",
    "car_1.stop()"
   ]
  },
  {
   "cell_type": "code",
   "execution_count": 126,
   "id": "e02ea8a1-7079-422a-9403-63652fa607dc",
   "metadata": {},
   "outputs": [
    {
     "name": "stdout",
     "output_type": "stream",
     "text": [
      "Driving Mustang\n",
      "Stopping Mustang\n"
     ]
    }
   ],
   "source": [
    "car_2 = Car(\"Ford\", \"Mustang\", \"red\", \"2014\")\n",
    "car_2.drive()\n",
    "car_2.stop()"
   ]
  },
  {
   "cell_type": "code",
   "execution_count": null,
   "id": "6395c62c-2b53-4b0b-95b5-09ab36146fa3",
   "metadata": {},
   "outputs": [],
   "source": []
  }
 ],
 "metadata": {
  "kernelspec": {
   "display_name": "Python [conda env:base] *",
   "language": "python",
   "name": "conda-base-py"
  },
  "language_info": {
   "codemirror_mode": {
    "name": "ipython",
    "version": 3
   },
   "file_extension": ".py",
   "mimetype": "text/x-python",
   "name": "python",
   "nbconvert_exporter": "python",
   "pygments_lexer": "ipython3",
   "version": "3.12.7"
  }
 },
 "nbformat": 4,
 "nbformat_minor": 5
}
