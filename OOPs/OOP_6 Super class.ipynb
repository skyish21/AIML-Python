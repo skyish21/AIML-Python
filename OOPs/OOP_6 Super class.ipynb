{
 "cells": [
  {
   "cell_type": "code",
   "execution_count": 3,
   "id": "455c35a6-c236-489c-b567-60795a7b44bf",
   "metadata": {},
   "outputs": [],
   "source": [
    "# super() = function used in child class to call method from parent class(super class)\n",
    "#           allows to extend functionality of the inherited methods\n",
    "# super() is used within the child class to explicitly call methods (like __init__) from the parent class, ensuring proper initialization and functionality.\n",
    "# reuse the constructor of parent class"
   ]
  },
  {
   "cell_type": "code",
   "execution_count": 95,
   "id": "b6ed9e98-6a4f-410c-8e44-2ac2d5272321",
   "metadata": {},
   "outputs": [],
   "source": [
    "class Shapes():\n",
    "    def __init__(self, color, filled):\n",
    "        self.color = color\n",
    "        self.filled = filled\n",
    "\n",
    "    def describe(self):\n",
    "        print(f\"It is {'filled' if self.filled else 'not filled'} with {self.color} color\")"
   ]
  },
  {
   "cell_type": "code",
   "execution_count": 173,
   "id": "c430a990-df21-446d-b7dd-9d51d0cd39e6",
   "metadata": {},
   "outputs": [],
   "source": [
    "class Circle(Shapes):\n",
    "    def __init__(self, color, filled, radius):\n",
    "        # Call the parent class's __init__ method\n",
    "        super().__init__(color, filled)\n",
    "        self.radius = radius\n",
    "\n",
    "    # method over writing : child shares a similar method with that of parent class\n",
    "    # in this case the describe method within child class is implemented\n",
    "    # to use describe method of both child and parent class we use super class which extends the functionality\n",
    "    def describe(self):\n",
    "        print(f\"It has an area of = {3.14 * self.radius * self.radius} cm²\")\n",
    "        super().describe() # extending functionality of describe method within circle"
   ]
  },
  {
   "cell_type": "code",
   "execution_count": 193,
   "id": "e2a0a973-620f-4050-862c-ee684a9edc1d",
   "metadata": {},
   "outputs": [],
   "source": [
    "class Square(Shapes):\n",
    "    def __init__(self, color, filled, width):\n",
    "        super().__init__(color, filled)\n",
    "        self.width = width\n",
    "\n",
    "    def describe(self):\n",
    "        print(f\"It has an area of = {self.width * self.width} cm²\")\n",
    "        super().describe()"
   ]
  },
  {
   "cell_type": "code",
   "execution_count": 195,
   "id": "2c21edb2-2db5-46fd-8a33-4333a3f87761",
   "metadata": {},
   "outputs": [],
   "source": [
    "class Triangle(Shapes):\n",
    "    def __init__(self, color, filled, width, height):\n",
    "        super().__init__(color, filled)\n",
    "        self.width = width\n",
    "        self.height = height\n",
    "\n",
    "    def describe(self):\n",
    "        print(f\"It has an area of = {0.5 * self.width * self.height} cm²\")\n",
    "        super().describe()"
   ]
  },
  {
   "cell_type": "code",
   "execution_count": 197,
   "id": "630d2b8b-7c63-4aa8-b262-59bb0e3ab2a7",
   "metadata": {},
   "outputs": [],
   "source": [
    "circle = Circle(\"red\", True, 5)"
   ]
  },
  {
   "cell_type": "code",
   "execution_count": 199,
   "id": "7b01b4d1-fc9b-41ff-851b-cac5561b8b45",
   "metadata": {},
   "outputs": [
    {
     "name": "stdout",
     "output_type": "stream",
     "text": [
      "red\n",
      "True\n",
      "5\n",
      "It has an area of = 78.5 cm²\n",
      "It is filled with red color\n"
     ]
    }
   ],
   "source": [
    "print(circle.color)\n",
    "print(circle.filled)\n",
    "print(circle.radius)\n",
    "circle.describe()"
   ]
  },
  {
   "cell_type": "code",
   "execution_count": 201,
   "id": "d9c526e8-881e-4857-88cb-cca088a3ce89",
   "metadata": {},
   "outputs": [],
   "source": [
    "square = Square(\"blue\", False, 10)"
   ]
  },
  {
   "cell_type": "code",
   "execution_count": 203,
   "id": "ed0a67fa-15f4-465d-b9c6-a1b22eed69eb",
   "metadata": {},
   "outputs": [
    {
     "name": "stdout",
     "output_type": "stream",
     "text": [
      "blue\n",
      "False\n",
      "10\n",
      "It has an area of = 100 cm²\n",
      "It is not filled with blue color\n"
     ]
    }
   ],
   "source": [
    "print(square.color)\n",
    "print(square.filled)\n",
    "print(square.width)\n",
    "square.describe()"
   ]
  },
  {
   "cell_type": "code",
   "execution_count": 205,
   "id": "189e91ff-8f48-42ea-93c0-57f325faa537",
   "metadata": {},
   "outputs": [],
   "source": [
    "triangle = Triangle(\"green\", False, 12, 4)"
   ]
  },
  {
   "cell_type": "code",
   "execution_count": 207,
   "id": "23d77fb1-51e4-44c0-9e24-c3c04ae209b9",
   "metadata": {},
   "outputs": [
    {
     "name": "stdout",
     "output_type": "stream",
     "text": [
      "green\n",
      "False\n",
      "12\n",
      "4\n",
      "It has an area of = 24.0 cm²\n",
      "It is not filled with green color\n"
     ]
    }
   ],
   "source": [
    "print(triangle.color)\n",
    "print(triangle.filled)\n",
    "print(triangle.width)\n",
    "print(triangle.height)\n",
    "triangle.describe()"
   ]
  },
  {
   "cell_type": "code",
   "execution_count": null,
   "id": "1de51912-4523-488b-9c97-60c6c91be96b",
   "metadata": {},
   "outputs": [],
   "source": []
  }
 ],
 "metadata": {
  "kernelspec": {
   "display_name": "Python [conda env:base] *",
   "language": "python",
   "name": "conda-base-py"
  },
  "language_info": {
   "codemirror_mode": {
    "name": "ipython",
    "version": 3
   },
   "file_extension": ".py",
   "mimetype": "text/x-python",
   "name": "python",
   "nbconvert_exporter": "python",
   "pygments_lexer": "ipython3",
   "version": "3.12.7"
  }
 },
 "nbformat": 4,
 "nbformat_minor": 5
}
