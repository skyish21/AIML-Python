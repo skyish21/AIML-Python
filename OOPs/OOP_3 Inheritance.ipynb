{
 "cells": [
  {
   "cell_type": "code",
   "execution_count": 1,
   "id": "02752652-6b8b-44a4-8ebf-91d7fad0e34b",
   "metadata": {},
   "outputs": [],
   "source": [
    "# inheritance = allows a class to inherit attributes and methods from another class\n",
    "#               helps with code reusability and extensibility\n",
    "#               class child (parent)"
   ]
  },
  {
   "cell_type": "code",
   "execution_count": 37,
   "id": "d645254a-e31c-4faa-ac05-38c8d7c5752d",
   "metadata": {},
   "outputs": [],
   "source": [
    "class Animal:\n",
    "    def __init__(self, name):\n",
    "        self.name = name\n",
    "        self.is_alive = True\n",
    "\n",
    "    def eat(self):\n",
    "        print(f\"{self.name} is Eating\")\n",
    "\n",
    "    def sleep(self):\n",
    "        print(f\"{self.name} is Sleeping\")"
   ]
  },
  {
   "cell_type": "code",
   "execution_count": 39,
   "id": "4d9a1a10-b400-4bcd-819c-f84b0c0bc407",
   "metadata": {},
   "outputs": [],
   "source": [
    "# child class inherits from parent class animal\n",
    "class Dog(Animal):\n",
    "\n",
    "    # define separate function/method for child class\n",
    "    def speak(self): \n",
    "        print(\"woof\") "
   ]
  },
  {
   "cell_type": "code",
   "execution_count": null,
   "id": "30791f38-16e7-4a2a-bce4-ed2f4fc3024a",
   "metadata": {},
   "outputs": [],
   "source": [
    "# Hierarchical Inheritance = Multiple child classes inherit from a single parent class.\n",
    "#                            This creates a hierarchy where one parent class has multiple subclasses."
   ]
  },
  {
   "cell_type": "code",
   "execution_count": 41,
   "id": "2a7e6bff-1edb-47f2-99a1-83e122b6ed89",
   "metadata": {},
   "outputs": [],
   "source": [
    "class Cat(Animal):\n",
    "    def speak(self):\n",
    "        print(\"meow\")"
   ]
  },
  {
   "cell_type": "code",
   "execution_count": 43,
   "id": "80528baf-4407-43ea-922f-ebeedd53caed",
   "metadata": {},
   "outputs": [],
   "source": [
    "class Mouse(Animal):\n",
    "    def speak(self):\n",
    "        print(\"squeek\")"
   ]
  },
  {
   "cell_type": "code",
   "execution_count": 45,
   "id": "3fb1d018-86f0-4fe3-9648-ac6cdc8ec4f8",
   "metadata": {},
   "outputs": [],
   "source": [
    "dog = Dog(\"Yeotan\")\n",
    "cat = Cat(\"Pusheen\")\n",
    "mouse = Mouse(\"Smalz\")"
   ]
  },
  {
   "cell_type": "code",
   "execution_count": 57,
   "id": "80bf0e3e-024f-4ac5-8fa8-2b5f08dfba57",
   "metadata": {},
   "outputs": [
    {
     "name": "stdout",
     "output_type": "stream",
     "text": [
      "Yeotan\n",
      "Yeotan is Eating\n",
      "Yeotan is Sleeping\n",
      "woof\n"
     ]
    }
   ],
   "source": [
    "print(dog.name)\n",
    "dog.eat()\n",
    "dog.sleep()\n",
    "dog.speak()"
   ]
  },
  {
   "cell_type": "code",
   "execution_count": 59,
   "id": "b2ec7650-84ac-4190-a8ff-6bed997617f8",
   "metadata": {},
   "outputs": [
    {
     "name": "stdout",
     "output_type": "stream",
     "text": [
      "Pusheen\n",
      "Pusheen is Eating\n",
      "Pusheen is Sleeping\n",
      "meow\n"
     ]
    }
   ],
   "source": [
    "print(cat.name)\n",
    "cat.eat()\n",
    "cat.sleep()\n",
    "cat.speak()"
   ]
  },
  {
   "cell_type": "code",
   "execution_count": 61,
   "id": "86a361af-ab07-4246-8bac-f0b3cbfa7b0b",
   "metadata": {},
   "outputs": [
    {
     "name": "stdout",
     "output_type": "stream",
     "text": [
      "Smalz\n",
      "Smalz is Eating\n",
      "Smalz is Sleeping\n",
      "squeek\n"
     ]
    }
   ],
   "source": [
    "print(mouse.name)\n",
    "mouse.eat()\n",
    "mouse.sleep()\n",
    "mouse.speak()"
   ]
  },
  {
   "cell_type": "code",
   "execution_count": null,
   "id": "b4413961-ff40-4f9d-acd1-541b92a9ee45",
   "metadata": {},
   "outputs": [],
   "source": []
  }
 ],
 "metadata": {
  "kernelspec": {
   "display_name": "Python [conda env:base] *",
   "language": "python",
   "name": "conda-base-py"
  },
  "language_info": {
   "codemirror_mode": {
    "name": "ipython",
    "version": 3
   },
   "file_extension": ".py",
   "mimetype": "text/x-python",
   "name": "python",
   "nbconvert_exporter": "python",
   "pygments_lexer": "ipython3",
   "version": "3.12.7"
  }
 },
 "nbformat": 4,
 "nbformat_minor": 5
}
