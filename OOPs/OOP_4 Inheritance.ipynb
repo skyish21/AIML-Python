{
 "cells": [
  {
   "cell_type": "code",
   "execution_count": 79,
   "id": "0bef07b9-006d-4f5e-9fe0-d7e435acbfa9",
   "metadata": {},
   "outputs": [],
   "source": [
    "# Multilevel Inheritance = A child class inherits from a parent class, which in turn inherits from another parent class.\n",
    "# A -> B(A) -> C(B)\n",
    "\n",
    "# Let class Animal be grandparent \n",
    "# class Prey and Predator be parent\n",
    "# rabbit, hawk, fish are child class\n",
    "\n",
    "class Animal:\n",
    "    def __init__(self, name):\n",
    "        self.name = name  # we can implicitally access the name attribute from parent class (Animal) in child class (Prey, Predator)\n",
    "        \n",
    "    def eat(self):\n",
    "        print(f\"{self.name} is eating\")\n",
    "\n",
    "    def sleep(self):\n",
    "        print(f\"{self.name} is sleeping\")"
   ]
  },
  {
   "cell_type": "code",
   "execution_count": 81,
   "id": "95a71a70-dd11-4937-98cb-d5e62018ed30",
   "metadata": {},
   "outputs": [],
   "source": [
    "# Inherit from parent class Animal\n",
    "class Prey(Animal):\n",
    "\n",
    "    def flee(self):\n",
    "        print(f\"{self.name} is fleeing\")"
   ]
  },
  {
   "cell_type": "code",
   "execution_count": 87,
   "id": "02ceff46-e4c4-43cc-89a1-e38d787427c3",
   "metadata": {},
   "outputs": [],
   "source": [
    "# Inherit from parent class Animal\n",
    "class Predator(Animal):\n",
    "\n",
    "    def hunt(self):\n",
    "        print(f\"{self.name} is hunting\")"
   ]
  },
  {
   "cell_type": "code",
   "execution_count": 89,
   "id": "d4f55055-58ed-4ebc-b309-9f4c74519de5",
   "metadata": {},
   "outputs": [],
   "source": [
    "# Hybrid Inheritance = A combination of multiple types of inheritance (e.g., single, multiple, multilevel, or hierarchical).\n",
    "#                      This can create complex class hierarchies.\n",
    "\n",
    "# class A\n",
    "# class B(A) Single Inheritance\n",
    "# class C(A) Single Inheritance\n",
    "# class D(A, B) Multip;e Inheritance"
   ]
  },
  {
   "cell_type": "code",
   "execution_count": 91,
   "id": "6d83c365-5e34-4685-a152-98e62bb145f2",
   "metadata": {},
   "outputs": [],
   "source": [
    "class Rabbit(Prey):\n",
    "    pass"
   ]
  },
  {
   "cell_type": "code",
   "execution_count": 93,
   "id": "4a2dbbf6-df11-455e-b85e-63fdce4c876f",
   "metadata": {},
   "outputs": [],
   "source": [
    "class Hawk(Predator):\n",
    "    pass"
   ]
  },
  {
   "cell_type": "code",
   "execution_count": 95,
   "id": "fcb0f5fd-5bfa-44c0-b9b8-cb1a0e361146",
   "metadata": {},
   "outputs": [],
   "source": [
    "# Multiple Inheritance = A child class inherits from more than one parent class.\n",
    "# C(A,B)\n",
    "\n",
    "class Fish(Prey, Predator):\n",
    "    pass"
   ]
  },
  {
   "cell_type": "code",
   "execution_count": 97,
   "id": "bd4704b6-f27a-458b-91d4-b34c3bdf13b6",
   "metadata": {},
   "outputs": [],
   "source": [
    "rabbit = Rabbit(\"Phat\")\n",
    "hawk = Hawk(\"Evil\")\n",
    "fish = Fish(\"Nemo\")"
   ]
  },
  {
   "cell_type": "code",
   "execution_count": 99,
   "id": "ee9cf8cd-a2aa-4ee7-be6d-66a5ae31045a",
   "metadata": {},
   "outputs": [
    {
     "name": "stdout",
     "output_type": "stream",
     "text": [
      "Phat is fleeing\n",
      "Phat is eating\n",
      "Phat is sleeping\n"
     ]
    },
    {
     "ename": "AttributeError",
     "evalue": "'Rabbit' object has no attribute 'hunt'",
     "output_type": "error",
     "traceback": [
      "\u001b[1;31m---------------------------------------------------------------------------\u001b[0m",
      "\u001b[1;31mAttributeError\u001b[0m                            Traceback (most recent call last)",
      "Cell \u001b[1;32mIn[99], line 4\u001b[0m\n\u001b[0;32m      2\u001b[0m rabbit\u001b[38;5;241m.\u001b[39meat()   \u001b[38;5;66;03m# inherit from granparent class Animal\u001b[39;00m\n\u001b[0;32m      3\u001b[0m rabbit\u001b[38;5;241m.\u001b[39msleep() \u001b[38;5;66;03m# inherit from granparent class Animal\u001b[39;00m\n\u001b[1;32m----> 4\u001b[0m rabbit\u001b[38;5;241m.\u001b[39mhunt()\n",
      "\u001b[1;31mAttributeError\u001b[0m: 'Rabbit' object has no attribute 'hunt'"
     ]
    }
   ],
   "source": [
    "rabbit.flee()\n",
    "rabbit.eat()   # inherit from granparent class Animal\n",
    "rabbit.sleep() # inherit from granparent class Animal\n",
    "rabbit.hunt()  # since rabbit is only prey"
   ]
  },
  {
   "cell_type": "code",
   "execution_count": 101,
   "id": "2421cee4-277f-47eb-a2dd-41995fa86f56",
   "metadata": {},
   "outputs": [
    {
     "name": "stdout",
     "output_type": "stream",
     "text": [
      "Evil is hunting\n",
      "Evil is eating\n",
      "Evil is sleeping\n"
     ]
    },
    {
     "ename": "AttributeError",
     "evalue": "'Hawk' object has no attribute 'flee'",
     "output_type": "error",
     "traceback": [
      "\u001b[1;31m---------------------------------------------------------------------------\u001b[0m",
      "\u001b[1;31mAttributeError\u001b[0m                            Traceback (most recent call last)",
      "Cell \u001b[1;32mIn[101], line 4\u001b[0m\n\u001b[0;32m      2\u001b[0m hawk\u001b[38;5;241m.\u001b[39meat()   \u001b[38;5;66;03m# inherit from granparent class Animal\u001b[39;00m\n\u001b[0;32m      3\u001b[0m hawk\u001b[38;5;241m.\u001b[39msleep() \u001b[38;5;66;03m# inherit from granparent class Animal\u001b[39;00m\n\u001b[1;32m----> 4\u001b[0m hawk\u001b[38;5;241m.\u001b[39mflee()\n",
      "\u001b[1;31mAttributeError\u001b[0m: 'Hawk' object has no attribute 'flee'"
     ]
    }
   ],
   "source": [
    "hawk.hunt() \n",
    "hawk.eat()   # inherit from granparent class Animal\n",
    "hawk.sleep() # inherit from granparent class Animal\n",
    "hawk.flee()  # since hawl is only predator"
   ]
  },
  {
   "cell_type": "code",
   "execution_count": 103,
   "id": "b6241e47-d6c1-4fff-9a25-b55ab614f9ec",
   "metadata": {},
   "outputs": [
    {
     "name": "stdout",
     "output_type": "stream",
     "text": [
      "Nemo is fleeing\n",
      "Nemo is eating\n",
      "Nemo is sleeping\n",
      "Nemo is hunting\n"
     ]
    }
   ],
   "source": [
    "fish.flee()\n",
    "fish.eat()   # inherit from granparent class Animal\n",
    "fish.sleep() # inherit from granparent class Animal\n",
    "fish.hunt()  # since fish is both prey and predator"
   ]
  },
  {
   "cell_type": "code",
   "execution_count": null,
   "id": "afe86722-f548-430e-b4bc-26f6d5581968",
   "metadata": {},
   "outputs": [],
   "source": []
  }
 ],
 "metadata": {
  "kernelspec": {
   "display_name": "Python [conda env:base] *",
   "language": "python",
   "name": "conda-base-py"
  },
  "language_info": {
   "codemirror_mode": {
    "name": "ipython",
    "version": 3
   },
   "file_extension": ".py",
   "mimetype": "text/x-python",
   "name": "python",
   "nbconvert_exporter": "python",
   "pygments_lexer": "ipython3",
   "version": "3.12.7"
  }
 },
 "nbformat": 4,
 "nbformat_minor": 5
}
