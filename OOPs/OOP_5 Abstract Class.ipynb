{
 "cells": [
  {
   "cell_type": "code",
   "execution_count": 1,
   "id": "b888093d-eca7-4a06-904a-cf3ec9554408",
   "metadata": {},
   "outputs": [],
   "source": [
    "# Abstract Class =  a class that cannot be instantiated on its own; meant to be subclassed.\n",
    "#                   they can contain abstract methods, which are declared but have no implementation\n",
    "#                   Abstract class benefits:\n",
    "#                    1. Prevents instantiation of the class itself\n",
    "#                    2. Requires children to use inherited abstract methods\n",
    "# Instantiation = process of creating an instance (or object) of a class."
   ]
  },
  {
   "cell_type": "code",
   "execution_count": 7,
   "id": "12f136cb-5887-4533-9bbb-d5b19f4d0aef",
   "metadata": {},
   "outputs": [],
   "source": [
    "# to work with abstract classes we will need to import abc( abstract base classes)\n",
    "from abc import ABC, abstractmethod\n",
    "\n",
    "# vehicle will inherit abstract base class\n",
    "# we can't make abstract objects\n",
    "# we can create abstract methods that can be inherited by its children\n",
    "# to declare abstract method we use: @abstractmethod\n",
    "# we declare abstract method but dont define them \n",
    "class Vehicle(ABC):\n",
    "\n",
    "    @abstractmethod\n",
    "    def drive(self):\n",
    "        pass\n",
    "        \n",
    "    @abstractmethod\n",
    "    def stop(self):\n",
    "        pass"
   ]
  },
  {
   "cell_type": "code",
   "execution_count": 9,
   "id": "7d35f603-f6b0-4400-84c1-e72b90d1739f",
   "metadata": {},
   "outputs": [],
   "source": [
    "# we need to include all abstract methods from parent class\n",
    "    def drive(self):\n",
    "        print(\"Car is driving\")\n",
    "        \n",
    "    def stop(self):\n",
    "        print(\"Car is stopping\")"
   ]
  },
  {
   "cell_type": "code",
   "execution_count": 11,
   "id": "d4489661-7ac6-4259-b8f3-eba1e8e4738a",
   "metadata": {},
   "outputs": [
    {
     "name": "stdout",
     "output_type": "stream",
     "text": [
      "Car is driving\n",
      "Car is stopping\n"
     ]
    }
   ],
   "source": [
    "car = Car()\n",
    "car.drive()\n",
    "car.stop()"
   ]
  },
  {
   "cell_type": "code",
   "execution_count": 13,
   "id": "4b29df13-6be6-4f20-b85e-78d77b768a64",
   "metadata": {},
   "outputs": [],
   "source": [
    "class Bike(Vehicle):\n",
    "    def drive(self):\n",
    "        print(\"Bike is driving\")\n",
    "        \n",
    "    def stop(self):\n",
    "        print(\"Bike is stopping\")"
   ]
  },
  {
   "cell_type": "code",
   "execution_count": 15,
   "id": "e96efd98-37fa-4fc6-9763-9555b0cd4b6f",
   "metadata": {},
   "outputs": [
    {
     "name": "stdout",
     "output_type": "stream",
     "text": [
      "Bike is driving\n",
      "Bike is stopping\n"
     ]
    }
   ],
   "source": [
    "bike = Bike()\n",
    "bike.drive()\n",
    "bike.stop()"
   ]
  },
  {
   "cell_type": "code",
   "execution_count": 21,
   "id": "467638bd-6bec-46bd-af8d-622471ff481e",
   "metadata": {},
   "outputs": [],
   "source": [
    "# if you don't include one method in child class that is mentioned in parent class you will get a type error\n",
    "class Car(Vehicle):\n",
    "class Boat(Vehicle):\n",
    "    def drive(self):\n",
    "        print(\"Boat is sailing\")"
   ]
  },
  {
   "cell_type": "code",
   "execution_count": 23,
   "id": "fad5d576-18bf-486a-9746-0870ed5aee5f",
   "metadata": {},
   "outputs": [
    {
     "ename": "TypeError",
     "evalue": "Can't instantiate abstract class Boat without an implementation for abstract method 'stop'",
     "output_type": "error",
     "traceback": [
      "\u001b[1;31m---------------------------------------------------------------------------\u001b[0m",
      "\u001b[1;31mTypeError\u001b[0m                                 Traceback (most recent call last)",
      "Cell \u001b[1;32mIn[23], line 1\u001b[0m\n\u001b[1;32m----> 1\u001b[0m boat \u001b[38;5;241m=\u001b[39m Boat()\n\u001b[0;32m      2\u001b[0m boat\u001b[38;5;241m.\u001b[39mdrive()\n\u001b[0;32m      3\u001b[0m boat\u001b[38;5;241m.\u001b[39mstop()\n",
      "\u001b[1;31mTypeError\u001b[0m: Can't instantiate abstract class Boat without an implementation for abstract method 'stop'"
     ]
    }
   ],
   "source": [
    "boat = Boat()\n",
    "boat.drive()\n",
    "boat.stop()"
   ]
  },
  {
   "cell_type": "code",
   "execution_count": 25,
   "id": "386a33d8-1cfe-4142-8b54-fb4ed9c740b0",
   "metadata": {},
   "outputs": [
    {
     "name": "stdout",
     "output_type": "stream",
     "text": [
      "Boat is sailing\n",
      "Bike is stopping\n"
     ]
    }
   ],
   "source": [
    "class Boat(Vehicle):\n",
    "    def drive(self):\n",
    "        print(\"Boat is sailing\")\n",
    "        \n",
    "    def stop(self):\n",
    "        print(\"Bike is stopping\")\n",
    "\n",
    "boat = Boat()\n",
    "boat.drive()\n",
    "boat.stop()"
   ]
  },
  {
   "cell_type": "code",
   "execution_count": null,
   "id": "ca310da0-21f8-403c-aa83-074449bc540e",
   "metadata": {},
   "outputs": [],
   "source": []
  }
 ],
 "metadata": {
  "kernelspec": {
   "display_name": "Python [conda env:base] *",
   "language": "python",
   "name": "conda-base-py"
  },
  "language_info": {
   "codemirror_mode": {
    "name": "ipython",
    "version": 3
   },
   "file_extension": ".py",
   "mimetype": "text/x-python",
   "name": "python",
   "nbconvert_exporter": "python",
   "pygments_lexer": "ipython3",
   "version": "3.12.7"
  }
 },
 "nbformat": 4,
 "nbformat_minor": 5
}
