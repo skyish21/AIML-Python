{
 "cells": [
  {
   "cell_type": "code",
   "execution_count": 1,
   "id": "0dbe2ef7-7bb3-47fe-abdf-46a8b29b7225",
   "metadata": {},
   "outputs": [],
   "source": [
    "# class variables = shared among all instances of a class\n",
    "#                   defined outside the constructor\n",
    "#                   allow you to share data among all objects created from that class"
   ]
  },
  {
   "cell_type": "code",
   "execution_count": 19,
   "id": "6331a05a-aa33-4e62-b522-4e2153efc9e8",
   "metadata": {},
   "outputs": [],
   "source": [
    "class Student:\n",
    "\n",
    "    class_year = 2025 # graduatin year\n",
    "    num_students = 0 \n",
    "\n",
    "    def __init__(self, name, age):\n",
    "\n",
    "        self.name = name\n",
    "        self.age =age\n",
    "        Student.num_students += 1 # increment number of students by one "
   ]
  },
  {
   "cell_type": "code",
   "execution_count": 21,
   "id": "b904b17d-d66f-4217-90d7-9f15c742c72c",
   "metadata": {},
   "outputs": [],
   "source": [
    "student1 = Student(\"Spongebob\", 23)\n",
    "student2 = Student(\"Patric\", 21)"
   ]
  },
  {
   "cell_type": "code",
   "execution_count": 23,
   "id": "67efc8e9-1644-419a-8259-792d63848dd2",
   "metadata": {},
   "outputs": [
    {
     "name": "stdout",
     "output_type": "stream",
     "text": [
      "Spongebob\n",
      "23\n"
     ]
    }
   ],
   "source": [
    "print(student1.name)\n",
    "print(student1.age)"
   ]
  },
  {
   "cell_type": "code",
   "execution_count": 25,
   "id": "a30e70ec-1886-470c-a602-246b87169428",
   "metadata": {},
   "outputs": [
    {
     "name": "stdout",
     "output_type": "stream",
     "text": [
      "Patric\n",
      "21\n"
     ]
    }
   ],
   "source": [
    "print(student2.name)\n",
    "print(student2.age)"
   ]
  },
  {
   "cell_type": "code",
   "execution_count": 27,
   "id": "45e661ab-fc7e-4847-898e-830adc6aa772",
   "metadata": {},
   "outputs": [
    {
     "name": "stdout",
     "output_type": "stream",
     "text": [
      "2025\n",
      "2\n"
     ]
    }
   ],
   "source": [
    "# use class name to access a class variable instead of accessing it by object\n",
    "# this helps identify class variables from attributes of instances\n",
    "\n",
    "\n",
    "print(Student.class_year)\n",
    "print(Student.num_students)"
   ]
  },
  {
   "cell_type": "code",
   "execution_count": 29,
   "id": "8a690b5b-7756-47a7-a51f-3e3d119737d4",
   "metadata": {},
   "outputs": [
    {
     "name": "stdout",
     "output_type": "stream",
     "text": [
      "3\n"
     ]
    }
   ],
   "source": [
    "student3 = Student(\"Squidward\", 25)\n",
    "print(Student.num_students)"
   ]
  },
  {
   "cell_type": "code",
   "execution_count": 31,
   "id": "af3abffe-3fee-4d33-b8dc-b6d7800b2fd2",
   "metadata": {},
   "outputs": [
    {
     "name": "stdout",
     "output_type": "stream",
     "text": [
      "4\n"
     ]
    }
   ],
   "source": [
    "student4 = Student(\"Sandy\", 23)\n",
    "print(Student.num_students)"
   ]
  },
  {
   "cell_type": "code",
   "execution_count": null,
   "id": "67a1eda8-8d99-41f1-8d03-5caeca55e0dc",
   "metadata": {},
   "outputs": [],
   "source": []
  }
 ],
 "metadata": {
  "kernelspec": {
   "display_name": "Python [conda env:base] *",
   "language": "python",
   "name": "conda-base-py"
  },
  "language_info": {
   "codemirror_mode": {
    "name": "ipython",
    "version": 3
   },
   "file_extension": ".py",
   "mimetype": "text/x-python",
   "name": "python",
   "nbconvert_exporter": "python",
   "pygments_lexer": "ipython3",
   "version": "3.12.7"
  }
 },
 "nbformat": 4,
 "nbformat_minor": 5
}
