{
 "cells": [
  {
   "cell_type": "markdown",
   "id": "cbeabaf2",
   "metadata": {},
   "source": [
    "## Deep Learning Test"
   ]
  },
  {
   "cell_type": "code",
   "execution_count": null,
   "id": "e0a2202a",
   "metadata": {},
   "outputs": [],
   "source": []
  },
  {
   "cell_type": "markdown",
   "id": "69aef813",
   "metadata": {},
   "source": [
    "# MCQ Question"
   ]
  },
  {
   "cell_type": "code",
   "execution_count": null,
   "id": "76b0dfca",
   "metadata": {},
   "outputs": [],
   "source": []
  },
  {
   "cell_type": "markdown",
   "id": "2ce0c45a",
   "metadata": {},
   "source": [
    "### 1. What does MLP stand for?\n",
    "\n",
    "a) Multi Linear Processing\n",
    "\n",
    "b) Multi Layer Perceptron\n",
    "\n",
    "c) Multi Layered Program\n",
    "\n",
    "d) Multi Logical Processing"
   ]
  },
  {
   "cell_type": "code",
   "execution_count": null,
   "id": "6ae772d4-46fc-4da0-a89c-c04d29d96090",
   "metadata": {},
   "outputs": [],
   "source": [
    "#ANS: b) Multi Layer Perceptron"
   ]
  },
  {
   "cell_type": "markdown",
   "id": "f86737b5",
   "metadata": {},
   "source": [
    "### 2. What type of neural network is an MLP?\n",
    " \n",
    "a) Convolutional Neural Network\n",
    "\n",
    "b) Feedforward Neural Network\n",
    "\n",
    "c) Recurrent Neural Network\n",
    "\n",
    "d) Radial Neural Network"
   ]
  },
  {
   "cell_type": "code",
   "execution_count": null,
   "id": "973a7fda-4d94-4c89-bfc0-ae8b86b3e2d3",
   "metadata": {},
   "outputs": [],
   "source": [
    "#ANS: b) Feedforward Neural Network"
   ]
  },
  {
   "cell_type": "markdown",
   "id": "c7c1b926",
   "metadata": {},
   "source": [
    "### 3. What is the purpose of the activation function in MLP?\n",
    "\n",
    "a) To initialize weights\n",
    "\n",
    "b) To introduce non-linearity\n",
    "\n",
    "c) To normalize the input\n",
    "\n",
    "d) To adjust biases"
   ]
  },
  {
   "cell_type": "code",
   "execution_count": null,
   "id": "bd37062a-5a59-42dd-8076-a7f62428ef78",
   "metadata": {},
   "outputs": [],
   "source": [
    "#ANS: b) To introduce non-linearity"
   ]
  },
  {
   "cell_type": "markdown",
   "id": "4fb09d64",
   "metadata": {},
   "source": [
    "#### 4. Which activation function is commonly used in MLP hidden layers?\n",
    "\n",
    "a) ReLU\n",
    "\n",
    "b) Softmax\n",
    "\n",
    "c) Sigmoid\n",
    "\n",
    "d) All of the above"
   ]
  },
  {
   "cell_type": "code",
   "execution_count": null,
   "id": "420953af-61bf-439a-b352-35c032b963cb",
   "metadata": {},
   "outputs": [],
   "source": [
    "#ANS: c) Sigmoid"
   ]
  },
  {
   "cell_type": "markdown",
   "id": "19cb9cac",
   "metadata": {},
   "source": [
    "### 5. What does the input layer of an MLP do?\n",
    "\n",
    "a) Produces output predictions\n",
    "\n",
    "b) Processes data in loops\n",
    "\n",
    "c) Accepts raw input data\n",
    "\n",
    "d) Applies activation functions"
   ]
  },
  {
   "cell_type": "code",
   "execution_count": null,
   "id": "c1e5fc0c-f108-4dfc-a1ed-275647c1658f",
   "metadata": {},
   "outputs": [],
   "source": [
    "#ANS: c) Accepts raw input data"
   ]
  },
  {
   "cell_type": "markdown",
   "id": "5f9f196a",
   "metadata": {},
   "source": [
    "### 6. Which algorithm is typically used to train an MLP?\n",
    "\n",
    "a) Gradient Descent\n",
    "\n",
    "b) K-Means Clustering\n",
    "\n",
    "c) Monte Carlo Method\n",
    "\n",
    "d) Backpropagation"
   ]
  },
  {
   "cell_type": "code",
   "execution_count": null,
   "id": "17de47ab-392f-46d6-ac24-4bfbdb1fd5a6",
   "metadata": {},
   "outputs": [],
   "source": [
    "#ANS: d) Backpropagation"
   ]
  },
  {
   "cell_type": "markdown",
   "id": "5dc81e4b",
   "metadata": {},
   "source": [
    "### 7. What are the weights in an MLP?\n",
    "\n",
    "a) Inputs to the network\n",
    "\n",
    "b) Connections between neurons\n",
    "\n",
    "c) Output predictions\n",
    "\n",
    "d) Training algorithms"
   ]
  },
  {
   "cell_type": "code",
   "execution_count": null,
   "id": "1ecd06f1-06c1-495c-9e51-ef7631cf220c",
   "metadata": {},
   "outputs": [],
   "source": [
    "#ANS: b) Connections between neurons"
   ]
  },
  {
   "cell_type": "markdown",
   "id": "c620a60d",
   "metadata": {},
   "source": [
    "### 8. What is the output layer of an MLP used for?\n",
    "\n",
    "a) Processing hidden units\n",
    "\n",
    "b) Normalizing the input\n",
    "\n",
    "c) Providing final predictions\n",
    "\n",
    "d) Introducing non-linearity"
   ]
  },
  {
   "cell_type": "code",
   "execution_count": null,
   "id": "b1047010-4e5b-4b07-adf5-893fc468f540",
   "metadata": {},
   "outputs": [],
   "source": [
    "#ANS: c) Providing final predictions"
   ]
  },
  {
   "cell_type": "markdown",
   "id": "1d8e15bc",
   "metadata": {},
   "source": [
    "### 9. What type of data does an MLP process?\n",
    "\n",
    "a) Sequential data\n",
    "\n",
    "b) Tabular data\n",
    "\n",
    "c) Image data\n",
    "\n",
    "d) All of the above"
   ]
  },
  {
   "cell_type": "code",
   "execution_count": null,
   "id": "73ddf524-06cc-467f-9de3-297755d8423d",
   "metadata": {},
   "outputs": [],
   "source": [
    "#ANS: c) Image data"
   ]
  },
  {
   "cell_type": "markdown",
   "id": "a0516e86",
   "metadata": {},
   "source": [
    "### 10. What is the main drawback of MLPs?\n",
    "\n",
    "a) Overfitting\n",
    "\n",
    "b) No learning capacity\n",
    "\n",
    "c) Limited scalability\n",
    "\n",
    "d) Lack of generalization"
   ]
  },
  {
   "cell_type": "code",
   "execution_count": null,
   "id": "dde8f79a-9493-423f-92ff-1c76db0cd6e5",
   "metadata": {},
   "outputs": [],
   "source": [
    "#ANS: a) Overfitting"
   ]
  },
  {
   "cell_type": "markdown",
   "id": "875313ec",
   "metadata": {},
   "source": [
    "### 11. What is a neuron in an MLP?\n",
    "\n",
    "a) A single layer in the network\n",
    "\n",
    "b) A computational unit performing weighted sums and activation\n",
    "\n",
    "c) A type of input data\n",
    "\n",
    "d) An algorithm to train the model"
   ]
  },
  {
   "cell_type": "code",
   "execution_count": null,
   "id": "5ccc0c3e-ed50-46dc-a1aa-db0866577816",
   "metadata": {},
   "outputs": [],
   "source": [
    "#ANS: b) A computational unit performing weighted sums and activation"
   ]
  },
  {
   "cell_type": "markdown",
   "id": "77f78b0f",
   "metadata": {},
   "source": [
    "### 12. How are the weights in an MLP initialized?\n",
    "\n",
    "a) Randomly\n",
    "\n",
    "b) With zeros\n",
    "\n",
    "c) Based on target output\n",
    "\n",
    "d) Using fixed values"
   ]
  },
  {
   "cell_type": "code",
   "execution_count": null,
   "id": "7f6b38f8-8809-4fe2-9e8f-aa43a2dbd150",
   "metadata": {},
   "outputs": [],
   "source": [
    "#ANS: a) Randomly"
   ]
  },
  {
   "cell_type": "markdown",
   "id": "81b2c139",
   "metadata": {},
   "source": [
    "### 13. How is overfitting commonly prevented in MLPs?\n",
    "\n",
    "a) By using a large number of layers\n",
    "\n",
    "b) By reducing training data\n",
    "\n",
    "c) By applying regularization (e.g., dropout, L2 norm)\n",
    "\n",
    "d) By increasing learning rates"
   ]
  },
  {
   "cell_type": "code",
   "execution_count": null,
   "id": "b36e25e3-f386-4c2a-8feb-d3e1a9ad0ad3",
   "metadata": {},
   "outputs": [],
   "source": [
    "#ANS: c) By applying regularization (e.g., dropout, L2 norm)"
   ]
  },
  {
   "cell_type": "markdown",
   "id": "6ef8b94a",
   "metadata": {},
   "source": [
    "### 14. What is the function of hidden layers in an MLP?\n",
    "\n",
    "a) To act as the input to the network\n",
    "\n",
    "b) To learn features from the input data\n",
    "\n",
    "c) To connect directly to the output\n",
    "\n",
    "d) To produce random predictions"
   ]
  },
  {
   "cell_type": "code",
   "execution_count": null,
   "id": "d7766c65-c471-4ce2-9779-bc364a2f409a",
   "metadata": {},
   "outputs": [],
   "source": [
    "#ANS: b) To learn features from the input data"
   ]
  },
  {
   "cell_type": "markdown",
   "id": "7bdae37b",
   "metadata": {},
   "source": [
    "### 15. How does the ReLU activation function work?\n",
    "\n",
    "a) Outputs values between 0 and 1\n",
    "\n",
    "b) Outputs the same value as the input if it's positive; otherwise 0\n",
    "\n",
    "c) Outputs values only in negative range\n",
    "\n",
    "d) Divides the input by 2"
   ]
  },
  {
   "cell_type": "code",
   "execution_count": null,
   "id": "099b30ba-aee2-4e8f-b97a-54fe92aa237e",
   "metadata": {},
   "outputs": [],
   "source": [
    "#ANS:  b) Outputs the same value as the input if it's positive; otherwise 0"
   ]
  },
  {
   "cell_type": "markdown",
   "id": "3fd6a796",
   "metadata": {},
   "source": [
    "### 16. What does the Softmax function output?\n",
    "\n",
    "a) Binary values\n",
    "\n",
    "b) Probabilities summing to 1\n",
    "\n",
    "c) Random weights\n",
    "\n",
    "d) Normalized input data"
   ]
  },
  {
   "cell_type": "code",
   "execution_count": null,
   "id": "a4175c19-ac63-4ec9-b38f-e634e3e97a05",
   "metadata": {},
   "outputs": [],
   "source": [
    "#ANS: b) Probabilities summing to 1"
   ]
  },
  {
   "cell_type": "markdown",
   "id": "2e698085",
   "metadata": {},
   "source": [
    "### 17. What is the purpose of learning rate in MLP training?\n",
    "\n",
    "a) To determine the number of layers\n",
    "\n",
    "b) To adjust the step size for weight updates\n",
    "\n",
    "c) To initialize the model\n",
    "\n",
    "d) To reduce the size of the dataset"
   ]
  },
  {
   "cell_type": "code",
   "execution_count": null,
   "id": "8288a786-1b53-465a-902e-557cf346d96a",
   "metadata": {},
   "outputs": [],
   "source": [
    "#ANS: b) To adjust the step size for weight updates"
   ]
  },
  {
   "cell_type": "markdown",
   "id": "05b94161",
   "metadata": {},
   "source": [
    "### 18. How is the loss function used in MLP training?\n",
    "\n",
    "a) It calculates the weight values\n",
    "\n",
    "b) It measures the difference between predicted and true outputs\n",
    "\n",
    "c) It determines the number of hidden layers\n",
    "\n",
    "d) It defines the learning rate"
   ]
  },
  {
   "cell_type": "code",
   "execution_count": null,
   "id": "1b3ffd1d-8bba-4881-b1ad-4ceb2af06971",
   "metadata": {},
   "outputs": [],
   "source": [
    "#ANS: b) It measures the difference between predicted and true outputs"
   ]
  },
  {
   "cell_type": "markdown",
   "id": "764ac960",
   "metadata": {},
   "source": [
    "### 19. Which loss function is commonly used for classification problems in MLPs?\n",
    "\n",
    "a) Mean Squared Error (MSE)\n",
    "\n",
    "b) Cross-Entropy Loss\n",
    "\n",
    "c) Hinge Loss\n",
    "\n",
    "d) L1 Loss"
   ]
  },
  {
   "cell_type": "code",
   "execution_count": null,
   "id": "fb12db4b-a5c2-4d05-8c99-3c7a65ae4faf",
   "metadata": {},
   "outputs": [],
   "source": [
    "#ANS: b) Cross-Entropy Loss"
   ]
  },
  {
   "cell_type": "markdown",
   "id": "0f8a58f0",
   "metadata": {},
   "source": [
    "### 20. What is the main difference between MLP and a single-layer perceptron?\n",
    "\n",
    "a) MLP has multiple layers of neurons\n",
    "\n",
    "b) Single-layer perceptron uses backpropagation\n",
    "\n",
    "c) MLP cannot solve non-linear problems\n",
    "\n",
    "d) Single-layer perceptron uses ReLU"
   ]
  },
  {
   "cell_type": "code",
   "execution_count": null,
   "id": "89032dff-ec55-4ce0-b970-81bf3a30d022",
   "metadata": {},
   "outputs": [],
   "source": [
    "#ANS: a) MLP has multiple layers of neurons"
   ]
  },
  {
   "cell_type": "markdown",
   "id": "a7e139cb",
   "metadata": {},
   "source": []
  },
  {
   "cell_type": "markdown",
   "id": "5da3ead9",
   "metadata": {},
   "source": [
    "# Practical Question"
   ]
  },
  {
   "cell_type": "markdown",
   "id": "14283a41",
   "metadata": {},
   "source": [
    "## Question: Build, Save, and Reload a Neural Network Model with MNIST Dataset\n",
    "\n",
    "### Background:\n",
    "\n",
    "The MNIST dataset is a collection of handwritten digit images, where each image is 28x28 pixels. It has 10 classes (digits from 0 to 9). Your task is to use this dataset to build, train, and test a neural network model with Keras.\n",
    "\n",
    "### Instructions:\n",
    "\n",
    "##### Load the MNIST Dataset\n",
    "\n",
    "Use TensorFlow/Keras to load the MNIST dataset. Preprocess the data by normalizing the pixel values to be between 0 and 1.\n",
    "\n",
    "##### Build a Neural Network Model\n",
    "\n",
    "##### Create a Multi-Layer Perceptron (MLP) model with the following:\n",
    "\n",
    "\n",
    "    1- An input layer that accepts 28x28=784 features (flatten the image).\n",
    "\n",
    "    2- At least 3 dense (fully connected) layers with activation functions of your choice.\n",
    "\n",
    "    3- An output layer with 10 neurons (one for each digit class) and a softmax activation function.\n",
    "\n",
    "    4- Compile and Train the Model\n",
    "\n",
    "    5- Use an appropriate optimizer (e.g., Adam), loss function (e.g., sparse categorical crossentropy), and metric (e.g., accuracy).\n",
    "\n",
    "    6- Train the model on the MNIST training set for a sufficient number of epochs.\n",
    "    \n",
    "    7- Save the Model\n",
    "\n",
    "    8- Save the trained model to a file using Keras' save() method.\n",
    "\n",
    "    9- Reload the Model\n",
    "\n",
    "    10- Load the saved model from the file using Keras' load_model() method.\n",
    "    \n",
    "    11- Make Predictions\n",
    "\n",
    "    12- Use the reloaded model to predict the class of any one sample from the MNIST test set.\n",
    "\n",
    "    13- Display the input image and the predicted class in your output.\n",
    "\n",
    "#### Deliverables:\n",
    "\n",
    "    A Python script (.py or .ipynb file) containing all the steps mentioned above.\n",
    "\n",
    "    Clear and concise comments explaining each step in the code.\n",
    "#### Bonus:\n",
    "\n",
    "Visualize a few predictions (e.g., show 5 images from the test set with their predicted labels).\n",
    "Good luck!"
   ]
  },
  {
   "cell_type": "code",
   "execution_count": null,
   "id": "5e63cbc8",
   "metadata": {},
   "outputs": [],
   "source": []
  },
  {
   "cell_type": "code",
   "execution_count": 23,
   "id": "b0d50a38",
   "metadata": {},
   "outputs": [],
   "source": [
    "#import libraries\n",
    "import matplotlib.pyplot as plt\n",
    "from keras.layers import Dense, Flatten\n",
    "from keras.models import Sequential\n",
    "from keras.utils import to_categorical\n",
    "from keras.datasets import mnist\n",
    "from keras import utils"
   ]
  },
  {
   "cell_type": "code",
   "execution_count": 25,
   "id": "6b0a210f",
   "metadata": {},
   "outputs": [
    {
     "name": "stdout",
     "output_type": "stream",
     "text": [
      "Downloading data from https://storage.googleapis.com/tensorflow/tf-keras-datasets/mnist.npz\n",
      "\u001b[1m11490434/11490434\u001b[0m \u001b[32m━━━━━━━━━━━━━━━━━━━━\u001b[0m\u001b[37m\u001b[0m \u001b[1m8s\u001b[0m 1us/step\n"
     ]
    }
   ],
   "source": [
    "# Load the MNIST dataset, which is a dataset of handwritten digits\n",
    "# x_train and y_train are the training data and labels respectively\n",
    "# x_test and y_test are the testing data and labels respectively\n",
    "\n",
    "# data splitting\n",
    "(xtrain,ytrain),(xtest,ytest)=mnist.load_data()"
   ]
  },
  {
   "cell_type": "code",
   "execution_count": 27,
   "id": "7bdc2094-7c73-4128-b2c4-f22a8b7f75ca",
   "metadata": {},
   "outputs": [
    {
     "data": {
      "text/plain": [
       "(60000, 28, 28)"
      ]
     },
     "execution_count": 27,
     "metadata": {},
     "output_type": "execute_result"
    }
   ],
   "source": [
    "# display shape of train set\n",
    "xtrain.shape"
   ]
  },
  {
   "cell_type": "code",
   "execution_count": 29,
   "id": "09930c11-7a5a-4952-838b-b569b618226c",
   "metadata": {},
   "outputs": [
    {
     "data": {
      "text/plain": [
       "(10000,)"
      ]
     },
     "execution_count": 29,
     "metadata": {},
     "output_type": "execute_result"
    }
   ],
   "source": [
    "# display shape of test data\n",
    "ytest.shape"
   ]
  },
  {
   "cell_type": "code",
   "execution_count": 37,
   "id": "6ee37afa-5f6d-4bae-8337-82c8fc320bc2",
   "metadata": {},
   "outputs": [
    {
     "data": {
      "image/png": "[encoded data removed]",
      "text/plain": [
       "<Figure size 1000x500 with 10 Axes>"
      ]
     },
     "metadata": {},
     "output_type": "display_data"
    }
   ],
   "source": [
    "# plot all different images in the dataset\n",
    "\n",
    "# Create a figure and an array of subplots\n",
    "\n",
    "# ncols=10: Specifies the number of columns in the subplot grid (10 columns)\n",
    "# sharex=False: Determines whether the x-axis is shared among subplots (not shared)\n",
    "# sharey=True: Determines whether the y-axis is shared among subplots (shared)\n",
    "fig,axes=plt.subplots(ncols=10, sharex=False, sharey=True, figsize=(10,5))\n",
    "\n",
    "# loop through first ten images in the data set\n",
    "for i in range(10):\n",
    "    # Set the title of each subplot to the corresponding label in y_train\n",
    "    axes[i].set_title(ytrain[i])\n",
    "    # display image in grayscale\n",
    "    axes[i].imshow(xtrain[i],cmap='gray')\n",
    "    # hide the x-axis\n",
    "    axes[i].get_xaxis().set_visible(False)\n",
    "    # hide the y-axis\n",
    "    axes[i].get_yaxis().set_visible(False)"
   ]
  },
  {
   "cell_type": "code",
   "execution_count": 39,
   "id": "59a00067-9f6b-4dcf-bba5-4b6cd95d809a",
   "metadata": {},
   "outputs": [],
   "source": [
    "# convert categorical data to numerical/encoded data\n",
    "\n",
    "ytrain=to_categorical(ytrain)\n",
    "ytest=to_categorical(ytest)"
   ]
  },
  {
   "cell_type": "code",
   "execution_count": 43,
   "id": "956d6ac5-446d-4f15-97d5-41ae8a2d2331",
   "metadata": {},
   "outputs": [
    {
     "name": "stdout",
     "output_type": "stream",
     "text": [
      "[[0. 0. 0. ... 0. 0. 0.]\n",
      " [1. 0. 0. ... 0. 0. 0.]\n",
      " [0. 0. 0. ... 0. 0. 0.]\n",
      " ...\n",
      " [0. 0. 0. ... 0. 0. 0.]\n",
      " [0. 0. 0. ... 0. 0. 0.]\n",
      " [0. 0. 0. ... 0. 1. 0.]]\n"
     ]
    }
   ],
   "source": [
    "print(ytrain)"
   ]
  },
  {
   "cell_type": "code",
   "execution_count": 45,
   "id": "bed523c0-413d-4e76-88d1-460e5d90df20",
   "metadata": {},
   "outputs": [
    {
     "name": "stdout",
     "output_type": "stream",
     "text": [
      "[[0. 0. 0. ... 1. 0. 0.]\n",
      " [0. 0. 1. ... 0. 0. 0.]\n",
      " [0. 1. 0. ... 0. 0. 0.]\n",
      " ...\n",
      " [0. 0. 0. ... 0. 0. 0.]\n",
      " [0. 0. 0. ... 0. 0. 0.]\n",
      " [0. 0. 0. ... 0. 0. 0.]]\n"
     ]
    }
   ],
   "source": [
    "print(ytest)"
   ]
  },
  {
   "cell_type": "code",
   "execution_count": 47,
   "id": "19df9336-8cff-49fc-bb29-21c629155f21",
   "metadata": {},
   "outputs": [
    {
     "data": {
      "text/plain": [
       "(10000, 10)"
      ]
     },
     "execution_count": 47,
     "metadata": {},
     "output_type": "execute_result"
    }
   ],
   "source": [
    "# Now lets check shape of ytest array\n",
    "ytest.shape"
   ]
  },
  {
   "cell_type": "code",
   "execution_count": null,
   "id": "6e193802-d30b-46ca-89f8-925137dd940e",
   "metadata": {},
   "outputs": [],
   "source": []
  },
  {
   "cell_type": "code",
   "execution_count": 56,
   "id": "26e65680-fc18-4281-bb4f-77f86c64d581",
   "metadata": {},
   "outputs": [],
   "source": [
    "# defining model\n",
    "model=Sequential()\n",
    "\n",
    "#add first layer= Flatten layer to covert 28x28 into 1D array\n",
    "model.add(Flatten(input_shape=(28,28)))\n",
    "\n",
    "#add a second layer= Dense layer with 6 neurons and sigmoid activation function\n",
    "model.add(Dense(6, activation='sigmoid'))\n",
    "\n",
    "#add a third layer= Dense layer with  neurons and sigmoid activation function\n",
    "model.add(Dense(5, activation='sigmoid'))  \n",
    "\n",
    "#add a Output layer= Dense layer with 10 neurons and softmax activation function\n",
    "#Softmax is used for multi-class classification to output probabilities for each class\n",
    "model.add(Dense(10, activation='softmax'))"
   ]
  },
  {
   "cell_type": "code",
   "execution_count": 58,
   "id": "742a3c62-a276-41ed-9e32-c1f2e78091c9",
   "metadata": {},
   "outputs": [
    {
     "data": {
      "text/html": [
       "<pre style=\"white-space:pre;overflow-x:auto;line-height:normal;font-family:Menlo,'DejaVu Sans Mono',consolas,'Courier New',monospace\"><span style=\"font-weight: bold\">Model: \"sequential_2\"</span>\n",
       "</pre>\n"
      ],
      "text/plain": [
       "\u001b[1mModel: \"sequential_2\"\u001b[0m\n"
      ]
     },
     "metadata": {},
     "output_type": "display_data"
    },
    {
     "data": {
      "text/html": [
       "<pre style=\"white-space:pre;overflow-x:auto;line-height:normal;font-family:Menlo,'DejaVu Sans Mono',consolas,'Courier New',monospace\">┏━━━━━━━━━━━━━━━━━━━━━━━━━━━━━━━━━┳━━━━━━━━━━━━━━━━━━━━━━━━┳━━━━━━━━━━━━━━━┓\n",
       "┃<span style=\"font-weight: bold\"> Layer (type)                    </span>┃<span style=\"font-weight: bold\"> Output Shape           </span>┃<span style=\"font-weight: bold\">       Param # </span>┃\n",
       "┡━━━━━━━━━━━━━━━━━━━━━━━━━━━━━━━━━╇━━━━━━━━━━━━━━━━━━━━━━━━╇━━━━━━━━━━━━━━━┩\n",
       "│ flatten_2 (<span style=\"color: #0087ff; text-decoration-color: #0087ff\">Flatten</span>)             │ (<span style=\"color: #00d7ff; text-decoration-color: #00d7ff\">None</span>, <span style=\"color: #00af00; text-decoration-color: #00af00\">784</span>)            │             <span style=\"color: #00af00; text-decoration-color: #00af00\">0</span> │\n",
       "├─────────────────────────────────┼────────────────────────┼───────────────┤\n",
       "│ dense_3 (<span style=\"color: #0087ff; text-decoration-color: #0087ff\">Dense</span>)                 │ (<span style=\"color: #00d7ff; text-decoration-color: #00d7ff\">None</span>, <span style=\"color: #00af00; text-decoration-color: #00af00\">6</span>)              │         <span style=\"color: #00af00; text-decoration-color: #00af00\">4,710</span> │\n",
       "├─────────────────────────────────┼────────────────────────┼───────────────┤\n",
       "│ dense_4 (<span style=\"color: #0087ff; text-decoration-color: #0087ff\">Dense</span>)                 │ (<span style=\"color: #00d7ff; text-decoration-color: #00d7ff\">None</span>, <span style=\"color: #00af00; text-decoration-color: #00af00\">5</span>)              │            <span style=\"color: #00af00; text-decoration-color: #00af00\">35</span> │\n",
       "├─────────────────────────────────┼────────────────────────┼───────────────┤\n",
       "│ dense_5 (<span style=\"color: #0087ff; text-decoration-color: #0087ff\">Dense</span>)                 │ (<span style=\"color: #00d7ff; text-decoration-color: #00d7ff\">None</span>, <span style=\"color: #00af00; text-decoration-color: #00af00\">10</span>)             │            <span style=\"color: #00af00; text-decoration-color: #00af00\">60</span> │\n",
       "└─────────────────────────────────┴────────────────────────┴───────────────┘\n",
       "</pre>\n"
      ],
      "text/plain": [
       "┏━━━━━━━━━━━━━━━━━━━━━━━━━━━━━━━━━┳━━━━━━━━━━━━━━━━━━━━━━━━┳━━━━━━━━━━━━━━━┓\n",
       "┃\u001b[1m \u001b[0m\u001b[1mLayer (type)                   \u001b[0m\u001b[1m \u001b[0m┃\u001b[1m \u001b[0m\u001b[1mOutput Shape          \u001b[0m\u001b[1m \u001b[0m┃\u001b[1m \u001b[0m\u001b[1m      Param #\u001b[0m\u001b[1m \u001b[0m┃\n",
       "┡━━━━━━━━━━━━━━━━━━━━━━━━━━━━━━━━━╇━━━━━━━━━━━━━━━━━━━━━━━━╇━━━━━━━━━━━━━━━┩\n",
       "│ flatten_2 (\u001b[38;5;33mFlatten\u001b[0m)             │ (\u001b[38;5;45mNone\u001b[0m, \u001b[38;5;34m784\u001b[0m)            │             \u001b[38;5;34m0\u001b[0m │\n",
       "├─────────────────────────────────┼────────────────────────┼───────────────┤\n",
       "│ dense_3 (\u001b[38;5;33mDense\u001b[0m)                 │ (\u001b[38;5;45mNone\u001b[0m, \u001b[38;5;34m6\u001b[0m)              │         \u001b[38;5;34m4,710\u001b[0m │\n",
       "├─────────────────────────────────┼────────────────────────┼───────────────┤\n",
       "│ dense_4 (\u001b[38;5;33mDense\u001b[0m)                 │ (\u001b[38;5;45mNone\u001b[0m, \u001b[38;5;34m5\u001b[0m)              │            \u001b[38;5;34m35\u001b[0m │\n",
       "├─────────────────────────────────┼────────────────────────┼───────────────┤\n",
       "│ dense_5 (\u001b[38;5;33mDense\u001b[0m)                 │ (\u001b[38;5;45mNone\u001b[0m, \u001b[38;5;34m10\u001b[0m)             │            \u001b[38;5;34m60\u001b[0m │\n",
       "└─────────────────────────────────┴────────────────────────┴───────────────┘\n"
      ]
     },
     "metadata": {},
     "output_type": "display_data"
    },
    {
     "data": {
      "text/html": [
       "<pre style=\"white-space:pre;overflow-x:auto;line-height:normal;font-family:Menlo,'DejaVu Sans Mono',consolas,'Courier New',monospace\"><span style=\"font-weight: bold\"> Total params: </span><span style=\"color: #00af00; text-decoration-color: #00af00\">4,805</span> (18.77 KB)\n",
       "</pre>\n"
      ],
      "text/plain": [
       "\u001b[1m Total params: \u001b[0m\u001b[38;5;34m4,805\u001b[0m (18.77 KB)\n"
      ]
     },
     "metadata": {},
     "output_type": "display_data"
    },
    {
     "data": {
      "text/html": [
       "<pre style=\"white-space:pre;overflow-x:auto;line-height:normal;font-family:Menlo,'DejaVu Sans Mono',consolas,'Courier New',monospace\"><span style=\"font-weight: bold\"> Trainable params: </span><span style=\"color: #00af00; text-decoration-color: #00af00\">4,805</span> (18.77 KB)\n",
       "</pre>\n"
      ],
      "text/plain": [
       "\u001b[1m Trainable params: \u001b[0m\u001b[38;5;34m4,805\u001b[0m (18.77 KB)\n"
      ]
     },
     "metadata": {},
     "output_type": "display_data"
    },
    {
     "data": {
      "text/html": [
       "<pre style=\"white-space:pre;overflow-x:auto;line-height:normal;font-family:Menlo,'DejaVu Sans Mono',consolas,'Courier New',monospace\"><span style=\"font-weight: bold\"> Non-trainable params: </span><span style=\"color: #00af00; text-decoration-color: #00af00\">0</span> (0.00 B)\n",
       "</pre>\n"
      ],
      "text/plain": [
       "\u001b[1m Non-trainable params: \u001b[0m\u001b[38;5;34m0\u001b[0m (0.00 B)\n"
      ]
     },
     "metadata": {},
     "output_type": "display_data"
    }
   ],
   "source": [
    "#display summary of model architecture\n",
    "#it includes number of parameters of each layer\n",
    "model.summary()"
   ]
  },
  {
   "cell_type": "markdown",
   "id": "5b83ddb7-b2e9-454b-9021-d9480f7c9337",
   "metadata": {},
   "source": [
    "You must install pydot (`pip install pydot`) for `plot_model` to work."
   ]
  },
  {
   "cell_type": "code",
   "execution_count": 88,
   "id": "a0e39578-3cd3-4fd2-ab4b-57943628af8f",
   "metadata": {},
   "outputs": [
    {
     "name": "stdout",
     "output_type": "stream",
     "text": [
      "Defaulting to user installation because normal site-packages is not writeable\n",
      "Requirement already satisfied: pydot in c:\\users\\sharm\\appdata\\roaming\\python\\python312\\site-packages (3.0.4)\n",
      "Requirement already satisfied: graphviz in c:\\users\\sharm\\appdata\\roaming\\python\\python312\\site-packages (0.20.3)\n",
      "Requirement already satisfied: pyparsing>=3.0.9 in c:\\users\\sharm\\appdata\\roaming\\python\\python312\\site-packages (from pydot) (3.2.0)\n"
     ]
    }
   ],
   "source": [
    "!pip install pydot graphviz"
   ]
  },
  {
   "cell_type": "code",
   "execution_count": 257,
   "id": "8250f11d-b690-4e24-84d7-55e9c24df957",
   "metadata": {},
   "outputs": [],
   "source": [
    "import pydot\n",
    "from tensorflow.keras import utils\n",
    "from tensorflow.keras.utils import plot_model"
   ]
  },
  {
   "cell_type": "code",
   "execution_count": 269,
   "id": "8316af08-ac9a-4b9f-9279-5279713cc1bd",
   "metadata": {},
   "outputs": [
    {
     "name": "stdout",
     "output_type": "stream",
     "text": [
      "You must install pydot (`pip install pydot`) for `plot_model` to work.\n"
     ]
    }
   ],
   "source": [
    "# Visualize the architecture of the model with its layer shapes\n",
    "utils.plot_model(model, show_shapes=True)"
   ]
  },
  {
   "cell_type": "code",
   "execution_count": 96,
   "id": "ac21b3d7-479e-4e1b-bf4a-f9cc82ca43fd",
   "metadata": {},
   "outputs": [],
   "source": [
    "#compile the model\n",
    "model.compile(loss='categorical_crossentropy',optimizer='adam',metrics['acc'])"
   ]
  },
  {
   "cell_type": "code",
   "execution_count": 100,
   "id": "bbd4651e-1ee6-4762-988f-65aa7c620d1a",
   "metadata": {},
   "outputs": [
    {
     "name": "stdout",
     "output_type": "stream",
     "text": [
      "Epoch 1/6\n",
      "\u001b[1m1875/1875\u001b[0m \u001b[32m━━━━━━━━━━━━━━━━━━━━\u001b[0m\u001b[37m\u001b[0m \u001b[1m5s\u001b[0m 3ms/step - acc: 0.3823 - loss: 1.6308 - val_acc: 0.4405 - val_loss: 1.4771\n",
      "Epoch 2/6\n",
      "\u001b[1m1875/1875\u001b[0m \u001b[32m━━━━━━━━━━━━━━━━━━━━\u001b[0m\u001b[37m\u001b[0m \u001b[1m6s\u001b[0m 3ms/step - acc: 0.4413 - loss: 1.4452 - val_acc: 0.4822 - val_loss: 1.3541\n",
      "Epoch 3/6\n",
      "\u001b[1m1875/1875\u001b[0m \u001b[32m━━━━━━━━━━━━━━━━━━━━\u001b[0m\u001b[37m\u001b[0m \u001b[1m5s\u001b[0m 3ms/step - acc: 0.4898 - loss: 1.3560 - val_acc: 0.5692 - val_loss: 1.2436\n",
      "Epoch 4/6\n",
      "\u001b[1m1875/1875\u001b[0m \u001b[32m━━━━━━━━━━━━━━━━━━━━\u001b[0m\u001b[37m\u001b[0m \u001b[1m6s\u001b[0m 3ms/step - acc: 0.5534 - loss: 1.2410 - val_acc: 0.5741 - val_loss: 1.1748\n",
      "Epoch 5/6\n",
      "\u001b[1m1875/1875\u001b[0m \u001b[32m━━━━━━━━━━━━━━━━━━━━\u001b[0m\u001b[37m\u001b[0m \u001b[1m6s\u001b[0m 3ms/step - acc: 0.5721 - loss: 1.1641 - val_acc: 0.5763 - val_loss: 1.1230\n",
      "Epoch 6/6\n",
      "\u001b[1m1875/1875\u001b[0m \u001b[32m━━━━━━━━━━━━━━━━━━━━\u001b[0m\u001b[37m\u001b[0m \u001b[1m6s\u001b[0m 3ms/step - acc: 0.6031 - loss: 1.1088 - val_acc: 0.6367 - val_loss: 1.0952\n"
     ]
    }
   ],
   "source": [
    "#train the model for six epoch and validate of test data\n",
    "history=model.fit(xtrain,ytrain,epochs=6,validation_data=(xtest,ytest))"
   ]
  },
  {
   "cell_type": "code",
   "execution_count": 104,
   "id": "c57c8599-ef3b-4674-b6ef-ef2c4b08e3e4",
   "metadata": {},
   "outputs": [],
   "source": [
    "#save the model using keras (you can also use h5)\n",
    "model.save('mnist_model.keras')"
   ]
  },
  {
   "cell_type": "code",
   "execution_count": 106,
   "id": "37170d84-cfea-4e29-a78f-925a38e31cd0",
   "metadata": {},
   "outputs": [
    {
     "name": "stdout",
     "output_type": "stream",
     "text": [
      "{'acc': [0.3967166543006897, 0.45225000381469727, 0.5059666633605957, 0.5534833073616028, 0.5687500238418579, 0.6367499828338623], 'loss': [1.5672203302383423, 1.41861093044281, 1.3274757862091064, 1.228217363357544, 1.1559404134750366, 1.066506028175354], 'val_acc': [0.4404999911785126, 0.4821999967098236, 0.5691999793052673, 0.5741000175476074, 0.5763000249862671, 0.6366999745368958], 'val_loss': [1.4770900011062622, 1.3540781736373901, 1.2435671091079712, 1.1748323440551758, 1.123020887374878, 1.0952249765396118]}\n"
     ]
    }
   ],
   "source": [
    "# Printing the training history containing the loss and accuracy metrics\n",
    "# shows history of all 6 epochs\n",
    "print(history.history)"
   ]
  },
  {
   "cell_type": "code",
   "execution_count": 108,
   "id": "472d4878-534b-40d8-b024-d2db77456883",
   "metadata": {},
   "outputs": [
    {
     "data": {
      "text/plain": [
       "<matplotlib.legend.Legend at 0x1ecc3ee0cb0>"
      ]
     },
     "execution_count": 108,
     "metadata": {},
     "output_type": "execute_result"
    },
    {
     "data": {
      "image/png": "[encoded data removed]",
      "text/plain": [
       "<Figure size 640x480 with 1 Axes>"
      ]
     },
     "metadata": {},
     "output_type": "display_data"
    }
   ],
   "source": [
    "# Plot history of training loss curve and validation loss curve\n",
    "\n",
    "plt.plot(history.history['loss'], label='Train Loss')\n",
    "plt.plot(history.history['val_loss'], label='Validation Loss')\n",
    "\n",
    "# Adding legend to the plot\n",
    "plt.legend()"
   ]
  },
  {
   "cell_type": "code",
   "execution_count": 110,
   "id": "507f38b0-2e4e-4d3e-8afa-782831811889",
   "metadata": {},
   "outputs": [
    {
     "data": {
      "text/plain": [
       "<matplotlib.legend.Legend at 0x1ecc3bfc6b0>"
      ]
     },
     "execution_count": 110,
     "metadata": {},
     "output_type": "execute_result"
    },
    {
     "data": {
      "image/png": "[encoded data removed]",
      "text/plain": [
       "<Figure size 640x480 with 1 Axes>"
      ]
     },
     "metadata": {},
     "output_type": "display_data"
    }
   ],
   "source": [
    "#plot training accurcay curve and validation accuracy curve\n",
    "\n",
    "plt.plot(history.history['acc'], label='Train Accuracy')\n",
    "plt.plot(history.history['val_acc'], label='Validation Accuracy')\n",
    "\n",
    "# Adding legend to the plot\n",
    "plt.legend()"
   ]
  },
  {
   "cell_type": "code",
   "execution_count": null,
   "id": "143354a0-76f8-4c47-a3c9-404c6d15e954",
   "metadata": {},
   "outputs": [],
   "source": []
  },
  {
   "cell_type": "code",
   "execution_count": 171,
   "id": "ea969041-907c-4546-b45f-5f2ee1d1d5c9",
   "metadata": {},
   "outputs": [],
   "source": [
    "# Import tensorflow\n",
    "import tensorflow as tf"
   ]
  },
  {
   "cell_type": "code",
   "execution_count": 173,
   "id": "e821ab30-e02e-4d5e-ab06-97ce95954f31",
   "metadata": {},
   "outputs": [],
   "source": [
    "#load the model\n",
    "model=tf.keras.models.load_model('mnist_model.keras')"
   ]
  },
  {
   "cell_type": "code",
   "execution_count": 175,
   "id": "0149e0c4-fb90-4f0b-ae09-1630a83a1ac5",
   "metadata": {},
   "outputs": [
    {
     "data": {
      "text/plain": [
       "<matplotlib.image.AxesImage at 0x1ecc71cec30>"
      ]
     },
     "execution_count": 175,
     "metadata": {},
     "output_type": "execute_result"
    },
    {
     "data": {
      "image/png": "[encoded data removed]",
      "text/plain": [
       "<Figure size 640x480 with 1 Axes>"
      ]
     },
     "metadata": {},
     "output_type": "display_data"
    }
   ],
   "source": [
    "# display first test image\n",
    "plt.imshow(xtest[0],cmap='gray')"
   ]
  },
  {
   "cell_type": "code",
   "execution_count": 177,
   "id": "4a7312b1-5750-452a-b540-ec53c45886ab",
   "metadata": {},
   "outputs": [],
   "source": [
    "# Importing the NumPy library\n",
    "import numpy as np\n",
    "\n",
    "# Reshaping the first test image to match the model's input shape\n",
    "x = np.reshape(xtest[0], (1, 28, 28))"
   ]
  },
  {
   "cell_type": "code",
   "execution_count": 179,
   "id": "6e579512-19a8-423d-a364-6350e3db957a",
   "metadata": {},
   "outputs": [
    {
     "name": "stdout",
     "output_type": "stream",
     "text": [
      "\u001b[1m1/1\u001b[0m \u001b[32m━━━━━━━━━━━━━━━━━━━━\u001b[0m\u001b[37m\u001b[0m \u001b[1m0s\u001b[0m 150ms/step\n",
      "6\n"
     ]
    }
   ],
   "source": [
    "# Using the trained model to predict the class label for the input image\n",
    "predicted_label = np.argmax(model.predict(x))\n",
    "\n",
    "# Printing the predicted class label\n",
    "print(predicted_label)"
   ]
  },
  {
   "cell_type": "code",
   "execution_count": null,
   "id": "04309ad7-0af4-4b09-9cad-c8f0ea88ca74",
   "metadata": {},
   "outputs": [],
   "source": []
  },
  {
   "cell_type": "code",
   "execution_count": 247,
   "id": "724cce65-1349-497d-97e5-e1ce23abd51a",
   "metadata": {},
   "outputs": [
    {
     "name": "stdout",
     "output_type": "stream",
     "text": [
      "\u001b[1m1/1\u001b[0m \u001b[32m━━━━━━━━━━━━━━━━━━━━\u001b[0m\u001b[37m\u001b[0m \u001b[1m0s\u001b[0m 70ms/step\n",
      "Predicted Labels: [6]\n"
     ]
    }
   ],
   "source": [
    "import matplotlib.pyplot as plt\n",
    "import numpy as np\n",
    "\n",
    "# Select 5 images from the test set\n",
    "images = xtest[:5]\n",
    "\n",
    "# Reshaping images to match the model's input shape (e.g., (1, 28, 28, 1) for grayscale images)\n",
    "images_reshaped = np.reshape(images, (1, 28, 28))  # Reshaping each image with a batch of size 5\n",
    "\n",
    "# True labels for the selected images\n",
    "true_labels = ytest[:5]\n",
    "\n",
    "# Predict the labels for the selected images\n",
    "predictions = model.predict(images_reshaped)\n",
    "\n",
    "# Convert predicted probabilities to class labels\n",
    "predicted_labels = np.argmax(predictions, axis=1)\n",
    "\n",
    "# Print predicted labels\n",
    "print(\"Predicted Labels:\", predicted_labels)"
   ]
  }
 ],
 "metadata": {
  "kernelspec": {
   "display_name": "Python 3 (ipykernel)",
   "language": "python",
   "name": "python3"
  },
  "language_info": {
   "codemirror_mode": {
    "name": "ipython",
    "version": 3
   },
   "file_extension": ".py",
   "mimetype": "text/x-python",
   "name": "python",
   "nbconvert_exporter": "python",
   "pygments_lexer": "ipython3",
   "version": "3.12.7"
  }
 },
 "nbformat": 4,
 "nbformat_minor": 5
}
