{
 "cells": [
  {
   "cell_type": "code",
   "execution_count": 5,
   "id": "b29a734d-2fce-46b4-a2b1-6365233d59d4",
   "metadata": {},
   "outputs": [],
   "source": [
    "import numpy as np\n",
    "import pandas as pd"
   ]
  },
  {
   "cell_type": "code",
   "execution_count": 303,
   "id": "3d6b8b4b-a9c4-43dc-95db-68ee41b2add2",
   "metadata": {},
   "outputs": [
    {
     "name": "stdout",
     "output_type": "stream",
     "text": [
      "      Name  Age      City\n",
      "0    Alice   25  New York\n",
      "1      Bob   30     Paris\n",
      "2  Charlie   35    London\n"
     ]
    }
   ],
   "source": [
    "#1 Create a pandas DataFrame from the following dictionary and display it:\n",
    "# data = {'Name': ['Alice', 'Bob', 'Charlie'], 'Age': [25, 30, 35], 'City': ['New York', 'Paris', 'London']}\n",
    "# df = ?\n",
    "\n",
    "info=pd.DataFrame({'Name': ['Alice', 'Bob', 'Charlie'], 'Age': [25, 30, 35], 'City': ['New York', 'Paris', 'London']})\n",
    "print(info)"
   ]
  },
  {
   "cell_type": "code",
   "execution_count": 305,
   "id": "3d9a59af-f0d6-4c4a-9ad6-89c6818728bb",
   "metadata": {},
   "outputs": [
    {
     "name": "stdout",
     "output_type": "stream",
     "text": [
      "      Name  Age      City\n",
      "0    Alice   25  New York\n",
      "1      Bob   30     Paris\n",
      "2  Charlie   35    London\n"
     ]
    }
   ],
   "source": [
    "#2 Load a CSV file named data.csv into a DataFrame. df = ?\n",
    "\n",
    "#convert to csv file\n",
    "info.to_csv('data.csv', index = False)\n",
    "\n",
    "#store csv file in dataframe and print\n",
    "data_df = pd.read_csv('data.csv')\n",
    "print(data_df)"
   ]
  },
  {
   "cell_type": "code",
   "execution_count": 307,
   "id": "f5456eef-452c-41ee-b484-2535e6a32728",
   "metadata": {},
   "outputs": [
    {
     "name": "stdout",
     "output_type": "stream",
     "text": [
      "    Year  Australia  Canada  France  Germany  Italy  Japan  Mexico  \\\n",
      "0   1990        NaN    1.87    3.63     2.65   4.59   3.16    1.00   \n",
      "1   1991       1.96    1.92    3.45     2.90   4.50   3.46    1.30   \n",
      "2   1992       1.89    1.73    3.56     3.27   4.53   3.58    1.50   \n",
      "3   1993       1.73    1.57    3.41     3.07   3.68   4.16    1.56   \n",
      "4   1994       1.84    1.45    3.59     3.52   3.70   4.36    1.48   \n",
      "5   1995       1.95    1.53    4.26     3.96   4.00   4.43    1.11   \n",
      "6   1996       2.12    1.61    4.41     3.94   4.39   3.64    1.25   \n",
      "7   1997       2.05    1.62    4.00     3.53   4.07   3.26    1.47   \n",
      "8   1998       1.63    1.38    3.87     3.34   3.84   2.82    1.49   \n",
      "9   1999       1.72    1.52    3.85     3.42   3.87   3.27    1.79   \n",
      "10  2000       1.94    1.86    3.80     3.45   3.77   3.65    2.01   \n",
      "11  2001       1.71    1.72    3.51     3.40   3.57   3.27    2.20   \n",
      "12  2002       1.76    1.69    3.62     3.67   3.74   3.15    2.24   \n",
      "13  2003       2.19    1.99    4.35     4.59   4.53   3.47    2.04   \n",
      "14  2004       2.72    2.37    4.99     5.24   5.29   3.93    2.03   \n",
      "15  2005       3.23    2.89    5.46     5.66   5.74   4.28    2.22   \n",
      "16  2006       3.54    3.26    5.88     6.03   6.10   4.47    2.31   \n",
      "17  2007       3.85    3.59    6.60     6.88   6.73   4.49    2.40   \n",
      "18  2008       4.45    4.08    7.51     7.75   7.63   5.74    2.45   \n",
      "\n",
      "    South Korea    UK   USA  \n",
      "0          2.05  2.82  1.16  \n",
      "1          2.49  3.01  1.14  \n",
      "2          2.65  3.06  1.13  \n",
      "3          2.88  2.84  1.11  \n",
      "4          2.87  2.99  1.11  \n",
      "5          2.94  3.21  1.15  \n",
      "6          3.18  3.34  1.23  \n",
      "7          3.34  3.83  1.23  \n",
      "8          3.04  4.06  1.06  \n",
      "9          3.80  4.29  1.17  \n",
      "10         4.18  4.58  1.51  \n",
      "11         3.76  4.13  1.46  \n",
      "12         3.84  4.16  1.36  \n",
      "13         4.11  4.70  1.59  \n",
      "14         4.51  5.56  1.88  \n",
      "15         5.28  5.97  2.30  \n",
      "16         5.92  6.36  2.59  \n",
      "17         6.21  7.13  2.80  \n",
      "18         5.83  7.42  3.27  \n"
     ]
    }
   ],
   "source": [
    "#3. Display the first 10 rows of a DataFrame. result = ?\n",
    "\n",
    "#get a csv file from stored location on your pc by copy path\n",
    "rand = pd.read_csv(r'D:\\python\\Matplotlib\\gas_prices.csv')\n",
    "print(rand)"
   ]
  },
  {
   "cell_type": "code",
   "execution_count": 309,
   "id": "97d66257-f2af-4348-9d28-94bc2d8160a5",
   "metadata": {},
   "outputs": [
    {
     "name": "stdout",
     "output_type": "stream",
     "text": [
      "   Year  Australia  Canada  France  Germany  Italy  Japan  Mexico  \\\n",
      "0  1990        NaN    1.87    3.63     2.65   4.59   3.16    1.00   \n",
      "1  1991       1.96    1.92    3.45     2.90   4.50   3.46    1.30   \n",
      "2  1992       1.89    1.73    3.56     3.27   4.53   3.58    1.50   \n",
      "3  1993       1.73    1.57    3.41     3.07   3.68   4.16    1.56   \n",
      "4  1994       1.84    1.45    3.59     3.52   3.70   4.36    1.48   \n",
      "5  1995       1.95    1.53    4.26     3.96   4.00   4.43    1.11   \n",
      "6  1996       2.12    1.61    4.41     3.94   4.39   3.64    1.25   \n",
      "7  1997       2.05    1.62    4.00     3.53   4.07   3.26    1.47   \n",
      "8  1998       1.63    1.38    3.87     3.34   3.84   2.82    1.49   \n",
      "9  1999       1.72    1.52    3.85     3.42   3.87   3.27    1.79   \n",
      "\n",
      "   South Korea    UK   USA  \n",
      "0         2.05  2.82  1.16  \n",
      "1         2.49  3.01  1.14  \n",
      "2         2.65  3.06  1.13  \n",
      "3         2.88  2.84  1.11  \n",
      "4         2.87  2.99  1.11  \n",
      "5         2.94  3.21  1.15  \n",
      "6         3.18  3.34  1.23  \n",
      "7         3.34  3.83  1.23  \n",
      "8         3.04  4.06  1.06  \n",
      "9         3.80  4.29  1.17  \n"
     ]
    }
   ],
   "source": [
    "#print only 10 rowa\n",
    "result = rand.head(10)\n",
    "print(result)"
   ]
  },
  {
   "cell_type": "code",
   "execution_count": 311,
   "id": "62844f5c-8542-4266-add5-788953cd8263",
   "metadata": {},
   "outputs": [
    {
     "name": "stdout",
     "output_type": "stream",
     "text": [
      "      Name  Age\n",
      "0    Alice   25\n",
      "1      Bob   30\n",
      "2  Charlie   35\n"
     ]
    }
   ],
   "source": [
    "#4. Select only the Name and Age columns from the DataFrame. result = ?\n",
    "\n",
    "result = info[['Name', 'Age']]\n",
    "print(result)"
   ]
  },
  {
   "cell_type": "code",
   "execution_count": 313,
   "id": "5bedf826-59d0-400c-9d5c-2cec2f066a71",
   "metadata": {},
   "outputs": [
    {
     "name": "stdout",
     "output_type": "stream",
     "text": [
      "Number of rows: 3, Number of columns: 3\n"
     ]
    }
   ],
   "source": [
    "#5. Find the shape (number of rows and columns) of the DataFrame. result = ?\n",
    "\n",
    "result = info.shape\n",
    "print(f\"Number of rows: {result[0]}, Number of columns: {result[1]}\")"
   ]
  },
  {
   "cell_type": "code",
   "execution_count": 315,
   "id": "14ae3811-cccb-4f62-a10f-0bbccc5a0b9f",
   "metadata": {},
   "outputs": [
    {
     "name": "stdout",
     "output_type": "stream",
     "text": [
      "    Name    Age   City\n",
      "0  False  False  False\n",
      "1  False  False  False\n",
      "2  False  False  False\n"
     ]
    }
   ],
   "source": [
    "#6. Check if there are any missing values in the DataFrame. result = ?\n",
    "\n",
    "result = info.isnull()\n",
    "print(result)"
   ]
  },
  {
   "cell_type": "code",
   "execution_count": 317,
   "id": "b853bee7-8d5a-4d98-bf87-9e3a72130376",
   "metadata": {},
   "outputs": [
    {
     "name": "stdout",
     "output_type": "stream",
     "text": [
      "      Name  Age      City Country\n",
      "0    Alice   25  New York     USA\n",
      "1      Bob   30     Paris  France\n",
      "2  Charlie   35    London      UK\n"
     ]
    }
   ],
   "source": [
    "#7. Add a new column Country to the DataFrame with a default value of 'USA'. df['Country'] = ?\n",
    "\n",
    "info['Country'] = ['USA','France', 'UK']\n",
    "print(info)"
   ]
  },
  {
   "cell_type": "code",
   "execution_count": 319,
   "id": "5411fef9-85d0-4ff8-9616-87c2a2f4e568",
   "metadata": {},
   "outputs": [
    {
     "name": "stdout",
     "output_type": "stream",
     "text": [
      "      Name  Age Country\n",
      "0    Alice   25     USA\n",
      "1      Bob   30  France\n",
      "2  Charlie   35      UK\n"
     ]
    }
   ],
   "source": [
    "#8. Delete the City column from the DataFrame. df = ?\n",
    "\n",
    "#deleting column so mention axis\n",
    "info_c = info.drop('City', axis=1)\n",
    "print(info_c)"
   ]
  },
  {
   "cell_type": "code",
   "execution_count": 321,
   "id": "dd3b81a9-9277-4f66-a3ed-a29f123ef71f",
   "metadata": {},
   "outputs": [
    {
     "name": "stdout",
     "output_type": "stream",
     "text": [
      "      Name  Years      City Country\n",
      "0    Alice     25  New York     USA\n",
      "1      Bob     30     Paris  France\n",
      "2  Charlie     35    London      UK\n"
     ]
    }
   ],
   "source": [
    "#9. Rename the column Age to Years. df = ?\n",
    "\n",
    "info_age = info.rename(columns={'Age': 'Years'})\n",
    "print(info_age)"
   ]
  },
  {
   "cell_type": "code",
   "execution_count": 323,
   "id": "5963bc8e-2841-49e9-90cd-b352fcbdf9f5",
   "metadata": {},
   "outputs": [],
   "source": [
    "#10. Save the DataFrame to a new CSV file called output.csv. \n",
    "#df.to_csv(?, index=False)\n",
    "\n",
    "info.to_csv('output.csv', index=False)"
   ]
  },
  {
   "cell_type": "code",
   "execution_count": 325,
   "id": "0fc1f8b2-2f80-42f9-88be-cdcd31993501",
   "metadata": {},
   "outputs": [
    {
     "name": "stdout",
     "output_type": "stream",
     "text": [
      "      Name  Age      City Country\n",
      "0    Alice   25  New York     USA\n",
      "1      Bob   30     Paris  France\n",
      "2  Charlie   35    London      UK\n"
     ]
    }
   ],
   "source": [
    "#save csv file into dataframe\n",
    "output_df = pd.read_csv('output.csv')\n",
    "print(output_df)"
   ]
  },
  {
   "cell_type": "code",
   "execution_count": 327,
   "id": "5a4bf6f7-856d-42c8-97e6-87c9cc190284",
   "metadata": {},
   "outputs": [
    {
     "name": "stdout",
     "output_type": "stream",
     "text": [
      "      Name  Age    City Country\n",
      "2  Charlie   35  London      UK\n"
     ]
    }
   ],
   "source": [
    "#11. Filter rows where the Age column is greater than 30. filtered_df = ?\n",
    "\n",
    "filtered_df= info[info['Age'] > 30]\n",
    "print(filtered_df)"
   ]
  },
  {
   "cell_type": "code",
   "execution_count": 329,
   "id": "0f4504cb-1227-45bf-9042-ebe3260bb296",
   "metadata": {},
   "outputs": [
    {
     "name": "stdout",
     "output_type": "stream",
     "text": [
      "      Name  Age      City Country Age_Group\n",
      "0    Alice   25  New York     USA     Young\n",
      "1      Bob   30     Paris  France     Young\n",
      "2  Charlie   35    London      UK       Old\n"
     ]
    }
   ],
   "source": [
    "#12. Add a new column Age_Group to classify Age as 'Young' (Age <= 30) or 'Old' (Age > 30).\n",
    "#df['Age_Group'] = ?\n",
    "\n",
    "info['Age_Group']=info['Age'].apply(lambda x: 'Old' if x > 30 else 'Young')\n",
    "print(info)"
   ]
  },
  {
   "cell_type": "code",
   "execution_count": 331,
   "id": "a5622bfa-d614-4c13-80e2-60948af2da75",
   "metadata": {},
   "outputs": [
    {
     "name": "stdout",
     "output_type": "stream",
     "text": [
      "      Name  Age      City Country Age_Group\n",
      "2  Charlie   35    London      UK       Old\n",
      "1      Bob   30     Paris  France     Young\n",
      "0    Alice   25  New York     USA     Young\n"
     ]
    }
   ],
   "source": [
    "#13. Sort the DataFrame by the Age column in descending order.\n",
    "# sorted_df = ?\n",
    "\n",
    "sorted_df=info.sort_values(by='Age',ascending=False)\n",
    "print(sorted_df)"
   ]
  },
  {
   "cell_type": "code",
   "execution_count": 333,
   "id": "5077f26d-0fe8-4f15-92bc-560d49c7748a",
   "metadata": {},
   "outputs": [
    {
     "name": "stdout",
     "output_type": "stream",
     "text": [
      "mean:  30.0\n",
      "median:  30.0\n",
      "standard deviation : 5.0\n"
     ]
    }
   ],
   "source": [
    "#14. Calculate the mean, median, and standard deviation of the Age column.\n",
    "#mean = ?\n",
    "#median = ?\n",
    "#std_dev = ?\n",
    "\n",
    "mean = info['Age'].mean()\n",
    "\n",
    "median = info['Age'].median()\n",
    "\n",
    "std_dev = info['Age'].std()\n",
    "\n",
    "print('mean: ', mean)\n",
    "print('median: ', median)\n",
    "print('standard deviation :',std_dev)"
   ]
  },
  {
   "cell_type": "code",
   "execution_count": 335,
   "id": "8223bd3e-5fdb-4e8a-b9f9-fc3440f39964",
   "metadata": {},
   "outputs": [
    {
     "name": "stdout",
     "output_type": "stream",
     "text": [
      "      Name  Age      City Country Age_Group\n",
      "0    Alice   25  New York     USA     Young\n",
      "1      Bob   30     Paris  France     Young\n",
      "2  Charlie   35    London      UK       Old\n",
      "**************************************************\n",
      "['New York' 'Paris' 'London']\n"
     ]
    }
   ],
   "source": [
    "#15. Find the unique values in the City column. unique_cities = ?\n",
    "\n",
    "print(info)\n",
    "print('*'*50)\n",
    "unique_cities = info['City'].unique()\n",
    "print(unique_cities)"
   ]
  },
  {
   "cell_type": "code",
   "execution_count": 337,
   "id": "ecbe77ab-c9d5-47cf-b633-ab4beafcfc0a",
   "metadata": {},
   "outputs": [
    {
     "name": "stdout",
     "output_type": "stream",
     "text": [
      "City\n",
      "New York    1\n",
      "Paris       1\n",
      "London      1\n",
      "Name: count, dtype: int64\n"
     ]
    }
   ],
   "source": [
    "#16. Count the occurrences of each unique value in the City column.\n",
    "# city_counts = ?\n",
    "\n",
    "city_counts = info['City'].value_counts()\n",
    "print(city_counts)"
   ]
  },
  {
   "cell_type": "code",
   "execution_count": 339,
   "id": "c144ab27-ab8b-40f6-87f7-18784417e3b6",
   "metadata": {},
   "outputs": [],
   "source": [
    "#17. Concatenate two DataFrames df1 and df2 vertically.\n",
    "# result = ?\n",
    "\n",
    "df1=pd.DataFrame({'Clothes': ['top','shirts','tshirts'], 'price': [100,20,3]})\n",
    "df2=pd.DataFrame({'Shoes': ['boots','heels','scandals'], 'price': [10,6,9]})"
   ]
  },
  {
   "cell_type": "code",
   "execution_count": 341,
   "id": "0971ab26-f5c6-4d85-967f-d55d5d0fcb61",
   "metadata": {},
   "outputs": [
    {
     "name": "stdout",
     "output_type": "stream",
     "text": [
      "   Clothes  price     Shoes\n",
      "0      top    100       NaN\n",
      "1   shirts     20       NaN\n",
      "2  tshirts      3       NaN\n",
      "3      NaN     10     boots\n",
      "4      NaN      6     heels\n",
      "5      NaN      9  scandals\n"
     ]
    }
   ],
   "source": [
    "#vertically=column wise\n",
    "result=pd.concat([df1,df2],axis=0, ignore_index=True)\n",
    "print(result)"
   ]
  },
  {
   "cell_type": "code",
   "execution_count": 343,
   "id": "35df569d-2f08-4c1b-9d87-4d88c09dd8a3",
   "metadata": {},
   "outputs": [
    {
     "name": "stdout",
     "output_type": "stream",
     "text": [
      "     Name  age  salary\n",
      "0    tara  100      62\n",
      "1  tanish   32      90\n"
     ]
    }
   ],
   "source": [
    "#18. Merge two DataFrames df1 and df2 on a common column.\n",
    "# result = ?\n",
    "\n",
    "df1=pd.DataFrame({'Name': ['tara','lara','tanish'], 'age': [100,27,32]})\n",
    "df2=pd.DataFrame({'Name': ['birla','tara','tanish'], 'salary': [100,62,90]})\n",
    "\n",
    "result = pd.merge(df1,df2,on='Name')\n",
    "print(result)"
   ]
  },
  {
   "cell_type": "code",
   "execution_count": 345,
   "id": "df556f4d-9a51-4289-be9c-f01b4a05f955",
   "metadata": {},
   "outputs": [
    {
     "name": "stdout",
     "output_type": "stream",
     "text": [
      "      Name  Age      City Country Age_Group\n",
      "0    Alice   25  New York     USA     Young\n",
      "1      Bob   30     Paris  France     Young\n",
      "2  Charlie   35    London      UK       Old\n",
      "**************************************************\n",
      "Country   France    UK   USA\n",
      "City                        \n",
      "London       NaN  35.0   NaN\n",
      "New York     NaN   NaN  25.0\n",
      "Paris       30.0   NaN   NaN\n"
     ]
    }
   ],
   "source": [
    "#19. Pivot the DataFrame to show the average Age for each City in rows and Country in columns.\n",
    "# pivot = ?\n",
    "\n",
    "print(info)\n",
    "print('*'*50)\n",
    "\n",
    "pivot = info.pivot_table(values='Age', index='City', columns='Country', aggfunc='mean')\n",
    "\n",
    "print(pivot)"
   ]
  },
  {
   "cell_type": "code",
   "execution_count": 374,
   "id": "15f5931b-324f-464f-a4e8-ec1ca64ccc89",
   "metadata": {},
   "outputs": [
    {
     "name": "stdout",
     "output_type": "stream",
     "text": [
      "Empty DataFrame\n",
      "Columns: [France, UK, USA]\n",
      "Index: []\n"
     ]
    }
   ],
   "source": [
    "#20. Drop all rows with missing values in the DataFrame.\n",
    "# cleaned_df = ?\n",
    "\n",
    "cleaned_df=pivot.dropna()\n",
    "print(cleaned_df)"
   ]
  },
  {
   "cell_type": "code",
   "execution_count": null,
   "id": "69bcb7bd-e87b-4856-8bf6-3901b33db0e0",
   "metadata": {},
   "outputs": [],
   "source": []
  }
 ],
 "metadata": {
  "kernelspec": {
   "display_name": "Python 3 (ipykernel)",
   "language": "python",
   "name": "python3"
  },
  "language_info": {
   "codemirror_mode": {
    "name": "ipython",
    "version": 3
   },
   "file_extension": ".py",
   "mimetype": "text/x-python",
   "name": "python",
   "nbconvert_exporter": "python",
   "pygments_lexer": "ipython3",
   "version": "3.12.7"
  }
 },
 "nbformat": 4,
 "nbformat_minor": 5
}
