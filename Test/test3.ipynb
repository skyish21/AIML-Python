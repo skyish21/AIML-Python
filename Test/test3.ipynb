{
 "cells": [
  {
   "cell_type": "code",
   "execution_count": 1,
   "id": "cb6798a7-471f-43c8-9f97-6e1bdbaa0f81",
   "metadata": {},
   "outputs": [
    {
     "name": "stdout",
     "output_type": "stream",
     "text": [
      "11\n"
     ]
    }
   ],
   "source": [
    "#1. Write a Python program to evaluate the expression `5 + 3 * 2` and print the result.\n",
    "\n",
    "print(5 + 3 * 2)"
   ]
  },
  {
   "cell_type": "code",
   "execution_count": 3,
   "id": "fd24c451-c70d-4a30-aa4d-cfd3c5720bc0",
   "metadata": {},
   "outputs": [
    {
     "name": "stdout",
     "output_type": "stream",
     "text": [
      "13\n"
     ]
    }
   ],
   "source": [
    "#2. Write a program that calculates the result of `2 ** 3 + 5`.\n",
    "\n",
    "print(2 ** 3 + 5)"
   ]
  },
  {
   "cell_type": "code",
   "execution_count": 5,
   "id": "9c6b4889-afbd-407e-845d-02e6843b5b2e",
   "metadata": {},
   "outputs": [
    {
     "name": "stdout",
     "output_type": "stream",
     "text": [
      "42\n"
     ]
    }
   ],
   "source": [
    "#3. Create a program that calculates the result of the expression `(10 - 3) * (2 +4)`.\n",
    "\n",
    "print((10 - 3) * (2 +4))"
   ]
  },
  {
   "cell_type": "code",
   "execution_count": 11,
   "id": "c85be63a-ef59-4f14-9de1-2f89fdf63af7",
   "metadata": {},
   "outputs": [
    {
     "name": "stdout",
     "output_type": "stream",
     "text": [
      "3\n"
     ]
    }
   ],
   "source": [
    "#4. Write a program that calculates `15 // 4` and prints the result.\n",
    "\n",
    "print(15 // 4) #gives the quotient"
   ]
  },
  {
   "cell_type": "code",
   "execution_count": 13,
   "id": "d173ffa1-70bb-4da3-9c74-6b6233f1aac7",
   "metadata": {},
   "outputs": [
    {
     "name": "stdout",
     "output_type": "stream",
     "text": [
      "3\n"
     ]
    }
   ],
   "source": [
    "#5. Write a Python code to find the remainder when dividing 15 by 4 (`15 % 4`).\n",
    "\n",
    "print(15 % 4) #gives remainder"
   ]
  },
  {
   "cell_type": "code",
   "execution_count": 15,
   "id": "8edca101-1717-4b67-a738-4b3480dfcd9e",
   "metadata": {},
   "outputs": [
    {
     "name": "stdout",
     "output_type": "stream",
     "text": [
      "<class 'int'>\n"
     ]
    }
   ],
   "source": [
    "#6. Create a variable `x` and assign it the value 42. Print its type using `type()`.\n",
    "\n",
    "x=42\n",
    "print(type(x))"
   ]
  },
  {
   "cell_type": "code",
   "execution_count": 60,
   "id": "be65862c-31bc-4e3a-b074-9edf2392dc65",
   "metadata": {},
   "outputs": [
    {
     "name": "stdout",
     "output_type": "stream",
     "text": [
      "<class 'list'>\n"
     ]
    }
   ],
   "source": [
    "#7. Create a list `fruits = ['apple', 'banana', 'cherry']`. Print the type of this list.\n",
    "fruits = ['apple', 'banana', 'cherry']\n",
    "print(type(fruits))"
   ]
  },
  {
   "cell_type": "code",
   "execution_count": 62,
   "id": "3da31277-d2ae-41d3-8c67-07b81e026a58",
   "metadata": {},
   "outputs": [
    {
     "data": {
      "text/plain": [
       "bool"
      ]
     },
     "execution_count": 62,
     "metadata": {},
     "output_type": "execute_result"
    }
   ],
   "source": [
    "#8. Create a variable `is_active = True`. Print the type of the variable\n",
    "is_active = True\n",
    "type(is_active)"
   ]
  },
  {
   "cell_type": "code",
   "execution_count": 64,
   "id": "b5384b7c-2f58-4b31-95b0-2fea18938602",
   "metadata": {},
   "outputs": [
    {
     "data": {
      "text/plain": [
       "float"
      ]
     },
     "execution_count": 64,
     "metadata": {},
     "output_type": "execute_result"
    }
   ],
   "source": [
    "#9. Create a variable `price = 3.14`. Print its type.\n",
    "price = 3.14\n",
    "type(price)"
   ]
  },
  {
   "cell_type": "code",
   "execution_count": 66,
   "id": "c043c3a4-ea15-4062-8f0d-3bfa1cb41d88",
   "metadata": {},
   "outputs": [],
   "source": [
    "#10. Write a program to print the type of the string `'Hello World'`.\n",
    "string='Hello World'"
   ]
  },
  {
   "cell_type": "code",
   "execution_count": 68,
   "id": "fd46460e-ff53-4b66-9a1c-e95420b9363e",
   "metadata": {},
   "outputs": [
    {
     "data": {
      "text/plain": [
       "['strawberry', 'mango', 'pomegranate']"
      ]
     },
     "execution_count": 68,
     "metadata": {},
     "output_type": "execute_result"
    }
   ],
   "source": [
    "#11. Create a list of your 3 favorite fruits and print it.\n",
    "\n",
    "list_fav_fruits=['strawberry','mango','pomegranate']\n",
    "list_fav_fruits"
   ]
  },
  {
   "cell_type": "code",
   "execution_count": 70,
   "id": "02edfeaa-cc2f-4db7-88f9-64de6459ce8a",
   "metadata": {},
   "outputs": [
    {
     "data": {
      "text/plain": [
       "['apple', 'banana', 'cherry']"
      ]
     },
     "execution_count": 70,
     "metadata": {},
     "output_type": "execute_result"
    }
   ],
   "source": [
    "#12. Convert a tuple `('apple', 'banana', 'cherry')` into a list. Print the new list.\n",
    "tup_fruits=('apple', 'banana', 'cherry')\n",
    "list_fruits=list(tup_fruits)\n",
    "list_fruits"
   ]
  },
  {
   "cell_type": "code",
   "execution_count": 72,
   "id": "b6efb7cb-bbde-4a31-a786-1ae8efe38d84",
   "metadata": {},
   "outputs": [
    {
     "data": {
      "text/plain": [
       "10"
      ]
     },
     "execution_count": 72,
     "metadata": {},
     "output_type": "execute_result"
    }
   ],
   "source": [
    "#13. Create a list `my_list = [10, 20, 30]`. Access and print the first element of the list.\n",
    "my_list = [10, 20, 30]\n",
    "my_list[0]"
   ]
  },
  {
   "cell_type": "code",
   "execution_count": 74,
   "id": "b63c430c-7352-4cb0-94cc-bc01e661345d",
   "metadata": {},
   "outputs": [
    {
     "name": "stdout",
     "output_type": "stream",
     "text": [
      "3\n"
     ]
    }
   ],
   "source": [
    "#14. Find the length of the list `[10, 20, 30]` and print it.\n",
    "my_list = [10, 20, 30]\n",
    "print(len(my_list))"
   ]
  },
  {
   "cell_type": "code",
   "execution_count": 78,
   "id": "c374d247-e6b0-4833-b002-be2ec8b0c2bd",
   "metadata": {},
   "outputs": [
    {
     "data": {
      "text/plain": [
       "[10, 20, 30, 40]"
      ]
     },
     "execution_count": 78,
     "metadata": {},
     "output_type": "execute_result"
    }
   ],
   "source": [
    "#15. Add the element `40` to the list `my_list = [10, 20, 30]` and print the updated list.\n",
    "my_list = [10, 20, 30]\n",
    "my_list.append(40)\n",
    "my_list"
   ]
  },
  {
   "cell_type": "code",
   "execution_count": 80,
   "id": "562cd459-4f80-4603-8e60-b0e756dfade0",
   "metadata": {},
   "outputs": [
    {
     "name": "stdout",
     "output_type": "stream",
     "text": [
      "1\n",
      "2\n",
      "3\n",
      "4\n",
      "5\n"
     ]
    }
   ],
   "source": [
    "#16. Write a `for` loop to print numbers from 1 to 5.\n",
    "for i in range(1,6):\n",
    "    print(i)"
   ]
  },
  {
   "cell_type": "code",
   "execution_count": 82,
   "id": "d1507f3c-301e-4274-92e6-ba3d9a2b3250",
   "metadata": {},
   "outputs": [
    {
     "name": "stdout",
     "output_type": "stream",
     "text": [
      "3\n",
      "4\n",
      "5\n"
     ]
    }
   ],
   "source": [
    "#17. Write a `for` loop that prints numbers from 3 to 5.\n",
    "for i in range(3,6):\n",
    "    print(i)"
   ]
  },
  {
   "cell_type": "code",
   "execution_count": 84,
   "id": "0a2c7832-b325-456a-858f-1af264acaa4f",
   "metadata": {},
   "outputs": [
    {
     "name": "stdout",
     "output_type": "stream",
     "text": [
      "apple\n",
      "banana\n",
      "cherry\n"
     ]
    }
   ],
   "source": [
    "#18. Write a `for` loop to iterate over a list `['apple', 'banana', 'cherry']` and print each element\n",
    "fruits=['apple', 'banana', 'cherry']\n",
    "for i in fruits:\n",
    "    print(i)"
   ]
  },
  {
   "cell_type": "code",
   "execution_count": 94,
   "id": "40170062-65b2-4c33-bb7e-9e4b2337d772",
   "metadata": {},
   "outputs": [
    {
     "name": "stdout",
     "output_type": "stream",
     "text": [
      "1 ^2 = 1\n",
      "2 ^2 = 4\n",
      "3 ^2 = 9\n",
      "4 ^2 = 16\n"
     ]
    }
   ],
   "source": [
    "#19. Write a `for` loop to print the squares of numbers from 1 to 4.\n",
    "for i in range(1,5):\n",
    "    print(i,'^2','=',i*i)"
   ]
  },
  {
   "cell_type": "code",
   "execution_count": 102,
   "id": "872654ef-224f-473b-bd74-c2995d6a075c",
   "metadata": {},
   "outputs": [
    {
     "name": "stdout",
     "output_type": "stream",
     "text": [
      "1 X 2 = 2\n",
      "2 X 2 = 4\n",
      "3 X 2 = 6\n",
      "4 X 2 = 8\n",
      "5 X 2 = 10\n"
     ]
    }
   ],
   "source": [
    "#20. Write a `for` loop that prints `i * 2` for `i` in the range of 5.\n",
    "for i in range(1,6):\n",
    "    print(i,'X 2','=',i*2)"
   ]
  },
  {
   "cell_type": "code",
   "execution_count": 104,
   "id": "e5e31019-1337-406b-b476-b2dd023fb63f",
   "metadata": {},
   "outputs": [
    {
     "name": "stdout",
     "output_type": "stream",
     "text": [
      "1\n",
      "2\n",
      "3\n",
      "4\n",
      "5\n"
     ]
    }
   ],
   "source": [
    "#21. Write a `while` loop that prints numbers from 1 to 5\n",
    "n=1\n",
    "while n<=5:\n",
    "    print(n)\n",
    "    n+=1"
   ]
  },
  {
   "cell_type": "code",
   "execution_count": 106,
   "id": "8a22610f-e1a3-4a70-b65f-27293aaa587d",
   "metadata": {},
   "outputs": [
    {
     "name": "stdout",
     "output_type": "stream",
     "text": [
      "0\n",
      "1\n",
      "2\n",
      "3\n"
     ]
    }
   ],
   "source": [
    "#22. Create a `while` loop that prints the numbers from 0 to 3\n",
    "n=0\n",
    "while n<=3:\n",
    "    print(n)\n",
    "    n+=1"
   ]
  },
  {
   "cell_type": "code",
   "execution_count": 112,
   "id": "d6644c1d-1412-417b-b047-4d04a18ed116",
   "metadata": {},
   "outputs": [
    {
     "name": "stdout",
     "output_type": "stream",
     "text": [
      "55\n"
     ]
    }
   ],
   "source": [
    "#23. Write a `while` loop that calculates and prints the sum of numbers from 1 to 10.\n",
    "n=1\n",
    "sum=0\n",
    "while n<=10:\n",
    "    sum+=n\n",
    "    n+=1\n",
    "print(sum)"
   ]
  },
  {
   "cell_type": "code",
   "execution_count": 118,
   "id": "45270d79-209c-402c-8793-03e900810f54",
   "metadata": {},
   "outputs": [
    {
     "name": "stdout",
     "output_type": "stream",
     "text": [
      "24\n"
     ]
    }
   ],
   "source": [
    "#24. Create a `while` loop that multiplies numbers from 1 to 4 and prints the result.\n",
    "n=1\n",
    "product=1\n",
    "while n<=4:\n",
    "    product*=n\n",
    "    n+=1\n",
    "print(product)"
   ]
  },
  {
   "cell_type": "code",
   "execution_count": 120,
   "id": "726db738-ed46-40f8-98a4-220c93b1f3f8",
   "metadata": {},
   "outputs": [
    {
     "name": "stdout",
     "output_type": "stream",
     "text": [
      "10\n",
      "9\n",
      "8\n",
      "7\n",
      "6\n",
      "5\n",
      "4\n",
      "3\n",
      "2\n",
      "1\n"
     ]
    }
   ],
   "source": [
    "#25. Write a `while` loop that prints numbers from 10 to 1, decrementing by 1 each time.\n",
    "n=10\n",
    "while n>0:\n",
    "    print(n)\n",
    "    n-=1"
   ]
  },
  {
   "cell_type": "code",
   "execution_count": 124,
   "id": "1bc9a79c-9bbd-413a-a260-dd96358f61f8",
   "metadata": {},
   "outputs": [
    {
     "name": "stdin",
     "output_type": "stream",
     "text": [
      "Enter a number:  -4\n"
     ]
    },
    {
     "name": "stdout",
     "output_type": "stream",
     "text": [
      "Number is negative\n"
     ]
    }
   ],
   "source": [
    "#26. Write a program that checks if a number is positive, negative, or zero.\n",
    "num=int(input('Enter a number: '))\n",
    "if num>0:\n",
    "        print('Number is positive')\n",
    "elif (num==0):\n",
    "        print('Number is zero')\n",
    "else:\n",
    "        print('Number is negative')"
   ]
  },
  {
   "cell_type": "code",
   "execution_count": 126,
   "id": "38c35b91-f286-46ad-9b2f-7fe9085ce8ac",
   "metadata": {},
   "outputs": [
    {
     "name": "stdin",
     "output_type": "stream",
     "text": [
      "Enter a number:  478\n"
     ]
    },
    {
     "name": "stdout",
     "output_type": "stream",
     "text": [
      "Number is even\n"
     ]
    }
   ],
   "source": [
    "#27. Write a program that checks if a number is even or odd using `if-else`.\n",
    "num=int(input('Enter a number: '))\n",
    "if num%2==0:\n",
    "        print('Number is even')\n",
    "else:\n",
    "        print('Number is odd')"
   ]
  },
  {
   "cell_type": "code",
   "execution_count": 128,
   "id": "8a391a0c-37d7-43e4-91b5-1debbba12aee",
   "metadata": {},
   "outputs": [
    {
     "name": "stdin",
     "output_type": "stream",
     "text": [
      "Enter a number:  -4\n"
     ]
    },
    {
     "name": "stdout",
     "output_type": "stream",
     "text": [
      "Number is smaller than 10\n"
     ]
    }
   ],
   "source": [
    "#28. Write a program that checks if a number is greater than 10 and prints 'Greater', otherwise prints 'Smaller'.\n",
    "num=int(input('Enter a number: '))\n",
    "if num>10:\n",
    "        print('Number is greater than 10')\n",
    "else:\n",
    "        print('Number is smaller than 10')"
   ]
  },
  {
   "cell_type": "code",
   "execution_count": 130,
   "id": "05033c67-3c9d-4104-83c2-7f193b3d53c1",
   "metadata": {},
   "outputs": [
    {
     "name": "stdin",
     "output_type": "stream",
     "text": [
      "Enter a number:  87\n"
     ]
    },
    {
     "name": "stdout",
     "output_type": "stream",
     "text": [
      "You got B grade\n"
     ]
    }
   ],
   "source": [
    "#29. Write a program that prints the grade based on a score: A (90-100), B (70-89), C (50-69), and D (0-49).\n",
    "num=int(input('Enter a number: '))\n",
    "if num<=100 and num>=90:\n",
    "        print('You got A grade')\n",
    "elif num<90 and num>=70:\n",
    "        print('You got B grade')\n",
    "elif num<70 and num>=50:\n",
    "        print('You got C grade')\n",
    "else:\n",
    "        print('You got D grade')"
   ]
  },
  {
   "cell_type": "code",
   "execution_count": 132,
   "id": "40ebe024-2498-42c5-91a9-a2a57b66d4fc",
   "metadata": {},
   "outputs": [
    {
     "name": "stdin",
     "output_type": "stream",
     "text": [
      "Enter a number:  35\n"
     ]
    },
    {
     "name": "stdout",
     "output_type": "stream",
     "text": [
      "Number is divisible by 5\n"
     ]
    }
   ],
   "source": [
    "#30. Write a program that checks if a number is divisible by 5 and prints 'Divisible' or 'Not Divisible'.\n",
    "num=int(input('Enter a number: '))\n",
    "if num%5==0:\n",
    "        print('Number is divisible by 5')\n",
    "else:\n",
    "        print('Number is not divisible by 5')"
   ]
  },
  {
   "cell_type": "code",
   "execution_count": 144,
   "id": "d248cfb6-86e9-42a8-8f75-1478ce9335a9",
   "metadata": {},
   "outputs": [
    {
     "data": {
      "text/plain": [
       "99"
      ]
     },
     "execution_count": 144,
     "metadata": {},
     "output_type": "execute_result"
    }
   ],
   "source": [
    "#31. Write a function `add_numbers(a, b)` that returns the sum of two numbers.\n",
    "def add_numbers(a, b):\n",
    "    return(a+b)\n",
    "\n",
    "add_numbers(5, 94)"
   ]
  },
  {
   "cell_type": "code",
   "execution_count": 158,
   "id": "f8934fab-8190-4f25-8a92-29968d4e9fd1",
   "metadata": {},
   "outputs": [
    {
     "data": {
      "text/plain": [
       "'dlrow olleh'"
      ]
     },
     "execution_count": 158,
     "metadata": {},
     "output_type": "execute_result"
    }
   ],
   "source": [
    "#32. Write a function that takes a string as input and prints it in reverse order.\n",
    "\n",
    "def reverse_string(string):\n",
    "    return string[::-1] #using slicing method\n",
    "\n",
    "reverse_string('hello world')"
   ]
  },
  {
   "cell_type": "code",
   "execution_count": 166,
   "id": "238777b3-3dc4-4fbb-9edd-606892b54006",
   "metadata": {},
   "outputs": [
    {
     "name": "stdout",
     "output_type": "stream",
     "text": [
      "a is largest\n"
     ]
    }
   ],
   "source": [
    "#33. Write a function that returns the maximum of three numbers.\n",
    "\n",
    "def max_value(a,b,c):\n",
    "    if a>b and a>c:\n",
    "        print('a is largest')\n",
    "    elif b>a and b>c:\n",
    "        print('b is largest')\n",
    "    else:\n",
    "        print('c is largest')\n",
    "\n",
    "max_value(213,5,44)"
   ]
  },
  {
   "cell_type": "code",
   "execution_count": 5,
   "id": "9d782666-e20e-414f-8a07-e3e8f61c475c",
   "metadata": {},
   "outputs": [
    {
     "name": "stdin",
     "output_type": "stream",
     "text": [
      "Enter a number:  5\n"
     ]
    },
    {
     "name": "stdout",
     "output_type": "stream",
     "text": [
      "120\n"
     ]
    }
   ],
   "source": [
    "#34. Write a function that calculates the factorial of a number using a loop.\n",
    "num=int(input('Enter a number: '))\n",
    "fact=1\n",
    "i=1\n",
    "while i<=num:\n",
    "     fact*=i\n",
    "     i+=1\n",
    "print(fact)"
   ]
  },
  {
   "cell_type": "code",
   "execution_count": 7,
   "id": "9fca1a9d-3828-4620-ad44-17fda23bd7af",
   "metadata": {},
   "outputs": [
    {
     "data": {
      "text/plain": [
       "880"
      ]
     },
     "execution_count": 7,
     "metadata": {},
     "output_type": "execute_result"
    }
   ],
   "source": [
    "#35. Write a function `multiply(a, b)` that returns the product of two numbers and prints the result.\n",
    "def multiply(a, b):\n",
    "    return(a*b)\n",
    "\n",
    "multiply(40, 22)"
   ]
  },
  {
   "cell_type": "code",
   "execution_count": 21,
   "id": "37d86f32-827a-4963-bdea-5becf98b7242",
   "metadata": {},
   "outputs": [
    {
     "name": "stdout",
     "output_type": "stream",
     "text": [
      "12\n"
     ]
    }
   ],
   "source": [
    "#36. Write a lambda function that adds two numbers and prints the result.\n",
    "add_num= lambda a,b:a+b\n",
    "print(add_num(5,7))"
   ]
  },
  {
   "cell_type": "code",
   "execution_count": 29,
   "id": "26d5a240-8f78-4c93-b7ba-14cab4c102c4",
   "metadata": {},
   "outputs": [
    {
     "name": "stdout",
     "output_type": "stream",
     "text": [
      "16\n"
     ]
    }
   ],
   "source": [
    "#37. Use a lambda function to square a number and print the result.\n",
    "sqr= lambda a:a*a\n",
    "print(sqr(4))"
   ]
  },
  {
   "cell_type": "code",
   "execution_count": 31,
   "id": "0126e0b8-ec55-475d-a7fc-d92a832bd366",
   "metadata": {},
   "outputs": [
    {
     "name": "stdout",
     "output_type": "stream",
     "text": [
      "27\n"
     ]
    }
   ],
   "source": [
    "#38. Write a lambda function to find the cube of a number and call it with the value `3`.\n",
    "cube= lambda a:a**3\n",
    "print(cube(3))"
   ]
  },
  {
   "cell_type": "code",
   "execution_count": 69,
   "id": "9165df22-89bf-451d-a196-89167b919e42",
   "metadata": {},
   "outputs": [
    {
     "name": "stdout",
     "output_type": "stream",
     "text": [
      "0 2 4 6\n"
     ]
    }
   ],
   "source": [
    "#39. Write a lambda function that filters even numbers from the list `[1, 2, 3, 4, 5, 6]`. \n",
    "lst=[1, 2, 3, 4, 5, 6]\n",
    "even_num=filter(lambda a:a%2==0, range(0,i+1))\n",
    "print(*even_num)"
   ]
  },
  {
   "cell_type": "code",
   "execution_count": 81,
   "id": "5eaaea33-a47b-47ae-b3bb-c0e411494fbd",
   "metadata": {},
   "outputs": [
    {
     "name": "stdout",
     "output_type": "stream",
     "text": [
      "True\n",
      "False\n",
      "False\n"
     ]
    }
   ],
   "source": [
    "#40. Write a lambda function to check if a number is positive and return `True` or `False`.\n",
    "positive=lambda x:x>0 \n",
    "\n",
    "print(positive(4))\n",
    "print(positive(-5))\n",
    "print(positive(0))"
   ]
  },
  {
   "cell_type": "code",
   "execution_count": 89,
   "id": "1809c46f-daf8-442f-a7a5-b28ba82d1336",
   "metadata": {},
   "outputs": [
    {
     "name": "stdout",
     "output_type": "stream",
     "text": [
      "[2, 4, 6, 8]\n"
     ]
    }
   ],
   "source": [
    "#41. Write a program that multiplies each number in the list `[1, 2, 3, 4]` by 2 using `map()`.\n",
    "lst=[1, 2, 3, 4]\n",
    "double_lst = list(map(lambda x: x * 2, lst))\n",
    "print(double_lst)"
   ]
  },
  {
   "cell_type": "code",
   "execution_count": 91,
   "id": "da1af584-6bb7-4e71-94b7-ed0952c45989",
   "metadata": {},
   "outputs": [
    {
     "name": "stdout",
     "output_type": "stream",
     "text": [
      "[1, 4, 9, 16, 25]\n"
     ]
    }
   ],
   "source": [
    "#42. Use `map()` to square each number in the list `[1, 2, 3, 4, 5]` and print the result.\n",
    "lst = [1, 2, 3, 4, 5]\n",
    "squared_lst = list(map(lambda x: x ** 2, lst))\n",
    "\n",
    "print(squared_lst)"
   ]
  },
  {
   "cell_type": "code",
   "execution_count": 95,
   "id": "1814ba56-6e88-4c06-8e3c-25c60b93d3d2",
   "metadata": {},
   "outputs": [
    {
     "name": "stdout",
     "output_type": "stream",
     "text": [
      "[1, 2, 3]\n"
     ]
    }
   ],
   "source": [
    "#43. Write a program that uses `map()` to convert a list of strings `['1', '2', '3']` into a list of integers.\n",
    "strings=['1', '2', '3']\n",
    "strings_to_lst=list(map(lambda x:int(x), strings))\n",
    "\n",
    "print(strings_to_lst)"
   ]
  },
  {
   "cell_type": "code",
   "execution_count": 99,
   "id": "cbf12aa9-a882-42b1-9882-b0bf07cce2c4",
   "metadata": {},
   "outputs": [
    {
     "name": "stdout",
     "output_type": "stream",
     "text": [
      "[1, 16, 81, 256]\n"
     ]
    }
   ],
   "source": [
    "#44. Use `map()` to calculate the square of each element in the list `[1, 4, 9, 16]` and print the result.\n",
    "lst=[1, 4, 9, 16]\n",
    "double_lst = list(map(lambda x: x ** 2, lst))\n",
    "print(double_lst)"
   ]
  },
  {
   "cell_type": "code",
   "execution_count": 107,
   "id": "227550f7-e652-4243-99f9-b426790f0b80",
   "metadata": {},
   "outputs": [
    {
     "name": "stdout",
     "output_type": "stream",
     "text": [
      "HELLO\n",
      "WORLD\n"
     ]
    }
   ],
   "source": [
    "#45. Write a program that uses `map()` to capitalize each word in the list `['hello', 'world']`.\n",
    "uppercase=lambda x:x.upper()\n",
    "\n",
    "print(uppercase('hello'))\n",
    "print(uppercase('world'))"
   ]
  },
  {
   "cell_type": "code",
   "execution_count": 125,
   "id": "b358649d-fb82-4b6e-9acc-8cc157b1f972",
   "metadata": {},
   "outputs": [
    {
     "name": "stdout",
     "output_type": "stream",
     "text": [
      "0 2 4 6\n"
     ]
    }
   ],
   "source": [
    "#46. Write a program that uses `filter()` to get only the even numbers from the list `[1, 2, 3, 4, 5, 6]`.\n",
    "lst=[1, 2, 3, 4, 5, 6]\n",
    "even_num=filter(lambda a:a%2==0, range(0,i+2))\n",
    "print(*even_num)"
   ]
  },
  {
   "cell_type": "code",
   "execution_count": 135,
   "id": "c14c44fc-8beb-4988-bae8-9e4d47dce943",
   "metadata": {},
   "outputs": [
    {
     "data": {
      "text/plain": [
       "[4, 5]"
      ]
     },
     "execution_count": 135,
     "metadata": {},
     "output_type": "execute_result"
    }
   ],
   "source": [
    "#47. Write a program that filters numbers greater than 3 from the list `[1, 2, 3, 4, 5]` using `filter()`.\n",
    "lst=[1, 2, 3, 4, 5]\n",
    "new_lst=list(filter(lambda x:x>3,lst))\n",
    "new_lst"
   ]
  },
  {
   "cell_type": "code",
   "execution_count": 139,
   "id": "2968abe7-9d0e-4ab8-a9dd-fe12381d0ad1",
   "metadata": {},
   "outputs": [
    {
     "name": "stdout",
     "output_type": "stream",
     "text": [
      "Jack Alice\n"
     ]
    }
   ],
   "source": [
    "#48. Use `filter()` to get all names longer than 3 characters from the list `['Tom', 'Jack', 'Bob', 'Alice']`.\n",
    "lst=['Tom', 'Jack', 'Bob', 'Alice']\n",
    "new_lst=list(filter(lambda x:len(x)>3,lst))\n",
    "\n",
    "print(*new_lst)"
   ]
  },
  {
   "cell_type": "code",
   "execution_count": 141,
   "id": "0dcfca38-934c-4626-821e-3c56f6623a6c",
   "metadata": {},
   "outputs": [
    {
     "name": "stdout",
     "output_type": "stream",
     "text": [
      "-1 -2 -5\n"
     ]
    }
   ],
   "source": [
    "#49. Write a program that filters out negative numbers from the list `[-1, -2, 3, 4, -5]`.\n",
    "lst=[-1, -2, 3, 4, -5]\n",
    "negatives=list(filter(lambda x:x<0,lst))\n",
    "\n",
    "print(*negatives)"
   ]
  },
  {
   "cell_type": "code",
   "execution_count": 145,
   "id": "005ce5f1-bc4e-454d-b68a-cec9ace133da",
   "metadata": {},
   "outputs": [
    {
     "name": "stdout",
     "output_type": "stream",
     "text": [
      "3 6\n"
     ]
    }
   ],
   "source": [
    "#50. Use `filter()` to find all numbers divisible by 3 from the list `[1, 2, 3, 4, 5, 6]`.\n",
    "lst=[1, 2, 3, 4, 5, 6]\n",
    "numbers=list(filter(lambda x:x%3==0,lst))\n",
    "\n",
    "print(*numbers)"
   ]
  },
  {
   "cell_type": "code",
   "execution_count": 147,
   "id": "431ef0b1-bcf6-4b9c-95f7-d0277ab208f2",
   "metadata": {},
   "outputs": [
    {
     "name": "stdout",
     "output_type": "stream",
     "text": [
      "1\n",
      "2\n",
      "3\n"
     ]
    }
   ],
   "source": [
    "#51. Write a program that prints numbers from 1 to 5, but breaks the loop when it reaches 3.\n",
    "for i in range(1,6):\n",
    "    print(i)\n",
    "    if i==3:\n",
    "        break"
   ]
  },
  {
   "cell_type": "code",
   "execution_count": 153,
   "id": "ca81928c-ad7d-4102-9b06-f580ef3bfd6f",
   "metadata": {},
   "outputs": [
    {
     "name": "stdout",
     "output_type": "stream",
     "text": [
      "1\n",
      "2\n",
      "4\n",
      "5\n"
     ]
    }
   ],
   "source": [
    "#52. Write a program that prints numbers from 1 to 5, but skips 3 using `continue`.\n",
    "for i in range(1,6):\n",
    "    if i==3:\n",
    "        continue\n",
    "    print(i)"
   ]
  },
  {
   "cell_type": "code",
   "execution_count": 157,
   "id": "fe9e2dd4-7b7c-4477-bcfa-4d89393f97d7",
   "metadata": {},
   "outputs": [
    {
     "name": "stdout",
     "output_type": "stream",
     "text": [
      "1\n",
      "2\n",
      "3\n",
      "4\n"
     ]
    }
   ],
   "source": [
    "#53. Write a program that prints numbers from 1 to 5, but stops when the number is greater than 4 using `break`.\n",
    "for i in range(1,6):\n",
    "    if i>4:\n",
    "        break\n",
    "    print(i)"
   ]
  },
  {
   "cell_type": "code",
   "execution_count": 3,
   "id": "00460aef-b3c6-4bd0-99e3-7de7bf46b6b9",
   "metadata": {},
   "outputs": [
    {
     "name": "stdout",
     "output_type": "stream",
     "text": [
      "2\n",
      "4\n",
      "6\n",
      "8\n",
      "10\n"
     ]
    }
   ],
   "source": [
    "#54. Write a program that prints all the even numbers from 1 to 10, using `continue` to skip odd numbers.\n",
    "for i in range(1,11):\n",
    "    if i%2==1:\n",
    "        continue\n",
    "    print(i)"
   ]
  },
  {
   "cell_type": "code",
   "execution_count": 7,
   "id": "efa1a0c1-d4d8-4ab7-b7ba-e8dfc7957280",
   "metadata": {},
   "outputs": [
    {
     "name": "stdout",
     "output_type": "stream",
     "text": [
      "1\n",
      "2\n",
      "3\n"
     ]
    }
   ],
   "source": [
    "#55. Create a loop that breaks when a negative number is encountered in the list `[1, 2, 3, -1, 4]`.\n",
    "lst=[1, 2, 3, -1, 4]\n",
    "for i in lst:\n",
    "    if i<0:\n",
    "        break\n",
    "    print(i)"
   ]
  },
  {
   "cell_type": "code",
   "execution_count": 9,
   "id": "9d62a070-4fa8-4b61-99c9-174c27a1dbdf",
   "metadata": {},
   "outputs": [
    {
     "name": "stdout",
     "output_type": "stream",
     "text": [
      "(0, 'apple')\n",
      "(1, 'banana')\n",
      "(2, 'cherry')\n"
     ]
    }
   ],
   "source": [
    "#56. Write a program that uses `enumerate()` to print the index and value of each element in the list `['apple', 'banana', 'cherry']`.\n",
    "fruits=['apple', 'banana', 'cherry']\n",
    "for i in enumerate(fruits):\n",
    "    print(i)"
   ]
  },
  {
   "cell_type": "code",
   "execution_count": 39,
   "id": "ac2a84b8-eb01-42b4-a3ee-8b720e2806a4",
   "metadata": {},
   "outputs": [
    {
     "name": "stdout",
     "output_type": "stream",
     "text": [
      "tuple: (1, 2, 3) , list: [1, 2, 3]\n",
      "tuple: ('a', 'b', 'c') , list: ['a', 'b', 'c']\n"
     ]
    }
   ],
   "source": [
    "#57. Write a program to unzip the list of tuples `[(1, 'a'), (2, 'b'), (3, 'c')]` into two separate lists.\n",
    "tup_list=[(1, 'a'), (2, 'b'), (3, 'c')]\n",
    "tup1,tup2=list(zip(*tup_list))\n",
    "print('tuple:',tup1,',','list:',list(tup1))\n",
    "print('tuple:',tup2,',','list:',list(tup2))"
   ]
  },
  {
   "cell_type": "code",
   "execution_count": 43,
   "id": "30497b89-7265-4031-a479-7dbb0dc8fe1d",
   "metadata": {},
   "outputs": [
    {
     "data": {
      "text/plain": [
       "[('apple', 1), ('banana', 2)]"
      ]
     },
     "execution_count": 43,
     "metadata": {},
     "output_type": "execute_result"
    }
   ],
   "source": [
    "#58. Write a program that zips two lists `['apple', 'banana']` and `[1, 2]` and prints the result.\n",
    "list1=['apple', 'banana']\n",
    "list2=[1, 2]\n",
    "list_fruits=list(zip(list1,list2))\n",
    "list_fruits"
   ]
  },
  {
   "cell_type": "code",
   "execution_count": 61,
   "id": "14391bd6-2c04-4d00-8d11-c596ba934f8e",
   "metadata": {},
   "outputs": [
    {
     "data": {
      "text/plain": [
       "[5, 7, 9]"
      ]
     },
     "execution_count": 61,
     "metadata": {},
     "output_type": "execute_result"
    }
   ],
   "source": [
    "#59. Write a program to find the sum of corresponding elements in two lists `a = [1, 2, 3]` and `b = [4, 5, 6]` using `zip()`.\n",
    "a = [1, 2, 3]\n",
    "b = [4, 5, 6]\n",
    "list_sum=[i+j for i,j in zip(a,b)]\n",
    "list_sum"
   ]
  },
  {
   "cell_type": "code",
   "execution_count": 65,
   "id": "b8095ce3-aab0-42f0-b59a-e542796fd245",
   "metadata": {},
   "outputs": [
    {
     "name": "stdout",
     "output_type": "stream",
     "text": [
      "(0, 'prachi')\n",
      "(1, 'sakshi')\n",
      "(2, 'pooja')\n",
      "(3, 'poonam')\n",
      "(4, 'ayushi')\n"
     ]
    }
   ],
   "source": [
    "#60. Use `enumerate()` to loop over a list of names and print each name with its index.\n",
    "names=['prachi','sakshi','pooja','poonam','ayushi']\n",
    "for i in enumerate(names):\n",
    "    print(i)"
   ]
  },
  {
   "cell_type": "code",
   "execution_count": null,
   "id": "5bf775bd-36ab-40a6-abba-b11f842344b0",
   "metadata": {},
   "outputs": [],
   "source": []
  }
 ],
 "metadata": {
  "kernelspec": {
   "display_name": "Python 3 (ipykernel)",
   "language": "python",
   "name": "python3"
  },
  "language_info": {
   "codemirror_mode": {
    "name": "ipython",
    "version": 3
   },
   "file_extension": ".py",
   "mimetype": "text/x-python",
   "name": "python",
   "nbconvert_exporter": "python",
   "pygments_lexer": "ipython3",
   "version": "3.12.7"
  }
 },
 "nbformat": 4,
 "nbformat_minor": 5
}
