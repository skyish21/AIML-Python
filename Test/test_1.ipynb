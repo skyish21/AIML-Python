{
 "cells": [
  {
   "cell_type": "code",
   "execution_count": 3,
   "id": "112a6a7b-8b9e-4456-a7a1-580688c11160",
   "metadata": {},
   "outputs": [
    {
     "name": "stdout",
     "output_type": "stream",
     "text": [
      "43.96\n"
     ]
    }
   ],
   "source": [
    "#1\n",
    "rad=7\n",
    "area=2*3.14*rad\n",
    "print(area)"
   ]
  },
  {
   "cell_type": "code",
   "execution_count": 5,
   "id": "c08702e3-9cce-4042-b1fc-1b144e113426",
   "metadata": {},
   "outputs": [
    {
     "name": "stdout",
     "output_type": "stream",
     "text": [
      "10\n"
     ]
    }
   ],
   "source": [
    "#2\n",
    "a=2*3+4\n",
    "print(a)"
   ]
  },
  {
   "cell_type": "code",
   "execution_count": 9,
   "id": "e903bf7b-5843-49ff-a64b-0360a674fd7e",
   "metadata": {},
   "outputs": [
    {
     "name": "stdout",
     "output_type": "stream",
     "text": [
      "9.0\n"
     ]
    }
   ],
   "source": [
    "#3\n",
    "a=(8/2)+3+2\n",
    "print(a)"
   ]
  },
  {
   "cell_type": "code",
   "execution_count": 17,
   "id": "097abe87-229a-4b9b-bf95-a3da34e1e341",
   "metadata": {},
   "outputs": [
    {
     "name": "stdout",
     "output_type": "stream",
     "text": [
      "3.0\n"
     ]
    }
   ],
   "source": [
    "#4\n",
    "rem=15%4\n",
    "print(rem)"
   ]
  },
  {
   "cell_type": "code",
   "execution_count": 19,
   "id": "0beafbe6-d408-4886-b23c-328af8532283",
   "metadata": {},
   "outputs": [
    {
     "name": "stdout",
     "output_type": "stream",
     "text": [
      "37.77777777777778\n"
     ]
    }
   ],
   "source": [
    "#5\n",
    "f=100\n",
    "c=(f-32)*5/9\n",
    "print(c)"
   ]
  },
  {
   "cell_type": "code",
   "execution_count": 23,
   "id": "d6b91491-e240-4175-b18e-22aa92cc9fbb",
   "metadata": {},
   "outputs": [
    {
     "data": {
      "text/plain": [
       "11"
      ]
     },
     "execution_count": 23,
     "metadata": {},
     "output_type": "execute_result"
    }
   ],
   "source": [
    "#6\n",
    "10 // 3 + 2 ** 3"
   ]
  },
  {
   "cell_type": "code",
   "execution_count": 25,
   "id": "f069dbe5-c1a9-4c67-8561-17f412a955de",
   "metadata": {},
   "outputs": [
    {
     "data": {
      "text/plain": [
       "True"
      ]
     },
     "execution_count": 25,
     "metadata": {},
     "output_type": "execute_result"
    }
   ],
   "source": [
    "#7\n",
    "5 == 5 and 4 < 6 #both the expressions are true"
   ]
  },
  {
   "cell_type": "code",
   "execution_count": 27,
   "id": "21ee62ca-7bd8-43da-9032-a406cc6189cd",
   "metadata": {},
   "outputs": [
    {
     "data": {
      "text/plain": [
       "False"
      ]
     },
     "execution_count": 27,
     "metadata": {},
     "output_type": "execute_result"
    }
   ],
   "source": [
    "#8\n",
    "not (4 > 5 or 3 == 3) #atleast one is true but 'not' changes it to opposite"
   ]
  },
  {
   "cell_type": "code",
   "execution_count": 35,
   "id": "dfa5a735-3e1d-4858-9e61-b5067941b979",
   "metadata": {},
   "outputs": [
    {
     "name": "stdout",
     "output_type": "stream",
     "text": [
      "x is odd\n"
     ]
    }
   ],
   "source": [
    "#9\n",
    "x=3\n",
    "if(x%2==1):\n",
    "    print(\"x is odd\")\n",
    "else:\n",
    "    print(\"x is even\")"
   ]
  },
  {
   "cell_type": "code",
   "execution_count": 37,
   "id": "ece2d553-43cd-477d-9d68-964a2dd606bf",
   "metadata": {},
   "outputs": [
    {
     "data": {
      "text/plain": [
       "float"
      ]
     },
     "execution_count": 37,
     "metadata": {},
     "output_type": "execute_result"
    }
   ],
   "source": [
    "#10\n",
    "type(5.0)"
   ]
  },
  {
   "cell_type": "code",
   "execution_count": 47,
   "id": "0d18768a-a0a1-4558-aa20-a9c2db7649b0",
   "metadata": {},
   "outputs": [
    {
     "data": {
      "text/plain": [
       "str"
      ]
     },
     "execution_count": 47,
     "metadata": {},
     "output_type": "execute_result"
    }
   ],
   "source": [
    "#11\n",
    "a=str('42')\n",
    "type(a)"
   ]
  },
  {
   "cell_type": "code",
   "execution_count": 51,
   "id": "30371ae8-aeb9-4618-afba-bd1209cb893c",
   "metadata": {},
   "outputs": [
    {
     "name": "stdout",
     "output_type": "stream",
     "text": [
      "3.14 is pi\n",
      "<class 'str'>\n"
     ]
    }
   ],
   "source": [
    "#12\n",
    "a=str(3.14) + ' is pi' \n",
    "print(a)\n",
    "print(type(a))"
   ]
  },
  {
   "cell_type": "code",
   "execution_count": 53,
   "id": "3b4a2ba5-3e11-4570-a8fd-b4098f74f1e2",
   "metadata": {},
   "outputs": [
    {
     "data": {
      "text/plain": [
       "7.5"
      ]
     },
     "execution_count": 53,
     "metadata": {},
     "output_type": "execute_result"
    }
   ],
   "source": [
    "#13\n",
    "4 + 3.5"
   ]
  },
  {
   "cell_type": "code",
   "execution_count": 55,
   "id": "0d13b1f6-4937-4690-8db1-bd9dccab02a2",
   "metadata": {},
   "outputs": [
    {
     "name": "stdin",
     "output_type": "stream",
     "text": [
      "enter a number:  3\n"
     ]
    },
    {
     "name": "stdout",
     "output_type": "stream",
     "text": [
      "3\n",
      "<class 'str'>\n"
     ]
    }
   ],
   "source": [
    "#14\n",
    "a=input('enter a number: ')\n",
    "b=str(a)\n",
    "print(a)\n",
    "print(type(a))"
   ]
  },
  {
   "cell_type": "code",
   "execution_count": 63,
   "id": "7ebff8d9-4717-4a2e-a950-d4ffca2bcfa7",
   "metadata": {},
   "outputs": [
    {
     "name": "stdout",
     "output_type": "stream",
     "text": [
      "<class 'int'>\n",
      "<class 'str'>\n"
     ]
    }
   ],
   "source": [
    "#15\n",
    "roll_number=21\n",
    "print(type(roll_number))\n",
    "name1='aradhya'\n",
    "print(type(name1))"
   ]
  },
  {
   "cell_type": "code",
   "execution_count": 65,
   "id": "be8f6066-56f6-46b0-9df6-080046647075",
   "metadata": {},
   "outputs": [
    {
     "data": {
      "text/plain": [
       "str"
      ]
     },
     "execution_count": 65,
     "metadata": {},
     "output_type": "execute_result"
    }
   ],
   "source": [
    "#16\n",
    "my_name='ishika'\n",
    "type(my_name)"
   ]
  },
  {
   "cell_type": "code",
   "execution_count": 67,
   "id": "5f88bfb7-7302-4bf8-9f50-aa6bec31e003",
   "metadata": {},
   "outputs": [
    {
     "data": {
      "text/plain": [
       "list"
      ]
     },
     "execution_count": 67,
     "metadata": {},
     "output_type": "execute_result"
    }
   ],
   "source": [
    "#17\n",
    "lst=[]\n",
    "type(lst)"
   ]
  },
  {
   "cell_type": "code",
   "execution_count": 69,
   "id": "121d0267-d27d-4ee4-9ecd-f9923367dfaa",
   "metadata": {},
   "outputs": [
    {
     "data": {
      "text/plain": [
       "[1, 2, 3, 42]"
      ]
     },
     "execution_count": 69,
     "metadata": {},
     "output_type": "execute_result"
    }
   ],
   "source": [
    "#18\n",
    "lst=[1,2,3]\n",
    "lst.append(42)\n",
    "lst"
   ]
  },
  {
   "cell_type": "code",
   "execution_count": 73,
   "id": "9e90b899-923f-47b4-bace-b01a935a9ff5",
   "metadata": {},
   "outputs": [
    {
     "data": {
      "text/plain": [
       "30"
      ]
     },
     "execution_count": 73,
     "metadata": {},
     "output_type": "execute_result"
    }
   ],
   "source": [
    "#19\n",
    "my_list = [10, 20, 30, 40]\n",
    "my_list[2] #index 2 is third element"
   ]
  },
  {
   "cell_type": "code",
   "execution_count": 83,
   "id": "73af1314-c63b-4437-ac53-0972e747474e",
   "metadata": {},
   "outputs": [
    {
     "name": "stdout",
     "output_type": "stream",
     "text": [
      "<class 'tuple'>\n",
      "<class 'list'>\n"
     ]
    }
   ],
   "source": [
    "#20\n",
    "tup=('a','b','c','d') #tuple has round brackets///tuples are immutable\n",
    "print(type(tup))\n",
    "lst=['a','b','c','d'] #list has square brackets///lists are mutable\n",
    "print(type(lst))"
   ]
  },
  {
   "cell_type": "code",
   "execution_count": 81,
   "id": "980840f1-337d-4b11-9fc8-6b4dfe508402",
   "metadata": {},
   "outputs": [
    {
     "data": {
      "text/plain": [
       "{1, 2, 3}"
      ]
     },
     "execution_count": 81,
     "metadata": {},
     "output_type": "execute_result"
    }
   ],
   "source": [
    "#21\n",
    "num=set()\n",
    "num.add(1)\n",
    "num.add(2)\n",
    "num.add(3)\n",
    "num"
   ]
  },
  {
   "cell_type": "code",
   "execution_count": 85,
   "id": "8f004f1f-4d72-4278-aff8-8181ef876c77",
   "metadata": {},
   "outputs": [
    {
     "data": {
      "text/plain": [
       "{1, 3}"
      ]
     },
     "execution_count": 85,
     "metadata": {},
     "output_type": "execute_result"
    }
   ],
   "source": [
    "#22\n",
    "num.remove(2)\n",
    "num"
   ]
  },
  {
   "cell_type": "code",
   "execution_count": 93,
   "id": "367bd247-020e-4a7c-8b4f-69a66d01af1c",
   "metadata": {},
   "outputs": [
    {
     "data": {
      "text/plain": [
       "'Alice'"
      ]
     },
     "execution_count": 93,
     "metadata": {},
     "output_type": "execute_result"
    }
   ],
   "source": [
    "#23\n",
    "person = {'name': 'Alice','age': 25}\n",
    "person['name']"
   ]
  },
  {
   "cell_type": "code",
   "execution_count": 95,
   "id": "bec0ae56-57b9-4ba5-93cc-d53e19006ae3",
   "metadata": {},
   "outputs": [
    {
     "data": {
      "text/plain": [
       "{'name': 'Alice', 'age': 25}"
      ]
     },
     "execution_count": 95,
     "metadata": {},
     "output_type": "execute_result"
    }
   ],
   "source": [
    "#24\n",
    "person = {'name': 'Alice','age': 25, 'salary': 40000}\n",
    "person.pop('salary')\n",
    "person"
   ]
  },
  {
   "cell_type": "code",
   "execution_count": 99,
   "id": "a81c0ab5-4f13-47f6-84e9-26f99f3a5d42",
   "metadata": {},
   "outputs": [
    {
     "data": {
      "text/plain": [
       "10"
      ]
     },
     "execution_count": 99,
     "metadata": {},
     "output_type": "execute_result"
    }
   ],
   "source": [
    "#25\n",
    "my_tuple = (5, 10, 15)\n",
    "my_tuple[1] #using index"
   ]
  },
  {
   "cell_type": "code",
   "execution_count": 101,
   "id": "e185d9b1-98ea-4ed1-a2dd-c5ab8e7b5839",
   "metadata": {},
   "outputs": [
    {
     "data": {
      "text/plain": [
       "5"
      ]
     },
     "execution_count": 101,
     "metadata": {},
     "output_type": "execute_result"
    }
   ],
   "source": [
    "#26\n",
    "numbers = [1, 2, 3, 4, 5]\n",
    "len(numbers)"
   ]
  },
  {
   "cell_type": "code",
   "execution_count": 117,
   "id": "5c9f99d5-07b5-4667-8e1f-9a686cfc4c28",
   "metadata": {},
   "outputs": [
    {
     "data": {
      "text/plain": [
       "66"
      ]
     },
     "execution_count": 117,
     "metadata": {},
     "output_type": "execute_result"
    }
   ],
   "source": [
    "#27\n",
    "numbers[2] + 33\n",
    "numbers"
   ]
  },
  {
   "cell_type": "code",
   "execution_count": 119,
   "id": "aaa77701-6fe4-406d-82bb-84ad6ca9225d",
   "metadata": {},
   "outputs": [
    {
     "data": {
      "text/plain": [
       "[1, 2, 3, 4]"
      ]
     },
     "execution_count": 119,
     "metadata": {},
     "output_type": "execute_result"
    }
   ],
   "source": [
    "#28\n",
    "lst= [4, 1, 3, 2]\n",
    "lst.sort()\n",
    "lst"
   ]
  },
  {
   "cell_type": "code",
   "execution_count": 239,
   "id": "6f07579e-1e2c-402e-9985-b1c7909148a8",
   "metadata": {},
   "outputs": [
    {
     "name": "stdout",
     "output_type": "stream",
     "text": [
      "5 is in list\n"
     ]
    }
   ],
   "source": [
    "#29\n",
    "lst=[1, 2, 3, 4, 5]\n",
    "for i in range(0,5):\n",
    "    if(lst[i]==5):\n",
    "        print('5 is in list')"
   ]
  },
  {
   "cell_type": "code",
   "execution_count": 145,
   "id": "ef1ffa8d-c125-4426-be71-1a37e66f5f64",
   "metadata": {},
   "outputs": [
    {
     "data": {
      "text/plain": [
       "[1, 2, 3, 4, 5, 6]"
      ]
     },
     "execution_count": 145,
     "metadata": {},
     "output_type": "execute_result"
    }
   ],
   "source": [
    "#30\n",
    "lst1=[1, 2, 3] \n",
    "lst2=[4, 5, 6]\n",
    "lst3=lst1+lst2\n",
    "lst3"
   ]
  },
  {
   "cell_type": "code",
   "execution_count": 159,
   "id": "46003811-ea05-4a2f-aa9d-2d4b0a754b16",
   "metadata": {},
   "outputs": [
    {
     "name": "stdout",
     "output_type": "stream",
     "text": [
      "positive\n"
     ]
    }
   ],
   "source": [
    "#31\n",
    "x=91\n",
    "if (x>-1):\n",
    "    print('positive')"
   ]
  },
  {
   "cell_type": "code",
   "execution_count": 157,
   "id": "1d693f7b-862c-4e8a-8afd-5fca63789cba",
   "metadata": {},
   "outputs": [
    {
     "name": "stdout",
     "output_type": "stream",
     "text": [
      "negative\n"
     ]
    }
   ],
   "source": [
    "#32\n",
    "x=-91\n",
    "if (x>0):\n",
    "    print('positive and greater than 0')\n",
    "else:\n",
    "    print('negative')"
   ]
  },
  {
   "cell_type": "code",
   "execution_count": 163,
   "id": "c2186166-22a4-4a3e-9715-fa14dfc0c0e9",
   "metadata": {},
   "outputs": [
    {
     "name": "stdout",
     "output_type": "stream",
     "text": [
      "x is zero\n"
     ]
    }
   ],
   "source": [
    "#33\n",
    "x=0\n",
    "if (x>0):\n",
    "    print('positive and greater than 0')\n",
    "elif(x==0):\n",
    "    print('x is zero')\n",
    "else:\n",
    "    print('negative')"
   ]
  },
  {
   "cell_type": "code",
   "execution_count": 259,
   "id": "03fe0894-afde-4e67-91c5-44f7b9db7f18",
   "metadata": {},
   "outputs": [
    {
     "data": {
      "text/plain": [
       "10"
      ]
     },
     "execution_count": 259,
     "metadata": {},
     "output_type": "execute_result"
    }
   ],
   "source": [
    "#34\n",
    "x=6\n",
    "result = 10 if x > 5 else 5\n",
    "result"
   ]
  },
  {
   "cell_type": "code",
   "execution_count": 173,
   "id": "d5fbbd53-327b-4de6-8f49-372f504b36db",
   "metadata": {},
   "outputs": [
    {
     "name": "stdout",
     "output_type": "stream",
     "text": [
      "a grade\n"
     ]
    }
   ],
   "source": [
    "#35\n",
    "x=94\n",
    "if (x>=90):\n",
    "    print('a grade')\n",
    "else:\n",
    "    print('below a grade')"
   ]
  },
  {
   "cell_type": "code",
   "execution_count": 177,
   "id": "00f95982-7c2d-46a6-86ce-494e24a87581",
   "metadata": {},
   "outputs": [
    {
     "name": "stdout",
     "output_type": "stream",
     "text": [
      "it is present in list\n"
     ]
    }
   ],
   "source": [
    "#36\n",
    "fruits = ['apple', 'banana', 'cherry'] \n",
    "for x in fruits:\n",
    "  if(x=='banana'):\n",
    "    print('it is present in list')"
   ]
  },
  {
   "cell_type": "code",
   "execution_count": 189,
   "id": "58a5b4bf-abed-4604-a32e-a76fffa5823a",
   "metadata": {},
   "outputs": [
    {
     "name": "stdout",
     "output_type": "stream",
     "text": [
      "adult male\n"
     ]
    }
   ],
   "source": [
    "#37\n",
    "gender='male'\n",
    "age=23\n",
    "if(age>18):\n",
    "    if(gender=='male'):\n",
    "        print('adult male')\n",
    "    else:\n",
    "        print('adult female')\n",
    "else:\n",
    "    print('not adult')"
   ]
  },
  {
   "cell_type": "code",
   "execution_count": 199,
   "id": "c9a76159-98e2-47b3-93b2-b76e24d9e7d4",
   "metadata": {},
   "outputs": [
    {
     "name": "stdout",
     "output_type": "stream",
     "text": [
      "divible by both 3 and 5\n"
     ]
    }
   ],
   "source": [
    "#38\n",
    "num=15\n",
    "if (num%3==0):\n",
    "    if(num%5==0):\n",
    "        print('divible by both 3 and 5')\n",
    "    else:\n",
    "        print('divisible by 3')\n",
    "else:\n",
    "    print('divisible by 5')\n",
    "    "
   ]
  },
  {
   "cell_type": "code",
   "execution_count": 223,
   "id": "2ba176a0-0598-4c39-981a-180dba988fa1",
   "metadata": {},
   "outputs": [
    {
     "name": "stdout",
     "output_type": "stream",
     "text": [
      "name is not provided\n"
     ]
    }
   ],
   "source": [
    "#39\n",
    "name=''\n",
    "size=len(name)\n",
    "if(size==0):\n",
    "    print('name is not provided')\n",
    "else:\n",
    "    print('name is provided')\n",
    "    "
   ]
  },
  {
   "cell_type": "code",
   "execution_count": 233,
   "id": "9eef24e7-f317-401c-a3d2-dfe2f7aec207",
   "metadata": {},
   "outputs": [
    {
     "name": "stdout",
     "output_type": "stream",
     "text": [
      "age is between range\n"
     ]
    }
   ],
   "source": [
    "#40\n",
    "age=20\n",
    "if (age>17 and age<26):\n",
    "   print(\"age is between range\")\n",
    "else:\n",
    "    print(\"age is not in range\")"
   ]
  },
  {
   "cell_type": "code",
   "execution_count": null,
   "id": "b5c01e34-a137-469d-949b-b2858acb6ea9",
   "metadata": {},
   "outputs": [],
   "source": []
  }
 ],
 "metadata": {
  "kernelspec": {
   "display_name": "Python 3 (ipykernel)",
   "language": "python",
   "name": "python3"
  },
  "language_info": {
   "codemirror_mode": {
    "name": "ipython",
    "version": 3
   },
   "file_extension": ".py",
   "mimetype": "text/x-python",
   "name": "python",
   "nbconvert_exporter": "python",
   "pygments_lexer": "ipython3",
   "version": "3.12.7"
  }
 },
 "nbformat": 4,
 "nbformat_minor": 5
}
