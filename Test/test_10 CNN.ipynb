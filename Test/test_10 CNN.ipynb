{
 "cells": [
  {
   "cell_type": "markdown",
   "id": "b5cf8639",
   "metadata": {},
   "source": [
    "## Test CNN"
   ]
  },
  {
   "cell_type": "code",
   "execution_count": null,
   "id": "d4528c0f",
   "metadata": {},
   "outputs": [],
   "source": []
  },
  {
   "cell_type": "markdown",
   "id": "b3950c0e",
   "metadata": {},
   "source": [
    "##### 1 - What is the primary purpose of convolution in a CNN?\n",
    "\n",
    "A. Reduce the dimensions of the image\n",
    "\n",
    "B. Extract spatial features\n",
    "\n",
    "C. Normalize pixel values\n",
    "\n",
    "D. Perform data augmentation"
   ]
  },
  {
   "cell_type": "code",
   "execution_count": null,
   "id": "c2952e3c-4137-4704-b954-23672c80b12c",
   "metadata": {},
   "outputs": [],
   "source": [
    "# B. Extract spatial features"
   ]
  },
  {
   "cell_type": "markdown",
   "id": "e8320ac0",
   "metadata": {},
   "source": [
    "##### 2- What is the role of a pooling layer in a CNN?\n",
    "\n",
    "A. Increase the size of feature maps\n",
    "\n",
    "B. Reduce computation by down-sampling\n",
    "\n",
    "C. Perform feature normalization\n",
    "\n",
    "D. Add non-linearity to the network"
   ]
  },
  {
   "cell_type": "code",
   "execution_count": null,
   "id": "c55a9ad7-92f1-423f-a442-861b473273ef",
   "metadata": {},
   "outputs": [],
   "source": [
    "# B. Reduce computation by down-sampling"
   ]
  },
  {
   "cell_type": "markdown",
   "id": "1d0cbd59",
   "metadata": {},
   "source": [
    "##### 3- Which of the following is a commonly used activation function in CNNs?\n",
    "\n",
    "A. Sigmoid\n",
    "\n",
    "B. ReLU\n",
    "\n",
    "C. Tanh\n",
    "\n",
    "D. Softmax"
   ]
  },
  {
   "cell_type": "code",
   "execution_count": null,
   "id": "e6aaf3f2-254f-4086-9853-a4a96f5756bd",
   "metadata": {},
   "outputs": [],
   "source": [
    "# B. ReLU"
   ]
  },
  {
   "cell_type": "markdown",
   "id": "2bf7e230",
   "metadata": {},
   "source": [
    "#####  4- What does the stride parameter control in a convolution operation?\n",
    "\n",
    "A. The size of the filter\n",
    "\n",
    "B. The number of channels in the output\n",
    "\n",
    "C. The step size while sliding the filter\n",
    "\n",
    "D. The padding size around the input"
   ]
  },
  {
   "cell_type": "code",
   "execution_count": null,
   "id": "dedbbb15-e771-4c43-8bba-dc1949043a43",
   "metadata": {},
   "outputs": [],
   "source": [
    "# C. The step size while sliding the filter"
   ]
  },
  {
   "cell_type": "markdown",
   "id": "023c2d46",
   "metadata": {},
   "source": [
    "#####  5- What is padding in CNNs used for?\n",
    "\n",
    "A. Increase the number of filters\n",
    "\n",
    "B. Preserve spatial dimensions of the input\n",
    "\n",
    "C. Perform feature scaling\n",
    "\n",
    "D. Reduce computational cost"
   ]
  },
  {
   "cell_type": "code",
   "execution_count": null,
   "id": "6dbc9f9b-fc98-493f-a284-23a0e8d92e9a",
   "metadata": {},
   "outputs": [],
   "source": [
    "# B. Preserve spatial dimensions of the input"
   ]
  },
  {
   "cell_type": "markdown",
   "id": "677e4be5",
   "metadata": {},
   "source": [
    "#####  6- What happens to the number of parameters when you increase the number of filters in a convolutional layer?\n",
    "\n",
    "A. Decreases\n",
    "\n",
    "B. Stays the same\n",
    "\n",
    "C. Increases\n",
    "\n",
    "D. Depends on the activation function\n",
    "\n"
   ]
  },
  {
   "cell_type": "code",
   "execution_count": null,
   "id": "dcc8708d-bf2d-4fe9-b3f5-047f6e4ced8a",
   "metadata": {},
   "outputs": [],
   "source": [
    "# C. Increases"
   ]
  },
  {
   "cell_type": "markdown",
   "id": "5e347448",
   "metadata": {},
   "source": [
    "#####  7- Which of these layers is not typically used in a CNN?\n",
    "\n",
    "A. Convolutional layer\n",
    "\n",
    "B. Pooling layer\n",
    "\n",
    "C. Fully connected layer\n",
    "\n",
    "D. Recurrent layer"
   ]
  },
  {
   "cell_type": "code",
   "execution_count": null,
   "id": "4a556c13-fea9-4d02-8b97-f54bee0bf6e1",
   "metadata": {},
   "outputs": [],
   "source": [
    "# D. Recurrent layer"
   ]
  },
  {
   "cell_type": "markdown",
   "id": "ba9fc07b",
   "metadata": {},
   "source": [
    "##### 8- What type of pooling operation takes the maximum value in each window?\n",
    "\n",
    "A. Average pooling\n",
    "\n",
    "B. Max pooling\n",
    "\n",
    "C. Min pooling\n",
    "\n",
    "D. Mean pooling"
   ]
  },
  {
   "cell_type": "code",
   "execution_count": null,
   "id": "58fd7573-a2df-4ec7-becc-7b9756d2d0eb",
   "metadata": {},
   "outputs": [],
   "source": [
    "# B. Max pooling"
   ]
  },
  {
   "cell_type": "markdown",
   "id": "047b2b1a",
   "metadata": {},
   "source": [
    "##### 9- What is a kernel in the context of CNNs?\n",
    "\n",
    "A. A filter used to extract features from an image\n",
    "\n",
    "B. A type of activation function\n",
    "\n",
    "C. A normalization method\n",
    "\n",
    "D. A parameter for regularization"
   ]
  },
  {
   "cell_type": "code",
   "execution_count": null,
   "id": "ee7f28db-a95e-41fc-8aa7-64f5e3943538",
   "metadata": {},
   "outputs": [],
   "source": [
    "# A. A filter used to extract features from an image"
   ]
  },
  {
   "cell_type": "markdown",
   "id": "dd5dbaf6",
   "metadata": {},
   "source": [
    "##### 10- Which of the following techniques can help prevent overfitting in CNNs?\n",
    "\n",
    "A. Dropout\n",
    "\n",
    "B. Batch Normalization\n",
    "\n",
    "C. Data Augmentation\n",
    "\n",
    "D. All of the above\n"
   ]
  },
  {
   "cell_type": "code",
   "execution_count": null,
   "id": "0f495b05-7ac2-4b07-9ece-09e8839dc4b5",
   "metadata": {},
   "outputs": [],
   "source": [
    "# D. All of the above"
   ]
  },
  {
   "cell_type": "markdown",
   "id": "9a3fc1da",
   "metadata": {},
   "source": [
    "##### 11- What was the size of the input image in AlexNet?\n",
    "\n",
    "A. 32×32\n",
    "\n",
    "B. 224×224\n",
    "\n",
    "C. 227x227\n",
    "\n",
    "D. 256x256"
   ]
  },
  {
   "cell_type": "code",
   "execution_count": null,
   "id": "ff479cd0-f1ca-426c-85a6-c9aa7ec2e3ae",
   "metadata": {},
   "outputs": [],
   "source": [
    "# D. All of the above"
   ]
  },
  {
   "cell_type": "markdown",
   "id": "d2a92283",
   "metadata": {},
   "source": [
    "##### 12- How many convolutional layers are present in the original AlexNet architecture?\n",
    "\n",
    "A. 3\n",
    "\n",
    "B. 5\n",
    "\n",
    "C. 8\n",
    "\n",
    "D. 10"
   ]
  },
  {
   "cell_type": "code",
   "execution_count": null,
   "id": "f3fc0b34-1d8e-4603-909d-79cebf9600a4",
   "metadata": {},
   "outputs": [],
   "source": [
    "# B. 5"
   ]
  },
  {
   "cell_type": "markdown",
   "id": "888ec385",
   "metadata": {},
   "source": [
    "##### 13- What was the main reason for using ReLU activation in AlexNet?\n",
    "\n",
    "A. To make training faster\n",
    "\n",
    "B. To reduce overfitting\n",
    "\n",
    "C. To preserve spatial information\n",
    "\n",
    "D. To normalize features"
   ]
  },
  {
   "cell_type": "code",
   "execution_count": null,
   "id": "e5cd4933-dfe2-457a-89f4-e259ad0e5dfe",
   "metadata": {},
   "outputs": [],
   "source": [
    "# A. To make training faster"
   ]
  },
  {
   "cell_type": "markdown",
   "id": "99ba58b6",
   "metadata": {},
   "source": [
    "##### 14- Which optimization algorithm was used to train AlexNet?\n",
    "\n",
    "A. SGD with momentum\n",
    "\n",
    "B. Adam\n",
    "\n",
    "C. RMSProp\n",
    "\n",
    "D. AdaGrad"
   ]
  },
  {
   "cell_type": "code",
   "execution_count": null,
   "id": "e9f3d594-5893-4b8c-9623-01b05d3f551a",
   "metadata": {},
   "outputs": [],
   "source": [
    "# A. SGD with momentum"
   ]
  },
  {
   "cell_type": "markdown",
   "id": "ed04865d",
   "metadata": {},
   "source": [
    "##### 15- What technique did AlexNet use to handle overfitting?\n",
    "\n",
    "A. Dropout\n",
    "\n",
    "B. Batch Normalization\n",
    "\n",
    "C. Weight Regularization\n",
    "\n",
    "D. Data Augmentation"
   ]
  },
  {
   "cell_type": "code",
   "execution_count": null,
   "id": "3cb742c7-0416-4b06-ae60-ea703c30e515",
   "metadata": {},
   "outputs": [],
   "source": [
    "# B. Batch Normalization"
   ]
  },
  {
   "cell_type": "markdown",
   "id": "306e8aeb",
   "metadata": {},
   "source": [
    "##### 16- What is the key design principle of the VGG architecture?\n",
    "\n",
    "A. Very deep networks with small convolutional filters\n",
    "\n",
    "B. Using large filters for feature extraction\n",
    "\n",
    "C. Incorporating residual connections\n",
    "\n",
    "D. Combining convolutional and recurrent layers"
   ]
  },
  {
   "cell_type": "code",
   "execution_count": null,
   "id": "7c986c2d-f284-4c75-8307-a2232ecf9f30",
   "metadata": {},
   "outputs": [],
   "source": [
    "# A. Very deep networks with small convolutional filters"
   ]
  },
  {
   "cell_type": "markdown",
   "id": "625440fe",
   "metadata": {},
   "source": [
    "##### 17- What is the size of the convolutional filters used in VGG networks?\n",
    "\n",
    "A. 7×7\n",
    "\n",
    "B. 5×5\n",
    "\n",
    "C. 3x3\n",
    "\n",
    "D. 9x9"
   ]
  },
  {
   "cell_type": "code",
   "execution_count": null,
   "id": "af1aff98-4f6c-4e01-933f-94216d0c1713",
   "metadata": {},
   "outputs": [],
   "source": [
    "# C. 3x3"
   ]
  },
  {
   "cell_type": "markdown",
   "id": "f48f1ae7",
   "metadata": {},
   "source": [
    "##### 18- Which VGG variant has 19 layers?\n",
    "\n",
    "A. VGG11\n",
    "\n",
    "B. VGG13\n",
    "\n",
    "C. VGG16\n",
    "\n",
    "D. VGG19"
   ]
  },
  {
   "cell_type": "code",
   "execution_count": null,
   "id": "1fcd813e-f71b-42fa-8076-736922fb37f6",
   "metadata": {},
   "outputs": [],
   "source": [
    "# D. VGG19"
   ]
  },
  {
   "cell_type": "markdown",
   "id": "43c6f95f",
   "metadata": {},
   "source": [
    "##### 19- What was a significant disadvantage of VGG networks?\n",
    "\n",
    "A. Poor performance on large datasets\n",
    "\n",
    "B. High computational and memory requirements\n",
    "\n",
    "C. Limited use of pooling layers\n",
    "\n",
    "D. Lack of non-linearity"
   ]
  },
  {
   "cell_type": "code",
   "execution_count": null,
   "id": "0ca2c4d0-c3f6-4f43-b3bc-ad2ba599639a",
   "metadata": {},
   "outputs": [],
   "source": [
    "# B. High computational and memory requirements"
   ]
  },
  {
   "cell_type": "markdown",
   "id": "3870b3e3",
   "metadata": {},
   "source": [
    "##### 20- What type of padding is used in VGG networks to maintain spatial dimensions after convolution?\n",
    "\n",
    "A. Valid padding\n",
    "\n",
    "B. Full padding\n",
    "\n",
    "C. Same padding\n",
    "\n",
    "D. Zero padding"
   ]
  },
  {
   "cell_type": "code",
   "execution_count": null,
   "id": "c3309124-3807-44a7-83d3-c56a81fa89fd",
   "metadata": {},
   "outputs": [],
   "source": [
    "# C. Same padding"
   ]
  },
  {
   "cell_type": "code",
   "execution_count": null,
   "id": "f56ada8a",
   "metadata": {},
   "outputs": [],
   "source": []
  },
  {
   "cell_type": "markdown",
   "id": "0f82c54c",
   "metadata": {},
   "source": [
    "## Question: \n",
    "#### Design and implement a Convolutional Neural Network (CNN) model to classify images into three categories: cats, dogs, and snakes, using the provided dataset. Ensure the following:\n",
    "\n",
    "\n",
    "\n",
    "Dataset Download Link"
   ]
  },
  {
   "cell_type": "raw",
   "id": "5009481d",
   "metadata": {},
   "source": [
    "!pip install kagglehub\n",
    "import kagglehub\n",
    "\n",
    "# Download latest version\n",
    "path = kagglehub.dataset_download(\"borhanitrash/animal-image-classification-dataset\")\n",
    "\n",
    "print(\"Path to dataset files:\", path)"
   ]
  },
  {
   "cell_type": "markdown",
   "id": "7c9bc73f",
   "metadata": {},
   "source": [
    "\n",
    "\n",
    "You are provided with an image dataset containing three classes: cats, dogs, and snakes. Using this dataset:\n",
    "\n",
    "####   Task 1: Preprocess the Dataset\n",
    "\n",
    "#####  Preprocessing Steps:\n",
    "\n",
    "    Image Resizing: Resize all images to a uniform size (e.g., 224×224).\n",
    "\n",
    "    Normalization: Scale pixel values to the range [0, 1].\n",
    "\n",
    "    One-Hot Encoding: Convert class labels (cats, dogs, snakes) into one-hot encoded vectors.\n",
    "\n",
    "    Data Augmentation: Apply augmentation techniques such as rotation, flipping, and zooming to increase the size of the dataset.\n",
    "\n",
    "    Train-Test Split: Split the dataset into training (80%) and validation (20%) sets\n",
    "    \n",
    "####  Task 2: Build the CNN Architecture\n",
    "\n",
    "Create a CNN architecture with the following specifications:\n",
    "\n",
    "    Input Layer:\n",
    "\n",
    "        Input: Images of size 224×224×3.\n",
    "    \n",
    "    Convolutional Layers:\n",
    "       \n",
    "       \n",
    "       3 Convolutional Layers:\n",
    "            \n",
    "            Layer 1: 3×3 filters, 32 filters, ReLU activation.\n",
    "               \n",
    "            Layer 2: 3×3 filters, 64 filters, ReLU activation.\n",
    "            \n",
    "            Layer 3: 3×3 filters, 128 filters, ReLU activation.\n",
    "\n",
    "    Max Pooling:\n",
    "        \n",
    "        Use Max Pooling (2×2) after the 1st and 2nd convolutional layers.\n",
    "    \n",
    "    Fully Connected Layers:\n",
    "        \n",
    "        Flatten the output from the convolutional layers.\n",
    "        \n",
    "        FC Layer 1: 128 neurons, ReLU activation.\n",
    "        \n",
    "        FC Layer 2: 64 neurons, ReLU activation\n",
    "        \n",
    "        Output Layer: 3 neurons (one for each class), with softmax activation\n",
    "        \n",
    "        \n",
    "    Output:\n",
    "        \n",
    "        The final output layer will classify the images into one of the three categories (cats, dogs, snakes).\n",
    " \n",
    " \n",
    "####   Task 3: : Train and Evaluate the Model\n",
    "\n",
    "    Use a categorical cross-entropy loss function.\n",
    "    \n",
    "    Use the Adam optimizer with a learning rate of 0.001.\n",
    "    \n",
    "    Train the model for 15-20 epochs, and track accuracy and loss for both training and validation sets.\n",
    "        \n",
    "        "
   ]
  },
  {
   "attachments": {
    "image.png": {
     "image/png": "[encoded data removed]"
    }
   },
   "cell_type": "markdown",
   "id": "5085ff74",
   "metadata": {},
   "source": [
    "![image.png](attachment:image.png)"
   ]
  },
  {
   "cell_type": "markdown",
   "id": "236fdec0-4b0d-48a1-bd79-66ee6ecc2e16",
   "metadata": {},
   "source": [
    "## Model"
   ]
  },
  {
   "cell_type": "code",
   "execution_count": 124,
   "id": "02155dca-3487-4b02-a332-8618993a666b",
   "metadata": {},
   "outputs": [
    {
     "name": "stdout",
     "output_type": "stream",
     "text": [
      "C:\\Users\\sharm\n"
     ]
    }
   ],
   "source": [
    "import os\n",
    "print(os.getcwd())  # Get the current working directory"
   ]
  },
  {
   "cell_type": "markdown",
   "id": "75e0b039-1a04-420c-bdb8-203245f911b1",
   "metadata": {},
   "source": [
    "## Import Libraries"
   ]
  },
  {
   "cell_type": "code",
   "execution_count": 127,
   "id": "fa1bb1a3-1825-49d8-8c89-758715d22093",
   "metadata": {},
   "outputs": [],
   "source": [
    "from tensorflow.keras.preprocessing.image import ImageDataGenerator       # For data augmentation and preprocessing\n",
    "from tensorflow.keras.models import Sequential                            # To create a sequential neural network\n",
    "from tensorflow.keras.layers import Conv2D, MaxPooling2D, Flatten, Dense  # CNN layers: convolution, pooling, flatten, and dense\n",
    "import matplotlib.pyplot as plt                                           # For plotting training and validation metrics"
   ]
  },
  {
   "cell_type": "code",
   "execution_count": 129,
   "id": "55e339a0-6912-4a34-8dd7-4c007b923790",
   "metadata": {},
   "outputs": [],
   "source": [
    "# Define the path to your dataset\n",
    "dataset_path = r\"C:\\Users\\sharm\\Downloads\\Animals\""
   ]
  },
  {
   "cell_type": "markdown",
   "id": "d7276731-8b28-4370-a349-a32128f014af",
   "metadata": {},
   "source": [
    "## PreProcess the Dataset"
   ]
  },
  {
   "cell_type": "code",
   "execution_count": 132,
   "id": "df44e6eb-9336-41f7-907d-ab96ec7ea989",
   "metadata": {},
   "outputs": [],
   "source": [
    "# Define the target image size for resizing (224x224)\n",
    "image_size=(224,224)\n",
    "\n",
    "# Initialize an ImageDataGenerator for training with preprocessing and augmentation\n",
    "train_datagen = ImageDataGenerator(\n",
    "    rescale= 1./255,          # Normalize pixel values to the range [0, 1]\n",
    "    rotation_range= 30,       # Randomly rotate images up to 30 degrees\n",
    "    width_shift_range= 0.2,   # Randomly shift images horizontally by up to 20% of width\n",
    "    height_shift_range= 0.2,  # Randomly shift images vertically by up to 20% of height\n",
    "    zoom_range= 0.2,          # Randomly zoom into images by up to 20%\n",
    "    horizontal_flip= True,    # Randomly flip images horizontally\n",
    "    validation_split= 0.2     # Reserve 20% of data for validation\n",
    "    )"
   ]
  },
  {
   "cell_type": "markdown",
   "id": "020a0625-de9e-46e2-9839-b61c01fc9160",
   "metadata": {},
   "source": [
    "The class_mode='categorical' parameter in the ImageDataGenerator automatically converts class labels into one-hot encoded vectors."
   ]
  },
  {
   "cell_type": "code",
   "execution_count": 135,
   "id": "8e936a6d-8b3e-4380-beb9-64c331598f21",
   "metadata": {},
   "outputs": [
    {
     "name": "stdout",
     "output_type": "stream",
     "text": [
      "Found 120 images belonging to 3 classes.\n"
     ]
    }
   ],
   "source": [
    "# Create a data generator for the training set\n",
    "train_generator = train_datagen.flow_from_directory(\n",
    "    dataset_path,                                   # Path to the dataset folder\n",
    "    target_size= image_size,                        # Resize all images to 224x224\n",
    "    batch_size= 32,                                 # Number of images per batch\n",
    "    class_mode= 'categorical',                      # Use categorical mode for multi-class labels\n",
    "    subset= 'training'                              # Use 80% of the data for training\n",
    "    )"
   ]
  },
  {
   "cell_type": "code",
   "execution_count": 137,
   "id": "489f32f6-a935-4102-be32-a48a053f69c6",
   "metadata": {},
   "outputs": [
    {
     "name": "stdout",
     "output_type": "stream",
     "text": [
      "Found 27 images belonging to 3 classes.\n"
     ]
    }
   ],
   "source": [
    "# Create a data generator for the validation set\n",
    "validation_generator= train_datagen.flow_from_directory(\n",
    "    dataset_path,                                      # Path to the dataset folder\n",
    "    target_size= image_size,                           # Resize all images to 224x224\n",
    "    batch_size=32,                                     # Number of images per batch\n",
    "    class_mode='categorical',                          # Use categorical mode for multi-class labels\n",
    "    subset='validation'                                # Use 20% of the data for validation\n",
    "    )"
   ]
  },
  {
   "cell_type": "markdown",
   "id": "19b9538c-1d37-4825-b3d1-537a9f4928ad",
   "metadata": {},
   "source": [
    "## Define CNN Model"
   ]
  },
  {
   "cell_type": "code",
   "execution_count": 140,
   "id": "d675b5f6-29d3-4848-833c-23ef2ccda243",
   "metadata": {},
   "outputs": [],
   "source": [
    "# Initialize a sequential model\n",
    "model = Sequential([\n",
    "\n",
    "# 1st Convolutional Layer: 32 filters of size 3x3 with ReLU activation\n",
    "Conv2D(32, (3,3), activation=\"relu\", input_shape=(224,224,3)),\n",
    "# Max Pooling: Reduce spatial dimensions by 2x2\n",
    "MaxPooling2D((2,2)),\n",
    "\n",
    "# 2nd Convolutional Layer: 64 filters of size 3x3 with ReLU activation\n",
    "Conv2D(32, (3,3), activation=\"relu\"),\n",
    "# Max Pooling: Reduce spatial dimensions by 2x2\n",
    "MaxPooling2D((2, 2)),\n",
    "\n",
    "# 3rd Convolutional Layer: 128 filters of size 3x3 with ReLU activation\n",
    "Conv2D(32, (3,3), activation=\"relu\"),\n",
    "\n",
    "# Flatten Layer: Convert 3D feature maps into a 1D vector for the fully connected layers\n",
    "Flatten(),\n",
    "\n",
    "# 1st Fully Connected (Dense) Layer: 128 neurons with ReLU activation\n",
    "Dense(128, activation=\"relu\"),\n",
    "# 2nd Fully Connected (Dense) Layer: 64 neurons with ReLU activation\n",
    "Dense(64, activation=\"relu\"),\n",
    "# Output Layer: 3 neurons (one for each class) with softmax activation for classification\n",
    "Dense(3, activation=\"softmax\")\n",
    "])"
   ]
  },
  {
   "cell_type": "code",
   "execution_count": 142,
   "id": "7c200b4d-56a4-4cbb-b345-225ddf59f737",
   "metadata": {},
   "outputs": [],
   "source": [
    "# Compile the model with the optimizer, loss function, and evaluation metrics\n",
    "model.compile(\n",
    "optimizer=\"adam\",                 # Use Adam optimizer for training\n",
    "loss=\"categorical_crossentropy\", # Use cross-entropy loss for multi-class classification\n",
    "metrics=[\"accuracy\"]              # Track accuracy during training and validation\n",
    ")"
   ]
  },
  {
   "cell_type": "markdown",
   "id": "7c5ed8d2-97aa-4996-8681-e8d6b77ddcdd",
   "metadata": {},
   "source": [
    "## Train the model"
   ]
  },
  {
   "cell_type": "code",
   "execution_count": 147,
   "id": "6c373157-13be-4ed5-baa5-b610ad8d1c7c",
   "metadata": {},
   "outputs": [
    {
     "name": "stdout",
     "output_type": "stream",
     "text": [
      "Epoch 1/20\n",
      "\u001b[1m4/4\u001b[0m \u001b[32m━━━━━━━━━━━━━━━━━━━━\u001b[0m\u001b[37m\u001b[0m \u001b[1m5s\u001b[0m 1s/step - accuracy: 0.3943 - loss: 1.0452 - val_accuracy: 0.2963 - val_loss: 1.0311\n",
      "Epoch 2/20\n",
      "\u001b[1m4/4\u001b[0m \u001b[32m━━━━━━━━━━━━━━━━━━━━\u001b[0m\u001b[37m\u001b[0m \u001b[1m3s\u001b[0m 831ms/step - accuracy: 0.3895 - loss: 1.0489 - val_accuracy: 0.3333 - val_loss: 1.0486\n",
      "Epoch 3/20\n",
      "\u001b[1m4/4\u001b[0m \u001b[32m━━━━━━━━━━━━━━━━━━━━\u001b[0m\u001b[37m\u001b[0m \u001b[1m3s\u001b[0m 734ms/step - accuracy: 0.4354 - loss: 1.0008 - val_accuracy: 0.5185 - val_loss: 0.9362\n",
      "Epoch 4/20\n",
      "\u001b[1m4/4\u001b[0m \u001b[32m━━━━━━━━━━━━━━━━━━━━\u001b[0m\u001b[37m\u001b[0m \u001b[1m3s\u001b[0m 769ms/step - accuracy: 0.5416 - loss: 0.9775 - val_accuracy: 0.3704 - val_loss: 1.0856\n",
      "Epoch 5/20\n",
      "\u001b[1m4/4\u001b[0m \u001b[32m━━━━━━━━━━━━━━━━━━━━\u001b[0m\u001b[37m\u001b[0m \u001b[1m3s\u001b[0m 762ms/step - accuracy: 0.4908 - loss: 0.9787 - val_accuracy: 0.5926 - val_loss: 0.8452\n",
      "Epoch 6/20\n",
      "\u001b[1m4/4\u001b[0m \u001b[32m━━━━━━━━━━━━━━━━━━━━\u001b[0m\u001b[37m\u001b[0m \u001b[1m3s\u001b[0m 682ms/step - accuracy: 0.4325 - loss: 0.9310 - val_accuracy: 0.5185 - val_loss: 0.8816\n",
      "Epoch 7/20\n",
      "\u001b[1m4/4\u001b[0m \u001b[32m━━━━━━━━━━━━━━━━━━━━\u001b[0m\u001b[37m\u001b[0m \u001b[1m2s\u001b[0m 628ms/step - accuracy: 0.5246 - loss: 0.8860 - val_accuracy: 0.5556 - val_loss: 0.8300\n",
      "Epoch 8/20\n",
      "\u001b[1m4/4\u001b[0m \u001b[32m━━━━━━━━━━━━━━━━━━━━\u001b[0m\u001b[37m\u001b[0m \u001b[1m2s\u001b[0m 672ms/step - accuracy: 0.5584 - loss: 0.8740 - val_accuracy: 0.6296 - val_loss: 0.9420\n",
      "Epoch 9/20\n",
      "\u001b[1m4/4\u001b[0m \u001b[32m━━━━━━━━━━━━━━━━━━━━\u001b[0m\u001b[37m\u001b[0m \u001b[1m2s\u001b[0m 613ms/step - accuracy: 0.5755 - loss: 0.8354 - val_accuracy: 0.4815 - val_loss: 1.0627\n",
      "Epoch 10/20\n",
      "\u001b[1m4/4\u001b[0m \u001b[32m━━━━━━━━━━━━━━━━━━━━\u001b[0m\u001b[37m\u001b[0m \u001b[1m2s\u001b[0m 601ms/step - accuracy: 0.4969 - loss: 0.9172 - val_accuracy: 0.5185 - val_loss: 0.9472\n",
      "Epoch 11/20\n",
      "\u001b[1m4/4\u001b[0m \u001b[32m━━━━━━━━━━━━━━━━━━━━\u001b[0m\u001b[37m\u001b[0m \u001b[1m3s\u001b[0m 739ms/step - accuracy: 0.4164 - loss: 0.9423 - val_accuracy: 0.3704 - val_loss: 1.2176\n",
      "Epoch 12/20\n",
      "\u001b[1m4/4\u001b[0m \u001b[32m━━━━━━━━━━━━━━━━━━━━\u001b[0m\u001b[37m\u001b[0m \u001b[1m3s\u001b[0m 656ms/step - accuracy: 0.4906 - loss: 0.8935 - val_accuracy: 0.5185 - val_loss: 0.8814\n",
      "Epoch 13/20\n",
      "\u001b[1m4/4\u001b[0m \u001b[32m━━━━━━━━━━━━━━━━━━━━\u001b[0m\u001b[37m\u001b[0m \u001b[1m2s\u001b[0m 670ms/step - accuracy: 0.4884 - loss: 0.9541 - val_accuracy: 0.5556 - val_loss: 0.8008\n",
      "Epoch 14/20\n",
      "\u001b[1m4/4\u001b[0m \u001b[32m━━━━━━━━━━━━━━━━━━━━\u001b[0m\u001b[37m\u001b[0m \u001b[1m3s\u001b[0m 694ms/step - accuracy: 0.5402 - loss: 0.8822 - val_accuracy: 0.4815 - val_loss: 0.8591\n",
      "Epoch 15/20\n",
      "\u001b[1m4/4\u001b[0m \u001b[32m━━━━━━━━━━━━━━━━━━━━\u001b[0m\u001b[37m\u001b[0m \u001b[1m3s\u001b[0m 632ms/step - accuracy: 0.6660 - loss: 0.8150 - val_accuracy: 0.5926 - val_loss: 0.8045\n",
      "Epoch 16/20\n",
      "\u001b[1m4/4\u001b[0m \u001b[32m━━━━━━━━━━━━━━━━━━━━\u001b[0m\u001b[37m\u001b[0m \u001b[1m2s\u001b[0m 616ms/step - accuracy: 0.5287 - loss: 0.7959 - val_accuracy: 0.5185 - val_loss: 1.1119\n",
      "Epoch 17/20\n",
      "\u001b[1m4/4\u001b[0m \u001b[32m━━━━━━━━━━━━━━━━━━━━\u001b[0m\u001b[37m\u001b[0m \u001b[1m3s\u001b[0m 757ms/step - accuracy: 0.5776 - loss: 0.8103 - val_accuracy: 0.5926 - val_loss: 0.7965\n",
      "Epoch 18/20\n",
      "\u001b[1m4/4\u001b[0m \u001b[32m━━━━━━━━━━━━━━━━━━━━\u001b[0m\u001b[37m\u001b[0m \u001b[1m3s\u001b[0m 709ms/step - accuracy: 0.6000 - loss: 0.9026 - val_accuracy: 0.5556 - val_loss: 1.0848\n",
      "Epoch 19/20\n",
      "\u001b[1m4/4\u001b[0m \u001b[32m━━━━━━━━━━━━━━━━━━━━\u001b[0m\u001b[37m\u001b[0m \u001b[1m3s\u001b[0m 704ms/step - accuracy: 0.5060 - loss: 0.8644 - val_accuracy: 0.5556 - val_loss: 0.8728\n",
      "Epoch 20/20\n",
      "\u001b[1m4/4\u001b[0m \u001b[32m━━━━━━━━━━━━━━━━━━━━\u001b[0m\u001b[37m\u001b[0m \u001b[1m2s\u001b[0m 632ms/step - accuracy: 0.6481 - loss: 0.8323 - val_accuracy: 0.6296 - val_loss: 0.6576\n"
     ]
    }
   ],
   "source": [
    "# Train the model on the training data and validate on the validation set\n",
    "history= model.fit(\n",
    "    train_generator,                       # Training data generator\n",
    "    validation_data= validation_generator, # Validation data generator\n",
    "    epochs=20                              # Train for 20 epochs\n",
    ") "
   ]
  },
  {
   "cell_type": "markdown",
   "id": "e3edb1a8-dbe5-4795-913a-ef38d88d98f7",
   "metadata": {},
   "source": [
    "## Evaluate and Plot"
   ]
  },
  {
   "cell_type": "code",
   "execution_count": 159,
   "id": "b13e2958-5b42-4502-8772-b58e468670b4",
   "metadata": {},
   "outputs": [
    {
     "name": "stdout",
     "output_type": "stream",
     "text": [
      "\u001b[1m1/1\u001b[0m \u001b[32m━━━━━━━━━━━━━━━━━━━━\u001b[0m\u001b[37m\u001b[0m \u001b[1m0s\u001b[0m 286ms/step - accuracy: 0.5926 - loss: 0.6944\n",
      "\n",
      "Validation Loss:\n",
      " 0.6943801641464233\n",
      "\n",
      "Validation Accuracy:\n",
      " 0.5925925970077515\n"
     ]
    }
   ],
   "source": [
    "# Evaluate the model on the validation set\n",
    "val_loss, val_accuracy= model.evaluate(validation_generator)\n",
    "print(f\"\\nValidation Loss:\\n {val_loss}\")          # Print the validation loss\n",
    "print(f\"\\nValidation Accuracy:\\n {val_accuracy}\") # Print the validation accuracy"
   ]
  },
  {
   "cell_type": "code",
   "execution_count": 161,
   "id": "9b36f83a-5472-4080-afb9-6972d61fd981",
   "metadata": {},
   "outputs": [
    {
     "data": {
      "image/png": "[encoded data removed]",
      "text/plain": [
       "<Figure size 640x480 with 1 Axes>"
      ]
     },
     "metadata": {},
     "output_type": "display_data"
    }
   ],
   "source": [
    "# Plot training and validation accuracy over epochs\n",
    "plt.plot(history.history['accuracy'], label='Training Accuracy')        # Training accuracy curve\n",
    "plt.plot(history.history['val_accuracy'], label='Validation Accuracy')  # Validation accuracy curve\n",
    "plt.xlabel('Epochs')                                                    # Label for x-axis\n",
    "plt.ylabel('Accuracy')                                                  # Label for y-axis\n",
    "plt.legend()                                                            # Add a legend to distinguish curves\n",
    "plt.show()                                                              # Display the plot"
   ]
  },
  {
   "cell_type": "markdown",
   "id": "380a727c-ef1e-4d16-a06b-663718c00f85",
   "metadata": {},
   "source": [
    "## Prediction (extra)"
   ]
  },
  {
   "cell_type": "code",
   "execution_count": 169,
   "id": "72b9bca5-670d-4ba5-9993-c20b1e9b5169",
   "metadata": {},
   "outputs": [
    {
     "name": "stdout",
     "output_type": "stream",
     "text": [
      "\u001b[1m1/1\u001b[0m \u001b[32m━━━━━━━━━━━━━━━━━━━━\u001b[0m\u001b[37m\u001b[0m \u001b[1m0s\u001b[0m 133ms/step\n",
      "Predicted class: dog\n"
     ]
    }
   ],
   "source": [
    "import numpy as np\n",
    "from tensorflow.keras.preprocessing.image import load_img, img_to_array\n",
    "\n",
    "\n",
    "# Load and preprocess the input image\n",
    "def preprocess_image(image_path, target_size=(224, 224)):\n",
    "    # Load the image\n",
    "    img = load_img(image_path, target_size=target_size)  # Resize to target size\n",
    "    # Convert image to array\n",
    "    img_array = img_to_array(img)\n",
    "    # Normalize pixel values to range [0, 1]\n",
    "    img_array = img_array / 255.0\n",
    "    # Add a batch dimension (1, 224, 224, 3)\n",
    "    img_array = np.expand_dims(img_array, axis=0)\n",
    "    return img_array\n",
    "\n",
    "# Provide the image path for prediction\n",
    "image_path = r\"C:\\Users\\sharm\\Downloads\\Animals\\dogs\\1_0023.jpg\"  # The path to your image\n",
    "preprocessed_image = preprocess_image(image_path)\n",
    "\n",
    "# Perform the prediction\n",
    "prediction = model.predict(preprocessed_image)\n",
    "\n",
    "# Decode the prediction\n",
    "class_labels = ['cat', 'dog', 'snake']\n",
    "\n",
    "predicted_class_index = np.argmax(prediction)  # Get the index of the highest probability\n",
    "predicted_class = class_labels[predicted_class_index]\n",
    "\n",
    "print(f\"Predicted class: {predicted_class}\")\n"
   ]
  },
  {
   "cell_type": "code",
   "execution_count": null,
   "id": "067ad9b9-3467-4774-921b-16a8699d5069",
   "metadata": {},
   "outputs": [],
   "source": []
  }
 ],
 "metadata": {
  "kernelspec": {
   "display_name": "Python 3 (ipykernel)",
   "language": "python",
   "name": "python3"
  },
  "language_info": {
   "codemirror_mode": {
    "name": "ipython",
    "version": 3
   },
   "file_extension": ".py",
   "mimetype": "text/x-python",
   "name": "python",
   "nbconvert_exporter": "python",
   "pygments_lexer": "ipython3",
   "version": "3.12.7"
  }
 },
 "nbformat": 4,
 "nbformat_minor": 5
}
