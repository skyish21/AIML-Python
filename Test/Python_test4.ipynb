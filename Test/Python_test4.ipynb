{
 "cells": [
  {
   "cell_type": "markdown",
   "id": "202a4b8e-b8e0-49b9-a2b5-03c9e72e7e2f",
   "metadata": {},
   "source": [
    "## Python"
   ]
  },
  {
   "cell_type": "code",
   "execution_count": 19,
   "id": "c356ebf5-9b9e-4f1e-b8ef-943c0cc05225",
   "metadata": {},
   "outputs": [
    {
     "name": "stdin",
     "output_type": "stream",
     "text": [
      "Enter you number:  3\n"
     ]
    },
    {
     "name": "stdout",
     "output_type": "stream",
     "text": [
      "Your entry:  3\n",
      "square of your entry is:  9\n"
     ]
    }
   ],
   "source": [
    "#1. Write a Python program using lambda to calculate the square of a number entered by the user.\n",
    "\n",
    "sq_num= lambda a:a**2\n",
    "a=int(input(\"Enter you number: \"))\n",
    "print(\"Your entry: \",a)\n",
    "print(\"square of your entry is: \", sq_num(a))"
   ]
  },
  {
   "cell_type": "code",
   "execution_count": 37,
   "id": "a1c4215b-88b8-4267-82bd-4e8373d303cf",
   "metadata": {},
   "outputs": [
    {
     "name": "stdout",
     "output_type": "stream",
     "text": [
      "double of [1, 2, 3, 4, 5] is [2, 4, 6, 8, 10]\n"
     ]
    }
   ],
   "source": [
    "#2. Use map to double all the elements in the list: [1, 2, 3, 4, 5].\n",
    "\n",
    "lst=[1,2,3,4,5]\n",
    "double_no=list(map(lambda a:a*2, lst))\n",
    "print(f\"double of {lst} is {double_no}\")"
   ]
  },
  {
   "cell_type": "code",
   "execution_count": 43,
   "id": "f2ca46a2-54fb-4f40-ab8a-aa19a572453b",
   "metadata": {},
   "outputs": [
    {
     "name": "stdout",
     "output_type": "stream",
     "text": [
      "even numbers from [10, 15, 20, 25, 30] is [10, 20, 30]\n"
     ]
    }
   ],
   "source": [
    "#3. Use filter to extract all even numbers from the list: [10, 15, 20, 25, 30].\n",
    "\n",
    "lst=[10, 15, 20, 25, 30]\n",
    "even=list(filter(lambda a:a%2==0, lst))\n",
    "print(f\"even numbers from {lst} is {even}\")"
   ]
  },
  {
   "cell_type": "code",
   "execution_count": 61,
   "id": "8ac570dc-f739-4a36-8c90-76e2e0a2bca3",
   "metadata": {},
   "outputs": [
    {
     "name": "stdin",
     "output_type": "stream",
     "text": [
      "enter a number:  3443\n"
     ]
    },
    {
     "name": "stdout",
     "output_type": "stream",
     "text": [
      "True\n"
     ]
    }
   ],
   "source": [
    "#4. Write a one-liner lambda function to check if a given number is a palindrome.\n",
    "\n",
    "a=int(input('enter a number: '))\n",
    "palindrome= lambda a:str(a)==str(a)[::-1]\n",
    "print(palindrome(a))"
   ]
  },
  {
   "cell_type": "code",
   "execution_count": 73,
   "id": "3e430242-4b46-4c46-a0e7-4ef3df25ea54",
   "metadata": {},
   "outputs": [],
   "source": [
    "#5. Write a function that takes a variable number of arguments (*args) and returns their sum\n",
    "\n",
    "sum\n",
    "def add_numbers(*args):\n",
    "     return(sum(args))"
   ]
  },
  {
   "cell_type": "code",
   "execution_count": 75,
   "id": "58cfe665-f87f-419b-bd41-3b93a447d8c0",
   "metadata": {},
   "outputs": [
    {
     "data": {
      "text/plain": [
       "5"
      ]
     },
     "execution_count": 75,
     "metadata": {},
     "output_type": "execute_result"
    }
   ],
   "source": [
    "add_numbers(2,3)"
   ]
  },
  {
   "cell_type": "code",
   "execution_count": 79,
   "id": "bd12d736-be71-4436-9e15-e9c64146add0",
   "metadata": {},
   "outputs": [
    {
     "data": {
      "text/plain": [
       "16"
      ]
     },
     "execution_count": 79,
     "metadata": {},
     "output_type": "execute_result"
    }
   ],
   "source": [
    "add_numbers(3,5,8)"
   ]
  },
  {
   "cell_type": "code",
   "execution_count": 98,
   "id": "6605e7d5-c6ca-4a8e-ba44-bc73af3efc0e",
   "metadata": {},
   "outputs": [],
   "source": [
    "#6. Write a function that uses **kwargs to accept a student’s details (name, age, and grade) and print them in a formatted string.\n",
    "\n",
    "def student_info(**kwargs):\n",
    "    for key, value in kwargs.items():\n",
    "        print(key, value)"
   ]
  },
  {
   "cell_type": "code",
   "execution_count": 100,
   "id": "2ebe7bae-b197-4bae-8822-41a11279cd95",
   "metadata": {},
   "outputs": [
    {
     "name": "stdout",
     "output_type": "stream",
     "text": [
      "name ['pooja', 'raj']\n",
      "age [23, 21]\n",
      "grade ['A', 'B']\n"
     ]
    }
   ],
   "source": [
    "student_info(name=['pooja','raj'],age=[23,21],grade=['A','B'])"
   ]
  },
  {
   "cell_type": "code",
   "execution_count": 159,
   "id": "666682ba-263a-43ef-b5c6-f2be11a2e816",
   "metadata": {},
   "outputs": [],
   "source": [
    "#7. Create a class Person with attributes name and age. Add a method greet that prints a greeting with the name.\n",
    "#Create an object of the class and call the greet method.\n",
    "\n",
    "class info:\n",
    "    def __init__(self):\n",
    "        self.name = input('enter your name: ')\n",
    "        self.age = input('enter your age: ')\n",
    "\n",
    "    def greeting(self):\n",
    "        return (f'Hello! How are you {self.name}')"
   ]
  },
  {
   "cell_type": "code",
   "execution_count": 161,
   "id": "aa779477-d89f-446e-8cb8-bf43c8376b71",
   "metadata": {},
   "outputs": [
    {
     "name": "stdin",
     "output_type": "stream",
     "text": [
      "enter your name:  Ishika\n",
      "enter your age:  22\n"
     ]
    }
   ],
   "source": [
    "#create object\n",
    "a=info()"
   ]
  },
  {
   "cell_type": "code",
   "execution_count": 163,
   "id": "be0641f6-c5b0-4a4d-a235-ea745c42a234",
   "metadata": {},
   "outputs": [
    {
     "name": "stdout",
     "output_type": "stream",
     "text": [
      "Hello! How are you Ishika\n"
     ]
    }
   ],
   "source": [
    "print(a.greeting())"
   ]
  },
  {
   "cell_type": "code",
   "execution_count": 201,
   "id": "fd7299d4-46c0-4a0c-bf57-feccac3241d6",
   "metadata": {},
   "outputs": [],
   "source": [
    "#8. Create a base class Animal with a method speak that prints \"I am an animal.\"\n",
    "#Create a derived class Dog that overrides the speak method to print \"I am a dog.\"\n",
    "\n",
    "class animal():\n",
    "    def speak(self):\n",
    "        print('i am animal')\n",
    "\n",
    "class dog(animal):\n",
    "    def speak(self):\n",
    "        print('i am a dog')"
   ]
  },
  {
   "cell_type": "code",
   "execution_count": 205,
   "id": "ad7b5171-efc7-4ec6-8118-bb25f02f05ce",
   "metadata": {},
   "outputs": [
    {
     "name": "stdout",
     "output_type": "stream",
     "text": [
      "i am animal\n"
     ]
    }
   ],
   "source": [
    "#create object\n",
    "animal=animal()\n",
    "animal.speak()"
   ]
  },
  {
   "cell_type": "code",
   "execution_count": 203,
   "id": "f3b0f73a-cdfb-45bc-b297-1ca31e3b5df2",
   "metadata": {},
   "outputs": [
    {
     "name": "stdout",
     "output_type": "stream",
     "text": [
      "i am a dog\n"
     ]
    }
   ],
   "source": [
    "dog=dog()\n",
    "dog.speak()"
   ]
  },
  {
   "cell_type": "code",
   "execution_count": 219,
   "id": "cdc9b48c-98d3-4f82-bc62-4d6ebcf6d51d",
   "metadata": {},
   "outputs": [
    {
     "name": "stdin",
     "output_type": "stream",
     "text": [
      "enter brand:  tesla\n",
      "enter year:  2022\n"
     ]
    }
   ],
   "source": [
    "#9. Define a class Car with attributes brand and year. Add a method to display the car details.\n",
    "#Use the __init__ method to initialize the attributes.\n",
    "\n",
    "class car():\n",
    "\n",
    "    def __init__(self, brand=input(\"enter brand: \"),\n",
    "                year=int(input(\"enter year: \"))):\n",
    "\n",
    "        self.brand=brand\n",
    "        self.year=year\n",
    "\n",
    "    def display(self):\n",
    "        return(f'car details: {self.brand}, {self.year}')"
   ]
  },
  {
   "cell_type": "code",
   "execution_count": 221,
   "id": "99750bd0-1436-4467-bd28-f273c8e6f724",
   "metadata": {},
   "outputs": [
    {
     "data": {
      "text/plain": [
       "'car details: tesla, 2022'"
      ]
     },
     "execution_count": 221,
     "metadata": {},
     "output_type": "execute_result"
    }
   ],
   "source": [
    "car=car()\n",
    "car.display()"
   ]
  },
  {
   "cell_type": "code",
   "execution_count": 223,
   "id": "b213c23b-a9d9-421e-91b5-6502c216650f",
   "metadata": {},
   "outputs": [
    {
     "name": "stdout",
     "output_type": "stream",
     "text": [
      "1\n",
      "2\n",
      "3\n",
      "4\n",
      "5\n",
      "6\n",
      "7\n",
      "8\n",
      "9\n",
      "10\n"
     ]
    }
   ],
   "source": [
    "#10.Write a program to print the first 10 natural numbers using a for loop.\n",
    "\n",
    "for i in range(1,11):\n",
    "    print(i)"
   ]
  },
  {
   "cell_type": "code",
   "execution_count": 225,
   "id": "3e91e2d2-9bbb-4817-8af1-332fd9c793dd",
   "metadata": {},
   "outputs": [
    {
     "name": "stdout",
     "output_type": "stream",
     "text": [
      "50\n"
     ]
    }
   ],
   "source": [
    "#11.Write a program to calculate the sum of all numbers in a list: [5, 10, 15, 20] using a for loop.\n",
    "\n",
    "sum=0\n",
    "lst=[5, 10, 15, 20]\n",
    "for i in lst:\n",
    "    sum+=i\n",
    "    i+=1\n",
    "\n",
    "print(sum)"
   ]
  },
  {
   "cell_type": "code",
   "execution_count": 20,
   "id": "a22bb2e9-0bc3-4cf0-b7e2-7b0ae82ea861",
   "metadata": {},
   "outputs": [
    {
     "name": "stdin",
     "output_type": "stream",
     "text": [
      "Enter a number:  3\n",
      "Enter a count:  4\n"
     ]
    },
    {
     "name": "stdout",
     "output_type": "stream",
     "text": [
      "3 X 1 = 3\n",
      "3 X 2 = 6\n",
      "3 X 3 = 9\n",
      "3 X 4 = 12\n"
     ]
    }
   ],
   "source": [
    "#12.Write a Python program to print the multiplication table of a given number using a while loop.\n",
    "\n",
    "num=int(input('Enter a number: '))\n",
    "count=int(input('Enter a count: '))\n",
    "\n",
    "i=1\n",
    "while i<=count:\n",
    "    prod=num*i\n",
    "    print(f'{num} X {i} = {prod}')\n",
    "    i+=1"
   ]
  },
  {
   "cell_type": "code",
   "execution_count": 5,
   "id": "6e8a7450-b619-45a6-b8e8-d9a50dbef435",
   "metadata": {},
   "outputs": [
    {
     "name": "stdin",
     "output_type": "stream",
     "text": [
      "Enter a number:  5\n"
     ]
    },
    {
     "name": "stdout",
     "output_type": "stream",
     "text": [
      "120\n"
     ]
    }
   ],
   "source": [
    "#13.Write a program to find the factorial of a number using a while loop.\n",
    "\n",
    "i=1\n",
    "fact=1\n",
    "num=int(input('Enter a number: '))\n",
    "\n",
    "while i<=num:\n",
    "    fact=fact*i\n",
    "    i+=1\n",
    "\n",
    "print(fact)"
   ]
  },
  {
   "cell_type": "code",
   "execution_count": 7,
   "id": "b323c568-43ca-46e5-b613-237e2d807e6b",
   "metadata": {},
   "outputs": [
    {
     "name": "stdin",
     "output_type": "stream",
     "text": [
      "enter a number:  3\n"
     ]
    },
    {
     "name": "stdout",
     "output_type": "stream",
     "text": [
      "number entered:  3\n",
      "3 is odd\n"
     ]
    }
   ],
   "source": [
    "#14.Write a Python program to check if a number entered by the user is even or odd.\n",
    "\n",
    "num=int(input(\"enter a number: \"))\n",
    "print(\"number entered: \", num)\n",
    "\n",
    "if num%2==0:\n",
    "    print(f'{num} is even')\n",
    "\n",
    "if num%2==1:\n",
    "    print(f'{num} is odd')"
   ]
  },
  {
   "cell_type": "code",
   "execution_count": 9,
   "id": "616d390c-df48-49a9-bffa-245e9a276670",
   "metadata": {},
   "outputs": [
    {
     "name": "stdin",
     "output_type": "stream",
     "text": [
      "enter your marksr:  55\n"
     ]
    },
    {
     "name": "stdout",
     "output_type": "stream",
     "text": [
      "You got C grade\n"
     ]
    }
   ],
   "source": [
    "#15.Write a Python program to determine the grade of a student based on theirmarks:\n",
    "#• Marks >= 90: Grade A\n",
    "#• Marks >= 75: Grade B\n",
    "#• Marks >= 50: Grade C\n",
    "#• Otherwise: Grade F\n",
    "\n",
    "marks=int(input(\"enter your marksr: \"))\n",
    "\n",
    "if marks >= 90:\n",
    "    print('You got A grade')\n",
    "elif marks >= 75:\n",
    "    print('You got B grade')\n",
    "elif marks >= 50:\n",
    "    print('You got C grade')\n",
    "else:\n",
    "    print('You got F grade')"
   ]
  },
  {
   "cell_type": "code",
   "execution_count": 17,
   "id": "910ff520-2194-48de-8710-07867ad12715",
   "metadata": {},
   "outputs": [
    {
     "name": "stdin",
     "output_type": "stream",
     "text": [
      "enter a string:  abba\n"
     ]
    },
    {
     "name": "stdout",
     "output_type": "stream",
     "text": [
      "string entered:  abba\n",
      "True\n"
     ]
    }
   ],
   "source": [
    "#16.Write a Python function to check if a string is a palindrome.\n",
    "\n",
    "string=input(\"enter a string: \")\n",
    "print(\"string entered: \", string)\n",
    "palindrome= lambda a:str(a)==str(a)[::-1]\n",
    "\n",
    "print(palindrome(string))"
   ]
  },
  {
   "cell_type": "code",
   "execution_count": 1,
   "id": "86bd0b8f-5599-4a60-a319-e85c4d938710",
   "metadata": {},
   "outputs": [
    {
     "name": "stdout",
     "output_type": "stream",
     "text": [
      "a is largest\n"
     ]
    }
   ],
   "source": [
    "#17.Write a function to find the maximum of three numbers entered by the user.\n",
    "\n",
    "def max_value(a,b,c):\n",
    "    if a>b and a>c:\n",
    "        print('a is largest')\n",
    "    elif b>a and b>c:\n",
    "        print('b is largest')\n",
    "    else:\n",
    "        print('c is largest')\n",
    "\n",
    "max_value(213,5,44)"
   ]
  },
  {
   "cell_type": "code",
   "execution_count": 17,
   "id": "b26ede9e-30cb-42d3-9e40-b9be508763e3",
   "metadata": {},
   "outputs": [
    {
     "name": "stdout",
     "output_type": "stream",
     "text": [
      "The largest number is: 78\n"
     ]
    }
   ],
   "source": [
    "#18.Write a function that takes a list of numbers and returns the largest number\n",
    "\n",
    "def largest(numbers):\n",
    "    #Returns the largest number in a list\n",
    "    return max(numbers)\n",
    "\n",
    "# Example usage\n",
    "numbers = [10, 45, 23, 78, 12]\n",
    "largest_number = largest(numbers)\n",
    "print(f\"The largest number is: {largest_number}\")"
   ]
  },
  {
   "cell_type": "code",
   "execution_count": 21,
   "id": "00d17e3d-eb3f-40d2-bfda-07745a95265b",
   "metadata": {},
   "outputs": [
    {
     "name": "stdin",
     "output_type": "stream",
     "text": [
      "enter a string:  ishika\n"
     ]
    },
    {
     "name": "stdout",
     "output_type": "stream",
     "text": [
      "akihsi\n"
     ]
    }
   ],
   "source": [
    "#19.Write a Python program to reverse a string using a for loop.\n",
    "\n",
    "string=input('enter a string: ')\n",
    "rev_str=string[::-1]\n",
    "print(rev_str)"
   ]
  },
  {
   "cell_type": "code",
   "execution_count": 31,
   "id": "fcae1c57-78ea-44ee-8d55-9b7d53f870ff",
   "metadata": {},
   "outputs": [
    {
     "name": "stdin",
     "output_type": "stream",
     "text": [
      "enter a string:  ishika\n"
     ]
    },
    {
     "name": "stdout",
     "output_type": "stream",
     "text": [
      "ishika\n",
      "Number of vowels: 3\n"
     ]
    }
   ],
   "source": [
    "#20.Write a Python program to count the number of vowels in a string entered by the user.\n",
    "\n",
    "string=input('enter a string: ')\n",
    "print(string)\n",
    "\n",
    "count = 0\n",
    "\n",
    "# Loop through each character in the list\n",
    "for char in string:\n",
    "    # Check if the character is a vowel (lowercase or uppercase)\n",
    "    if char in 'aeiouAEIOU':\n",
    "        count += 1  # Increment the count if it's a vowel\n",
    "\n",
    "# Print the total count of vowels\n",
    "print(f\"Number of vowels: {count}\")"
   ]
  },
  {
   "cell_type": "markdown",
   "id": "1c67ad90-18b9-4b1c-ac83-fa60ed5fb7de",
   "metadata": {},
   "source": [
    "## Numpy"
   ]
  },
  {
   "cell_type": "code",
   "execution_count": 37,
   "id": "a4e2a5cf-4c96-484b-85e3-7930afbc4d86",
   "metadata": {},
   "outputs": [],
   "source": [
    "import numpy as np"
   ]
  },
  {
   "cell_type": "code",
   "execution_count": 45,
   "id": "1bc87eba-a28b-4a56-bb75-801cb6cb7e5e",
   "metadata": {},
   "outputs": [
    {
     "name": "stdout",
     "output_type": "stream",
     "text": [
      "[[0. 0. 0. 0.]\n",
      " [0. 0. 0. 0.]\n",
      " [0. 0. 0. 0.]]\n"
     ]
    }
   ],
   "source": [
    "#1. Create a NumPy array of zeros with shape (3, 4).\n",
    "\n",
    "arr=np.zeros([3,4])\n",
    "print(arr)"
   ]
  },
  {
   "cell_type": "code",
   "execution_count": 47,
   "id": "ab0694f4-de8a-44cc-94d6-72c31f781380",
   "metadata": {},
   "outputs": [
    {
     "name": "stdout",
     "output_type": "stream",
     "text": [
      "[[1. 1. 1. 1. 1.]\n",
      " [1. 1. 1. 1. 1.]]\n"
     ]
    }
   ],
   "source": [
    "#2. Create a NumPy array of ones with shape (2, 5).\n",
    "\n",
    "arr=np.ones([2,5])\n",
    "print(arr)"
   ]
  },
  {
   "cell_type": "code",
   "execution_count": 51,
   "id": "168ae08c-3848-48fb-a898-267f483167af",
   "metadata": {},
   "outputs": [
    {
     "name": "stdout",
     "output_type": "stream",
     "text": [
      "[ 1  2  3  4  5  6  7  8  9 10]\n"
     ]
    }
   ],
   "source": [
    "#3. Create a NumPy matrix with the values from 1 to 10 using np.arange().\n",
    "\n",
    "arr=np.arange(1,11)\n",
    "print(arr)"
   ]
  },
  {
   "cell_type": "code",
   "execution_count": 57,
   "id": "a298afc8-968f-4058-a089-5b8f123366d1",
   "metadata": {},
   "outputs": [
    {
     "name": "stdout",
     "output_type": "stream",
     "text": [
      "[0.  0.1 0.2 0.3 0.4 0.5 0.6 0.7 0.8 0.9 1. ]\n"
     ]
    }
   ],
   "source": [
    "#4. Create a NumPy array with numbers from 0 to 1 (inclusive) with a step size of 0.1 using np.arange().\n",
    "\n",
    "arr=np.arange(0,1.1,0.1)\n",
    "print(arr)"
   ]
  },
  {
   "cell_type": "code",
   "execution_count": 63,
   "id": "ae4602fd-e401-4bc6-9ec8-87011f903526",
   "metadata": {},
   "outputs": [
    {
     "name": "stdout",
     "output_type": "stream",
     "text": [
      "[0.         0.11111111 0.22222222 0.33333333 0.44444444 0.55555556\n",
      " 0.66666667 0.77777778 0.88888889 1.        ]\n"
     ]
    }
   ],
   "source": [
    "#5. Create a NumPy array with 10 equally spaced values between 0 and 1 using np.linspace() with endpoint=False.\n",
    "\n",
    "#linspace(start,end, number of elements)\n",
    "arr=np.linspace(0,1,10)\n",
    "print(arr)"
   ]
  },
  {
   "cell_type": "code",
   "execution_count": 71,
   "id": "25e0eb39-535f-4e80-b7ed-595c02e27804",
   "metadata": {},
   "outputs": [
    {
     "data": {
      "text/plain": [
       "array([1., 2., 3., 4.])"
      ]
     },
     "execution_count": 71,
     "metadata": {},
     "output_type": "execute_result"
    }
   ],
   "source": [
    "#6. Write a NumPy program to compute the square root of each element in the array [1, 4, 9, 16].\n",
    "\n",
    "arr=[1, 4, 9, 16]\n",
    "arr_sq=np.sqrt(arr)\n",
    "arr_sq"
   ]
  },
  {
   "cell_type": "code",
   "execution_count": 83,
   "id": "3d792576-55c6-4364-946a-219f3e611a32",
   "metadata": {},
   "outputs": [
    {
     "name": "stdout",
     "output_type": "stream",
     "text": [
      "20\n"
     ]
    }
   ],
   "source": [
    "#7. Compute the sum of all elements in the array np.array([2, 3, 4, 5, 6]).\n",
    "\n",
    "arr=np.array([2, 3, 4, 5, 6])\n",
    "sum_arr=np.sum(arr)\n",
    "print(sum_arr)"
   ]
  },
  {
   "cell_type": "code",
   "execution_count": 87,
   "id": "8693b3eb-ae52-4332-9241-b0e517eff9d1",
   "metadata": {},
   "outputs": [
    {
     "name": "stdout",
     "output_type": "stream",
     "text": [
      "1\n"
     ]
    }
   ],
   "source": [
    "#8. Find the minimum value in the array np.array([1, 5, 9, 3, 6]) using np.min().\n",
    "\n",
    "arr=np.array([1, 5, 9, 3, 6])\n",
    "minimum=np.min(arr)\n",
    "print(minimum)"
   ]
  },
  {
   "cell_type": "code",
   "execution_count": 89,
   "id": "5698c631-8a2c-4aaa-ab38-85d29e5d31ef",
   "metadata": {},
   "outputs": [
    {
     "name": "stdout",
     "output_type": "stream",
     "text": [
      "9\n"
     ]
    }
   ],
   "source": [
    "#9. Find the maximum value in the array np.array([1, 5, 9, 3, 6]) using np.max().\n",
    "\n",
    "arr=np.array([1, 5, 9, 3, 6])\n",
    "maxi=np.max(arr)\n",
    "print(maxi)"
   ]
  },
  {
   "cell_type": "code",
   "execution_count": 91,
   "id": "aaac0fd7-354c-414d-8645-1d202929402a",
   "metadata": {},
   "outputs": [
    {
     "name": "stdout",
     "output_type": "stream",
     "text": [
      "[2. 3. 4. 5.]\n"
     ]
    }
   ],
   "source": [
    "#10.Use np.ceil() to round the elements of the array np.array([1.2, 2.5, 3.7, 4.9]) to the nearest greater integer.\n",
    "\n",
    "arr=np.array([1.2, 2.5, 3.7, 4.9])\n",
    "arr_new=np.ceil(arr)\n",
    "print(arr_new)"
   ]
  },
  {
   "cell_type": "code",
   "execution_count": 97,
   "id": "9d834a48-cc22-42ec-91e8-3d2a7794e03d",
   "metadata": {},
   "outputs": [
    {
     "data": {
      "text/plain": [
       "array([25, 34, 43, 39, 12], dtype=int32)"
      ]
     },
     "execution_count": 97,
     "metadata": {},
     "output_type": "execute_result"
    }
   ],
   "source": [
    "#11.Generate an array of 5 random integers between 10 and 50 using np.random.randint().\n",
    "\n",
    "rand_int=np.random.randint(10,50,5)\n",
    "rand_arr=np.array(rand_int)\n",
    "rand_arr"
   ]
  },
  {
   "cell_type": "code",
   "execution_count": 115,
   "id": "9098aa0d-3f38-4255-b905-720856d3b865",
   "metadata": {},
   "outputs": [
    {
     "name": "stdout",
     "output_type": "stream",
     "text": [
      "[0.23388407 0.10966515 0.6988854  0.02952841 0.98955404]\n"
     ]
    }
   ],
   "source": [
    "#12.Generate an array of 5 random floating-point numbers between 0 and 1 using np.random.rand().\n",
    "\n",
    "rand_arr=np.random.rand(5)\n",
    "print(rand_arr)"
   ]
  },
  {
   "cell_type": "code",
   "execution_count": 113,
   "id": "74cb2067-c19c-4e42-bd4d-565bd4474508",
   "metadata": {},
   "outputs": [
    {
     "data": {
      "text/plain": [
       "array([[-0.78621004,  0.01690136,  0.77001   ],\n",
       "       [ 0.57285002, -0.09954469, -1.06937882],\n",
       "       [-0.40692519,  0.11364287, -0.5253512 ]])"
      ]
     },
     "execution_count": 113,
     "metadata": {},
     "output_type": "execute_result"
    }
   ],
   "source": [
    "#13.Generate a 3x3 matrix of random numbers from a normal distribution with mean 0 \n",
    "#and standard deviation 1 using np.random.randn().\n",
    "\n",
    "#np.random.randn(rows,columns)\n",
    "arr=np.random.randn(3,3)\n",
    "arr"
   ]
  },
  {
   "cell_type": "code",
   "execution_count": 127,
   "id": "6b0ab2e4-198f-4f81-8bd0-921f8482df19",
   "metadata": {},
   "outputs": [
    {
     "data": {
      "text/plain": [
       "array([ 1,  2,  3, 10, 10, 10])"
      ]
     },
     "execution_count": 127,
     "metadata": {},
     "output_type": "execute_result"
    }
   ],
   "source": [
    "#14.Use np.where() to replace all elements greater than 5 in the array [1, 2, 3, 6, 7, 8] with 10.\n",
    "\n",
    "arr=np.array([1, 2, 3, 6, 7, 8])\n",
    "ar=np.where(arr > 5,10,arr)\n",
    "ar"
   ]
  },
  {
   "cell_type": "code",
   "execution_count": 133,
   "id": "db2beb49-e28a-43f9-b42f-04a29cf510e8",
   "metadata": {},
   "outputs": [
    {
     "name": "stdout",
     "output_type": "stream",
     "text": [
      "index of first number greater than 3:  3\n"
     ]
    }
   ],
   "source": [
    "#15.Use np.where() to find the index of the first element that is greater than 3 in the array [1, 2, 3, 4, 5].\n",
    "\n",
    "arr=np.array([1,2,3,4,5])\n",
    "index=np.where(arr>3)[0][0]\n",
    "print('index of first number greater than 3: ',index)"
   ]
  },
  {
   "cell_type": "code",
   "execution_count": 137,
   "id": "e122d589-3742-49a0-a395-6de4680f3477",
   "metadata": {},
   "outputs": [
    {
     "data": {
      "text/plain": [
       "array([[ 6,  8],\n",
       "       [10, 12]])"
      ]
     },
     "execution_count": 137,
     "metadata": {},
     "output_type": "execute_result"
    }
   ],
   "source": [
    "#16.Perform matrix addition of two matrices A = np.array([[1, 2], [3, 4]]) and B = np.array([[5, 6], [7, 8]]).\n",
    "\n",
    "A = np.array([[1, 2], [3, 4]])\n",
    "B = np.array([[5, 6], [7, 8]])\n",
    "\n",
    "add=A+B\n",
    "add"
   ]
  },
  {
   "cell_type": "code",
   "execution_count": 139,
   "id": "f52a949d-198a-4fd9-add9-ebee14d7d807",
   "metadata": {},
   "outputs": [
    {
     "data": {
      "text/plain": [
       "array([[0.2       , 0.33333333],\n",
       "       [0.42857143, 0.5       ]])"
      ]
     },
     "execution_count": 139,
     "metadata": {},
     "output_type": "execute_result"
    }
   ],
   "source": [
    "#17.Perform element-wise matrix division of matrix A = np.array([[1, 2], [3, 4]]) by\n",
    "#matrix B = np.array([[5, 6], [7, 8]]).\n",
    "\n",
    "A = np.array([[1, 2], [3, 4]])\n",
    "B = np.array([[5, 6], [7, 8]])\n",
    "\n",
    "division=A/B\n",
    "division"
   ]
  },
  {
   "cell_type": "code",
   "execution_count": 141,
   "id": "2326742a-c3be-48aa-ace0-19cdd7dfef0d",
   "metadata": {},
   "outputs": [
    {
     "data": {
      "text/plain": [
       "array([[ 5, 12],\n",
       "       [21, 32]])"
      ]
     },
     "execution_count": 141,
     "metadata": {},
     "output_type": "execute_result"
    }
   ],
   "source": [
    "#18.Perform matrix multiplication of matrices A = np.array([[1, 2], [3, 4]]) and B =\n",
    "#np.array([[5, 6], [7, 8]]).\n",
    "\n",
    "A = np.array([[1, 2], [3, 4]])\n",
    "B = np.array([[5, 6], [7, 8]])\n",
    "\n",
    "prod=A*B\n",
    "prod"
   ]
  },
  {
   "cell_type": "code",
   "execution_count": 145,
   "id": "6a19c116-98cc-4bb5-982e-65a1351357f5",
   "metadata": {},
   "outputs": [
    {
     "data": {
      "text/plain": [
       "array([[1, 2, 3],\n",
       "       [4, 5, 6]])"
      ]
     },
     "execution_count": 145,
     "metadata": {},
     "output_type": "execute_result"
    }
   ],
   "source": [
    "#19.Reshape a 1D array [1, 2, 3, 4, 5, 6] into a 2x3 matrix using np.reshape()\n",
    "\n",
    "ar=np.reshape(np.array([1, 2, 3, 4, 5, 6]),(2,3))\n",
    "ar"
   ]
  },
  {
   "cell_type": "code",
   "execution_count": 147,
   "id": "89e216dc-56c7-40d7-8753-6cbcd525269a",
   "metadata": {},
   "outputs": [
    {
     "data": {
      "text/plain": [
       "array([10, 20])"
      ]
     },
     "execution_count": 147,
     "metadata": {},
     "output_type": "execute_result"
    }
   ],
   "source": [
    "#20.Slice the first two elements from the array np.array([10, 20, 30, 40, 50]).\n",
    "\n",
    "arr=np.array([10, 20, 30, 40, 50])\n",
    "new_arr=arr[0:2]\n",
    "new_arr"
   ]
  },
  {
   "cell_type": "code",
   "execution_count": null,
   "id": "abcc44e1-98d1-4dc8-87b2-05c09872e650",
   "metadata": {},
   "outputs": [],
   "source": []
  }
 ],
 "metadata": {
  "kernelspec": {
   "display_name": "Python 3 (ipykernel)",
   "language": "python",
   "name": "python3"
  },
  "language_info": {
   "codemirror_mode": {
    "name": "ipython",
    "version": 3
   },
   "file_extension": ".py",
   "mimetype": "text/x-python",
   "name": "python",
   "nbconvert_exporter": "python",
   "pygments_lexer": "ipython3",
   "version": "3.12.7"
  }
 },
 "nbformat": 4,
 "nbformat_minor": 5
}
