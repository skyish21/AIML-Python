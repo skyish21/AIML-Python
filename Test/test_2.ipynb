{
 "cells": [
  {
   "cell_type": "code",
   "execution_count": 1,
   "id": "3c973975-10cc-4cf8-b439-d065f1d400a4",
   "metadata": {},
   "outputs": [
    {
     "name": "stdout",
     "output_type": "stream",
     "text": [
      "['False', 'None', 'True', 'and', 'as', 'assert', 'async', 'await', 'break', 'class', 'continue', 'def', 'del', 'elif', 'else', 'except', 'finally', 'for', 'from', 'global', 'if', 'import', 'in', 'is', 'lambda', 'nonlocal', 'not', 'or', 'pass', 'raise', 'return', 'try', 'while', 'with', 'yield']\n"
     ]
    }
   ],
   "source": [
    "#1 List five Python keywords and describe what they do.\n",
    "import keyword\n",
    "print(keyword.kwlist)"
   ]
  },
  {
   "cell_type": "code",
   "execution_count": 3,
   "id": "0879e11c-e622-44eb-bd84-58b887125167",
   "metadata": {},
   "outputs": [],
   "source": [
    "#true= a boolean value. if statement is true it is executed\n",
    "#if= to make conditional statement\n",
    "#import= used to import libraries, modules and packages\n",
    "#none= represent no value or 0 value\n",
    "#and= logical operator in python"
   ]
  },
  {
   "cell_type": "code",
   "execution_count": 5,
   "id": "5fd308ec-eb83-4daa-a2da-6c700b242dab",
   "metadata": {},
   "outputs": [
    {
     "data": {
      "text/plain": [
       "50"
      ]
     },
     "execution_count": 5,
     "metadata": {},
     "output_type": "execute_result"
    }
   ],
   "source": [
    "#2 Write an expression to calculate the area of a rectangle with a length of 5 and width of 10.\n",
    "l=5\n",
    "w=10\n",
    "ar=l*w\n",
    "ar"
   ]
  },
  {
   "cell_type": "code",
   "execution_count": 11,
   "id": "bcb2f23f-0ce1-4204-9a3c-d81b1797052d",
   "metadata": {},
   "outputs": [
    {
     "name": "stdout",
     "output_type": "stream",
     "text": [
      "not same\n"
     ]
    }
   ],
   "source": [
    "#3 Use the `is` keyword to check if two variables point to the same object.\n",
    "a='apple'\n",
    "b='banana'\n",
    "if a is b:\n",
    "    print('same value')\n",
    "else:\n",
    "    print('not same')"
   ]
  },
  {
   "cell_type": "code",
   "execution_count": 13,
   "id": "74f85f9b-a1c1-4c23-bc53-29c20cb1f7f1",
   "metadata": {},
   "outputs": [
    {
     "data": {
      "text/plain": [
       "2.333333333333333"
      ]
     },
     "execution_count": 13,
     "metadata": {},
     "output_type": "execute_result"
    }
   ],
   "source": [
    "#4 Write a Python expression that combines addition, subtraction, multiplication, and division.\n",
    "a=1\n",
    "b=2\n",
    "c=6\n",
    "d=4\n",
    "e=3\n",
    "a+b*(c-d)/e"
   ]
  },
  {
   "cell_type": "code",
   "execution_count": 17,
   "id": "f88cb916-157c-4a5a-be9b-04d74078362d",
   "metadata": {},
   "outputs": [
    {
     "name": "stdout",
     "output_type": "stream",
     "text": [
      "1.0\n"
     ]
    }
   ],
   "source": [
    "#5 What is the output of `10 % 3`? Explain why.\n",
    "a=10%3 #gives remainder\n",
    "print(float(a))"
   ]
  },
  {
   "cell_type": "code",
   "execution_count": 19,
   "id": "34df05bc-a2e3-4747-adb9-3e8e62865d50",
   "metadata": {},
   "outputs": [
    {
     "data": {
      "text/plain": [
       "float"
      ]
     },
     "execution_count": 19,
     "metadata": {},
     "output_type": "execute_result"
    }
   ],
   "source": [
    "#6 Check the type of the value `3.14` in Python.\n",
    "type(3.14)"
   ]
  },
  {
   "cell_type": "code",
   "execution_count": 35,
   "id": "df832c43-2d3b-4ff5-a51f-eafbc1c45e30",
   "metadata": {},
   "outputs": [
    {
     "name": "stdout",
     "output_type": "stream",
     "text": [
      "a= 10 <class 'int'>\n",
      "b= 10.0 <class 'float'>\n",
      "c= 10.0 <class 'str'>\n"
     ]
    }
   ],
   "source": [
    "#7 Convert the integer `10` to a float and a string. Print the results.\n",
    "a=int(10)\n",
    "b=float(a)\n",
    "c=str(b)\n",
    "print('a=', a, type(a))\n",
    "print('b=', b, type(b))\n",
    "print('c=', c, type(c))"
   ]
  },
  {
   "cell_type": "code",
   "execution_count": 39,
   "id": "79b06814-7fda-46b3-a183-0cd93346837d",
   "metadata": {},
   "outputs": [
    {
     "data": {
      "text/plain": [
       "'hello! How are you?'"
      ]
     },
     "execution_count": 39,
     "metadata": {},
     "output_type": "execute_result"
    }
   ],
   "source": [
    "#8 Write a statement to add two strings and print the result.\n",
    "a='hello! '\n",
    "b='How are you?'\n",
    "a+b"
   ]
  },
  {
   "cell_type": "code",
   "execution_count": 45,
   "id": "43ec41f4-d870-4900-acb7-894e54d7aaa5",
   "metadata": {},
   "outputs": [
    {
     "name": "stdout",
     "output_type": "stream",
     "text": [
      "True\n"
     ]
    },
    {
     "data": {
      "text/plain": [
       "bool"
      ]
     },
     "execution_count": 45,
     "metadata": {},
     "output_type": "execute_result"
    }
   ],
   "source": [
    "#9 What data type would the result of `3 > 2` be?\n",
    "print(3>2)\n",
    "type(3>2)"
   ]
  },
  {
   "cell_type": "code",
   "execution_count": 47,
   "id": "fcc3b2ac-c57e-4161-ab94-b266c565fc49",
   "metadata": {},
   "outputs": [
    {
     "name": "stdin",
     "output_type": "stream",
     "text": [
      "ENTER VALUE:  123\n"
     ]
    },
    {
     "data": {
      "text/plain": [
       "int"
      ]
     },
     "execution_count": 47,
     "metadata": {},
     "output_type": "execute_result"
    }
   ],
   "source": [
    "#10 How can you convert a string \"123\" into an integer?\n",
    "\n",
    "a=int(input('ENTER VALUE: '))\n",
    "type(a)"
   ]
  },
  {
   "cell_type": "code",
   "execution_count": 49,
   "id": "382fb1ab-75b7-45d6-b0f2-8b55b17fa1a4",
   "metadata": {},
   "outputs": [
    {
     "data": {
      "text/plain": [
       "65"
      ]
     },
     "execution_count": 49,
     "metadata": {},
     "output_type": "execute_result"
    }
   ],
   "source": [
    "#11 Create a list of 5 elements and print the third element.\n",
    "lst=[33,4,65,324,1]\n",
    "lst[2]"
   ]
  },
  {
   "cell_type": "code",
   "execution_count": 51,
   "id": "557b835e-2716-4cf4-9402-24db1568051f",
   "metadata": {},
   "outputs": [
    {
     "data": {
      "text/plain": [
       "['apple', 'mango', 'banana', 'grapes', 'pear']"
      ]
     },
     "execution_count": 51,
     "metadata": {},
     "output_type": "execute_result"
    }
   ],
   "source": [
    "#12 Add a new element to a list called `my_list` using the `.append()` method.\n",
    "my_list=['apple','mango','banana','grapes']\n",
    "my_list.append('pear')\n",
    "my_list"
   ]
  },
  {
   "cell_type": "code",
   "execution_count": 53,
   "id": "f2de62b1-3887-4bbc-857c-598e0515f4dd",
   "metadata": {},
   "outputs": [
    {
     "data": {
      "text/plain": [
       "['apple', 'mango', 'banana', 'grapes']"
      ]
     },
     "execution_count": 53,
     "metadata": {},
     "output_type": "execute_result"
    }
   ],
   "source": [
    "#13 Remove the last element from a list `my_list` using the `.pop()` method.\n",
    "my_list.pop()\n",
    "my_list"
   ]
  },
  {
   "cell_type": "code",
   "execution_count": 57,
   "id": "47e3546b-c3bb-468c-be34-1398042204fc",
   "metadata": {},
   "outputs": [
    {
     "ename": "TypeError",
     "evalue": "'tuple' object does not support item assignment",
     "output_type": "error",
     "traceback": [
      "\u001b[1;31m---------------------------------------------------------------------------\u001b[0m",
      "\u001b[1;31mTypeError\u001b[0m                                 Traceback (most recent call last)",
      "Cell \u001b[1;32mIn[57], line 3\u001b[0m\n\u001b[0;32m      1\u001b[0m \u001b[38;5;66;03m#14\u001b[39;00m\n\u001b[0;32m      2\u001b[0m tup\u001b[38;5;241m=\u001b[39m(\u001b[38;5;241m34\u001b[39m,\u001b[38;5;241m35\u001b[39m,\u001b[38;5;241m37\u001b[39m,\u001b[38;5;241m39\u001b[39m)\n\u001b[1;32m----> 3\u001b[0m tup[\u001b[38;5;241m2\u001b[39m]\u001b[38;5;241m=\u001b[39m\u001b[38;5;241m47\u001b[39m\n\u001b[0;32m      4\u001b[0m tup\n",
      "\u001b[1;31mTypeError\u001b[0m: 'tuple' object does not support item assignment"
     ]
    }
   ],
   "source": [
    "#14 Create a tuple with four elements and try changing the second element. What happens?\n",
    "tup=(34,35,37,39)\n",
    "tup[2]=47\n",
    "tup #tuple is immutable"
   ]
  },
  {
   "cell_type": "code",
   "execution_count": 61,
   "id": "a1291b32-fa61-4198-a6e2-1c4dde391961",
   "metadata": {},
   "outputs": [
    {
     "data": {
      "text/plain": [
       "[40, 50]"
      ]
     },
     "execution_count": 61,
     "metadata": {},
     "output_type": "execute_result"
    }
   ],
   "source": [
    "#15 Use slicing to get the last two elements from a list `[10, 20, 30, 40, 50]`.\n",
    "li=[10, 20, 30, 40, 50]\n",
    "li[3:]"
   ]
  },
  {
   "cell_type": "code",
   "execution_count": 63,
   "id": "009ad5e8-e01b-4598-8cfa-5e5cc1c4ab92",
   "metadata": {},
   "outputs": [
    {
     "data": {
      "text/plain": [
       "{'name': 'Alice', 'age': 25}"
      ]
     },
     "execution_count": 63,
     "metadata": {},
     "output_type": "execute_result"
    }
   ],
   "source": [
    "#16 Create a dictionary with keys 'name' and 'age' and values 'Alice' and 25.\n",
    "dictionary={'name':'Alice','age':25}\n",
    "dictionary"
   ]
  },
  {
   "cell_type": "code",
   "execution_count": 73,
   "id": "e0c2393f-1c41-45d2-8c1b-4fcf7081e0d3",
   "metadata": {},
   "outputs": [
    {
     "data": {
      "text/plain": [
       "'Alice'"
      ]
     },
     "execution_count": 73,
     "metadata": {},
     "output_type": "execute_result"
    }
   ],
   "source": [
    "#17 Retrieve the value associated with the key 'name' from the dictionary you created in question 16.\n",
    "dictionary['name']"
   ]
  },
  {
   "cell_type": "code",
   "execution_count": 105,
   "id": "aca50509-1cf0-4826-8fe3-7f5844ee49fd",
   "metadata": {},
   "outputs": [
    {
     "name": "stdout",
     "output_type": "stream",
     "text": [
      "exists\n"
     ]
    }
   ],
   "source": [
    "#18 Check if the key 'name' exists in a dictionary\n",
    "dictionary={'name':'Alice','age':25}\n",
    "if 'name' in dictionary:\n",
    "   print('exists')\n"
   ]
  },
  {
   "cell_type": "code",
   "execution_count": 107,
   "id": "18b8b3cc-16f2-436b-bdf4-74aa3bceae46",
   "metadata": {},
   "outputs": [],
   "source": [
    "#19 What is the difference between a list and a set in Python?\n",
    "\n",
    "#list: (1)uses square brackets (2)can have duplicate values (3)duplicate values can be added to list\n",
    "#set: (1) uses curly brackets (2) removes duplicate values. contains unique values only (3)duplicate values cannot be added to list"
   ]
  },
  {
   "cell_type": "code",
   "execution_count": 121,
   "id": "8b648a3e-8d1e-43ed-b583-51e9eba6dbd2",
   "metadata": {},
   "outputs": [
    {
     "data": {
      "text/plain": [
       "{1, 2, 3}"
      ]
     },
     "execution_count": 121,
     "metadata": {},
     "output_type": "execute_result"
    }
   ],
   "source": [
    "#20 Convert a list `[1, 2, 3, 2, 1]` into a set and print the result.\n",
    "lst=[1, 2, 3, 2, 1]\n",
    "make_set=set(lst)\n",
    "make_set"
   ]
  },
  {
   "cell_type": "code",
   "execution_count": 125,
   "id": "41cadb9a-cc6e-4566-92bd-35487f83ace4",
   "metadata": {},
   "outputs": [
    {
     "name": "stdin",
     "output_type": "stream",
     "text": [
      "Enter a number:  12\n"
     ]
    },
    {
     "name": "stdout",
     "output_type": "stream",
     "text": [
      "12 is greater than 10\n"
     ]
    }
   ],
   "source": [
    "#21 Write an `if` statement that prints 'Greater than 10' if a number is greater than 10.\n",
    "num=int(input('Enter a number: '))\n",
    "if num>10:\n",
    "    print(num, 'is greater than 10')"
   ]
  },
  {
   "cell_type": "code",
   "execution_count": 127,
   "id": "790774fb-18bb-4cb8-865d-8f0e791df58d",
   "metadata": {},
   "outputs": [
    {
     "name": "stdin",
     "output_type": "stream",
     "text": [
      "Enter a number:  3\n"
     ]
    },
    {
     "name": "stdout",
     "output_type": "stream",
     "text": [
      "3 is positive\n"
     ]
    }
   ],
   "source": [
    "#22 Write an `if-else` statement that checks if a number is positive or negative.\n",
    "num=int(input('Enter a number: '))\n",
    "if num>=0:\n",
    "    print(num, 'is positive')\n",
    "else:\n",
    "    print(num, 'is negative')"
   ]
  },
  {
   "cell_type": "code",
   "execution_count": 129,
   "id": "b60cf1a6-99ee-4b25-8011-8388bd214f3c",
   "metadata": {},
   "outputs": [
    {
     "name": "stdin",
     "output_type": "stream",
     "text": [
      "Enter a number:  -41\n"
     ]
    },
    {
     "name": "stdout",
     "output_type": "stream",
     "text": [
      "-41 is negative\n"
     ]
    }
   ],
   "source": [
    "#23 Write an `if-elif-else` statement that checks if a number is positive, negative, or zero.\n",
    "num=int(input('Enter a number: '))\n",
    "if num>0:\n",
    "    print(num, 'is positive')\n",
    "elif num==0:\n",
    "    print(num, 'is zero')\n",
    "else:\n",
    "    print(num, 'is negative')"
   ]
  },
  {
   "cell_type": "code",
   "execution_count": 131,
   "id": "9401bf02-0faa-4c0f-9533-1af013d8e02a",
   "metadata": {},
   "outputs": [
    {
     "name": "stdin",
     "output_type": "stream",
     "text": [
      "Enter a number:  3\n"
     ]
    },
    {
     "name": "stdout",
     "output_type": "stream",
     "text": [
      "3 is odd\n"
     ]
    }
   ],
   "source": [
    "#24 Create a Python program that takes an integer as input and prints 'Even' if it is even and 'Odd' if it is odd.\n",
    "num=int(input('Enter a number: '))\n",
    "if (num%2==0):\n",
    "    print(num, 'is even')\n",
    "else:\n",
    "    print(num, 'is odd')"
   ]
  },
  {
   "cell_type": "code",
   "execution_count": 149,
   "id": "80758a2e-03fa-4a3d-86c1-65e3fa41b198",
   "metadata": {},
   "outputs": [
    {
     "name": "stdout",
     "output_type": "stream",
     "text": [
      "is not leap year\n"
     ]
    }
   ],
   "source": [
    "#25 Write a program that checks if a given year is a leap year.\n",
    "year_days=365\n",
    "if (year_days==366):\n",
    "    print('is leap year')\n",
    "else:\n",
    "    print('is not leap year')"
   ]
  },
  {
   "cell_type": "code",
   "execution_count": 151,
   "id": "a99f118a-dc7c-49c3-8385-9cec82e6899c",
   "metadata": {},
   "outputs": [
    {
     "name": "stdin",
     "output_type": "stream",
     "text": [
      "Enter a number:  45\n"
     ]
    },
    {
     "name": "stdout",
     "output_type": "stream",
     "text": [
      "45 is  positive and odd\n"
     ]
    }
   ],
   "source": [
    "#26 Use a nested `if` statement to check if a number is positive and even.\n",
    "num=int(input('Enter a number: '))\n",
    "if (num>0):\n",
    "   if (num%2==0):\n",
    "      print(num, 'is positve and even')\n",
    "   else:\n",
    "      print(num, 'is  positive and odd')\n",
    "else:\n",
    "   if (num%2==0):\n",
    "      print(num, 'is negative and even')\n",
    "   else:\n",
    "      print(num, 'is  negative and odd')"
   ]
  },
  {
   "cell_type": "code",
   "execution_count": 153,
   "id": "7ad86450-3d0a-4740-8366-c2df8cbadb1c",
   "metadata": {},
   "outputs": [
    {
     "name": "stdin",
     "output_type": "stream",
     "text": [
      "Enter a number:  6\n"
     ]
    },
    {
     "name": "stdout",
     "output_type": "stream",
     "text": [
      "6 is between 5 and 10\n"
     ]
    }
   ],
   "source": [
    "#27 Write a program to check if a variable `x` is between 5 and 10\n",
    "x=int(input('Enter a number: '))\n",
    "if x>5 and x<10:\n",
    "    print(x, 'is between 5 and 10')"
   ]
  },
  {
   "cell_type": "code",
   "execution_count": 169,
   "id": "7c3d9953-9355-45c2-985e-0678c4d29864",
   "metadata": {},
   "outputs": [
    {
     "name": "stdout",
     "output_type": "stream",
     "text": [
      "The variable is an integer.\n"
     ]
    }
   ],
   "source": [
    "#28 Write an `if` statement that checks if a variable is a specific data type\n",
    "a=10\n",
    "if (type(a)==int):\n",
    "    print(\"The variable is an integer.\")\n",
    "else:\n",
    "    print(\"The variable is not an integer.\")"
   ]
  },
  {
   "cell_type": "code",
   "execution_count": 171,
   "id": "12a81a32-7819-4dda-83f6-a83eb15a5e58",
   "metadata": {},
   "outputs": [
    {
     "name": "stdout",
     "output_type": "stream",
     "text": [
      "pass\n"
     ]
    }
   ],
   "source": [
    "#29  Write a program that prints 'Pass' if a student's grade is 60 or higher, otherwise 'Fail'\n",
    "grade=65\n",
    "if(grade>60):\n",
    "    if(grade>90):\n",
    "        print('pass with a grade')\n",
    "    elif(grade>70):\n",
    "        print('pass with b grade')\n",
    "    else:\n",
    "        print('pass')\n",
    "else:\n",
    "    print('fail')"
   ]
  },
  {
   "cell_type": "code",
   "execution_count": 203,
   "id": "88693542-0438-4a01-9278-a4139ddff5a9",
   "metadata": {},
   "outputs": [
    {
     "name": "stdout",
     "output_type": "stream",
     "text": [
      "variable is empty\n"
     ]
    }
   ],
   "source": [
    "#30 Write an `if` statement that prints a message if a variable is empty.\n",
    "x= \"\"\n",
    "if not x:\n",
    "    print('variable is empty')"
   ]
  },
  {
   "cell_type": "code",
   "execution_count": 207,
   "id": "d841003b-2a04-452a-b49c-dd68483f53dd",
   "metadata": {},
   "outputs": [
    {
     "name": "stdout",
     "output_type": "stream",
     "text": [
      "1\n",
      "2\n",
      "3\n",
      "4\n",
      "5\n",
      "6\n",
      "7\n",
      "8\n",
      "9\n",
      "10\n"
     ]
    }
   ],
   "source": [
    "#31 Use a `for` loop and `range()` to print numbers from 1 to 10\n",
    "for i in range(1,11):\n",
    "    print(i)"
   ]
  },
  {
   "cell_type": "code",
   "execution_count": 217,
   "id": "59bbe91f-55a6-4b1c-9ad8-4cda5befa832",
   "metadata": {},
   "outputs": [
    {
     "name": "stdout",
     "output_type": "stream",
     "text": [
      "210\n"
     ]
    }
   ],
   "source": [
    "#32  Write a `for` loop that calculates the sum of all numbers from 1 to 20.\n",
    "sum=0\n",
    "for i in range(1,21):\n",
    "    sum+=i\n",
    "print(sum)"
   ]
  },
  {
   "cell_type": "code",
   "execution_count": 229,
   "id": "d4f6f4a6-edca-4f52-a637-d58c94c0f986",
   "metadata": {},
   "outputs": [
    {
     "name": "stdout",
     "output_type": "stream",
     "text": [
      "apple\n",
      "mango\n",
      "banana\n",
      "grapes\n"
     ]
    }
   ],
   "source": [
    "#33 Use a `for` loop to iterate over a list of names and print each name\n",
    "my_list=['apple','mango','banana','grapes']\n",
    "for i in my_list:\n",
    "    print(i)"
   ]
  },
  {
   "cell_type": "code",
   "execution_count": 221,
   "id": "7bb0c1f3-293b-430b-a466-98d39b8df555",
   "metadata": {},
   "outputs": [
    {
     "name": "stdout",
     "output_type": "stream",
     "text": [
      "Square of 1 = 1\n",
      "Square of 2 = 4\n",
      "Square of 3 = 9\n",
      "Square of 4 = 16\n",
      "Square of 5 = 25\n",
      "Square of 6 = 36\n",
      "Square of 7 = 49\n",
      "Square of 8 = 64\n",
      "Square of 9 = 81\n",
      "Square of 10 = 100\n"
     ]
    }
   ],
   "source": [
    "#34 Write a program to print the squares of numbers from 1 to 10 using a `for` loop.\n",
    "for i in range(1,11):\n",
    " print('Square of', i, '=', i**2)"
   ]
  },
  {
   "cell_type": "code",
   "execution_count": 223,
   "id": "d7da572d-7d46-4784-9f9d-8e9829d1e4f6",
   "metadata": {},
   "outputs": [
    {
     "name": "stdout",
     "output_type": "stream",
     "text": [
      "2 is even\n",
      "4 is even\n",
      "6 is even\n",
      "8 is even\n",
      "10 is even\n",
      "12 is even\n",
      "14 is even\n",
      "16 is even\n",
      "18 is even\n",
      "20 is even\n"
     ]
    }
   ],
   "source": [
    "#35 Use a `for` loop and `range()` to print all even numbers from 1 to 20.\n",
    "for i in range(1,21):\n",
    "    if i%2==0:\n",
    "      print(i, 'is even')"
   ]
  },
  {
   "cell_type": "code",
   "execution_count": 253,
   "id": "4be75cd8-1f33-4f75-86c0-e760d55fbea3",
   "metadata": {},
   "outputs": [
    {
     "name": "stdout",
     "output_type": "stream",
     "text": [
      "10\n",
      "9\n",
      "8\n",
      "7\n",
      "6\n",
      "5\n",
      "4\n",
      "3\n",
      "2\n",
      "1\n"
     ]
    }
   ],
   "source": [
    "#36 Write a program that counts down from 10 to 1 using a `for` loop.\n",
    "for i in range(10,0,-1):\n",
    "    print(i)"
   ]
  },
  {
   "cell_type": "code",
   "execution_count": 255,
   "id": "9db90486-73b6-4aef-a9f0-af5a23c13c00",
   "metadata": {},
   "outputs": [
    {
     "name": "stdout",
     "output_type": "stream",
     "text": [
      "APPLE\n",
      "MANGO\n",
      "BANANA\n",
      "GRAPES\n"
     ]
    }
   ],
   "source": [
    "#37 Create a list of fruits and use a `for` loop to print each fruit in uppercase.\n",
    "my_list=['apple','mango','banana','grapes']\n",
    "for i in my_list:\n",
    "    print(i.upper())"
   ]
  },
  {
   "cell_type": "code",
   "execution_count": 279,
   "id": "ca5b9640-ae5d-4eeb-abc9-40394e65a628",
   "metadata": {},
   "outputs": [
    {
     "name": "stdout",
     "output_type": "stream",
     "text": [
      "Index 0 : apple\n",
      "Index 1 : banana\n",
      "Index 2 : cherry\n",
      "Index 3 : date\n"
     ]
    }
   ],
   "source": [
    "#38 Write a `for` loop that prints the elements in a list along with their index.\n",
    "my_list = [\"apple\", \"banana\", \"cherry\", \"date\"]\n",
    "for i in range(len(my_list))\n",
    "    print(\"Index\", i, \":\", my_list[i])"
   ]
  },
  {
   "cell_type": "code",
   "execution_count": 281,
   "id": "b49e5018-0f5e-4f13-bd84-d13b67578ce8",
   "metadata": {},
   "outputs": [
    {
     "name": "stdout",
     "output_type": "stream",
     "text": [
      "0\n",
      "3\n",
      "6\n",
      "9\n",
      "12\n",
      "15\n",
      "18\n",
      "21\n",
      "24\n",
      "27\n",
      "30\n"
     ]
    }
   ],
   "source": [
    "#39 Use `range()` with three arguments to print every third number from 0 to 30.\n",
    "for i in range(0,31,3):\n",
    "    print(i)"
   ]
  },
  {
   "cell_type": "code",
   "execution_count": 291,
   "id": "7596f1e9-851b-4a20-bfb6-c2689df6c7e4",
   "metadata": {},
   "outputs": [
    {
     "name": "stdin",
     "output_type": "stream",
     "text": [
      "Enter number:  5\n"
     ]
    },
    {
     "name": "stdout",
     "output_type": "stream",
     "text": [
      "factorial of 5 = 120\n"
     ]
    }
   ],
   "source": [
    "#40  Write a program to calculate the factorial of a number using a `for` loop.\n",
    "fact=1\n",
    "num=int(input('Enter number: '))\n",
    "for i in range(1,num+1):\n",
    "    fact*=i\n",
    "print('factorial of', num, '=', fact)"
   ]
  },
  {
   "cell_type": "code",
   "execution_count": 293,
   "id": "d301bfc3-a57e-49fb-93ab-c809228a0b65",
   "metadata": {},
   "outputs": [
    {
     "name": "stdout",
     "output_type": "stream",
     "text": [
      "0\n",
      "1\n",
      "2\n",
      "3\n",
      "4\n",
      "5\n"
     ]
    }
   ],
   "source": [
    "#41 Use a `while` loop to print numbers from 1 to 5.\n",
    "num=0\n",
    "while num<6:\n",
    "    print(num)\n",
    "    num+=1"
   ]
  },
  {
   "cell_type": "code",
   "execution_count": 1,
   "id": "58c846a1-44fb-4881-874d-8b333c86a07b",
   "metadata": {},
   "outputs": [
    {
     "name": "stdin",
     "output_type": "stream",
     "text": [
      "Enter the password:  123\n"
     ]
    },
    {
     "name": "stdout",
     "output_type": "stream",
     "text": [
      "Incorrect password. Try again.\n"
     ]
    },
    {
     "name": "stdin",
     "output_type": "stream",
     "text": [
      "Enter the password:  1234\n"
     ]
    },
    {
     "name": "stdout",
     "output_type": "stream",
     "text": [
      "Access granted.\n"
     ]
    }
   ],
   "source": [
    "#42 Write a program that keeps asking the user for a password until they enter '1234'\n",
    "while True:\n",
    "    password = input(\"Enter the password: \")\n",
    "    if password == \"1234\":\n",
    "        print(\"Access granted.\")\n",
    "        break\n",
    "    else:\n",
    "        print(\"Incorrect password. Try again.\")"
   ]
  },
  {
   "cell_type": "code",
   "execution_count": 7,
   "id": "433bec36-15de-467f-b605-55e5003f013e",
   "metadata": {},
   "outputs": [
    {
     "name": "stdout",
     "output_type": "stream",
     "text": [
      "5050\n"
     ]
    }
   ],
   "source": [
    "#43 Write a `while` loop to find the sum of numbers from 1 to 100.\n",
    "t_sum=0\n",
    "num=1\n",
    "while num<=100:\n",
    "    t_sum+=num\n",
    "    num+=1\n",
    "print(t_sum)"
   ]
  },
  {
   "cell_type": "code",
   "execution_count": 9,
   "id": "4b46a949-f16c-4c79-94bd-9a433c0103f7",
   "metadata": {},
   "outputs": [
    {
     "name": "stdout",
     "output_type": "stream",
     "text": [
      "10\n",
      "9\n",
      "8\n",
      "7\n",
      "6\n",
      "5\n",
      "4\n",
      "3\n",
      "2\n",
      "1\n"
     ]
    }
   ],
   "source": [
    "#44 Use a `while` loop to print the numbers in reverse from 10 to 1.\n",
    "num=10\n",
    "while num>0:\n",
    "    print(num)\n",
    "    num-=1"
   ]
  },
  {
   "cell_type": "code",
   "execution_count": 1,
   "id": "e66d556e-e314-4af4-9035-521a581bc83f",
   "metadata": {},
   "outputs": [
    {
     "name": "stdout",
     "output_type": "stream",
     "text": [
      "2\n",
      "4\n",
      "6\n",
      "8\n",
      "10\n",
      "12\n",
      "14\n",
      "16\n",
      "18\n",
      "20\n"
     ]
    }
   ],
   "source": [
    "#45 Write a `while` loop that prints only even numbers between 1 and 20\n",
    "num=1\n",
    "while num<21:\n",
    "    if (num%2==0):\n",
    "        print(num)\n",
    "    num+=1"
   ]
  },
  {
   "cell_type": "code",
   "execution_count": 3,
   "id": "22b71f9e-f40e-4c0e-a730-57e84db2f9f7",
   "metadata": {},
   "outputs": [
    {
     "name": "stdout",
     "output_type": "stream",
     "text": [
      "90\n",
      "91\n",
      "92\n",
      "93\n",
      "94\n",
      "95\n",
      "96\n",
      "97\n",
      "98\n",
      "99\n"
     ]
    }
   ],
   "source": [
    "#46 Create a `while` loop that stops once a number exceeds 100.\n",
    "num=90\n",
    "while num<100:\n",
    "    print(num)\n",
    "    num+=1"
   ]
  },
  {
   "cell_type": "code",
   "execution_count": 9,
   "id": "8cd5ddb6-0896-4a22-9d44-48ec0ad18339",
   "metadata": {},
   "outputs": [
    {
     "name": "stdout",
     "output_type": "stream",
     "text": [
      "[1, 2, 3, 4, 5, 6, 7, 8, 9]\n",
      "[1, 2, 3, 4, 5, 6, 7, 8]\n",
      "[1, 2, 3, 4, 5, 6, 7]\n",
      "[1, 2, 3, 4, 5, 6]\n",
      "[1, 2, 3, 4, 5]\n",
      "[1, 2, 3, 4]\n",
      "[1, 2, 3]\n",
      "[1, 2]\n",
      "[1]\n",
      "[]\n"
     ]
    }
   ],
   "source": [
    "#47 Write a `while` loop that repeatedly removes the last element from a list until it's empty\n",
    "lst=[1,2,3,4,5,6,7,8,9,10]\n",
    "while lst:\n",
    "    lst.pop()\n",
    "    print(lst)"
   ]
  },
  {
   "cell_type": "code",
   "execution_count": 21,
   "id": "b326e41f-877a-433d-8244-4cd070c38266",
   "metadata": {},
   "outputs": [
    {
     "name": "stdout",
     "output_type": "stream",
     "text": [
      "10\n",
      "9\n",
      "8\n",
      "7\n",
      "6\n",
      "5\n",
      "4\n",
      "3\n",
      "2\n",
      "1\n"
     ]
    }
   ],
   "source": [
    "#48 Create a countdown timer that counts down from 10 to 1 using `while`\n",
    "num=10\n",
    "while num>0:\n",
    "    print(num)\n",
    "    num-=1"
   ]
  },
  {
   "cell_type": "code",
   "execution_count": 23,
   "id": "b6dd7cc2-4703-4c88-b36b-85aba0456e7e",
   "metadata": {},
   "outputs": [
    {
     "name": "stdout",
     "output_type": "stream",
     "text": [
      "5\n",
      "10\n",
      "15\n",
      "20\n",
      "25\n",
      "30\n",
      "35\n",
      "40\n",
      "45\n",
      "50\n"
     ]
    }
   ],
   "source": [
    "#49 Write a program that finds the first 10 multiples of 5 using a `while` loop\n",
    "count = 1\n",
    "multiple = 5\n",
    "\n",
    "while count <= 10:\n",
    "    print(multiple * count)\n",
    "    count += 1"
   ]
  },
  {
   "cell_type": "code",
   "execution_count": 7,
   "id": "81a77499-ef66-46ef-ac85-7b7142b64d6b",
   "metadata": {},
   "outputs": [
    {
     "name": "stdin",
     "output_type": "stream",
     "text": [
      "enter length of series:  11\n"
     ]
    },
    {
     "name": "stdout",
     "output_type": "stream",
     "text": [
      "[0, 1, 1, 2, 3, 5, 8, 13, 21, 34, 55]\n"
     ]
    }
   ],
   "source": [
    "#50 Use a `while` loop to generate a list of the first 10 Fibonacci numbers.\n",
    "fibonacci_numbers = []\n",
    "n1, n2 = 0, 1\n",
    "count = 0\n",
    "series_len=int(input('enter length of series: '))\n",
    "               \n",
    "while count < series_len:\n",
    "    fibonacci_numbers.append(n1)\n",
    "    n1, n2 = n2, n1 + n2\n",
    "    count += 1\n",
    "\n",
    "print(fibonacci_numbers)"
   ]
  },
  {
   "cell_type": "code",
   "execution_count": null,
   "id": "82254e15-f8b2-40d9-b6cf-4564b94293c3",
   "metadata": {},
   "outputs": [],
   "source": []
  }
 ],
 "metadata": {
  "kernelspec": {
   "display_name": "Python 3 (ipykernel)",
   "language": "python",
   "name": "python3"
  },
  "language_info": {
   "codemirror_mode": {
    "name": "ipython",
    "version": 3
   },
   "file_extension": ".py",
   "mimetype": "text/x-python",
   "name": "python",
   "nbconvert_exporter": "python",
   "pygments_lexer": "ipython3",
   "version": "3.12.7"
  }
 },
 "nbformat": 4,
 "nbformat_minor": 5
}
