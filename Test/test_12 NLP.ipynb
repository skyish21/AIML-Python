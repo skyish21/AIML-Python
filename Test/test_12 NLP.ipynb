{
 "cells": [
  {
   "cell_type": "code",
   "execution_count": 3,
   "id": "8c2a2478-8323-438c-bd23-bbbbec81d103",
   "metadata": {},
   "outputs": [],
   "source": [
    "text= \"Rani Chennamma was the queen of Kittur, a princely state in present-day Karnataka, India. She is remembered as one of the earliest Indian rulers to fight against British colonial rule. Born in 1778, she was well-trained in horse riding, sword fighting, and archery. After her husband's death, she ascended the throne and fiercely opposed the Doctrine of Lapse policy imposed by the British, which prevented her adopted son from inheriting the kingdom. In 1824, Rani Chennamma led an armed rebellion against the British East India Company, refusing to surrender her land. Despite initial victories, she was ultimately captured and imprisoned in Bailhongal Fort, where she died in 1829. Her resistance is seen as a precursor to India's independence movement, and she remains a symbol of courage and patriotism.\""
   ]
  },
  {
   "cell_type": "markdown",
   "id": "7f318db4",
   "metadata": {},
   "source": [
    "##### NLTK (Natural Language Toolkit)\n",
    "\n",
    "    - How do you tokenize a sentence into words using NLTK?\n",
    "    - How do you remove stopwords from a text using NLTK?\n",
    "    - How do you perform stemming in NLTK? Provide an example.\n",
    "    - What is the difference between stemming and lemmatization in NLTK?\n",
    "    - How do you perform part-of-speech (POS) tagging using NLTK?\n",
    "    \n",
    "    "
   ]
  },
  {
   "cell_type": "code",
   "execution_count": 25,
   "id": "1375deb9-3d8c-41ea-8d71-4974b6d9fc48",
   "metadata": {},
   "outputs": [
    {
     "name": "stdout",
     "output_type": "stream",
     "text": [
      "['Rani', 'Chennamma', 'was', 'the', 'queen', 'of', 'Kittur', ',', 'a', 'princely', 'state', 'in', 'present-day', 'Karnataka', ',', 'India', '.', 'She', 'is', 'remembered', 'as', 'one', 'of', 'the', 'earliest', 'Indian', 'rulers', 'to', 'fight', 'against', 'British', 'colonial', 'rule', '.', 'Born', 'in', '1778', ',', 'she', 'was', 'well-trained', 'in', 'horse', 'riding', ',', 'sword', 'fighting', ',', 'and', 'archery', '.', 'After', 'her', 'husband', \"'s\", 'death', ',', 'she', 'ascended', 'the', 'throne', 'and', 'fiercely', 'opposed', 'the', 'Doctrine', 'of', 'Lapse', 'policy', 'imposed', 'by', 'the', 'British', ',', 'which', 'prevented', 'her', 'adopted', 'son', 'from', 'inheriting', 'the', 'kingdom', '.', 'In', '1824', ',', 'Rani', 'Chennamma', 'led', 'an', 'armed', 'rebellion', 'against', 'the', 'British', 'East', 'India', 'Company', ',', 'refusing', 'to', 'surrender', 'her', 'land', '.', 'Despite', 'initial', 'victories', ',', 'she', 'was', 'ultimately', 'captured', 'and', 'imprisoned', 'in', 'Bailhongal', 'Fort', ',', 'where', 'she', 'died', 'in', '1829', '.', 'Her', 'resistance', 'is', 'seen', 'as', 'a', 'precursor', 'to', 'India', \"'s\", 'independence', 'movement', ',', 'and', 'she', 'remains', 'a', 'symbol', 'of', 'courage', 'and', 'patriotism', '.']\n"
     ]
    }
   ],
   "source": [
    "import nltk\n",
    "from nltk.tokenize import word_tokenize\n",
    "\n",
    "tokens = word_tokenize(text)\n",
    "print(tokens)"
   ]
  },
  {
   "cell_type": "code",
   "execution_count": 29,
   "id": "ddd83740",
   "metadata": {},
   "outputs": [
    {
     "name": "stdout",
     "output_type": "stream",
     "text": [
      "['Rani', 'Chennamma', 'queen', 'Kittur', ',', 'princely', 'state', 'present-day', 'Karnataka', ',', 'India', '.', 'She', 'remembered', 'one', 'earliest', 'Indian', 'rulers', 'fight', 'British', 'colonial', 'rule', '.', 'Born', '1778', ',', 'well-trained', 'horse', 'riding', ',', 'sword', 'fighting', ',', 'archery', '.', 'After', 'husband', \"'s\", 'death', ',', 'ascended', 'throne', 'fiercely', 'opposed', 'Doctrine', 'Lapse', 'policy', 'imposed', 'British', ',', 'prevented', 'adopted', 'son', 'inheriting', 'kingdom', '.', 'In', '1824', ',', 'Rani', 'Chennamma', 'led', 'armed', 'rebellion', 'British', 'East', 'India', 'Company', ',', 'refusing', 'surrender', 'land', '.', 'Despite', 'initial', 'victories', ',', 'ultimately', 'captured', 'imprisoned', 'Bailhongal', 'Fort', ',', 'died', '1829', '.', 'Her', 'resistance', 'seen', 'precursor', 'India', \"'s\", 'independence', 'movement', ',', 'remains', 'symbol', 'courage', 'patriotism', '.']\n"
     ]
    }
   ],
   "source": [
    "import string\n",
    "from nltk.corpus import stopwords\n",
    "\n",
    "stop = set(stopwords.words(\"english\"))\n",
    "filtered_text = [ word for word in tokens if word not in string.punctuation]\n",
    "filtered_text = [ word for word in tokens if word not in stop]\n",
    "\n",
    "print(filtered_text)"
   ]
  },
  {
   "cell_type": "code",
   "execution_count": 37,
   "id": "68a034c1-dc77-40a7-b29c-3bddcef2ef7e",
   "metadata": {},
   "outputs": [
    {
     "name": "stdout",
     "output_type": "stream",
     "text": [
      "['rani', 'chennamma', 'wa', 'the', 'queen', 'of', 'kittur', ',', 'a', 'princ', 'state', 'in', 'present-day', 'karnataka', ',', 'india', '.', 'she', 'is', 'rememb', 'as', 'one', 'of', 'the', 'earliest', 'indian', 'ruler', 'to', 'fight', 'against', 'british', 'coloni', 'rule', '.', 'born', 'in', '1778', ',', 'she', 'wa', 'well-train', 'in', 'hors', 'ride', ',', 'sword', 'fight', ',', 'and', 'archeri', '.', 'after', 'her', 'husband', \"'s\", 'death', ',', 'she', 'ascend', 'the', 'throne', 'and', 'fierc', 'oppos', 'the', 'doctrin', 'of', 'laps', 'polici', 'impos', 'by', 'the', 'british', ',', 'which', 'prevent', 'her', 'adopt', 'son', 'from', 'inherit', 'the', 'kingdom', '.', 'in', '1824', ',', 'rani', 'chennamma', 'led', 'an', 'arm', 'rebellion', 'against', 'the', 'british', 'east', 'india', 'compani', ',', 'refus', 'to', 'surrend', 'her', 'land', '.', 'despit', 'initi', 'victori', ',', 'she', 'wa', 'ultim', 'captur', 'and', 'imprison', 'in', 'bailhong', 'fort', ',', 'where', 'she', 'die', 'in', '1829', '.', 'her', 'resist', 'is', 'seen', 'as', 'a', 'precursor', 'to', 'india', \"'s\", 'independ', 'movement', ',', 'and', 'she', 'remain', 'a', 'symbol', 'of', 'courag', 'and', 'patriot', '.']\n"
     ]
    }
   ],
   "source": [
    "from nltk.stem.porter import PorterStemmer\n",
    "\n",
    "root = PorterStemmer() \n",
    "stems = [root.stem(word) for word in tokens]\n",
    "\n",
    "print(stems)"
   ]
  },
  {
   "cell_type": "code",
   "execution_count": null,
   "id": "0560fb7c-9355-461c-b5b0-8874d676e7bf",
   "metadata": {},
   "outputs": [],
   "source": [
    "# Difference between stemming and lemmatization is that:\n",
    "# Both provide root words for the tokens but,\n",
    "# lemmatizatin provides liguistically accurate root words."
   ]
  },
  {
   "cell_type": "code",
   "execution_count": 43,
   "id": "16916ef3-accd-41c2-91d6-76609a2722ea",
   "metadata": {},
   "outputs": [
    {
     "name": "stderr",
     "output_type": "stream",
     "text": [
      "[nltk_data] Downloading package punkt to\n",
      "[nltk_data]     C:\\Users\\sharm\\AppData\\Roaming\\nltk_data...\n",
      "[nltk_data]   Package punkt is already up-to-date!\n",
      "[nltk_data] Downloading package averaged_perceptron_tagger to\n",
      "[nltk_data]     C:\\Users\\sharm\\AppData\\Roaming\\nltk_data...\n",
      "[nltk_data]   Package averaged_perceptron_tagger is already up-to-\n",
      "[nltk_data]       date!\n"
     ]
    },
    {
     "data": {
      "text/plain": [
       "[('Rani', 'NNP'),\n",
       " ('Chennamma', 'NNP'),\n",
       " ('was', 'VBD'),\n",
       " ('the', 'DT'),\n",
       " ('queen', 'NN'),\n",
       " ('of', 'IN'),\n",
       " ('Kittur', 'NNP'),\n",
       " (',', ','),\n",
       " ('a', 'DT'),\n",
       " ('princely', 'RB'),\n",
       " ('state', 'NN'),\n",
       " ('in', 'IN'),\n",
       " ('present-day', 'JJ'),\n",
       " ('Karnataka', 'NNP'),\n",
       " (',', ','),\n",
       " ('India', 'NNP'),\n",
       " ('.', '.'),\n",
       " ('She', 'PRP'),\n",
       " ('is', 'VBZ'),\n",
       " ('remembered', 'VBN'),\n",
       " ('as', 'IN'),\n",
       " ('one', 'CD'),\n",
       " ('of', 'IN'),\n",
       " ('the', 'DT'),\n",
       " ('earliest', 'JJS'),\n",
       " ('Indian', 'JJ'),\n",
       " ('rulers', 'NNS'),\n",
       " ('to', 'TO'),\n",
       " ('fight', 'VB'),\n",
       " ('against', 'IN'),\n",
       " ('British', 'JJ'),\n",
       " ('colonial', 'NN'),\n",
       " ('rule', 'NN'),\n",
       " ('.', '.'),\n",
       " ('Born', 'VBN'),\n",
       " ('in', 'IN'),\n",
       " ('1778', 'CD'),\n",
       " (',', ','),\n",
       " ('she', 'PRP'),\n",
       " ('was', 'VBD'),\n",
       " ('well-trained', 'JJ'),\n",
       " ('in', 'IN'),\n",
       " ('horse', 'NN'),\n",
       " ('riding', 'NN'),\n",
       " (',', ','),\n",
       " ('sword', 'NN'),\n",
       " ('fighting', 'NN'),\n",
       " (',', ','),\n",
       " ('and', 'CC'),\n",
       " ('archery', 'NN'),\n",
       " ('.', '.'),\n",
       " ('After', 'IN'),\n",
       " ('her', 'PRP$'),\n",
       " ('husband', 'NN'),\n",
       " (\"'s\", 'POS'),\n",
       " ('death', 'NN'),\n",
       " (',', ','),\n",
       " ('she', 'PRP'),\n",
       " ('ascended', 'VBD'),\n",
       " ('the', 'DT'),\n",
       " ('throne', 'NN'),\n",
       " ('and', 'CC'),\n",
       " ('fiercely', 'RB'),\n",
       " ('opposed', 'VBD'),\n",
       " ('the', 'DT'),\n",
       " ('Doctrine', 'NNP'),\n",
       " ('of', 'IN'),\n",
       " ('Lapse', 'NNP'),\n",
       " ('policy', 'NN'),\n",
       " ('imposed', 'VBN'),\n",
       " ('by', 'IN'),\n",
       " ('the', 'DT'),\n",
       " ('British', 'NNP'),\n",
       " (',', ','),\n",
       " ('which', 'WDT'),\n",
       " ('prevented', 'VBD'),\n",
       " ('her', 'PRP'),\n",
       " ('adopted', 'VBD'),\n",
       " ('son', 'NN'),\n",
       " ('from', 'IN'),\n",
       " ('inheriting', 'VBG'),\n",
       " ('the', 'DT'),\n",
       " ('kingdom', 'NN'),\n",
       " ('.', '.'),\n",
       " ('In', 'IN'),\n",
       " ('1824', 'CD'),\n",
       " (',', ','),\n",
       " ('Rani', 'NNP'),\n",
       " ('Chennamma', 'NNP'),\n",
       " ('led', 'VBD'),\n",
       " ('an', 'DT'),\n",
       " ('armed', 'JJ'),\n",
       " ('rebellion', 'NN'),\n",
       " ('against', 'IN'),\n",
       " ('the', 'DT'),\n",
       " ('British', 'JJ'),\n",
       " ('East', 'NNP'),\n",
       " ('India', 'NNP'),\n",
       " ('Company', 'NNP'),\n",
       " (',', ','),\n",
       " ('refusing', 'VBG'),\n",
       " ('to', 'TO'),\n",
       " ('surrender', 'VB'),\n",
       " ('her', 'PRP$'),\n",
       " ('land', 'NN'),\n",
       " ('.', '.'),\n",
       " ('Despite', 'IN'),\n",
       " ('initial', 'JJ'),\n",
       " ('victories', 'NNS'),\n",
       " (',', ','),\n",
       " ('she', 'PRP'),\n",
       " ('was', 'VBD'),\n",
       " ('ultimately', 'RB'),\n",
       " ('captured', 'JJ'),\n",
       " ('and', 'CC'),\n",
       " ('imprisoned', 'VBN'),\n",
       " ('in', 'IN'),\n",
       " ('Bailhongal', 'NNP'),\n",
       " ('Fort', 'NNP'),\n",
       " (',', ','),\n",
       " ('where', 'WRB'),\n",
       " ('she', 'PRP'),\n",
       " ('died', 'VBD'),\n",
       " ('in', 'IN'),\n",
       " ('1829', 'CD'),\n",
       " ('.', '.'),\n",
       " ('Her', 'PRP$'),\n",
       " ('resistance', 'NN'),\n",
       " ('is', 'VBZ'),\n",
       " ('seen', 'VBN'),\n",
       " ('as', 'IN'),\n",
       " ('a', 'DT'),\n",
       " ('precursor', 'NN'),\n",
       " ('to', 'TO'),\n",
       " ('India', 'NNP'),\n",
       " (\"'s\", 'POS'),\n",
       " ('independence', 'NN'),\n",
       " ('movement', 'NN'),\n",
       " (',', ','),\n",
       " ('and', 'CC'),\n",
       " ('she', 'PRP'),\n",
       " ('remains', 'VBZ'),\n",
       " ('a', 'DT'),\n",
       " ('symbol', 'NN'),\n",
       " ('of', 'IN'),\n",
       " ('courage', 'NN'),\n",
       " ('and', 'CC'),\n",
       " ('patriotism', 'NN'),\n",
       " ('.', '.')]"
      ]
     },
     "execution_count": 43,
     "metadata": {},
     "output_type": "execute_result"
    }
   ],
   "source": [
    "import nltk\n",
    "nltk.download('punkt')\n",
    "nltk.download('averaged_perceptron_tagger')\n",
    "\n",
    "pos_tags = nltk.pos_tag(tokens)\n",
    "pos_tags"
   ]
  },
  {
   "cell_type": "markdown",
   "id": "ac7a422e",
   "metadata": {},
   "source": [
    "##### TextBlob\n",
    "\n",
    "    -How do you compute the sentiment polarity of a text using TextBlob?\n",
    "    -How do you perform spelling correction using TextBlob?\n",
    "    -How do you get noun phrases from a sentence using TextBlob?\n",
    "    -How do you translate a text from English to another language using TextBlob?\n",
    "    -How do you detect the language of a given text using TextBlob?\n"
   ]
  },
  {
   "cell_type": "code",
   "execution_count": 49,
   "id": "57864888-ab89-4ca4-9ef4-18055083a0e2",
   "metadata": {},
   "outputs": [
    {
     "name": "stdout",
     "output_type": "stream",
     "text": [
      "0.4916666666666667, 0.7666666666666666\n"
     ]
    }
   ],
   "source": [
    "from textblob import TextBlob\n",
    "\n",
    "text = \"I love programming, it's amazing and exciting!\"\n",
    "blob = TextBlob(text)\n",
    "\n",
    "# Get sentiment polarity and subjectivity\n",
    "polarity = blob.sentiment.polarity\n",
    "sentiment = blob.sentiment.subjectivity\n",
    "print(f\"{polarity}, {sentiment}\")"
   ]
  },
  {
   "cell_type": "code",
   "execution_count": 51,
   "id": "8bd4e5a1-05a2-454c-8e76-5142d2d11d05",
   "metadata": {},
   "outputs": [
    {
     "data": {
      "text/plain": [
       "TextBlob(\" it is a sunny day today\")"
      ]
     },
     "execution_count": 51,
     "metadata": {},
     "output_type": "execute_result"
    }
   ],
   "source": [
    "string = \" It is a sonny day today\"\n",
    "blob = TextBlob(string.lower())\n",
    "\n",
    "spell_check = blob.correct()\n",
    "spell_check"
   ]
  },
  {
   "cell_type": "code",
   "execution_count": 53,
   "id": "ee2241e8-420d-463b-8d24-881d54f00a51",
   "metadata": {},
   "outputs": [
    {
     "name": "stdout",
     "output_type": "stream",
     "text": [
      "['beautiful park', 'perfect picnic spot']\n"
     ]
    }
   ],
   "source": [
    "string = \"The beautiful park near the river is a perfect picnic spot.\"\n",
    "blob = TextBlob(string)\n",
    "\n",
    "print(blob.noun_phrases)"
   ]
  },
  {
   "cell_type": "code",
   "execution_count": 63,
   "id": "99d43ba2-cf1e-44c2-a830-48e41c870603",
   "metadata": {},
   "outputs": [
    {
     "ename": "AttributeError",
     "evalue": "'TextBlob' object has no attribute 'translate'",
     "output_type": "error",
     "traceback": [
      "\u001b[1;31m---------------------------------------------------------------------------\u001b[0m",
      "\u001b[1;31mAttributeError\u001b[0m                            Traceback (most recent call last)",
      "Cell \u001b[1;32mIn[63], line 2\u001b[0m\n\u001b[0;32m      1\u001b[0m text \u001b[38;5;241m=\u001b[39m TextBlob(\u001b[38;5;124m\"\u001b[39m\u001b[38;5;124mHello how are you\u001b[39m\u001b[38;5;124m\"\u001b[39m)\n\u001b[1;32m----> 2\u001b[0m translated_text \u001b[38;5;241m=\u001b[39m text\u001b[38;5;241m.\u001b[39mtranslate(to\u001b[38;5;241m=\u001b[39m\u001b[38;5;124m\"\u001b[39m\u001b[38;5;124mfr\u001b[39m\u001b[38;5;124m\"\u001b[39m)\n\u001b[0;32m      3\u001b[0m \u001b[38;5;28mprint\u001b[39m(translated_text)\n",
      "\u001b[1;31mAttributeError\u001b[0m: 'TextBlob' object has no attribute 'translate'"
     ]
    }
   ],
   "source": [
    "text = TextBlob(\"Hello how are you\")\n",
    "translated_text = text.translate(to=\"fr\")\n",
    "print(translated_text)"
   ]
  },
  {
   "cell_type": "code",
   "execution_count": 61,
   "id": "78da7440-ef56-47e7-addd-6dd676f160d0",
   "metadata": {},
   "outputs": [
    {
     "ename": "NameError",
     "evalue": "name 'translated_text' is not defined",
     "output_type": "error",
     "traceback": [
      "\u001b[1;31m---------------------------------------------------------------------------\u001b[0m",
      "\u001b[1;31mNameError\u001b[0m                                 Traceback (most recent call last)",
      "Cell \u001b[1;32mIn[61], line 1\u001b[0m\n\u001b[1;32m----> 1\u001b[0m detected_text \u001b[38;5;241m=\u001b[39m translated_text\u001b[38;5;241m.\u001b[39mdetect_language()\n\u001b[0;32m      2\u001b[0m \u001b[38;5;28mprint\u001b[39m(detected_text)\n",
      "\u001b[1;31mNameError\u001b[0m: name 'translated_text' is not defined"
     ]
    }
   ],
   "source": [
    "detected_text = translated_text.detect_language()\n",
    "print(detected_text)"
   ]
  },
  {
   "cell_type": "markdown",
   "id": "4d242598",
   "metadata": {},
   "source": [
    "##### spaCy\n",
    "    \n",
    "    -How do you load an English language model in spaCy?\n",
    "    -How do you extract named entities (NER) from a text using spaCy?\n",
    "    -How do you find the dependency relations between words using spaCy?\n",
    "    -How do you perform sentence segmentation in spaCy?\n",
    "    -How do you check if a word is a stopword in spaCy?\n"
   ]
  },
  {
   "cell_type": "code",
   "execution_count": 67,
   "id": "477e8567-458f-4ae3-aa70-ff86976518ba",
   "metadata": {},
   "outputs": [],
   "source": [
    "import spacy\n",
    "\n",
    "nlp = spacy.load(\"en_core_web_sm\")"
   ]
  },
  {
   "cell_type": "code",
   "execution_count": 69,
   "id": "fca410fb-4c65-48f3-a75f-e8ae970a5655",
   "metadata": {},
   "outputs": [
    {
     "data": {
      "text/plain": [
       "[('NLP', 'ORG', 43, 46)]"
      ]
     },
     "execution_count": 69,
     "metadata": {},
     "output_type": "execute_result"
    }
   ],
   "source": [
    "text = \"Text preprocessing is an important step in NLP! It cleans and organizes data for better machine learning results.\"\n",
    "doc = nlp(text)\n",
    "\n",
    "entity = [(ent.text, ent.label_, ent.start_char, ent.end_char) for ent in doc.ents]\n",
    "entity"
   ]
  },
  {
   "cell_type": "code",
   "execution_count": 71,
   "id": "43033114-75e7-46cb-a661-5bf85430a667",
   "metadata": {},
   "outputs": [
    {
     "name": "stdout",
     "output_type": "stream",
     "text": [
      "Text ---> compound ---> preprocessing\n",
      "preprocessing ---> nsubj ---> is\n",
      "is ---> ROOT ---> is\n",
      "an ---> det ---> step\n",
      "important ---> amod ---> step\n",
      "step ---> attr ---> is\n",
      "in ---> prep ---> step\n",
      "NLP ---> pobj ---> in\n",
      "! ---> punct ---> is\n",
      "It ---> nsubj ---> cleans\n",
      "cleans ---> ROOT ---> cleans\n",
      "and ---> cc ---> cleans\n",
      "organizes ---> conj ---> cleans\n",
      "data ---> dobj ---> organizes\n",
      "for ---> prep ---> data\n",
      "better ---> amod ---> learning\n",
      "machine ---> compound ---> learning\n",
      "learning ---> compound ---> results\n",
      "results ---> pobj ---> for\n",
      ". ---> punct ---> cleans\n"
     ]
    }
   ],
   "source": [
    "for token in doc:\n",
    "    print(token.text, '--->', token.dep_, '--->', token.head.text)"
   ]
  },
  {
   "cell_type": "code",
   "execution_count": 73,
   "id": "126682f3-8a5f-403c-a9d0-192546bc7084",
   "metadata": {},
   "outputs": [
    {
     "name": "stdout",
     "output_type": "stream",
     "text": [
      "Text preprocessing is an important step in NLP!\n",
      "It cleans and organizes data for better machine learning results.\n"
     ]
    }
   ],
   "source": [
    "for sentence in doc.sents:\n",
    "    print(sentence)"
   ]
  },
  {
   "cell_type": "code",
   "execution_count": 81,
   "id": "32ecb078-dd76-4e7e-9fe8-230724b871cd",
   "metadata": {},
   "outputs": [
    {
     "name": "stdout",
     "output_type": "stream",
     "text": [
      "['is', 'an', 'in', 'It', 'and', 'for']\n"
     ]
    }
   ],
   "source": [
    "stopwords = [token.text for token in doc if token.is_stop]\n",
    "print(stopwords)"
   ]
  },
  {
   "cell_type": "code",
   "execution_count": 79,
   "id": "8e227d95-2327-4e69-b779-ac31249ce9a4",
   "metadata": {},
   "outputs": [
    {
     "name": "stdout",
     "output_type": "stream",
     "text": [
      "Text: Not a stopword\n",
      "preprocessing: Not a stopword\n",
      "is: Stopword\n",
      "an: Stopword\n",
      "important: Not a stopword\n",
      "step: Not a stopword\n",
      "in: Stopword\n",
      "NLP: Not a stopword\n",
      "!: Not a stopword\n",
      "It: Stopword\n",
      "cleans: Not a stopword\n",
      "and: Stopword\n",
      "organizes: Not a stopword\n",
      "data: Not a stopword\n",
      "for: Stopword\n",
      "better: Not a stopword\n",
      "machine: Not a stopword\n",
      "learning: Not a stopword\n",
      "results: Not a stopword\n",
      ".: Not a stopword\n"
     ]
    }
   ],
   "source": [
    "for token in doc:\n",
    "    print(f\"{token.text}: {'Stopword' if token.is_stop else 'Not a stopword'}\")"
   ]
  },
  {
   "cell_type": "markdown",
   "id": "a7437c41",
   "metadata": {},
   "source": [
    "#### Question:\n",
    "\n",
    "Flipkart has collected customer reviews for a smartphone. Your task is to train a sentiment analysis model using TextBlob's Naive Bayes Classifier to predict whether a given review is positive or negative.\n",
    "\n",
    "You have a dataset of 50 reviews, out of which 40 reviews are for training and 10 reviews are for testing. Train your model and evaluate its performance on the test data.\n",
    "\n",
    "\n",
    "\n",
    "##### Dataset (Train & Test)\n",
    "\n",
    "##### Training Data (40 Reviews)"
   ]
  },
  {
   "cell_type": "code",
   "execution_count": 133,
   "id": "74b6c011-3770-4b90-a1bd-c1431177f151",
   "metadata": {},
   "outputs": [],
   "source": [
    "train = [\n",
    "    (\"This phone is amazing, I love the camera!\", \"pos\"),\n",
    "    (\"Battery life is superb, lasts more than a day.\", \"pos\"),\n",
    "    (\"The display quality is top-notch.\", \"pos\"),\n",
    "    (\"Fast charging works like a charm!\", \"pos\"),\n",
    "    (\"Very smooth performance and no lag.\", \"pos\"),\n",
    "    (\"Great phone at this price range.\", \"pos\"),\n",
    "    (\"I am highly satisfied with the features.\", \"pos\"),\n",
    "    (\"Audio quality is crystal clear.\", \"pos\"),\n",
    "    (\"Superb design and looks premium.\", \"pos\"),\n",
    "    (\"Face unlock is super fast.\", \"pos\"),\n",
    "    (\"I regret buying this phone, worst experience.\", \"neg\"),\n",
    "    (\"Battery drains too fast, not recommended.\", \"neg\"),\n",
    "    (\"Overheating issue while gaming, disappointing.\", \"neg\"),\n",
    "    (\"Camera quality is terrible in low light.\", \"neg\"),\n",
    "    (\"Too many ads in the UI, very annoying.\", \"neg\"),\n",
    "    (\"Fingerprint sensor is slow and unresponsive.\", \"neg\"),\n",
    "    (\"Touchscreen sometimes freezes.\", \"neg\"),\n",
    "    (\"Speaker volume is too low.\", \"neg\"),\n",
    "    (\"Performance is sluggish, lags a lot.\", \"neg\"),\n",
    "    (\"Build quality feels very cheap.\", \"neg\"),\n",
    "    (\"The phone is very lightweight and easy to hold.\", \"pos\"),\n",
    "    (\"I love the color and design of this phone.\", \"pos\"),\n",
    "    (\"The UI is clean and easy to use.\", \"pos\"),\n",
    "    (\"Gaming performance is fantastic.\", \"pos\"),\n",
    "    (\"Storage capacity is more than enough.\", \"pos\"),\n",
    "    (\"This phone is a complete package!\", \"pos\"),\n",
    "    (\"Good for video calling, camera quality is decent.\", \"pos\"),\n",
    "    (\"5G connectivity works smoothly.\", \"pos\"),\n",
    "    (\"This phone exceeded my expectations.\", \"pos\"),\n",
    "    (\"The processor is fast and efficient.\", \"pos\"),\n",
    "    (\"Network issues, keeps disconnecting.\", \"neg\"),\n",
    "    (\"Screen started flickering after a few days.\", \"neg\"),\n",
    "    (\"The phone heats up even with normal usage.\", \"neg\"),\n",
    "    (\"No software updates, outdated security patches.\", \"neg\"),\n",
    "    (\"Customer support is unhelpful.\", \"neg\"),\n",
    "    (\"Charger stopped working within a month.\", \"neg\"),\n",
    "    (\"Speakers produce distorted sound.\", \"neg\"),\n",
    "    (\"Camera app crashes frequently.\", \"neg\"),\n",
    "    (\"Poor optimization, apps take forever to load.\", \"neg\"),\n",
    "    (\"Too heavy to hold for long hours.\", \"neg\")\n",
    "]\n"
   ]
  },
  {
   "cell_type": "markdown",
   "id": "4c4cd26d",
   "metadata": {},
   "source": [
    "###### Testing Data (10 Reviews)"
   ]
  },
  {
   "cell_type": "code",
   "execution_count": 136,
   "id": "8434f6b8-bec6-4d2f-b41e-ece445be2ae6",
   "metadata": {},
   "outputs": [],
   "source": [
    "test = [\n",
    "    (\"I love the camera, it clicks amazing pictures!\", \"pos\"),\n",
    "    (\"Battery backup is disappointing, drains quickly.\", \"neg\"),\n",
    "    (\"The display is very bright and vibrant.\", \"pos\"),\n",
    "    (\"Phone lags when switching between apps.\", \"neg\"),\n",
    "    (\"Very stylish and premium-looking design.\", \"pos\"),\n",
    "    (\"Face unlock doesn't work properly.\", \"neg\"),\n",
    "    (\"The performance is super smooth!\", \"pos\"),\n",
    "    (\"Charging speed is very slow, takes ages.\", \"neg\"),\n",
    "    (\"Call quality is excellent, voice is very clear.\", \"pos\"),\n",
    "    (\"The phone keeps hanging, very frustrating.\", \"neg\")\n",
    "]\n"
   ]
  },
  {
   "cell_type": "markdown",
   "id": "8215d55c",
   "metadata": {},
   "source": [
    "###### Your Task:    \n",
    "    - Train a Naive Bayes Classifier using textblob.classifiers.NaiveBayesClassifier on the training dataset.\n",
    "    - Predict sentiment (positive or negative) for the test data.\n",
    "    - Evaluate model accuracy and analyze the results."
   ]
  },
  {
   "cell_type": "code",
   "execution_count": 139,
   "id": "835a4d94",
   "metadata": {},
   "outputs": [],
   "source": [
    "from textblob.classifiers import NaiveBayesClassifier\n",
    "\n",
    "# Train the Classifier\n",
    "cl = NaiveBayesClassifier(train)"
   ]
  },
  {
   "cell_type": "code",
   "execution_count": 141,
   "id": "d72548ff-e895-4ab2-9b55-ca57616282df",
   "metadata": {},
   "outputs": [
    {
     "data": {
      "text/plain": [
       "'neg'"
      ]
     },
     "execution_count": 141,
     "metadata": {},
     "output_type": "execute_result"
    }
   ],
   "source": [
    "cl.classify(\"Customer support is unhelpful.\")"
   ]
  },
  {
   "cell_type": "code",
   "execution_count": 143,
   "id": "2f001e3a-6cee-4727-b3fa-68337c82a2e9",
   "metadata": {},
   "outputs": [
    {
     "data": {
      "text/plain": [
       "'pos'"
      ]
     },
     "execution_count": 143,
     "metadata": {},
     "output_type": "execute_result"
    }
   ],
   "source": [
    "# You can get the label probability distribution with the prob_classify(text) method.\n",
    "\n",
    "prob_dist = cl.prob_classify(\"This phone is a complete package!\")\n",
    "prob_dist.max()"
   ]
  },
  {
   "cell_type": "code",
   "execution_count": 145,
   "id": "f13ec7a5-a22f-44a3-b99f-1d267aacc212",
   "metadata": {},
   "outputs": [
    {
     "data": {
      "text/plain": [
       "1.0"
      ]
     },
     "execution_count": 145,
     "metadata": {},
     "output_type": "execute_result"
    }
   ],
   "source": [
    "round(prob_dist.prob(\"pos\"),2)"
   ]
  },
  {
   "cell_type": "code",
   "execution_count": 147,
   "id": "99cf5278-cc28-43e4-8906-244a4039f8c8",
   "metadata": {},
   "outputs": [
    {
     "data": {
      "text/plain": [
       "0.0"
      ]
     },
     "execution_count": 147,
     "metadata": {},
     "output_type": "execute_result"
    }
   ],
   "source": [
    "round(prob_dist.prob(\"neg\"),2)"
   ]
  },
  {
   "cell_type": "code",
   "execution_count": 153,
   "id": "336acf5f-4773-403c-9c5d-963275162170",
   "metadata": {},
   "outputs": [
    {
     "name": "stdout",
     "output_type": "stream",
     "text": [
      "Sentence: 'I love the camera, it clicks amazing pictures!'\n",
      "Expected Sentiment: pos, Predicted Sentiment: pos\n",
      "\n",
      "Sentence: 'Battery backup is disappointing, drains quickly.'\n",
      "Expected Sentiment: neg, Predicted Sentiment: neg\n",
      "\n",
      "Sentence: 'The display is very bright and vibrant.'\n",
      "Expected Sentiment: pos, Predicted Sentiment: pos\n",
      "\n",
      "Sentence: 'Phone lags when switching between apps.'\n",
      "Expected Sentiment: neg, Predicted Sentiment: neg\n",
      "\n",
      "Sentence: 'Very stylish and premium-looking design.'\n",
      "Expected Sentiment: pos, Predicted Sentiment: pos\n",
      "\n",
      "Sentence: 'Face unlock doesn't work properly.'\n",
      "Expected Sentiment: neg, Predicted Sentiment: pos\n",
      "\n",
      "Sentence: 'The performance is super smooth!'\n",
      "Expected Sentiment: pos, Predicted Sentiment: pos\n",
      "\n",
      "Sentence: 'Charging speed is very slow, takes ages.'\n",
      "Expected Sentiment: neg, Predicted Sentiment: neg\n",
      "\n",
      "Sentence: 'Call quality is excellent, voice is very clear.'\n",
      "Expected Sentiment: pos, Predicted Sentiment: pos\n",
      "\n",
      "Sentence: 'The phone keeps hanging, very frustrating.'\n",
      "Expected Sentiment: neg, Predicted Sentiment: neg\n",
      "\n"
     ]
    }
   ],
   "source": [
    "# Classify and compare predictions with expected sentiments\n",
    "\n",
    "for sentence, expected_sentiment in test:\n",
    "    predicted_sentiment = cl.classify(sentence)\n",
    "    print(f\"Sentence: '{sentence}'\")\n",
    "    print(f\"Expected Sentiment: {expected_sentiment}, Predicted Sentiment: {predicted_sentiment}\\n\")"
   ]
  },
  {
   "cell_type": "code",
   "execution_count": 157,
   "id": "fdb910bd-7b32-423f-8a7a-3dc368723d57",
   "metadata": {},
   "outputs": [
    {
     "data": {
      "text/plain": [
       "1.0"
      ]
     },
     "execution_count": 157,
     "metadata": {},
     "output_type": "execute_result"
    }
   ],
   "source": [
    "train_accuracy = cl.accuracy(train)\n",
    "train_accuracy"
   ]
  },
  {
   "cell_type": "code",
   "execution_count": 169,
   "id": "2d8c6aed-2bc0-4744-970a-f60292ac6d87",
   "metadata": {},
   "outputs": [
    {
     "name": "stdout",
     "output_type": "stream",
     "text": [
      "0.9\n",
      "0.9\n",
      "0.9\n",
      "0.9\n",
      "0.9\n",
      "0.9\n",
      "0.9\n",
      "0.9\n",
      "0.9\n",
      "0.9\n"
     ]
    }
   ],
   "source": [
    "for sentence, expected_sentiment in test:\n",
    "\n",
    "    test_accuracy = cl.accuracy(test)\n",
    "    print(test_accuracy)"
   ]
  },
  {
   "cell_type": "code",
   "execution_count": null,
   "id": "c6d9941b-8131-4ff1-852c-694d7401c333",
   "metadata": {},
   "outputs": [],
   "source": []
  }
 ],
 "metadata": {
  "kernelspec": {
   "display_name": "Python 3 (ipykernel)",
   "language": "python",
   "name": "python3"
  },
  "language_info": {
   "codemirror_mode": {
    "name": "ipython",
    "version": 3
   },
   "file_extension": ".py",
   "mimetype": "text/x-python",
   "name": "python",
   "nbconvert_exporter": "python",
   "pygments_lexer": "ipython3",
   "version": "3.12.7"
  }
 },
 "nbformat": 4,
 "nbformat_minor": 5
}
