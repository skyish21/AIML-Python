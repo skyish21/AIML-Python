{
 "cells": [
  {
   "cell_type": "markdown",
   "id": "79684d31-6b6b-4be9-be77-3250f2848ef5",
   "metadata": {},
   "source": [
    "## IMPUTERS AND ENCODERS\n",
    "\n",
    "Before moving on to the next model, decision trees, let's first understand some important concepts.\n",
    "\n",
    "Our models cannot understand text data directly, so we need to convert text into numbers. Additionally, one of the most common issues in data is null values. We need to learn how to handle them effectively.\n",
    "\n",
    "While simple methods like mean, mode, or median imputation are widely used, there are more advanced techniques we can use. Let's dive into the concepts of:\n",
    "\n",
    "#### 1. Imputers\n",
    "Imputing refers to filling in missing values (nulls) with estimated values. Instead of using simple methods like fillna, we’ll explore different imputation techniques that provide better estimates for the missing data.\n",
    "\n",
    "#### 2. Encoding\n",
    "Encoding is the process of converting categorical data (like text labels) into numerical values so that the model can understand it. Since machine learning models work with numbers, encoding is essential. There are several encoding techniques that we will explore to handle categorical variables effectively.\n",
    "\n"
   ]
  },
  {
   "cell_type": "code",
   "execution_count": 2,
   "id": "14e206b0-7dbb-47cb-8899-9431a09e5010",
   "metadata": {},
   "outputs": [],
   "source": [
    "#Lets import\n",
    "\n",
    "import warnings\n",
    "warnings.filterwarnings('ignore')\n",
    "\n",
    "\n",
    "import pandas as pd"
   ]
  },
  {
   "cell_type": "code",
   "execution_count": 4,
   "id": "47123b57-76d3-4611-8fc5-e483797e2417",
   "metadata": {},
   "outputs": [
    {
     "data": {
      "text/html": [
       "<div>\n",
       "<style scoped>\n",
       "    .dataframe tbody tr th:only-of-type {\n",
       "        vertical-align: middle;\n",
       "    }\n",
       "\n",
       "    .dataframe tbody tr th {\n",
       "        vertical-align: top;\n",
       "    }\n",
       "\n",
       "    .dataframe thead th {\n",
       "        text-align: right;\n",
       "    }\n",
       "</style>\n",
       "<table border=\"1\" class=\"dataframe\">\n",
       "  <thead>\n",
       "    <tr style=\"text-align: right;\">\n",
       "      <th></th>\n",
       "      <th>Pay</th>\n",
       "      <th>State</th>\n",
       "      <th>Gender</th>\n",
       "      <th>Exp</th>\n",
       "    </tr>\n",
       "  </thead>\n",
       "  <tbody>\n",
       "    <tr>\n",
       "      <th>0</th>\n",
       "      <td>25000</td>\n",
       "      <td>Bengluru</td>\n",
       "      <td>Male</td>\n",
       "      <td>1.0</td>\n",
       "    </tr>\n",
       "    <tr>\n",
       "      <th>1</th>\n",
       "      <td>48000</td>\n",
       "      <td>Delhi</td>\n",
       "      <td>Female</td>\n",
       "      <td>3.0</td>\n",
       "    </tr>\n",
       "    <tr>\n",
       "      <th>2</th>\n",
       "      <td>71000</td>\n",
       "      <td>Hyderabad</td>\n",
       "      <td>Female</td>\n",
       "      <td>5.0</td>\n",
       "    </tr>\n",
       "    <tr>\n",
       "      <th>3</th>\n",
       "      <td>85000</td>\n",
       "      <td>Bengluru</td>\n",
       "      <td>Female</td>\n",
       "      <td>6.0</td>\n",
       "    </tr>\n",
       "    <tr>\n",
       "      <th>4</th>\n",
       "      <td>90000</td>\n",
       "      <td>Hyderabad</td>\n",
       "      <td>Male</td>\n",
       "      <td>9.0</td>\n",
       "    </tr>\n",
       "    <tr>\n",
       "      <th>5</th>\n",
       "      <td>55000</td>\n",
       "      <td>Bengluru</td>\n",
       "      <td>Male</td>\n",
       "      <td>NaN</td>\n",
       "    </tr>\n",
       "  </tbody>\n",
       "</table>\n",
       "</div>"
      ],
      "text/plain": [
       "     Pay      State  Gender  Exp\n",
       "0  25000   Bengluru    Male  1.0\n",
       "1  48000      Delhi  Female  3.0\n",
       "2  71000  Hyderabad  Female  5.0\n",
       "3  85000   Bengluru  Female  6.0\n",
       "4  90000  Hyderabad    Male  9.0\n",
       "5  55000   Bengluru    Male  NaN"
      ]
     },
     "execution_count": 4,
     "metadata": {},
     "output_type": "execute_result"
    }
   ],
   "source": [
    "info=pd.DataFrame({'Pay':[25000,48000,71000,85000,90000,55000],\n",
    "                'State':['Bengluru','Delhi','Hyderabad','Bengluru','Hyderabad','Bengluru'],\n",
    "                 'Gender':['Male','Female','Female','Female','Male','Male'],\n",
    "                'Exp':[1,3,5,6,9,None]})\n",
    "info"
   ]
  },
  {
   "cell_type": "code",
   "execution_count": 20,
   "id": "e6f8919c-45a6-4011-b65b-370cfb449281",
   "metadata": {},
   "outputs": [],
   "source": [
    "from sklearn.preprocessing import LabelEncoder"
   ]
  },
  {
   "cell_type": "code",
   "execution_count": 22,
   "id": "543d36ee-4e5a-4b3d-a35d-39aaaceb79d2",
   "metadata": {},
   "outputs": [],
   "source": [
    "encoder=LabelEncoder()"
   ]
  },
  {
   "cell_type": "code",
   "execution_count": 26,
   "id": "279a3aae-242b-468a-98c4-515c85a3c2e0",
   "metadata": {},
   "outputs": [
    {
     "data": {
      "text/plain": [
       "array([0, 1, 2, 0, 2, 0])"
      ]
     },
     "execution_count": 26,
     "metadata": {},
     "output_type": "execute_result"
    }
   ],
   "source": [
    "info=encoder.fit_transform(info['State'])\n",
    "info"
   ]
  },
  {
   "cell_type": "code",
   "execution_count": 34,
   "id": "137d755e-0445-486c-a440-3c9a8e5dd9f1",
   "metadata": {},
   "outputs": [
    {
     "data": {
      "text/plain": [
       "0    0\n",
       "1    1\n",
       "2    2\n",
       "3    0\n",
       "4    2\n",
       "5    0\n",
       "dtype: int64"
      ]
     },
     "execution_count": 34,
     "metadata": {},
     "output_type": "execute_result"
    }
   ],
   "source": [
    "pd.Series(info)"
   ]
  },
  {
   "cell_type": "markdown",
   "id": "4c1ea07a-ff8d-4044-b5e6-d5f237d69817",
   "metadata": {},
   "source": [
    "## One-Hot Encoding (OHE):\n",
    "It is a technique used to convert categorical data into numerical data. It creates new binary columns for each category in the original column.\n",
    "\n",
    "#### How it works:\n",
    "For a categorical column with N unique categories, OHE creates N new columns.\n",
    "Each column will have a 1 for the category present in that row and a 0 for others."
   ]
  },
  {
   "cell_type": "code",
   "execution_count": 41,
   "id": "e5d7ed95-db31-4a1a-b30f-74b7e0056b71",
   "metadata": {},
   "outputs": [],
   "source": [
    "from sklearn.preprocessing import OneHotEncoder\n",
    "from sklearn.impute import SimpleImputer\n",
    "from sklearn.compose import make_column_transformer"
   ]
  },
  {
   "cell_type": "code",
   "execution_count": 43,
   "id": "c6ff5eab-923d-4fbd-8dea-f70685e52c7c",
   "metadata": {},
   "outputs": [],
   "source": [
    "ohe=OneHotEncoder()\n",
    "imputer=SimpleImputer()"
   ]
  },
  {
   "cell_type": "code",
   "execution_count": 45,
   "id": "1baad145-f428-436d-8e83-0a398c6d118d",
   "metadata": {},
   "outputs": [
    {
     "data": {
      "text/html": [
       "<div>\n",
       "<style scoped>\n",
       "    .dataframe tbody tr th:only-of-type {\n",
       "        vertical-align: middle;\n",
       "    }\n",
       "\n",
       "    .dataframe tbody tr th {\n",
       "        vertical-align: top;\n",
       "    }\n",
       "\n",
       "    .dataframe thead th {\n",
       "        text-align: right;\n",
       "    }\n",
       "</style>\n",
       "<table border=\"1\" class=\"dataframe\">\n",
       "  <thead>\n",
       "    <tr style=\"text-align: right;\">\n",
       "      <th></th>\n",
       "      <th>Pay</th>\n",
       "      <th>State</th>\n",
       "      <th>Gender</th>\n",
       "      <th>Exp</th>\n",
       "    </tr>\n",
       "  </thead>\n",
       "  <tbody>\n",
       "    <tr>\n",
       "      <th>0</th>\n",
       "      <td>25000</td>\n",
       "      <td>Bengluru</td>\n",
       "      <td>Male</td>\n",
       "      <td>1.0</td>\n",
       "    </tr>\n",
       "    <tr>\n",
       "      <th>1</th>\n",
       "      <td>48000</td>\n",
       "      <td>Delhi</td>\n",
       "      <td>Female</td>\n",
       "      <td>3.0</td>\n",
       "    </tr>\n",
       "    <tr>\n",
       "      <th>2</th>\n",
       "      <td>71000</td>\n",
       "      <td>Hyderabad</td>\n",
       "      <td>Female</td>\n",
       "      <td>5.0</td>\n",
       "    </tr>\n",
       "    <tr>\n",
       "      <th>3</th>\n",
       "      <td>85000</td>\n",
       "      <td>Bengluru</td>\n",
       "      <td>Female</td>\n",
       "      <td>6.0</td>\n",
       "    </tr>\n",
       "    <tr>\n",
       "      <th>4</th>\n",
       "      <td>90000</td>\n",
       "      <td>Hyderabad</td>\n",
       "      <td>Male</td>\n",
       "      <td>9.0</td>\n",
       "    </tr>\n",
       "    <tr>\n",
       "      <th>5</th>\n",
       "      <td>55000</td>\n",
       "      <td>Bengluru</td>\n",
       "      <td>Male</td>\n",
       "      <td>NaN</td>\n",
       "    </tr>\n",
       "  </tbody>\n",
       "</table>\n",
       "</div>"
      ],
      "text/plain": [
       "     Pay      State  Gender  Exp\n",
       "0  25000   Bengluru    Male  1.0\n",
       "1  48000      Delhi  Female  3.0\n",
       "2  71000  Hyderabad  Female  5.0\n",
       "3  85000   Bengluru  Female  6.0\n",
       "4  90000  Hyderabad    Male  9.0\n",
       "5  55000   Bengluru    Male  NaN"
      ]
     },
     "execution_count": 45,
     "metadata": {},
     "output_type": "execute_result"
    }
   ],
   "source": [
    "info=pd.DataFrame({'Pay':[25000,48000,71000,85000,90000,55000],\n",
    "                'State':['Bengluru','Delhi','Hyderabad','Bengluru','Hyderabad','Bengluru'],\n",
    "                 'Gender':['Male','Female','Female','Female','Male','Male'],\n",
    "                'Exp':[1,3,5,6,9,None]})\n",
    "info"
   ]
  },
  {
   "cell_type": "code",
   "execution_count": 57,
   "id": "15019397-fcec-4fc7-9a18-27e3933943be",
   "metadata": {},
   "outputs": [],
   "source": [
    "#OneHotEncoder: applied to the State and Gender columns, which are categorical. It converts them into binary (0 or 1) columns.\n",
    "\n",
    "#SimpleImputer: applied to the Exp (Experience) column. \n",
    "#It will impute (fill in) any missing values using a simple strategy (like mean, median, or most frequent). \n",
    "#You can specify the imputation strategy as an argument.\n",
    "\n",
    "#Remainder: This ensures that any other columns not specified (other than State, Gender, and Exp) are passed through unchanged.\n",
    "\n",
    "ct=make_column_transformer(\n",
    "    (ohe,['State','Gender']),\n",
    "(imputer,['Exp']),\n",
    "remainder='passthrough') #Passthrough to keep all the columns"
   ]
  },
  {
   "cell_type": "code",
   "execution_count": 59,
   "id": "a11d9cb0-7f1a-4bf2-bdbf-f96014f2d6d6",
   "metadata": {},
   "outputs": [
    {
     "data": {
      "text/html": [
       "<div>\n",
       "<style scoped>\n",
       "    .dataframe tbody tr th:only-of-type {\n",
       "        vertical-align: middle;\n",
       "    }\n",
       "\n",
       "    .dataframe tbody tr th {\n",
       "        vertical-align: top;\n",
       "    }\n",
       "\n",
       "    .dataframe thead th {\n",
       "        text-align: right;\n",
       "    }\n",
       "</style>\n",
       "<table border=\"1\" class=\"dataframe\">\n",
       "  <thead>\n",
       "    <tr style=\"text-align: right;\">\n",
       "      <th></th>\n",
       "      <th>0</th>\n",
       "      <th>1</th>\n",
       "      <th>2</th>\n",
       "      <th>3</th>\n",
       "      <th>4</th>\n",
       "      <th>5</th>\n",
       "      <th>6</th>\n",
       "    </tr>\n",
       "  </thead>\n",
       "  <tbody>\n",
       "    <tr>\n",
       "      <th>0</th>\n",
       "      <td>1.0</td>\n",
       "      <td>0.0</td>\n",
       "      <td>0.0</td>\n",
       "      <td>0.0</td>\n",
       "      <td>1.0</td>\n",
       "      <td>1.0</td>\n",
       "      <td>25000.0</td>\n",
       "    </tr>\n",
       "    <tr>\n",
       "      <th>1</th>\n",
       "      <td>0.0</td>\n",
       "      <td>1.0</td>\n",
       "      <td>0.0</td>\n",
       "      <td>1.0</td>\n",
       "      <td>0.0</td>\n",
       "      <td>3.0</td>\n",
       "      <td>48000.0</td>\n",
       "    </tr>\n",
       "    <tr>\n",
       "      <th>2</th>\n",
       "      <td>0.0</td>\n",
       "      <td>0.0</td>\n",
       "      <td>1.0</td>\n",
       "      <td>1.0</td>\n",
       "      <td>0.0</td>\n",
       "      <td>5.0</td>\n",
       "      <td>71000.0</td>\n",
       "    </tr>\n",
       "    <tr>\n",
       "      <th>3</th>\n",
       "      <td>1.0</td>\n",
       "      <td>0.0</td>\n",
       "      <td>0.0</td>\n",
       "      <td>1.0</td>\n",
       "      <td>0.0</td>\n",
       "      <td>6.0</td>\n",
       "      <td>85000.0</td>\n",
       "    </tr>\n",
       "    <tr>\n",
       "      <th>4</th>\n",
       "      <td>0.0</td>\n",
       "      <td>0.0</td>\n",
       "      <td>1.0</td>\n",
       "      <td>0.0</td>\n",
       "      <td>1.0</td>\n",
       "      <td>9.0</td>\n",
       "      <td>90000.0</td>\n",
       "    </tr>\n",
       "    <tr>\n",
       "      <th>5</th>\n",
       "      <td>1.0</td>\n",
       "      <td>0.0</td>\n",
       "      <td>0.0</td>\n",
       "      <td>0.0</td>\n",
       "      <td>1.0</td>\n",
       "      <td>4.8</td>\n",
       "      <td>55000.0</td>\n",
       "    </tr>\n",
       "  </tbody>\n",
       "</table>\n",
       "</div>"
      ],
      "text/plain": [
       "     0    1    2    3    4    5        6\n",
       "0  1.0  0.0  0.0  0.0  1.0  1.0  25000.0\n",
       "1  0.0  1.0  0.0  1.0  0.0  3.0  48000.0\n",
       "2  0.0  0.0  1.0  1.0  0.0  5.0  71000.0\n",
       "3  1.0  0.0  0.0  1.0  0.0  6.0  85000.0\n",
       "4  0.0  0.0  1.0  0.0  1.0  9.0  90000.0\n",
       "5  1.0  0.0  0.0  0.0  1.0  4.8  55000.0"
      ]
     },
     "execution_count": 59,
     "metadata": {},
     "output_type": "execute_result"
    }
   ],
   "source": [
    "info_encoded=pd.DataFrame(ct.fit_transform(info))\n",
    "info_encoded"
   ]
  },
  {
   "cell_type": "code",
   "execution_count": 61,
   "id": "69154867-3f63-4ecf-b844-804fbedbe309",
   "metadata": {},
   "outputs": [],
   "source": [
    "#Column 0-2\n",
    "#State_Bengluru, State_Delhi, and State_Hyderabad become new columns.\n",
    "#and for each row, the respective state column gets a 1 (for that state) and 0 for others.\n",
    "\n",
    "#Column 3-4\n",
    "#The Gender column had categories Male and Female. Similarly, One-Hot Encoding creates two new columns:\n",
    "#Gender_Male and Gender_Female, where a 1 indicates the gender of the person\n",
    "\n",
    "#Column 5 \n",
    "#The SimpleImputer was applied to this column, likely replacing the missing value with the mean (or another chosen strategy) of the existing Exp values."
   ]
  },
  {
   "cell_type": "code",
   "execution_count": 63,
   "id": "abce3f2a-a3fc-45f6-87cd-4c605262dac4",
   "metadata": {},
   "outputs": [],
   "source": [
    "new_column_names = ['State_Bengluru', 'State_Delhi', 'State_Hyderabad', 'Gender_Female', 'Gender_Male', 'Exp', 'Pay']\n",
    "\n",
    "# Assign the new column names to the DataFrame\n",
    "info_encoded.columns = new_column_names"
   ]
  },
  {
   "cell_type": "code",
   "execution_count": 65,
   "id": "fda8a6ab-8fbd-461f-ab36-63bb9a45b7a8",
   "metadata": {},
   "outputs": [
    {
     "data": {
      "text/html": [
       "<div>\n",
       "<style scoped>\n",
       "    .dataframe tbody tr th:only-of-type {\n",
       "        vertical-align: middle;\n",
       "    }\n",
       "\n",
       "    .dataframe tbody tr th {\n",
       "        vertical-align: top;\n",
       "    }\n",
       "\n",
       "    .dataframe thead th {\n",
       "        text-align: right;\n",
       "    }\n",
       "</style>\n",
       "<table border=\"1\" class=\"dataframe\">\n",
       "  <thead>\n",
       "    <tr style=\"text-align: right;\">\n",
       "      <th></th>\n",
       "      <th>State_Bengluru</th>\n",
       "      <th>State_Delhi</th>\n",
       "      <th>State_Hyderabad</th>\n",
       "      <th>Gender_Female</th>\n",
       "      <th>Gender_Male</th>\n",
       "      <th>Exp</th>\n",
       "      <th>Pay</th>\n",
       "    </tr>\n",
       "  </thead>\n",
       "  <tbody>\n",
       "    <tr>\n",
       "      <th>0</th>\n",
       "      <td>1.0</td>\n",
       "      <td>0.0</td>\n",
       "      <td>0.0</td>\n",
       "      <td>0.0</td>\n",
       "      <td>1.0</td>\n",
       "      <td>1.0</td>\n",
       "      <td>25000.0</td>\n",
       "    </tr>\n",
       "    <tr>\n",
       "      <th>1</th>\n",
       "      <td>0.0</td>\n",
       "      <td>1.0</td>\n",
       "      <td>0.0</td>\n",
       "      <td>1.0</td>\n",
       "      <td>0.0</td>\n",
       "      <td>3.0</td>\n",
       "      <td>48000.0</td>\n",
       "    </tr>\n",
       "    <tr>\n",
       "      <th>2</th>\n",
       "      <td>0.0</td>\n",
       "      <td>0.0</td>\n",
       "      <td>1.0</td>\n",
       "      <td>1.0</td>\n",
       "      <td>0.0</td>\n",
       "      <td>5.0</td>\n",
       "      <td>71000.0</td>\n",
       "    </tr>\n",
       "    <tr>\n",
       "      <th>3</th>\n",
       "      <td>1.0</td>\n",
       "      <td>0.0</td>\n",
       "      <td>0.0</td>\n",
       "      <td>1.0</td>\n",
       "      <td>0.0</td>\n",
       "      <td>6.0</td>\n",
       "      <td>85000.0</td>\n",
       "    </tr>\n",
       "    <tr>\n",
       "      <th>4</th>\n",
       "      <td>0.0</td>\n",
       "      <td>0.0</td>\n",
       "      <td>1.0</td>\n",
       "      <td>0.0</td>\n",
       "      <td>1.0</td>\n",
       "      <td>9.0</td>\n",
       "      <td>90000.0</td>\n",
       "    </tr>\n",
       "    <tr>\n",
       "      <th>5</th>\n",
       "      <td>1.0</td>\n",
       "      <td>0.0</td>\n",
       "      <td>0.0</td>\n",
       "      <td>0.0</td>\n",
       "      <td>1.0</td>\n",
       "      <td>4.8</td>\n",
       "      <td>55000.0</td>\n",
       "    </tr>\n",
       "  </tbody>\n",
       "</table>\n",
       "</div>"
      ],
      "text/plain": [
       "   State_Bengluru  State_Delhi  State_Hyderabad  Gender_Female  Gender_Male  \\\n",
       "0             1.0          0.0              0.0            0.0          1.0   \n",
       "1             0.0          1.0              0.0            1.0          0.0   \n",
       "2             0.0          0.0              1.0            1.0          0.0   \n",
       "3             1.0          0.0              0.0            1.0          0.0   \n",
       "4             0.0          0.0              1.0            0.0          1.0   \n",
       "5             1.0          0.0              0.0            0.0          1.0   \n",
       "\n",
       "   Exp      Pay  \n",
       "0  1.0  25000.0  \n",
       "1  3.0  48000.0  \n",
       "2  5.0  71000.0  \n",
       "3  6.0  85000.0  \n",
       "4  9.0  90000.0  \n",
       "5  4.8  55000.0  "
      ]
     },
     "execution_count": 65,
     "metadata": {},
     "output_type": "execute_result"
    }
   ],
   "source": [
    "info_encoded"
   ]
  },
  {
   "cell_type": "markdown",
   "id": "4e4a4d12-59ea-496b-8bf2-3e8275137c8f",
   "metadata": {},
   "source": [
    "## Ordinal Encoding:\n",
    "It is a technique used to convert categorical data into numerical data, where categories have a meaningful order or ranking. \n",
    "\n",
    "Unlike One-Hot Encoding, which creates separate binary columns for each category, Ordinal Encoding assigns an integer to each category based on its rank or order."
   ]
  },
  {
   "cell_type": "code",
   "execution_count": 88,
   "id": "6edbd03a-4cda-48b1-b075-d3008a4d468f",
   "metadata": {},
   "outputs": [],
   "source": [
    "from sklearn.preprocessing import OrdinalEncoder\n",
    "\n",
    "# Dataframe\n",
    "info = pd.DataFrame({\n",
    "    'Pay': [25000, 48000, 71000, 85000, 90000, 55000],\n",
    "    'State': ['Bengaluru', 'Delhi', 'Hyderabad', 'Bengaluru', 'Hyderabad', 'Bengaluru'],\n",
    "    'Gender': ['Male', 'Female', 'Female', 'Female', 'Male', 'Male'],\n",
    "    'Exp': [1.0, 3.0, 5.0, 6.0, 9.0, None]\n",
    "})"
   ]
  },
  {
   "cell_type": "code",
   "execution_count": 90,
   "id": "41d4234f-a2bd-4210-91e1-ce2e8c05c2b4",
   "metadata": {},
   "outputs": [],
   "source": [
    "# Initialize OrdinalEncoder\n",
    "encoder = OrdinalEncoder()\n",
    "\n",
    "ct=make_column_transformer(\n",
    "    (encoder,['State','Gender']),\n",
    "remainder='passthrough')\n",
    "\n",
    "# Apply Ordinal Encoding to 'State' column\n",
    "info_encoded = pd.DataFrame(ct.fit_transform(info))"
   ]
  },
  {
   "cell_type": "code",
   "execution_count": null,
   "id": "8fcbcaed-d303-48da-b4d1-421957d8f56a",
   "metadata": {},
   "outputs": [],
   "source": [
    "#Display the transformed dataframe\n",
    "info"
   ]
  },
  {
   "cell_type": "code",
   "execution_count": 98,
   "id": "b2bcefcd-337f-40e3-88f7-8128693bef7e",
   "metadata": {},
   "outputs": [
    {
     "data": {
      "text/html": [
       "<div>\n",
       "<style scoped>\n",
       "    .dataframe tbody tr th:only-of-type {\n",
       "        vertical-align: middle;\n",
       "    }\n",
       "\n",
       "    .dataframe tbody tr th {\n",
       "        vertical-align: top;\n",
       "    }\n",
       "\n",
       "    .dataframe thead th {\n",
       "        text-align: right;\n",
       "    }\n",
       "</style>\n",
       "<table border=\"1\" class=\"dataframe\">\n",
       "  <thead>\n",
       "    <tr style=\"text-align: right;\">\n",
       "      <th></th>\n",
       "      <th>State_encoded</th>\n",
       "      <th>Gender_encoded</th>\n",
       "      <th>Pay</th>\n",
       "      <th>Exp</th>\n",
       "    </tr>\n",
       "  </thead>\n",
       "  <tbody>\n",
       "    <tr>\n",
       "      <th>0</th>\n",
       "      <td>0.0</td>\n",
       "      <td>1.0</td>\n",
       "      <td>25000.0</td>\n",
       "      <td>1.0</td>\n",
       "    </tr>\n",
       "    <tr>\n",
       "      <th>1</th>\n",
       "      <td>1.0</td>\n",
       "      <td>0.0</td>\n",
       "      <td>48000.0</td>\n",
       "      <td>3.0</td>\n",
       "    </tr>\n",
       "    <tr>\n",
       "      <th>2</th>\n",
       "      <td>2.0</td>\n",
       "      <td>0.0</td>\n",
       "      <td>71000.0</td>\n",
       "      <td>5.0</td>\n",
       "    </tr>\n",
       "    <tr>\n",
       "      <th>3</th>\n",
       "      <td>0.0</td>\n",
       "      <td>0.0</td>\n",
       "      <td>85000.0</td>\n",
       "      <td>6.0</td>\n",
       "    </tr>\n",
       "    <tr>\n",
       "      <th>4</th>\n",
       "      <td>2.0</td>\n",
       "      <td>1.0</td>\n",
       "      <td>90000.0</td>\n",
       "      <td>9.0</td>\n",
       "    </tr>\n",
       "    <tr>\n",
       "      <th>5</th>\n",
       "      <td>0.0</td>\n",
       "      <td>1.0</td>\n",
       "      <td>55000.0</td>\n",
       "      <td>NaN</td>\n",
       "    </tr>\n",
       "  </tbody>\n",
       "</table>\n",
       "</div>"
      ],
      "text/plain": [
       "   State_encoded  Gender_encoded      Pay  Exp\n",
       "0            0.0             1.0  25000.0  1.0\n",
       "1            1.0             0.0  48000.0  3.0\n",
       "2            2.0             0.0  71000.0  5.0\n",
       "3            0.0             0.0  85000.0  6.0\n",
       "4            2.0             1.0  90000.0  9.0\n",
       "5            0.0             1.0  55000.0  NaN"
      ]
     },
     "execution_count": 98,
     "metadata": {},
     "output_type": "execute_result"
    }
   ],
   "source": [
    "new_column_names = ['State_encoded','Gender_encoded','Pay','Exp']\n",
    "\n",
    "# Assign the new column names to the DataFrame\n",
    "info_encoded.columns = new_column_names\n",
    "\n",
    "info_encoded"
   ]
  },
  {
   "cell_type": "code",
   "execution_count": 100,
   "id": "ac7984d2-cf83-475f-ae5d-9f6627a31814",
   "metadata": {},
   "outputs": [],
   "source": [
    "# Bengaluru gets a 0, Delhi gets a 1, and Hyderabad gets a 2.\n",
    "# Male gets a 1 and Female gets a 0"
   ]
  },
  {
   "cell_type": "markdown",
   "id": "80660d44-e239-40a3-ab6f-c0f6c3c613e1",
   "metadata": {},
   "source": [
    "#### When to Use Ordinal Encoding:\n",
    "It is useful when the categories have an inherent order (like Low, Medium, High).\n",
    "It should not be used for nominal categories (where there is no order), like colors or names of cities."
   ]
  },
  {
   "cell_type": "code",
   "execution_count": null,
   "id": "a0cd2420-dd86-4198-bdaa-d05dc8358526",
   "metadata": {},
   "outputs": [],
   "source": []
  }
 ],
 "metadata": {
  "kernelspec": {
   "display_name": "Python 3 (ipykernel)",
   "language": "python",
   "name": "python3"
  },
  "language_info": {
   "codemirror_mode": {
    "name": "ipython",
    "version": 3
   },
   "file_extension": ".py",
   "mimetype": "text/x-python",
   "name": "python",
   "nbconvert_exporter": "python",
   "pygments_lexer": "ipython3",
   "version": "3.12.7"
  }
 },
 "nbformat": 4,
 "nbformat_minor": 5
}
