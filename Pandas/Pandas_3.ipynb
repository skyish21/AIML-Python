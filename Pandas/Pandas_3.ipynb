{
 "cells": [
  {
   "cell_type": "markdown",
   "id": "40899a00-3077-4f2d-8619-fbcc32d94c9b",
   "metadata": {},
   "source": [
    "### Data Mining"
   ]
  },
  {
   "cell_type": "code",
   "execution_count": 1,
   "id": "57087f79-29ac-44c8-8f34-52d1c48b6d31",
   "metadata": {},
   "outputs": [],
   "source": [
    "#Data Cleaning (IMP Part of Pandas)"
   ]
  },
  {
   "cell_type": "code",
   "execution_count": 3,
   "id": "c829cfa2-3d36-4e15-9653-4d010e492f37",
   "metadata": {},
   "outputs": [],
   "source": [
    "import pandas as pd\n",
    "import numpy as np"
   ]
  },
  {
   "cell_type": "code",
   "execution_count": 7,
   "id": "d3ae66f9-6496-44c1-9b71-8ed336898ff2",
   "metadata": {},
   "outputs": [],
   "source": [
    "val1=np.array([1,np.nan,7,18])"
   ]
  },
  {
   "cell_type": "code",
   "execution_count": 15,
   "id": "82d658af-3bb1-41a8-8ee2-e569e12330f3",
   "metadata": {},
   "outputs": [],
   "source": [
    "#Notice that numpy prefered a native floating point type this array this means that unlike the object array supports fast operations \n",
    "#pushed into compiled code you should be aware that Nan is a bit like data virus it infect any other object it touches.\n",
    "#Regardless of the operation, the result of arithmetic with Nan will be another Nan"
   ]
  },
  {
   "cell_type": "code",
   "execution_count": 13,
   "id": "9622db77-c962-43ca-82d8-2c97751d0464",
   "metadata": {},
   "outputs": [
    {
     "data": {
      "text/plain": [
       "nan"
      ]
     },
     "execution_count": 13,
     "metadata": {},
     "output_type": "execute_result"
    }
   ],
   "source": [
    "6 + np.nan # Its mean we dont add any number with nan"
   ]
  },
  {
   "cell_type": "code",
   "execution_count": 17,
   "id": "b890db09-73d7-4a2c-8249-5533fef958fb",
   "metadata": {},
   "outputs": [
    {
     "data": {
      "text/plain": [
       "nan"
      ]
     },
     "execution_count": 17,
     "metadata": {},
     "output_type": "execute_result"
    }
   ],
   "source": [
    "7 * np.nan # Its its also not Multiply with nan"
   ]
  },
  {
   "cell_type": "code",
   "execution_count": 19,
   "id": "75562c11-7bf7-422b-8fbb-c19cf8a6cfda",
   "metadata": {},
   "outputs": [],
   "source": [
    "#Numpy does provide some special aggregations that will ignore these missing values"
   ]
  },
  {
   "cell_type": "code",
   "execution_count": 21,
   "id": "f29dc49e-1c4c-4ee9-8f6c-1284b8da159b",
   "metadata": {},
   "outputs": [
    {
     "data": {
      "text/plain": [
       "array([ 1., nan,  7., 18.])"
      ]
     },
     "execution_count": 21,
     "metadata": {},
     "output_type": "execute_result"
    }
   ],
   "source": [
    "val1"
   ]
  },
  {
   "cell_type": "code",
   "execution_count": 23,
   "id": "806639da-24be-43a9-a026-30a28141437c",
   "metadata": {},
   "outputs": [
    {
     "data": {
      "text/plain": [
       "np.float64(26.0)"
      ]
     },
     "execution_count": 23,
     "metadata": {},
     "output_type": "execute_result"
    }
   ],
   "source": [
    "np.nansum(val1) #Look here we add all data"
   ]
  },
  {
   "cell_type": "code",
   "execution_count": 25,
   "id": "dfaae8af-7445-41a8-afca-2d1ad973048d",
   "metadata": {},
   "outputs": [],
   "source": [
    "#Keep in mind that Nan is specifically a floating point value , there is no equivalent Nan value for integers, String, or other types"
   ]
  },
  {
   "cell_type": "markdown",
   "id": "58b8fc4f-4aa2-42f0-b609-6f867f59a7f1",
   "metadata": {},
   "source": [
    "### Nan and None in Pandas"
   ]
  },
  {
   "cell_type": "code",
   "execution_count": 28,
   "id": "1a3f1fd4-509e-44d9-8b01-e7ed94b45b4d",
   "metadata": {},
   "outputs": [],
   "source": [
    "#Nan and None both have their place ,and Pandas is built to Handle the two of them nearly interchangeably , converting between them where appropriate."
   ]
  },
  {
   "cell_type": "code",
   "execution_count": 30,
   "id": "72120701-c865-4008-9f8a-a7f0b10ff783",
   "metadata": {},
   "outputs": [
    {
     "data": {
      "text/plain": [
       "0    1.0\n",
       "1    NaN\n",
       "2    2.0\n",
       "3    NaN\n",
       "dtype: float64"
      ]
     },
     "execution_count": 30,
     "metadata": {},
     "output_type": "execute_result"
    }
   ],
   "source": [
    "pd.Series([1,np.nan,2,None])"
   ]
  },
  {
   "cell_type": "markdown",
   "id": "7028de1b-3099-4a9a-b6b7-51e99d0eede4",
   "metadata": {},
   "source": [
    "### Operating on Null Values"
   ]
  },
  {
   "cell_type": "code",
   "execution_count": 33,
   "id": "10dcd9c6-0e1c-4698-bbdb-12d6845d4342",
   "metadata": {},
   "outputs": [],
   "source": [
    "#As we have seen, Pandas treats None and Nan as essentially interchangeable for indicating Missing or null values .To facilitate this convention , there are several usefull methods for deleting , removing,and replacing null values in pandas data structure .That are->"
   ]
  },
  {
   "cell_type": "code",
   "execution_count": 35,
   "id": "001a1c22-f45e-4864-b21e-8d6946f645cb",
   "metadata": {},
   "outputs": [],
   "source": [
    "# 1-isnull():Generate a boolean mask indicating missing values\n",
    "# 2-notnull():Opposite of isnull()\n",
    "# 3-dropna():Return a copy of the data with missing values filled or inputed\n",
    "# 4-fillna():Return a copy of the data with missing values filled or inputed"
   ]
  },
  {
   "cell_type": "code",
   "execution_count": 37,
   "id": "0f51fd02-2d37-4493-a51c-966d09731c5a",
   "metadata": {},
   "outputs": [],
   "source": [
    "#We will conclude this section with a breif exploration and demonstration of these routines"
   ]
  },
  {
   "cell_type": "code",
   "execution_count": 39,
   "id": "379d6905-378c-457d-8348-1d395e841c33",
   "metadata": {},
   "outputs": [],
   "source": [
    "#Create DataFrame with Missing Values"
   ]
  },
  {
   "cell_type": "code",
   "execution_count": 41,
   "id": "7267511d-8483-4eed-aa4c-f0f231e79f92",
   "metadata": {},
   "outputs": [],
   "source": [
    "raw_data={'first_name':['Jason',np.nan,'Tina','Jake','Amy','Madhu'],\n",
    "         'last_name':['Miller',np.nan,'Ali','Milner','Cooze','Patil'],\n",
    "         'age':[42,np.nan,36,24,73,25],\n",
    "         'sex':['M',np.nan,'F','M','F','F'],\n",
    "         'unit-1':[4,np.nan,np.nan,2,3,4],\n",
    "         'unit-2':[3,np.nan,np.nan,4,4,4]}\n",
    "df=pd.DataFrame(raw_data,columns=['first_name','last_name','age','sex','unit-1','unit-2'])"
   ]
  },
  {
   "cell_type": "code",
   "execution_count": null,
   "id": "2f475298-b10c-4a40-b725-0dedc4c0a55b",
   "metadata": {},
   "outputs": [],
   "source": []
  }
 ],
 "metadata": {
  "kernelspec": {
   "display_name": "Python 3 (ipykernel)",
   "language": "python",
   "name": "python3"
  },
  "language_info": {
   "codemirror_mode": {
    "name": "ipython",
    "version": 3
   },
   "file_extension": ".py",
   "mimetype": "text/x-python",
   "name": "python",
   "nbconvert_exporter": "python",
   "pygments_lexer": "ipython3",
   "version": "3.12.7"
  }
 },
 "nbformat": 4,
 "nbformat_minor": 5
}
