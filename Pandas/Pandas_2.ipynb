{
 "cells": [
  {
   "cell_type": "code",
   "execution_count": 1,
   "id": "d00d7b35-a9f5-49bf-9cff-26d5ea1044cc",
   "metadata": {},
   "outputs": [],
   "source": [
    "import pandas as pd\n",
    "import numpy as np"
   ]
  },
  {
   "cell_type": "code",
   "execution_count": 3,
   "id": "340c9eff-0f73-40d7-b816-a46411caf4ab",
   "metadata": {},
   "outputs": [],
   "source": [
    "#First we have to CREATE one python funtion because we use the code later"
   ]
  },
  {
   "cell_type": "code",
   "execution_count": 41,
   "id": "93256166-7285-4739-9aa1-e6de2d30aed4",
   "metadata": {},
   "outputs": [],
   "source": [
    "def pay_raise(x):\n",
    "    if x>4000:\n",
    "        #raise x amount but (34% or 0.34) of x\n",
    "        return np.ceil(x+(x*.34))\n",
    "    else:\n",
    "        return np.ceil(x+(x*.12))"
   ]
  },
  {
   "cell_type": "code",
   "execution_count": 13,
   "id": "19443d7a-2695-4e0b-b0c9-81f58256302b",
   "metadata": {},
   "outputs": [
    {
     "ename": "NameError",
     "evalue": "name 'pd' is not defined",
     "output_type": "error",
     "traceback": [
      "\u001b[1;31m---------------------------------------------------------------------------\u001b[0m",
      "\u001b[1;31mNameError\u001b[0m                                 Traceback (most recent call last)",
      "Cell \u001b[1;32mIn[13], line 1\u001b[0m\n\u001b[1;32m----> 1\u001b[0m pay_info\u001b[38;5;241m=\u001b[39mpd\u001b[38;5;241m.\u001b[39mDataFrame({\u001b[38;5;124m'\u001b[39m\u001b[38;5;124mDept\u001b[39m\u001b[38;5;124m'\u001b[39m:[\u001b[38;5;241m1\u001b[39m,\u001b[38;5;241m2\u001b[39m,\u001b[38;5;241m3\u001b[39m,\u001b[38;5;241m4\u001b[39m,\u001b[38;5;241m5\u001b[39m,\u001b[38;5;241m6\u001b[39m,\u001b[38;5;241m7\u001b[39m,\u001b[38;5;241m8\u001b[39m,\u001b[38;5;241m9\u001b[39m,\u001b[38;5;241m10\u001b[39m],\n\u001b[0;32m      2\u001b[0m                 \u001b[38;5;124m'\u001b[39m\u001b[38;5;124mEmp_Name\u001b[39m\u001b[38;5;124m'\u001b[39m:[\u001b[38;5;124m'\u001b[39m\u001b[38;5;124mRamesh\u001b[39m\u001b[38;5;124m'\u001b[39m,\u001b[38;5;124m'\u001b[39m\u001b[38;5;124mShanti\u001b[39m\u001b[38;5;124m'\u001b[39m,\u001b[38;5;124m'\u001b[39m\u001b[38;5;124mVikas\u001b[39m\u001b[38;5;124m'\u001b[39m,\u001b[38;5;124m'\u001b[39m\u001b[38;5;124mSajid\u001b[39m\u001b[38;5;124m'\u001b[39m,\u001b[38;5;124m'\u001b[39m\u001b[38;5;124mGauri\u001b[39m\u001b[38;5;124m'\u001b[39m,\u001b[38;5;124m'\u001b[39m\u001b[38;5;124mRita\u001b[39m\u001b[38;5;124m'\u001b[39m,\u001b[38;5;124m'\u001b[39m\u001b[38;5;124mtuntun\u001b[39m\u001b[38;5;124m'\u001b[39m,\u001b[38;5;124m'\u001b[39m\u001b[38;5;124mRohina\u001b[39m\u001b[38;5;124m'\u001b[39m,\u001b[38;5;124m'\u001b[39m\u001b[38;5;124mYana\u001b[39m\u001b[38;5;124m'\u001b[39m,\u001b[38;5;124m'\u001b[39m\u001b[38;5;124mGarish\u001b[39m\u001b[38;5;124m'\u001b[39m],\n\u001b[0;32m      3\u001b[0m                 \u001b[38;5;124m'\u001b[39m\u001b[38;5;124mPay\u001b[39m\u001b[38;5;124m'\u001b[39m:[\u001b[38;5;241m4994\u001b[39m,\u001b[38;5;241m5455\u001b[39m,\u001b[38;5;241m6166\u001b[39m,\u001b[38;5;241m4044\u001b[39m,\u001b[38;5;241m3433\u001b[39m,\u001b[38;5;241m2922\u001b[39m,\u001b[38;5;241m6466\u001b[39m,\u001b[38;5;241m7877\u001b[39m,\u001b[38;5;241m6766\u001b[39m,\u001b[38;5;241m5155\u001b[39m]})\n",
      "\u001b[1;31mNameError\u001b[0m: name 'pd' is not defined"
     ]
    }
   ],
   "source": [
    "pay_info=pd.DataFrame({'Dept':[1,2,3,4,5,6,7,8,9,10],\n",
    "                'Emp_Name':['Ramesh','Shanti','Vikas','Sajid','Gauri','Rita','tuntun','Rohina','Yana','Garish'],\n",
    "                'Pay':[4994,5455,6166,4044,3433,2922,6466,7877,6766,5155]})"
   ]
  },
  {
   "cell_type": "code",
   "execution_count": 35,
   "id": "6a505c61-b26c-4d4d-99b6-754786adebb1",
   "metadata": {},
   "outputs": [
    {
     "name": "stdout",
     "output_type": "stream",
     "text": [
      "   Dept Emp_Name   Pay\n",
      "0     1   Ramesh  4994\n",
      "1     2   Shanti  5455\n",
      "2     3    Vikas  6166\n",
      "3     4    Sajid  4044\n",
      "4     5    Gauri  3433\n",
      "5     6     Rita  2922\n",
      "6     7   tuntun  6466\n",
      "7     8   Rohina  7877\n",
      "8     9     Yana  6766\n",
      "9    10   Garish  5155\n"
     ]
    }
   ],
   "source": [
    "print(pay_info)"
   ]
  },
  {
   "cell_type": "code",
   "execution_count": 37,
   "id": "5bb2079f-efdd-45cf-8b01-4a64c7ba78c0",
   "metadata": {},
   "outputs": [],
   "source": [
    "#Lets add new column name in old dataframe"
   ]
  },
  {
   "cell_type": "code",
   "execution_count": 45,
   "id": "8a0ffc5b-8721-4a1d-a8af-4e057520c16a",
   "metadata": {},
   "outputs": [],
   "source": [
    "pay_info['New Pay']=pay_info['Pay'].apply(pay_raise)"
   ]
  },
  {
   "cell_type": "code",
   "execution_count": 47,
   "id": "efa4d1a9-4034-4c62-9b3f-4dbe18333141",
   "metadata": {},
   "outputs": [
    {
     "name": "stdout",
     "output_type": "stream",
     "text": [
      "   Dept Emp_Name   Pay  New Pay\n",
      "0     1   Ramesh  4994   6692.0\n",
      "1     2   Shanti  5455   7310.0\n",
      "2     3    Vikas  6166   8263.0\n",
      "3     4    Sajid  4044   5419.0\n",
      "4     5    Gauri  3433   3845.0\n",
      "5     6     Rita  2922   3273.0\n",
      "6     7   tuntun  6466   8665.0\n",
      "7     8   Rohina  7877  10556.0\n",
      "8     9     Yana  6766   9067.0\n",
      "9    10   Garish  5155   6908.0\n"
     ]
    }
   ],
   "source": [
    "print(pay_info)"
   ]
  },
  {
   "cell_type": "code",
   "execution_count": 1,
   "id": "02b080ac-8816-4098-9cbe-bc374d44af8c",
   "metadata": {},
   "outputs": [],
   "source": [
    "#lets add new column . Length of name"
   ]
  },
  {
   "cell_type": "code",
   "execution_count": 15,
   "id": "1945c810-ed7c-40c3-adbc-4cbb099607ad",
   "metadata": {},
   "outputs": [
    {
     "ename": "NameError",
     "evalue": "name 'pay_info' is not defined",
     "output_type": "error",
     "traceback": [
      "\u001b[1;31m---------------------------------------------------------------------------\u001b[0m",
      "\u001b[1;31mNameError\u001b[0m                                 Traceback (most recent call last)",
      "Cell \u001b[1;32mIn[15], line 1\u001b[0m\n\u001b[1;32m----> 1\u001b[0m pay_info[\u001b[38;5;124m'\u001b[39m\u001b[38;5;124mName_Length\u001b[39m\u001b[38;5;124m'\u001b[39m]\u001b[38;5;241m=\u001b[39mpay_info[\u001b[38;5;124m'\u001b[39m\u001b[38;5;124mEmp_Name\u001b[39m\u001b[38;5;124m'\u001b[39m]\u001b[38;5;241m.\u001b[39mapply(\u001b[38;5;28mlen\u001b[39m)\n\u001b[0;32m      2\u001b[0m pay_info\n",
      "\u001b[1;31mNameError\u001b[0m: name 'pay_info' is not defined"
     ]
    }
   ],
   "source": [
    "pay_info['Name_Length']=pay_info['Emp_Name'].apply(len)\n",
    "pay_info"
   ]
  },
  {
   "cell_type": "code",
   "execution_count": 17,
   "id": "b47321b1-595b-4576-befc-a5f6e053d0a8",
   "metadata": {},
   "outputs": [],
   "source": [
    "#Lets know about how to use lambda function in our DataFrmae"
   ]
  },
  {
   "cell_type": "code",
   "execution_count": 20,
   "id": "a2c6d927-6dc2-40f5-b595-4b9dba091081",
   "metadata": {},
   "outputs": [
    {
     "ename": "NameError",
     "evalue": "name 'df' is not defined",
     "output_type": "error",
     "traceback": [
      "\u001b[1;31m---------------------------------------------------------------------------\u001b[0m",
      "\u001b[1;31mNameError\u001b[0m                                 Traceback (most recent call last)",
      "Cell \u001b[1;32mIn[20], line 1\u001b[0m\n\u001b[1;32m----> 1\u001b[0m df[\u001b[38;5;124m'\u001b[39m\u001b[38;5;124msqrt\u001b[39m\u001b[38;5;124m'\u001b[39m]\u001b[38;5;241m=\u001b[39mdf[\u001b[38;5;124m'\u001b[39m\u001b[38;5;124mNew Salary\u001b[39m\u001b[38;5;124m'\u001b[39m]\u001b[38;5;241m.\u001b[39mapply(\u001b[38;5;28;01mlambda\u001b[39;00m x:np\u001b[38;5;241m.\u001b[39msqrt(x))\n",
      "\u001b[1;31mNameError\u001b[0m: name 'df' is not defined"
     ]
    }
   ],
   "source": [
    "\n",
    "df['sqrt']=df['New Salary'].apply(lambda x:np.sqrt(x))"
   ]
  },
  {
   "cell_type": "code",
   "execution_count": 22,
   "id": "e2ae9139-697d-4add-a3a1-0619cbaf98f1",
   "metadata": {},
   "outputs": [
    {
     "ename": "NameError",
     "evalue": "name 'df' is not defined",
     "output_type": "error",
     "traceback": [
      "\u001b[1;31m---------------------------------------------------------------------------\u001b[0m",
      "\u001b[1;31mNameError\u001b[0m                                 Traceback (most recent call last)",
      "Cell \u001b[1;32mIn[22], line 1\u001b[0m\n\u001b[1;32m----> 1\u001b[0m df\n",
      "\u001b[1;31mNameError\u001b[0m: name 'df' is not defined"
     ]
    }
   ],
   "source": [
    "df"
   ]
  },
  {
   "cell_type": "code",
   "execution_count": 24,
   "id": "19632610-c487-4a8c-ad73-25cd6363e1d0",
   "metadata": {},
   "outputs": [],
   "source": [
    "#Print Minimum and Maximum of the column 'New_Salary' are:"
   ]
  },
  {
   "cell_type": "code",
   "execution_count": 26,
   "id": "3f348bc1-8dfa-4974-a0d3-4b1d4f0dbb95",
   "metadata": {},
   "outputs": [
    {
     "ename": "NameError",
     "evalue": "name 'df' is not defined",
     "output_type": "error",
     "traceback": [
      "\u001b[1;31m---------------------------------------------------------------------------\u001b[0m",
      "\u001b[1;31mNameError\u001b[0m                                 Traceback (most recent call last)",
      "Cell \u001b[1;32mIn[26], line 1\u001b[0m\n\u001b[1;32m----> 1\u001b[0m \u001b[38;5;28mprint\u001b[39m(\u001b[38;5;124m\"\u001b[39m\u001b[38;5;124mMin and Max of the column \u001b[39m\u001b[38;5;124m'\u001b[39m\u001b[38;5;124mNew Salary\u001b[39m\u001b[38;5;124m'\u001b[39m\u001b[38;5;124m are  : \u001b[39m\u001b[38;5;124m\"\u001b[39m,df[\u001b[38;5;124m'\u001b[39m\u001b[38;5;124mNew Salary\u001b[39m\u001b[38;5;124m'\u001b[39m]\u001b[38;5;241m.\u001b[39mmin()    ,  df[\u001b[38;5;124m'\u001b[39m\u001b[38;5;124mNew Salary\u001b[39m\u001b[38;5;124m'\u001b[39m]\u001b[38;5;241m.\u001b[39mmax())\n",
      "\u001b[1;31mNameError\u001b[0m: name 'df' is not defined"
     ]
    }
   ],
   "source": [
    "print(\"Min and Max of the column 'New Salary' are  : \",df['New Salary'].min()    ,  df['New Salary'].max())"
   ]
  },
  {
   "cell_type": "code",
   "execution_count": null,
   "id": "775d13d9-3164-44b5-a47e-674c93807840",
   "metadata": {},
   "outputs": [],
   "source": []
  }
 ],
 "metadata": {
  "kernelspec": {
   "display_name": "Python 3 (ipykernel)",
   "language": "python",
   "name": "python3"
  },
  "language_info": {
   "codemirror_mode": {
    "name": "ipython",
    "version": 3
   },
   "file_extension": ".py",
   "mimetype": "text/x-python",
   "name": "python",
   "nbconvert_exporter": "python",
   "pygments_lexer": "ipython3",
   "version": "3.12.7"
  }
 },
 "nbformat": 4,
 "nbformat_minor": 5
}
